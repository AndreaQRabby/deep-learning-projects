{
 "cells": [
  {
   "cell_type": "markdown",
   "metadata": {},
   "source": [
    "# Multi-Class Deep Learning Model for CIFAR-10 Object Recognition Using Keras Take 5\n",
    "### David Lowe\n",
    "### January 7, 2020\n",
    "\n",
    "Template Credit: Adapted from a template made available by Dr. Jason Brownlee of Machine Learning Mastery. [https://machinelearningmastery.com/]\n",
    "\n",
    "SUMMARY: The purpose of this project is to construct a predictive model using various machine learning algorithms and to document the end-to-end steps using a template. The CIFAR-10 dataset is a multi-class classification situation where we are trying to predict one of several (more than two) possible outcomes.\n",
    "\n",
    "INTRODUCTION: The CIFAR-10 is a labeled subset of the 80 million tiny images dataset. They were collected by Alex Krizhevsky, Vinod Nair, and Geoffrey Hinton. The CIFAR-10 dataset consists of 60,000 32x32 color images in 10 classes, with 6,000 images per class. There are 50,000 training images and 10,000 test images.\n",
    "\n",
    "The dataset is divided into five training batches and one test batch, each with 10,000 images. The test batch contains exactly 1,000 randomly selected images from each class. The training batches contain the remaining images in random order, but some training batches may contain more images from one class than another. Between them, the training batches contain exactly 5,000 images from each class.\n",
    "\n",
    "In iteration Take1, we constructed a simple VGG convolutional model with 1 VGG block to classify the images. This model serves as the baseline for the future iterations of modeling.\n",
    "\n",
    "In iteration Take2, we constructed a few more VGG convolutional models with 2 and 3 VGG blocks to classify the images. The additional models enabled us to choose a final baseline model before applying other performance-enhancing techniques.\n",
    "\n",
    "In iteration Take3, we tuned the VGG-3 model with various hyperparameters and selected the best model.\n",
    "\n",
    "In iteration Take4, we added some dropout layers as a regularization technique to reduce over-fitting.\n",
    "\n",
    "In this iteration, we will apply data augmentation to the dataset as a regularization technique to reduce over-fitting.\n",
    "\n",
    "ANALYSIS: In iteration Take1, the performance of the Take1 model with the default parameters achieved an accuracy score of 66.39% on the validation dataset after training for 50 epochs. After tuning the hyperparameters, the Take1 model with the best hyperparameters processed the training dataset with an accuracy of 100.00%. The same model, however, processed the test dataset with an accuracy of only 67.01%. We will need to explore other modeling approaches to make a better model that reduces over-fitting.\n",
    "\n",
    "In iteration Take2, the performance of the VGG-1 model with the default parameters achieved an accuracy score of 66.69% on the validation dataset after training for 50 epochs. The VGG-2 model achieved an accuracy score of 71.35% on the validation dataset after training for 50 epochs. The VGG-3 model achieved an accuracy score of 73.81% on the validation dataset after training for 50 epochs. The additional VGG blocks helped the model, but we still need to explore other modeling approaches to make a better model that reduces over-fitting.\n",
    "\n",
    "In iteration Take3, the performance of the VGG-3 Take3 model with the default parameters achieved a maximum accuracy score of 73.43% on the validation dataset after training for 50 epochs. After tuning the hyperparameters, the Take1 model with the best hyperparameters processed the training dataset with an accuracy of 98.09%. The same model, however, processed the test dataset with an accuracy of only 73.44%. Even with VGG-3 and hyperparameter tuning, we still have an over-fitting problem with the model.\n",
    "\n",
    "In iteration Take4, the performance of the Take4 model with the default parameters achieved a maximum accuracy score of 76.96% on the validation dataset after training for 50 epochs. We can see from the graph that the accuracy and loss curves for the training and validation sets were moving in the same direction and converged well. After increasing the number of epochs, the Take4 model processed the training dataset with an accuracy of 82.22% after 100 epochs. The same model processed the test dataset with an accuracy of 82.35%. This iteration indicated to us that having dropout layers can be a good tactic to improve the model's predictive performance.\n",
    "\n",
    "In this iteration, the performance of the Take5 model with the default parameters achieved a maximum accuracy score of 81.41% on the validation dataset after training for 50 epochs. We can see from the graph that the accuracy and loss curves for the training and validation sets were moving in the same direction and converged well. After increasing the number of epochs, the Take4 model processed the training dataset with an accuracy of 91.60% after 100 epochs. The same model processed the test dataset with an accuracy of 84.43%. This iteration indicated to us that applying data augmentation can be a good tactic to improve the model's predictive performance.\n",
    "\n",
    "CONCLUSION: For this dataset, the model built using Keras and TensorFlow achieved a satisfactory result and should be considered for future modeling activities.\n",
    "\n",
    "Dataset Used: The CIFAR-10 Dataset\n",
    "\n",
    "Dataset ML Model: Multi-class classification with numerical attributes\n",
    "\n",
    "Dataset Reference: https://www.cs.toronto.edu/~kriz/cifar.html\n",
    "\n",
    "One potential source of performance benchmarks: https://machinelearningmastery.com/how-to-develop-a-cnn-from-scratch-for-cifar-10-photo-classification/\n",
    "\n",
    "Any deep-learning modeling project genrally can be broken down into about six major tasks:\n",
    "\n",
    "0. Prepare Environment\n",
    "1. Load Data\n",
    "2. Define Model\n",
    "3. Fit and Evaluate Model\n",
    "4. Optimize Model\n",
    "5. Finalize Model"
   ]
  },
  {
   "cell_type": "markdown",
   "metadata": {},
   "source": [
    "# Section 0. Prepare Environment"
   ]
  },
  {
   "cell_type": "code",
   "execution_count": 1,
   "metadata": {},
   "outputs": [],
   "source": [
    "# Set the warning message filter\n",
    "import warnings\n",
    "warnings.filterwarnings(\"ignore\", category=FutureWarning)\n",
    "warnings.filterwarnings(\"ignore\", category=DeprecationWarning)"
   ]
  },
  {
   "cell_type": "code",
   "execution_count": 2,
   "metadata": {},
   "outputs": [],
   "source": [
    "# Set the random seed number for reproducible results\n",
    "seedNum = 888"
   ]
  },
  {
   "cell_type": "code",
   "execution_count": 3,
   "metadata": {},
   "outputs": [],
   "source": [
    "# Load libraries and packages\n",
    "import random\n",
    "random.seed(seedNum)\n",
    "import numpy as np\n",
    "np.random.seed(seedNum)\n",
    "import tensorflow as tf\n",
    "tf.random.set_seed(seedNum)\n",
    "from tensorflow.keras import Sequential\n",
    "from tensorflow.keras.layers import Dense\n",
    "from tensorflow.keras.layers import Flatten\n",
    "from tensorflow.keras.layers import Dropout\n",
    "from tensorflow.keras.layers import Conv2D\n",
    "from tensorflow.keras.layers import MaxPooling2D\n",
    "from tensorflow.keras.preprocessing.image import ImageDataGenerator\n",
    "from tensorflow.keras.wrappers.scikit_learn import KerasClassifier\n",
    "# import keras as K\n",
    "# from keras.models import Sequential\n",
    "# from keras.layers import Dense\n",
    "# from keras.wrappers.scikit_learn import KerasClassifier\n",
    "import pandas as pd\n",
    "import math\n",
    "import os\n",
    "import sys\n",
    "import shutil\n",
    "import urllib.request\n",
    "import zipfile\n",
    "import smtplib\n",
    "import matplotlib.pyplot as plt\n",
    "from datetime import datetime\n",
    "from email.message import EmailMessage\n",
    "from sklearn.model_selection import train_test_split\n",
    "from sklearn.model_selection import KFold\n",
    "from sklearn.model_selection import StratifiedKFold\n",
    "from sklearn.model_selection import cross_val_score\n",
    "from sklearn.model_selection import GridSearchCV\n",
    "from sklearn.model_selection import RandomizedSearchCV\n",
    "from sklearn import preprocessing"
   ]
  },
  {
   "cell_type": "code",
   "execution_count": 4,
   "metadata": {},
   "outputs": [
    {
     "name": "stdout",
     "output_type": "stream",
     "text": [
      "Num GPUs Available:  1\n"
     ]
    }
   ],
   "source": [
    "# Begin the timer for the script processing\n",
    "startTimeScript = datetime.now()\n",
    "\n",
    "# Set up the verbose flag to print detailed messages for debugging (setting to True will activate)\n",
    "# verbose = True\n",
    "# tf.debugging.set_log_device_placement(verbose)\n",
    "\n",
    "# Set up the number of CPU cores available for multi-thread processing\n",
    "n_jobs = -1\n",
    "print(\"Num GPUs Available: \", len(tf.config.experimental.list_physical_devices('GPU')))\n",
    "\n",
    "# Set up the flag to stop sending progress emails (setting to True will send status emails!)\n",
    "notifyStatus = False\n",
    "\n",
    "# Set the number of folds for cross validation\n",
    "n_folds = 5\n",
    "\n",
    "# Set the flag for splitting the dataset\n",
    "splitDataset = True\n",
    "splitPercentage = 0.25\n",
    "\n",
    "# Set various default Keras modeling parameters\n",
    "default_loss = 'categorical_crossentropy'\n",
    "default_metrics = ['accuracy']\n",
    "default_kernel_init = tf.initializers.he_uniform(seed=seedNum)\n",
    "default_optimizer = tf.optimizers.SGD(learning_rate=0.001, momentum=0.9)\n",
    "default_epoch = 100\n",
    "default_batch = 64"
   ]
  },
  {
   "cell_type": "code",
   "execution_count": 5,
   "metadata": {},
   "outputs": [],
   "source": [
    "# Set up the email notification function\n",
    "def email_notify(msg_text):\n",
    "    sender = os.environ.get('MAIL_SENDER')\n",
    "    receiver = os.environ.get('MAIL_RECEIVER')\n",
    "    gateway = os.environ.get('SMTP_GATEWAY')\n",
    "    smtpuser = os.environ.get('SMTP_USERNAME')\n",
    "    password = os.environ.get('SMTP_PASSWORD')\n",
    "    if sender==None or receiver==None or gateway==None or smtpuser==None or password==None:\n",
    "        sys.exit(\"Incomplete email setup info. Script Processing Aborted!!!\")\n",
    "    msg = EmailMessage()\n",
    "    msg.set_content(msg_text)\n",
    "    msg['Subject'] = 'Notification from Keras Multi-Class Classification Script'\n",
    "    msg['From'] = sender\n",
    "    msg['To'] = receiver\n",
    "    server = smtplib.SMTP(gateway, 587)\n",
    "    server.starttls()\n",
    "    server.login(smtpuser, password)\n",
    "    server.send_message(msg)\n",
    "    server.quit()"
   ]
  },
  {
   "cell_type": "code",
   "execution_count": 6,
   "metadata": {},
   "outputs": [],
   "source": [
    "# Reset the random number generators\n",
    "def reset_random(seedNum):\n",
    "    random.seed(seedNum)\n",
    "    np.random.seed(seedNum)\n",
    "    tf.random.set_seed(seedNum)"
   ]
  },
  {
   "cell_type": "code",
   "execution_count": 7,
   "metadata": {},
   "outputs": [],
   "source": [
    "if (notifyStatus): email_notify(\"Phase 0 Prepare Environment completed! \"+datetime.now().strftime('%a %B %d, %Y %I:%M:%S %p'))"
   ]
  },
  {
   "cell_type": "markdown",
   "metadata": {},
   "source": [
    "# Section 1. Load Data"
   ]
  },
  {
   "cell_type": "code",
   "execution_count": 8,
   "metadata": {},
   "outputs": [],
   "source": [
    "if (notifyStatus): email_notify(\"Phase 1 Load Data has begun! \"+datetime.now().strftime('%a %B %d, %Y %I:%M:%S %p'))"
   ]
  },
  {
   "cell_type": "markdown",
   "metadata": {},
   "source": [
    "## 1.a) Load Dataset"
   ]
  },
  {
   "cell_type": "code",
   "execution_count": 9,
   "metadata": {},
   "outputs": [
    {
     "name": "stdout",
     "output_type": "stream",
     "text": [
      "Train Shape: X=(50000, 32, 32, 3), y=(50000, 1)\n",
      "Test Shape: X=(10000, 32, 32, 3), y=(10000, 1)\n"
     ]
    }
   ],
   "source": [
    "cifar10 = tf.keras.datasets.cifar10\n",
    "(X_train, y_train),(X_test, y_test) = cifar10.load_data()\n",
    "\n",
    "# Summarize loaded datasets\n",
    "print('Train Shape: X=%s, y=%s' % (X_train.shape, y_train.shape))\n",
    "print('Test Shape: X=%s, y=%s' % (X_test.shape, y_test.shape))"
   ]
  },
  {
   "cell_type": "code",
   "execution_count": 10,
   "metadata": {},
   "outputs": [
    {
     "data": {
      "image/png": "[encoded data removed]",
      "text/plain": [
       "<Figure size 432x288 with 9 Axes>"
      ]
     },
     "metadata": {
      "needs_background": "light"
     },
     "output_type": "display_data"
    }
   ],
   "source": [
    "# Plot first few images\n",
    "for i in range(9):\n",
    "    # define subplot\n",
    "    plt.subplot(330 + 1 + i)\n",
    "    # plot raw pixel data\n",
    "    plt.imshow(X_train[i], cmap=plt.get_cmap('gray'))\n",
    "plt.show()"
   ]
  },
  {
   "cell_type": "markdown",
   "metadata": {},
   "source": [
    "## 1.b) Data Cleaning"
   ]
  },
  {
   "cell_type": "code",
   "execution_count": 11,
   "metadata": {},
   "outputs": [],
   "source": [
    "# Not required for this iteration of the project"
   ]
  },
  {
   "cell_type": "markdown",
   "metadata": {},
   "source": [
    "## 1.c) Feature Scaling and Pre-processing"
   ]
  },
  {
   "cell_type": "code",
   "execution_count": 12,
   "metadata": {},
   "outputs": [],
   "source": [
    "# Reshape the input data as [samples][width][height][channels]\n",
    "# X_train = X_train.reshape(X_train.shape[0], 28, 28, 1).astype('float32')\n",
    "# X_test = X_test.reshape(X_test.shape[0], 28, 28, 1).astype('float32')\n",
    "\n",
    "# Apply feature scaling and transformation\n",
    "X_train = X_train / 255.0\n",
    "X_test = X_test / 255.0"
   ]
  },
  {
   "cell_type": "markdown",
   "metadata": {},
   "source": [
    "## 1.d) Splitting Data into Training and Test Sets"
   ]
  },
  {
   "cell_type": "code",
   "execution_count": 13,
   "metadata": {},
   "outputs": [
    {
     "name": "stdout",
     "output_type": "stream",
     "text": [
      "Train Shape: X=(50000, 32, 32, 3), y=(50000, 10)\n",
      "Test Shape: X=(10000, 32, 32, 3), y=(10000, 10)\n",
      "Number of pixels: 1024\n",
      "Number of classes: 10\n"
     ]
    },
    {
     "name": "stderr",
     "output_type": "stream",
     "text": [
      "/usr/local/lib/python3.6/dist-packages/sklearn/preprocessing/_label.py:235: DataConversionWarning: A column-vector y was passed when a 1d array was expected. Please change the shape of y to (n_samples, ), for example using ravel().\n",
      "  y = column_or_1d(y, warn=True)\n",
      "/usr/local/lib/python3.6/dist-packages/sklearn/preprocessing/_label.py:268: DataConversionWarning: A column-vector y was passed when a 1d array was expected. Please change the shape of y to (n_samples, ), for example using ravel().\n",
      "  y = column_or_1d(y, warn=True)\n"
     ]
    }
   ],
   "source": [
    "# Encode class values as integers and perform one-hot-encoding\n",
    "encoder = preprocessing.LabelEncoder()\n",
    "encoder.fit(y_train)\n",
    "train_transformed = encoder.transform(y_train)\n",
    "test_transformed = encoder.transform(y_test)\n",
    "y_train = tf.keras.utils.to_categorical(train_transformed)\n",
    "y_test = tf.keras.utils.to_categorical(test_transformed)\n",
    "\n",
    "print('Train Shape: X=%s, y=%s' % (X_train.shape, y_train.shape))\n",
    "print('Test Shape: X=%s, y=%s' % (X_test.shape, y_test.shape))\n",
    "\n",
    "num_pixels = X_train.shape[1] * X_train.shape[2]\n",
    "print('Number of pixels:', num_pixels)\n",
    "num_classes = y_train.shape[1]\n",
    "print('Number of classes:', num_classes)"
   ]
  },
  {
   "cell_type": "code",
   "execution_count": 14,
   "metadata": {},
   "outputs": [],
   "source": [
    "if (notifyStatus): email_notify(\"Phase 1 Load Data completed! \"+datetime.now().strftime('%a %B %d, %Y %I:%M:%S %p'))"
   ]
  },
  {
   "cell_type": "markdown",
   "metadata": {},
   "source": [
    "# Section 2. Define Model"
   ]
  },
  {
   "cell_type": "code",
   "execution_count": 15,
   "metadata": {},
   "outputs": [],
   "source": [
    "if (notifyStatus): email_notify(\"Phase 2 Define Model has begun! \"+datetime.now().strftime('%a %B %d, %Y %I:%M:%S %p'))"
   ]
  },
  {
   "cell_type": "code",
   "execution_count": 16,
   "metadata": {},
   "outputs": [],
   "source": [
    "# Define the Keras model for baseline measurement\n",
    "def create_default_model():\n",
    "    default_model = Sequential()\n",
    "    default_model.add(Conv2D(32, (3, 3), activation='relu', kernel_initializer=default_kernel_init, padding='same', input_shape=(32, 32, 3)))\n",
    "    default_model.add(Conv2D(32, (3, 3), activation='relu', kernel_initializer=default_kernel_init, padding='same'))\n",
    "    default_model.add(MaxPooling2D((2, 2)))\n",
    "    default_model.add(Conv2D(64, (3, 3), activation='relu', kernel_initializer=default_kernel_init, padding='same'))\n",
    "    default_model.add(Conv2D(64, (3, 3), activation='relu', kernel_initializer=default_kernel_init, padding='same'))\n",
    "    default_model.add(MaxPooling2D((2, 2)))\n",
    "    default_model.add(Conv2D(128, (3, 3), activation='relu', kernel_initializer=default_kernel_init, padding='same'))\n",
    "    default_model.add(Conv2D(128, (3, 3), activation='relu', kernel_initializer=default_kernel_init, padding='same'))\n",
    "    default_model.add(MaxPooling2D((2, 2)))\n",
    "    default_model.add(Flatten())\n",
    "    default_model.add(Dense(128, activation='relu', kernel_initializer=default_kernel_init))\n",
    "    default_model.add(Dense(num_classes, activation='softmax', kernel_initializer=default_kernel_init))\n",
    "    default_model.compile(loss=default_loss, optimizer=default_optimizer, metrics=default_metrics)\n",
    "    return default_model"
   ]
  },
  {
   "cell_type": "code",
   "execution_count": 17,
   "metadata": {},
   "outputs": [],
   "source": [
    "if (notifyStatus): email_notify(\"Phase 2 Define Model completed! \"+datetime.now().strftime('%a %B %d, %Y %I:%M:%S %p'))"
   ]
  },
  {
   "cell_type": "markdown",
   "metadata": {},
   "source": [
    "# Section 3. Fit and Evaluate Model"
   ]
  },
  {
   "cell_type": "code",
   "execution_count": 18,
   "metadata": {},
   "outputs": [],
   "source": [
    "if (notifyStatus): email_notify(\"Phase 3 Fit and Evaluate Model has begun! \"+datetime.now().strftime('%a %B %d, %Y %I:%M:%S %p'))"
   ]
  },
  {
   "cell_type": "code",
   "execution_count": 19,
   "metadata": {},
   "outputs": [
    {
     "name": "stdout",
     "output_type": "stream",
     "text": [
      "Train for 781 steps, validate on 10000 samples\n",
      "Epoch 1/100\n",
      "781/781 [==============================] - 37s 48ms/step - loss: 1.8288 - accuracy: 0.3378 - val_loss: 1.6488 - val_accuracy: 0.4150\n",
      "Epoch 2/100\n",
      "781/781 [==============================] - 35s 45ms/step - loss: 1.4969 - accuracy: 0.4602 - val_loss: 1.3600 - val_accuracy: 0.5072\n",
      "Epoch 3/100\n",
      "781/781 [==============================] - 35s 45ms/step - loss: 1.3559 - accuracy: 0.5107 - val_loss: 1.2244 - val_accuracy: 0.5651\n",
      "Epoch 4/100\n",
      "781/781 [==============================] - 35s 45ms/step - loss: 1.2426 - accuracy: 0.5576 - val_loss: 1.1556 - val_accuracy: 0.5947\n",
      "Epoch 5/100\n",
      "781/781 [==============================] - 35s 45ms/step - loss: 1.1605 - accuracy: 0.5896 - val_loss: 1.0626 - val_accuracy: 0.6263\n",
      "Epoch 6/100\n",
      "781/781 [==============================] - 35s 45ms/step - loss: 1.0969 - accuracy: 0.6140 - val_loss: 0.9719 - val_accuracy: 0.6617\n",
      "Epoch 7/100\n",
      "781/781 [==============================] - 35s 45ms/step - loss: 1.0376 - accuracy: 0.6361 - val_loss: 0.9743 - val_accuracy: 0.6592\n",
      "Epoch 8/100\n",
      "781/781 [==============================] - 35s 45ms/step - loss: 0.9843 - accuracy: 0.6558 - val_loss: 0.9356 - val_accuracy: 0.6760\n",
      "Epoch 9/100\n",
      "781/781 [==============================] - 35s 45ms/step - loss: 0.9395 - accuracy: 0.6719 - val_loss: 0.9112 - val_accuracy: 0.6845\n",
      "Epoch 10/100\n",
      "781/781 [==============================] - 35s 45ms/step - loss: 0.9008 - accuracy: 0.6867 - val_loss: 0.8819 - val_accuracy: 0.6903\n",
      "Epoch 11/100\n",
      "781/781 [==============================] - 35s 45ms/step - loss: 0.8655 - accuracy: 0.6977 - val_loss: 0.7962 - val_accuracy: 0.7269\n",
      "Epoch 12/100\n",
      "781/781 [==============================] - 35s 45ms/step - loss: 0.8319 - accuracy: 0.7101 - val_loss: 0.8317 - val_accuracy: 0.7110\n",
      "Epoch 13/100\n",
      "781/781 [==============================] - 35s 45ms/step - loss: 0.8080 - accuracy: 0.7173 - val_loss: 0.7859 - val_accuracy: 0.7318\n",
      "Epoch 14/100\n",
      "781/781 [==============================] - 35s 45ms/step - loss: 0.7840 - accuracy: 0.7270 - val_loss: 0.7972 - val_accuracy: 0.7238\n",
      "Epoch 15/100\n",
      "781/781 [==============================] - 35s 45ms/step - loss: 0.7657 - accuracy: 0.7334 - val_loss: 0.7348 - val_accuracy: 0.7477\n",
      "Epoch 16/100\n",
      "781/781 [==============================] - 35s 45ms/step - loss: 0.7426 - accuracy: 0.7396 - val_loss: 0.7173 - val_accuracy: 0.7532\n",
      "Epoch 17/100\n",
      "781/781 [==============================] - 35s 45ms/step - loss: 0.7210 - accuracy: 0.7490 - val_loss: 0.8771 - val_accuracy: 0.7091\n",
      "Epoch 18/100\n",
      "781/781 [==============================] - 35s 45ms/step - loss: 0.7048 - accuracy: 0.7540 - val_loss: 0.6912 - val_accuracy: 0.7600\n",
      "Epoch 19/100\n",
      "781/781 [==============================] - 35s 45ms/step - loss: 0.6853 - accuracy: 0.7620 - val_loss: 0.6896 - val_accuracy: 0.7679\n",
      "Epoch 20/100\n",
      "781/781 [==============================] - 35s 45ms/step - loss: 0.6755 - accuracy: 0.7655 - val_loss: 0.7310 - val_accuracy: 0.7501\n",
      "Epoch 21/100\n",
      "781/781 [==============================] - 35s 45ms/step - loss: 0.6570 - accuracy: 0.7700 - val_loss: 0.7405 - val_accuracy: 0.7488\n",
      "Epoch 22/100\n",
      "781/781 [==============================] - 35s 45ms/step - loss: 0.6484 - accuracy: 0.7720 - val_loss: 0.6582 - val_accuracy: 0.7756\n",
      "Epoch 23/100\n",
      "781/781 [==============================] - 35s 45ms/step - loss: 0.6325 - accuracy: 0.7804 - val_loss: 0.7383 - val_accuracy: 0.7495\n",
      "Epoch 24/100\n",
      "781/781 [==============================] - 35s 45ms/step - loss: 0.6181 - accuracy: 0.7850 - val_loss: 0.6699 - val_accuracy: 0.7756\n",
      "Epoch 25/100\n",
      "781/781 [==============================] - 35s 45ms/step - loss: 0.6098 - accuracy: 0.7877 - val_loss: 0.6461 - val_accuracy: 0.7732\n",
      "Epoch 26/100\n",
      "781/781 [==============================] - 35s 45ms/step - loss: 0.5917 - accuracy: 0.7953 - val_loss: 0.6735 - val_accuracy: 0.7711\n",
      "Epoch 27/100\n",
      "781/781 [==============================] - 35s 45ms/step - loss: 0.5830 - accuracy: 0.7978 - val_loss: 0.6648 - val_accuracy: 0.7701\n",
      "Epoch 28/100\n",
      "781/781 [==============================] - 35s 45ms/step - loss: 0.5714 - accuracy: 0.8020 - val_loss: 0.6654 - val_accuracy: 0.7757\n",
      "Epoch 29/100\n",
      "781/781 [==============================] - 35s 45ms/step - loss: 0.5716 - accuracy: 0.8012 - val_loss: 0.6178 - val_accuracy: 0.7907\n",
      "Epoch 30/100\n",
      "781/781 [==============================] - 35s 45ms/step - loss: 0.5599 - accuracy: 0.8062 - val_loss: 0.6164 - val_accuracy: 0.7911\n",
      "Epoch 31/100\n",
      "781/781 [==============================] - 35s 45ms/step - loss: 0.5474 - accuracy: 0.8108 - val_loss: 0.6671 - val_accuracy: 0.7794\n",
      "Epoch 32/100\n",
      "781/781 [==============================] - 35s 45ms/step - loss: 0.5387 - accuracy: 0.8114 - val_loss: 0.5825 - val_accuracy: 0.7999\n",
      "Epoch 33/100\n",
      "781/781 [==============================] - 35s 45ms/step - loss: 0.5252 - accuracy: 0.8166 - val_loss: 0.6568 - val_accuracy: 0.7825\n",
      "Epoch 34/100\n",
      "781/781 [==============================] - 35s 45ms/step - loss: 0.5228 - accuracy: 0.8171 - val_loss: 0.5831 - val_accuracy: 0.8010\n",
      "Epoch 35/100\n",
      "781/781 [==============================] - 35s 45ms/step - loss: 0.5100 - accuracy: 0.8226 - val_loss: 0.5932 - val_accuracy: 0.7994\n",
      "Epoch 36/100\n",
      "781/781 [==============================] - 35s 45ms/step - loss: 0.5052 - accuracy: 0.8242 - val_loss: 0.6492 - val_accuracy: 0.7837\n",
      "Epoch 37/100\n",
      "781/781 [==============================] - 35s 45ms/step - loss: 0.4968 - accuracy: 0.8260 - val_loss: 0.6128 - val_accuracy: 0.7950\n",
      "Epoch 38/100\n",
      "781/781 [==============================] - 35s 45ms/step - loss: 0.4935 - accuracy: 0.8271 - val_loss: 0.5884 - val_accuracy: 0.8015\n",
      "Epoch 39/100\n",
      "781/781 [==============================] - 35s 45ms/step - loss: 0.4839 - accuracy: 0.8315 - val_loss: 0.5619 - val_accuracy: 0.8074\n",
      "Epoch 40/100\n",
      "781/781 [==============================] - 35s 45ms/step - loss: 0.4792 - accuracy: 0.8320 - val_loss: 0.5819 - val_accuracy: 0.8026\n",
      "Epoch 41/100\n",
      "781/781 [==============================] - 35s 45ms/step - loss: 0.4686 - accuracy: 0.8376 - val_loss: 0.5406 - val_accuracy: 0.8200\n",
      "Epoch 42/100\n",
      "781/781 [==============================] - 35s 45ms/step - loss: 0.4667 - accuracy: 0.8367 - val_loss: 0.5851 - val_accuracy: 0.8055\n",
      "Epoch 43/100\n",
      "781/781 [==============================] - 35s 45ms/step - loss: 0.4601 - accuracy: 0.8392 - val_loss: 0.5901 - val_accuracy: 0.8073\n",
      "Epoch 44/100\n",
      "781/781 [==============================] - 35s 45ms/step - loss: 0.4544 - accuracy: 0.8415 - val_loss: 0.5593 - val_accuracy: 0.8135\n",
      "Epoch 45/100\n",
      "781/781 [==============================] - 35s 45ms/step - loss: 0.4463 - accuracy: 0.8453 - val_loss: 0.5660 - val_accuracy: 0.8116\n",
      "Epoch 46/100\n",
      "781/781 [==============================] - 35s 45ms/step - loss: 0.4426 - accuracy: 0.8431 - val_loss: 0.5792 - val_accuracy: 0.8118\n",
      "Epoch 47/100\n",
      "781/781 [==============================] - 35s 45ms/step - loss: 0.4369 - accuracy: 0.8472 - val_loss: 0.5650 - val_accuracy: 0.8119\n",
      "Epoch 48/100\n",
      "781/781 [==============================] - 35s 45ms/step - loss: 0.4259 - accuracy: 0.8500 - val_loss: 0.5606 - val_accuracy: 0.8190\n",
      "Epoch 49/100\n",
      "781/781 [==============================] - 35s 45ms/step - loss: 0.4245 - accuracy: 0.8527 - val_loss: 0.5749 - val_accuracy: 0.8115\n",
      "Epoch 50/100\n",
      "781/781 [==============================] - 35s 45ms/step - loss: 0.4150 - accuracy: 0.8540 - val_loss: 0.5766 - val_accuracy: 0.8141\n",
      "Epoch 51/100\n",
      "781/781 [==============================] - 35s 45ms/step - loss: 0.4066 - accuracy: 0.8583 - val_loss: 0.5814 - val_accuracy: 0.8095\n",
      "Epoch 52/100\n",
      "781/781 [==============================] - 35s 45ms/step - loss: 0.4073 - accuracy: 0.8563 - val_loss: 0.5438 - val_accuracy: 0.8208\n",
      "Epoch 53/100\n",
      "781/781 [==============================] - 35s 45ms/step - loss: 0.4027 - accuracy: 0.8591 - val_loss: 0.5614 - val_accuracy: 0.8134\n",
      "Epoch 54/100\n",
      "781/781 [==============================] - 35s 45ms/step - loss: 0.3999 - accuracy: 0.8586 - val_loss: 0.5683 - val_accuracy: 0.8137\n",
      "Epoch 55/100\n",
      "781/781 [==============================] - 35s 45ms/step - loss: 0.3956 - accuracy: 0.8620 - val_loss: 0.5424 - val_accuracy: 0.8249\n",
      "Epoch 56/100\n",
      "781/781 [==============================] - 35s 45ms/step - loss: 0.3833 - accuracy: 0.8638 - val_loss: 0.5907 - val_accuracy: 0.8146\n",
      "Epoch 57/100\n",
      "781/781 [==============================] - 35s 45ms/step - loss: 0.3836 - accuracy: 0.8647 - val_loss: 0.5542 - val_accuracy: 0.8228\n",
      "Epoch 58/100\n",
      "781/781 [==============================] - 35s 45ms/step - loss: 0.3785 - accuracy: 0.8661 - val_loss: 0.5591 - val_accuracy: 0.8197\n",
      "Epoch 59/100\n",
      "781/781 [==============================] - 35s 45ms/step - loss: 0.3718 - accuracy: 0.8691 - val_loss: 0.5925 - val_accuracy: 0.8061\n",
      "Epoch 60/100\n",
      "781/781 [==============================] - 35s 45ms/step - loss: 0.3619 - accuracy: 0.8735 - val_loss: 0.5587 - val_accuracy: 0.8248\n",
      "Epoch 61/100\n",
      "781/781 [==============================] - 35s 44ms/step - loss: 0.3629 - accuracy: 0.8730 - val_loss: 0.5742 - val_accuracy: 0.8208\n",
      "Epoch 62/100\n",
      "781/781 [==============================] - 35s 45ms/step - loss: 0.3643 - accuracy: 0.8722 - val_loss: 0.5718 - val_accuracy: 0.8199\n",
      "Epoch 63/100\n",
      "781/781 [==============================] - 35s 45ms/step - loss: 0.3498 - accuracy: 0.8766 - val_loss: 0.5660 - val_accuracy: 0.8253\n",
      "Epoch 64/100\n",
      "781/781 [==============================] - 35s 45ms/step - loss: 0.3513 - accuracy: 0.8754 - val_loss: 0.5418 - val_accuracy: 0.8265\n",
      "Epoch 65/100\n",
      "781/781 [==============================] - 35s 45ms/step - loss: 0.3471 - accuracy: 0.8774 - val_loss: 0.5551 - val_accuracy: 0.8240\n",
      "Epoch 66/100\n",
      "781/781 [==============================] - 35s 45ms/step - loss: 0.3381 - accuracy: 0.8796 - val_loss: 0.5612 - val_accuracy: 0.8272\n",
      "Epoch 67/100\n",
      "781/781 [==============================] - 35s 45ms/step - loss: 0.3400 - accuracy: 0.8800 - val_loss: 0.5363 - val_accuracy: 0.8344\n",
      "Epoch 68/100\n",
      "781/781 [==============================] - 35s 45ms/step - loss: 0.3334 - accuracy: 0.8830 - val_loss: 0.5132 - val_accuracy: 0.8344\n",
      "Epoch 69/100\n",
      "781/781 [==============================] - 35s 45ms/step - loss: 0.3349 - accuracy: 0.8804 - val_loss: 0.5382 - val_accuracy: 0.8348\n",
      "Epoch 70/100\n",
      "781/781 [==============================] - 35s 45ms/step - loss: 0.3339 - accuracy: 0.8834 - val_loss: 0.5567 - val_accuracy: 0.8255\n",
      "Epoch 71/100\n",
      "781/781 [==============================] - 35s 45ms/step - loss: 0.3229 - accuracy: 0.8853 - val_loss: 0.5778 - val_accuracy: 0.8192\n",
      "Epoch 72/100\n",
      "781/781 [==============================] - 35s 45ms/step - loss: 0.3230 - accuracy: 0.8865 - val_loss: 0.5380 - val_accuracy: 0.8334\n",
      "Epoch 73/100\n",
      "781/781 [==============================] - 35s 45ms/step - loss: 0.3183 - accuracy: 0.8876 - val_loss: 0.5239 - val_accuracy: 0.8356\n",
      "Epoch 74/100\n",
      "781/781 [==============================] - 35s 45ms/step - loss: 0.3141 - accuracy: 0.8890 - val_loss: 0.5429 - val_accuracy: 0.8297\n",
      "Epoch 75/100\n",
      "781/781 [==============================] - 35s 45ms/step - loss: 0.3054 - accuracy: 0.8926 - val_loss: 0.5385 - val_accuracy: 0.8315\n",
      "Epoch 76/100\n",
      "781/781 [==============================] - 35s 44ms/step - loss: 0.3131 - accuracy: 0.8880 - val_loss: 0.5303 - val_accuracy: 0.8378\n",
      "Epoch 77/100\n",
      "781/781 [==============================] - 35s 45ms/step - loss: 0.3019 - accuracy: 0.8936 - val_loss: 0.5745 - val_accuracy: 0.8277\n",
      "Epoch 78/100\n",
      "781/781 [==============================] - 35s 44ms/step - loss: 0.3023 - accuracy: 0.8936 - val_loss: 0.5703 - val_accuracy: 0.8214\n",
      "Epoch 79/100\n",
      "781/781 [==============================] - 35s 44ms/step - loss: 0.2951 - accuracy: 0.8974 - val_loss: 0.5732 - val_accuracy: 0.8303\n",
      "Epoch 80/100\n",
      "781/781 [==============================] - 35s 45ms/step - loss: 0.2955 - accuracy: 0.8955 - val_loss: 0.5575 - val_accuracy: 0.8331\n",
      "Epoch 81/100\n",
      "781/781 [==============================] - 35s 45ms/step - loss: 0.2907 - accuracy: 0.8957 - val_loss: 0.5714 - val_accuracy: 0.8308\n",
      "Epoch 82/100\n",
      "781/781 [==============================] - 35s 45ms/step - loss: 0.2892 - accuracy: 0.8981 - val_loss: 0.5557 - val_accuracy: 0.8308\n",
      "Epoch 83/100\n",
      "781/781 [==============================] - 35s 45ms/step - loss: 0.2792 - accuracy: 0.9030 - val_loss: 0.5543 - val_accuracy: 0.8329\n",
      "Epoch 84/100\n",
      "781/781 [==============================] - 35s 45ms/step - loss: 0.2788 - accuracy: 0.9022 - val_loss: 0.5435 - val_accuracy: 0.8377\n",
      "Epoch 85/100\n",
      "781/781 [==============================] - 35s 44ms/step - loss: 0.2773 - accuracy: 0.9020 - val_loss: 0.5576 - val_accuracy: 0.8317\n",
      "Epoch 86/100\n",
      "781/781 [==============================] - 35s 45ms/step - loss: 0.2781 - accuracy: 0.9019 - val_loss: 0.5318 - val_accuracy: 0.8398\n",
      "Epoch 87/100\n",
      "781/781 [==============================] - 35s 45ms/step - loss: 0.2740 - accuracy: 0.9025 - val_loss: 0.5247 - val_accuracy: 0.8387\n",
      "Epoch 88/100\n",
      "781/781 [==============================] - 35s 45ms/step - loss: 0.2706 - accuracy: 0.9033 - val_loss: 0.5564 - val_accuracy: 0.8361\n",
      "Epoch 89/100\n",
      "781/781 [==============================] - 35s 45ms/step - loss: 0.2678 - accuracy: 0.9048 - val_loss: 0.5785 - val_accuracy: 0.8343\n",
      "Epoch 90/100\n",
      "781/781 [==============================] - 35s 45ms/step - loss: 0.2641 - accuracy: 0.9064 - val_loss: 0.5436 - val_accuracy: 0.8366\n",
      "Epoch 91/100\n",
      "781/781 [==============================] - 35s 45ms/step - loss: 0.2632 - accuracy: 0.9056 - val_loss: 0.5578 - val_accuracy: 0.8372\n",
      "Epoch 92/100\n",
      "781/781 [==============================] - 35s 45ms/step - loss: 0.2561 - accuracy: 0.9081 - val_loss: 0.5625 - val_accuracy: 0.8387\n",
      "Epoch 93/100\n",
      "781/781 [==============================] - 35s 45ms/step - loss: 0.2534 - accuracy: 0.9097 - val_loss: 0.5716 - val_accuracy: 0.8348\n",
      "Epoch 94/100\n",
      "781/781 [==============================] - 35s 45ms/step - loss: 0.2510 - accuracy: 0.9108 - val_loss: 0.5869 - val_accuracy: 0.8323\n",
      "Epoch 95/100\n",
      "781/781 [==============================] - 35s 45ms/step - loss: 0.2504 - accuracy: 0.9113 - val_loss: 0.5536 - val_accuracy: 0.8378\n",
      "Epoch 96/100\n",
      "781/781 [==============================] - 35s 45ms/step - loss: 0.2423 - accuracy: 0.9133 - val_loss: 0.5477 - val_accuracy: 0.8388\n",
      "Epoch 97/100\n",
      "781/781 [==============================] - 35s 45ms/step - loss: 0.2469 - accuracy: 0.9121 - val_loss: 0.5737 - val_accuracy: 0.8347\n",
      "Epoch 98/100\n",
      "781/781 [==============================] - 35s 45ms/step - loss: 0.2380 - accuracy: 0.9147 - val_loss: 0.5498 - val_accuracy: 0.8410\n",
      "Epoch 99/100\n",
      "781/781 [==============================] - 35s 45ms/step - loss: 0.2377 - accuracy: 0.9144 - val_loss: 0.5556 - val_accuracy: 0.8398\n",
      "Epoch 100/100\n",
      "781/781 [==============================] - 35s 45ms/step - loss: 0.2383 - accuracy: 0.9160 - val_loss: 0.5524 - val_accuracy: 0.8443\n",
      "Total time for creating the baseline model: 0:58:46.555621\n"
     ]
    }
   ],
   "source": [
    "# Initialize the baseline model\n",
    "startTimeModule = datetime.now()\n",
    "reset_random(seedNum)\n",
    "baseline_model = create_default_model()\n",
    "# Create data generator for augmentation\n",
    "datagen = ImageDataGenerator(width_shift_range=0.1, height_shift_range=0.1, horizontal_flip=True)\n",
    "X_train_aug = datagen.flow(X_train, y_train, batch_size=64)\n",
    "steps = int(X_train.shape[0] / 64)\n",
    "baseline_hist = baseline_model.fit(X_train_aug, steps_per_epoch=steps, epochs=default_epoch, validation_data=(X_test, y_test), verbose=1)\n",
    "print('Total time for creating the baseline model:', (datetime.now() - startTimeModule))"
   ]
  },
  {
   "cell_type": "code",
   "execution_count": 20,
   "metadata": {},
   "outputs": [
    {
     "name": "stdout",
     "output_type": "stream",
     "text": [
      "Model: \"sequential\"\n",
      "_________________________________________________________________\n",
      "Layer (type)                 Output Shape              Param #   \n",
      "=================================================================\n",
      "conv2d (Conv2D)              (None, 32, 32, 32)        896       \n",
      "_________________________________________________________________\n",
      "conv2d_1 (Conv2D)            (None, 32, 32, 32)        9248      \n",
      "_________________________________________________________________\n",
      "max_pooling2d (MaxPooling2D) (None, 16, 16, 32)        0         \n",
      "_________________________________________________________________\n",
      "conv2d_2 (Conv2D)            (None, 16, 16, 64)        18496     \n",
      "_________________________________________________________________\n",
      "conv2d_3 (Conv2D)            (None, 16, 16, 64)        36928     \n",
      "_________________________________________________________________\n",
      "max_pooling2d_1 (MaxPooling2 (None, 8, 8, 64)          0         \n",
      "_________________________________________________________________\n",
      "conv2d_4 (Conv2D)            (None, 8, 8, 128)         73856     \n",
      "_________________________________________________________________\n",
      "conv2d_5 (Conv2D)            (None, 8, 8, 128)         147584    \n",
      "_________________________________________________________________\n",
      "max_pooling2d_2 (MaxPooling2 (None, 4, 4, 128)         0         \n",
      "_________________________________________________________________\n",
      "flatten (Flatten)            (None, 2048)              0         \n",
      "_________________________________________________________________\n",
      "dense (Dense)                (None, 128)               262272    \n",
      "_________________________________________________________________\n",
      "dense_1 (Dense)              (None, 10)                1290      \n",
      "=================================================================\n",
      "Total params: 550,570\n",
      "Trainable params: 550,570\n",
      "Non-trainable params: 0\n",
      "_________________________________________________________________\n",
      "None\n"
     ]
    }
   ],
   "source": [
    "# Display a summary of the baseline model\n",
    "print(baseline_model.summary())"
   ]
  },
  {
   "cell_type": "code",
   "execution_count": 21,
   "metadata": {},
   "outputs": [
    {
     "name": "stdout",
     "output_type": "stream",
     "text": [
      "{'name': 'sequential', 'layers': [{'class_name': 'Conv2D', 'config': {'name': 'conv2d', 'trainable': True, 'batch_input_shape': (None, 32, 32, 3), 'dtype': 'float32', 'filters': 32, 'kernel_size': (3, 3), 'strides': (1, 1), 'padding': 'same', 'data_format': 'channels_last', 'dilation_rate': (1, 1), 'activation': 'relu', 'use_bias': True, 'kernel_initializer': {'class_name': 'VarianceScaling', 'config': {'scale': 2.0, 'mode': 'fan_in', 'distribution': 'uniform', 'seed': 888}}, 'bias_initializer': {'class_name': 'Zeros', 'config': {}}, 'kernel_regularizer': None, 'bias_regularizer': None, 'activity_regularizer': None, 'kernel_constraint': None, 'bias_constraint': None}}, {'class_name': 'Conv2D', 'config': {'name': 'conv2d_1', 'trainable': True, 'dtype': 'float32', 'filters': 32, 'kernel_size': (3, 3), 'strides': (1, 1), 'padding': 'same', 'data_format': 'channels_last', 'dilation_rate': (1, 1), 'activation': 'relu', 'use_bias': True, 'kernel_initializer': {'class_name': 'VarianceScaling', 'config': {'scale': 2.0, 'mode': 'fan_in', 'distribution': 'uniform', 'seed': 888}}, 'bias_initializer': {'class_name': 'Zeros', 'config': {}}, 'kernel_regularizer': None, 'bias_regularizer': None, 'activity_regularizer': None, 'kernel_constraint': None, 'bias_constraint': None}}, {'class_name': 'MaxPooling2D', 'config': {'name': 'max_pooling2d', 'trainable': True, 'dtype': 'float32', 'pool_size': (2, 2), 'padding': 'valid', 'strides': (2, 2), 'data_format': 'channels_last'}}, {'class_name': 'Conv2D', 'config': {'name': 'conv2d_2', 'trainable': True, 'dtype': 'float32', 'filters': 64, 'kernel_size': (3, 3), 'strides': (1, 1), 'padding': 'same', 'data_format': 'channels_last', 'dilation_rate': (1, 1), 'activation': 'relu', 'use_bias': True, 'kernel_initializer': {'class_name': 'VarianceScaling', 'config': {'scale': 2.0, 'mode': 'fan_in', 'distribution': 'uniform', 'seed': 888}}, 'bias_initializer': {'class_name': 'Zeros', 'config': {}}, 'kernel_regularizer': None, 'bias_regularizer': None, 'activity_regularizer': None, 'kernel_constraint': None, 'bias_constraint': None}}, {'class_name': 'Conv2D', 'config': {'name': 'conv2d_3', 'trainable': True, 'dtype': 'float32', 'filters': 64, 'kernel_size': (3, 3), 'strides': (1, 1), 'padding': 'same', 'data_format': 'channels_last', 'dilation_rate': (1, 1), 'activation': 'relu', 'use_bias': True, 'kernel_initializer': {'class_name': 'VarianceScaling', 'config': {'scale': 2.0, 'mode': 'fan_in', 'distribution': 'uniform', 'seed': 888}}, 'bias_initializer': {'class_name': 'Zeros', 'config': {}}, 'kernel_regularizer': None, 'bias_regularizer': None, 'activity_regularizer': None, 'kernel_constraint': None, 'bias_constraint': None}}, {'class_name': 'MaxPooling2D', 'config': {'name': 'max_pooling2d_1', 'trainable': True, 'dtype': 'float32', 'pool_size': (2, 2), 'padding': 'valid', 'strides': (2, 2), 'data_format': 'channels_last'}}, {'class_name': 'Conv2D', 'config': {'name': 'conv2d_4', 'trainable': True, 'dtype': 'float32', 'filters': 128, 'kernel_size': (3, 3), 'strides': (1, 1), 'padding': 'same', 'data_format': 'channels_last', 'dilation_rate': (1, 1), 'activation': 'relu', 'use_bias': True, 'kernel_initializer': {'class_name': 'VarianceScaling', 'config': {'scale': 2.0, 'mode': 'fan_in', 'distribution': 'uniform', 'seed': 888}}, 'bias_initializer': {'class_name': 'Zeros', 'config': {}}, 'kernel_regularizer': None, 'bias_regularizer': None, 'activity_regularizer': None, 'kernel_constraint': None, 'bias_constraint': None}}, {'class_name': 'Conv2D', 'config': {'name': 'conv2d_5', 'trainable': True, 'dtype': 'float32', 'filters': 128, 'kernel_size': (3, 3), 'strides': (1, 1), 'padding': 'same', 'data_format': 'channels_last', 'dilation_rate': (1, 1), 'activation': 'relu', 'use_bias': True, 'kernel_initializer': {'class_name': 'VarianceScaling', 'config': {'scale': 2.0, 'mode': 'fan_in', 'distribution': 'uniform', 'seed': 888}}, 'bias_initializer': {'class_name': 'Zeros', 'config': {}}, 'kernel_regularizer': None, 'bias_regularizer': None, 'activity_regularizer': None, 'kernel_constraint': None, 'bias_constraint': None}}, {'class_name': 'MaxPooling2D', 'config': {'name': 'max_pooling2d_2', 'trainable': True, 'dtype': 'float32', 'pool_size': (2, 2), 'padding': 'valid', 'strides': (2, 2), 'data_format': 'channels_last'}}, {'class_name': 'Flatten', 'config': {'name': 'flatten', 'trainable': True, 'dtype': 'float32', 'data_format': 'channels_last'}}, {'class_name': 'Dense', 'config': {'name': 'dense', 'trainable': True, 'dtype': 'float32', 'units': 128, 'activation': 'relu', 'use_bias': True, 'kernel_initializer': {'class_name': 'VarianceScaling', 'config': {'scale': 2.0, 'mode': 'fan_in', 'distribution': 'uniform', 'seed': 888}}, 'bias_initializer': {'class_name': 'Zeros', 'config': {}}, 'kernel_regularizer': None, 'bias_regularizer': None, 'activity_regularizer': None, 'kernel_constraint': None, 'bias_constraint': None}}, {'class_name': 'Dense', 'config': {'name': 'dense_1', 'trainable': True, 'dtype': 'float32', 'units': 10, 'activation': 'softmax', 'use_bias': True, 'kernel_initializer': {'class_name': 'VarianceScaling', 'config': {'scale': 2.0, 'mode': 'fan_in', 'distribution': 'uniform', 'seed': 888}}, 'bias_initializer': {'class_name': 'Zeros', 'config': {}}, 'kernel_regularizer': None, 'bias_regularizer': None, 'activity_regularizer': None, 'kernel_constraint': None, 'bias_constraint': None}}]}\n"
     ]
    }
   ],
   "source": [
    "# Display the configuration of the baseline model\n",
    "print(baseline_model.get_config())"
   ]
  },
  {
   "cell_type": "code",
   "execution_count": 22,
   "metadata": {},
   "outputs": [
    {
     "name": "stdout",
     "output_type": "stream",
     "text": [
      "dict_keys(['loss', 'accuracy', 'val_loss', 'val_accuracy'])\n"
     ]
    }
   ],
   "source": [
    "# List all data points in the baseline model training history\n",
    "print(baseline_hist.history.keys())"
   ]
  },
  {
   "cell_type": "code",
   "execution_count": 23,
   "metadata": {},
   "outputs": [
    {
     "data": {
      "image/png": "[encoded data removed]",
      "text/plain": [
       "<Figure size 864x864 with 2 Axes>"
      ]
     },
     "metadata": {
      "needs_background": "light"
     },
     "output_type": "display_data"
    }
   ],
   "source": [
    "# Summarize model training hisotry for accuracy and loss\n",
    "fig, axs = plt.subplots(2, 1, figsize=(12,12))\n",
    "plt.subplot(211)\n",
    "plt.plot(baseline_hist.history['accuracy'], color='blue', label='train')\n",
    "plt.plot(baseline_hist.history['val_accuracy'], color='red', label='test')\n",
    "plt.title('Baseline Model Training Performance (Accuracy)')\n",
    "plt.ylabel('Accuracy')\n",
    "plt.xlabel('Epoch')\n",
    "plt.legend(['Train', 'Test'], loc='upper right')\n",
    "plt.subplot(212)\n",
    "plt.plot(baseline_hist.history['loss'], color='blue', label='train')\n",
    "plt.plot(baseline_hist.history['val_loss'], color='red', label='test')\n",
    "plt.title('Baseline Model Training Performance (Loss)')\n",
    "plt.ylabel('Loss')\n",
    "plt.xlabel('Epoch')\n",
    "plt.legend(['Train', 'Test'], loc='upper right')\n",
    "plt.show()"
   ]
  },
  {
   "cell_type": "code",
   "execution_count": 24,
   "metadata": {},
   "outputs": [],
   "source": [
    "if (notifyStatus): email_notify(\"Phase 3 Fit and Evaluate Model completed! \"+datetime.now().strftime('%a %B %d, %Y %I:%M:%S %p'))"
   ]
  },
  {
   "cell_type": "code",
   "execution_count": 25,
   "metadata": {},
   "outputs": [
    {
     "name": "stdout",
     "output_type": "stream",
     "text": [
      "Total time for the script: 0:58:49.841968\n"
     ]
    }
   ],
   "source": [
    "print ('Total time for the script:',(datetime.now() - startTimeScript))"
   ]
  }
 ],
 "metadata": {
  "kernelspec": {
   "display_name": "Python 3",
   "language": "python",
   "name": "python3"
  },
  "language_info": {
   "codemirror_mode": {
    "name": "ipython",
    "version": 3
   },
   "file_extension": ".py",
   "mimetype": "text/x-python",
   "name": "python",
   "nbconvert_exporter": "python",
   "pygments_lexer": "ipython3",
   "version": "3.6.9"
  }
 },
 "nbformat": 4,
 "nbformat_minor": 4
}
