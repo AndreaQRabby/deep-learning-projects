{
 "cells": [
  {
   "cell_type": "markdown",
   "metadata": {},
   "source": [
    "# Multi-Class Deep Learning Model for MNIST Handwritten Digits Using Keras Take 1\n",
    "### David Lowe\n",
    "### December 24, 2019\n",
    "\n",
    "Template Credit: Adapted from a template made available by Dr. Jason Brownlee of Machine Learning Mastery. [https://machinelearningmastery.com/]\n",
    "\n",
    "SUMMARY: The purpose of this project is to construct a predictive model using various machine learning algorithms and to document the end-to-end steps using a template. The MNIST dataset is a multi-class classification situation where we are trying to predict one of several (more than two) possible outcomes.\n",
    "\n",
    "INTRODUCTION: The MNIST problem is a dataset developed by Yann LeCun, Corinna Cortes, and Christopher Burges for evaluating machine learning models on the handwritten digit classification problems. The dataset was constructed from many scanned document datasets available from the National Institute of Standards and Technology (NIST). The MNIST handwritten digit classification problem has become a standard dataset used in computer vision and deep learning.\n",
    "\n",
    "Images of digits were taken from a variety of scanned documents, normalized in size and centered. Each image is a 28 by 28-pixel square (784 pixels total). A standard split of the dataset is used to evaluate and compare models, where 60,000 images are used to train a model and a separate set of 10,000 images are used to test it. It is a digit recognition task, so there are ten classes (0 to 9) to predict.\n",
    "\n",
    "For this iteration, we will construct a simple dense deep-learning model to classify the images. This model will serve as the baseline for future iterations.\n",
    "\n",
    "ANALYSIS: For this iteration, the performance of the Take1 model with the default parameters achieved an accuracy score of 98.05% on the validation dataset after training for ten epochs. After tuning the hyperparameters, the Take1 model processed the training dataset with an accuracy rate of 98.82%. The same model processed the test dataset with an accuracy of 98.17%. If we were to train the model much further than three epochs, we could run into the over-fitting issue.\n",
    "\n",
    "CONCLUSION: For this dataset, the model built using Keras and TensorFlow achieved a satisfactory result and should be considered for future modeling activities.\n",
    "\n",
    "Dataset Used: MNIST Handwritten Digits Dataset\n",
    "\n",
    "Dataset ML Model: Multi-class classification with numerical attributes\n",
    "\n",
    "Dataset Reference: https://www.tensorflow.org/datasets/catalog/mnist\n",
    "\n",
    "One potential source of performance benchmarks: https://machinelearningmastery.com/how-to-develop-a-convolutional-neural-network-from-scratch-for-mnist-handwritten-digit-classification/\n",
    "\n",
    "Any deep-learning modeling project genrally can be broken down into about six major tasks:\n",
    "\n",
    "0. Prepare Environment\n",
    "1. Load Data\n",
    "2. Define Model\n",
    "3. Fit and Evaluate Model\n",
    "4. Optimize Model\n",
    "5. Finalize Model"
   ]
  },
  {
   "cell_type": "markdown",
   "metadata": {},
   "source": [
    "# Section 0. Prepare Environment"
   ]
  },
  {
   "cell_type": "code",
   "execution_count": 1,
   "metadata": {},
   "outputs": [],
   "source": [
    "# Set the warning message filter\n",
    "import warnings\n",
    "warnings.filterwarnings(\"ignore\", category=FutureWarning)\n",
    "warnings.filterwarnings(\"ignore\", category=DeprecationWarning)"
   ]
  },
  {
   "cell_type": "code",
   "execution_count": 2,
   "metadata": {},
   "outputs": [],
   "source": [
    "# Set the random seed number for reproducible results\n",
    "seedNum = 888"
   ]
  },
  {
   "cell_type": "code",
   "execution_count": 3,
   "metadata": {},
   "outputs": [],
   "source": [
    "# Load libraries and packages\n",
    "import random\n",
    "random.seed(seedNum)\n",
    "import numpy as np\n",
    "np.random.seed(seedNum)\n",
    "import tensorflow as tf\n",
    "tf.random.set_seed(seedNum)\n",
    "from tensorflow.keras import Sequential\n",
    "from tensorflow.keras.layers import Dense\n",
    "from tensorflow.keras.layers import Flatten\n",
    "from tensorflow.keras.wrappers.scikit_learn import KerasClassifier\n",
    "# import keras as K\n",
    "# from keras.models import Sequential\n",
    "# from keras.layers import Dense\n",
    "# from keras.wrappers.scikit_learn import KerasClassifier\n",
    "import pandas as pd\n",
    "import math\n",
    "import os\n",
    "import sys\n",
    "import shutil\n",
    "import urllib.request\n",
    "import zipfile\n",
    "import smtplib\n",
    "import matplotlib.pyplot as plt\n",
    "from datetime import datetime\n",
    "from email.message import EmailMessage\n",
    "from sklearn.model_selection import train_test_split\n",
    "from sklearn.model_selection import KFold\n",
    "from sklearn.model_selection import StratifiedKFold\n",
    "from sklearn.model_selection import cross_val_score\n",
    "from sklearn.model_selection import GridSearchCV\n",
    "from sklearn.model_selection import RandomizedSearchCV\n",
    "from sklearn import preprocessing"
   ]
  },
  {
   "cell_type": "code",
   "execution_count": 4,
   "metadata": {},
   "outputs": [
    {
     "name": "stdout",
     "output_type": "stream",
     "text": [
      "Num GPUs Available:  0\n"
     ]
    }
   ],
   "source": [
    "# Begin the timer for the script processing\n",
    "startTimeScript = datetime.now()\n",
    "\n",
    "# Set up the verbose flag to print detailed messages for debugging (setting to True will activate)\n",
    "# verbose = True\n",
    "# tf.debugging.set_log_device_placement(verbose)\n",
    "\n",
    "# Set up the number of CPU cores available for multi-thread processing\n",
    "n_jobs = -1\n",
    "print(\"Num GPUs Available: \", len(tf.config.experimental.list_physical_devices('GPU')))\n",
    "\n",
    "# Set up the flag to stop sending progress emails (setting to True will send status emails!)\n",
    "notifyStatus = False\n",
    "\n",
    "# Set the number of folds for cross validation\n",
    "n_folds = 5\n",
    "\n",
    "# Set the flag for splitting the dataset\n",
    "splitDataset = True\n",
    "splitPercentage = 0.25\n",
    "\n",
    "# Set various default Keras modeling parameters\n",
    "default_loss = 'categorical_crossentropy'\n",
    "default_metrics = ['accuracy']\n",
    "default_kernel_init = tf.initializers.RandomNormal(seed=seedNum)\n",
    "default_optimizer = tf.optimizers.Adam(learning_rate=0.001)\n",
    "default_epoch = 5\n",
    "default_batch = 32"
   ]
  },
  {
   "cell_type": "code",
   "execution_count": 5,
   "metadata": {},
   "outputs": [],
   "source": [
    "# Set up the email notification function\n",
    "def email_notify(msg_text):\n",
    "    sender = os.environ.get('MAIL_SENDER')\n",
    "    receiver = os.environ.get('MAIL_RECEIVER')\n",
    "    gateway = os.environ.get('SMTP_GATEWAY')\n",
    "    smtpuser = os.environ.get('SMTP_USERNAME')\n",
    "    password = os.environ.get('SMTP_PASSWORD')\n",
    "    if sender==None or receiver==None or gateway==None or smtpuser==None or password==None:\n",
    "        sys.exit(\"Incomplete email setup info. Script Processing Aborted!!!\")\n",
    "    msg = EmailMessage()\n",
    "    msg.set_content(msg_text)\n",
    "    msg['Subject'] = 'Notification from Keras Multi-Class Classification Script'\n",
    "    msg['From'] = sender\n",
    "    msg['To'] = receiver\n",
    "    server = smtplib.SMTP(gateway, 587)\n",
    "    server.starttls()\n",
    "    server.login(smtpuser, password)\n",
    "    server.send_message(msg)\n",
    "    server.quit()"
   ]
  },
  {
   "cell_type": "code",
   "execution_count": 6,
   "metadata": {},
   "outputs": [],
   "source": [
    "# Reset the random number generators\n",
    "def reset_random(seedNum):\n",
    "    random.seed(seedNum)\n",
    "    np.random.seed(seedNum)\n",
    "    tf.random.set_seed(seedNum)"
   ]
  },
  {
   "cell_type": "code",
   "execution_count": 7,
   "metadata": {},
   "outputs": [],
   "source": [
    "if (notifyStatus): email_notify(\"Phase 0 Prepare Environment completed! \"+datetime.now().strftime('%a %B %d, %Y %I:%M:%S %p'))"
   ]
  },
  {
   "cell_type": "markdown",
   "metadata": {},
   "source": [
    "# Section 1. Load Data"
   ]
  },
  {
   "cell_type": "code",
   "execution_count": 8,
   "metadata": {},
   "outputs": [],
   "source": [
    "if (notifyStatus): email_notify(\"Phase 1 Load Data has begun! \"+datetime.now().strftime('%a %B %d, %Y %I:%M:%S %p'))"
   ]
  },
  {
   "cell_type": "markdown",
   "metadata": {},
   "source": [
    "## 1.a) Load Dataset"
   ]
  },
  {
   "cell_type": "code",
   "execution_count": 9,
   "metadata": {},
   "outputs": [
    {
     "name": "stdout",
     "output_type": "stream",
     "text": [
      "Train Shape: X=(60000, 28, 28), y=(60000,)\n",
      "Test Shape: X=(10000, 28, 28), y=(10000,)\n"
     ]
    }
   ],
   "source": [
    "mnist = tf.keras.datasets.mnist\n",
    "(X_train, y_train),(X_test, y_test) = mnist.load_data()\n",
    "\n",
    "# Summarize loaded datasets\n",
    "print('Train Shape: X=%s, y=%s' % (X_train.shape, y_train.shape))\n",
    "print('Test Shape: X=%s, y=%s' % (X_test.shape, y_test.shape))"
   ]
  },
  {
   "cell_type": "code",
   "execution_count": 10,
   "metadata": {},
   "outputs": [
    {
     "data": {
      "image/png": "[encoded data removed]",
      "text/plain": [
       "<Figure size 432x288 with 9 Axes>"
      ]
     },
     "metadata": {
      "needs_background": "light"
     },
     "output_type": "display_data"
    }
   ],
   "source": [
    "# Plot first few images\n",
    "for i in range(9):\n",
    "    # define subplot\n",
    "    plt.subplot(330 + 1 + i)\n",
    "    # plot raw pixel data\n",
    "    plt.imshow(X_train[i], cmap=plt.get_cmap('gray'))\n",
    "plt.show()"
   ]
  },
  {
   "cell_type": "markdown",
   "metadata": {},
   "source": [
    "## 1.b) Data Cleaning"
   ]
  },
  {
   "cell_type": "code",
   "execution_count": 11,
   "metadata": {},
   "outputs": [],
   "source": [
    "# Not required for this iteration of the project"
   ]
  },
  {
   "cell_type": "markdown",
   "metadata": {},
   "source": [
    "## 1.c) Feature Scaling and Pre-processing"
   ]
  },
  {
   "cell_type": "code",
   "execution_count": 12,
   "metadata": {},
   "outputs": [],
   "source": [
    "# Apply feature scaling and transformation\n",
    "X_train = X_train / 255.0\n",
    "X_test = X_test / 255.0"
   ]
  },
  {
   "cell_type": "markdown",
   "metadata": {},
   "source": [
    "## 1.d) Splitting Data into Training and Test Sets"
   ]
  },
  {
   "cell_type": "code",
   "execution_count": 13,
   "metadata": {},
   "outputs": [
    {
     "name": "stdout",
     "output_type": "stream",
     "text": [
      "Train Shape: X=(60000, 28, 28), y=(60000, 10)\n",
      "Test Shape: X=(10000, 28, 28), y=(10000, 10)\n"
     ]
    }
   ],
   "source": [
    "# Encode class values as integers and perform one-hot-encoding\n",
    "encoder = preprocessing.LabelEncoder()\n",
    "encoder.fit(y_train)\n",
    "train_transformed = encoder.transform(y_train)\n",
    "test_transformed = encoder.transform(y_test)\n",
    "y_train = tf.keras.utils.to_categorical(train_transformed)\n",
    "y_test = tf.keras.utils.to_categorical(test_transformed)\n",
    "\n",
    "print('Train Shape: X=%s, y=%s' % (X_train.shape, y_train.shape))\n",
    "print('Test Shape: X=%s, y=%s' % (X_test.shape, y_test.shape))\n",
    "\n",
    "num_pixels = X_train.shape[1] * X_train.shape[2]\n",
    "num_classes = y_train.shape[1]"
   ]
  },
  {
   "cell_type": "code",
   "execution_count": 14,
   "metadata": {},
   "outputs": [],
   "source": [
    "if (notifyStatus): email_notify(\"Phase 1 Load Data completed! \"+datetime.now().strftime('%a %B %d, %Y %I:%M:%S %p'))"
   ]
  },
  {
   "cell_type": "markdown",
   "metadata": {},
   "source": [
    "# Section 2. Define Model"
   ]
  },
  {
   "cell_type": "code",
   "execution_count": 15,
   "metadata": {},
   "outputs": [],
   "source": [
    "if (notifyStatus): email_notify(\"Phase 2 Define Model has begun! \"+datetime.now().strftime('%a %B %d, %Y %I:%M:%S %p'))"
   ]
  },
  {
   "cell_type": "code",
   "execution_count": 16,
   "metadata": {},
   "outputs": [],
   "source": [
    "# Define the Keras model for baseline measurement\n",
    "def create_default_model():\n",
    "    default_model = Sequential()\n",
    "    default_model.add(Flatten(input_shape=(28, 28)))\n",
    "    default_model.add(Dense(num_pixels, activation='relu', kernel_initializer=default_kernel_init))\n",
    "    default_model.add(Dense(num_classes, activation='softmax', kernel_initializer=default_kernel_init))\n",
    "    default_model.compile(loss=default_loss, optimizer=default_optimizer, metrics=default_metrics)\n",
    "    return default_model"
   ]
  },
  {
   "cell_type": "code",
   "execution_count": 17,
   "metadata": {},
   "outputs": [],
   "source": [
    "# Not applicable for this iteration of the project\n",
    "# Define the Callback class and early-stopping function\n",
    "# class myCallback(tf.keras.callbacks.Callback):\n",
    "#     def on_epoch_end(self, epoch, logs={}):\n",
    "#         if(logs.get('accuracy') > 0.9):\n",
    "#             print(\"\\nReached 90% accuracy so cancelling training!\")\n",
    "#             self.model.stop_training = True\n",
    "\n",
    "# callbacks = myCallback()"
   ]
  },
  {
   "cell_type": "code",
   "execution_count": 18,
   "metadata": {},
   "outputs": [],
   "source": [
    "if (notifyStatus): email_notify(\"Phase 2 Define Model completed! \"+datetime.now().strftime('%a %B %d, %Y %I:%M:%S %p'))"
   ]
  },
  {
   "cell_type": "markdown",
   "metadata": {},
   "source": [
    "# Section 3. Fit and Evaluate Model"
   ]
  },
  {
   "cell_type": "code",
   "execution_count": 19,
   "metadata": {},
   "outputs": [],
   "source": [
    "if (notifyStatus): email_notify(\"Phase 3 Fit and Evaluate Model has begun! \"+datetime.now().strftime('%a %B %d, %Y %I:%M:%S %p'))"
   ]
  },
  {
   "cell_type": "code",
   "execution_count": 20,
   "metadata": {},
   "outputs": [
    {
     "name": "stdout",
     "output_type": "stream",
     "text": [
      "Train on 60000 samples, validate on 10000 samples\n",
      "Epoch 1/5\n",
      "60000/60000 [==============================] - 13s 221us/sample - loss: 0.1889 - accuracy: 0.9433 - val_loss: 0.0922 - val_accuracy: 0.9707\n",
      "Epoch 2/5\n",
      "60000/60000 [==============================] - 11s 189us/sample - loss: 0.0748 - accuracy: 0.9775 - val_loss: 0.0808 - val_accuracy: 0.9745\n",
      "Epoch 3/5\n",
      "60000/60000 [==============================] - 11s 188us/sample - loss: 0.0474 - accuracy: 0.9849 - val_loss: 0.0721 - val_accuracy: 0.9781\n",
      "Epoch 4/5\n",
      "60000/60000 [==============================] - 11s 188us/sample - loss: 0.0331 - accuracy: 0.9891 - val_loss: 0.0830 - val_accuracy: 0.9743\n",
      "Epoch 5/5\n",
      "60000/60000 [==============================] - 11s 191us/sample - loss: 0.0254 - accuracy: 0.9916 - val_loss: 0.0701 - val_accuracy: 0.9805\n",
      "Total time for creating the baseline model: 0:00:59.105367\n"
     ]
    }
   ],
   "source": [
    "# Initialize the baseline model\n",
    "startTimeModule = datetime.now()\n",
    "reset_random(seedNum)\n",
    "baseline_model = create_default_model()\n",
    "baseline_hist = baseline_model.fit(X_train, y_train, epochs=default_epoch, batch_size=default_batch,\n",
    "                                   validation_data=(X_test, y_test), verbose=1)\n",
    "print('Total time for creating the baseline model:', (datetime.now() - startTimeModule))"
   ]
  },
  {
   "cell_type": "code",
   "execution_count": 21,
   "metadata": {},
   "outputs": [
    {
     "name": "stdout",
     "output_type": "stream",
     "text": [
      "Model: \"sequential\"\n",
      "_________________________________________________________________\n",
      "Layer (type)                 Output Shape              Param #   \n",
      "=================================================================\n",
      "flatten (Flatten)            (None, 784)               0         \n",
      "_________________________________________________________________\n",
      "dense (Dense)                (None, 784)               615440    \n",
      "_________________________________________________________________\n",
      "dense_1 (Dense)              (None, 10)                7850      \n",
      "=================================================================\n",
      "Total params: 623,290\n",
      "Trainable params: 623,290\n",
      "Non-trainable params: 0\n",
      "_________________________________________________________________\n",
      "None\n"
     ]
    }
   ],
   "source": [
    "# Display a summary of the baseline model\n",
    "print(baseline_model.summary())"
   ]
  },
  {
   "cell_type": "code",
   "execution_count": 22,
   "metadata": {},
   "outputs": [
    {
     "name": "stdout",
     "output_type": "stream",
     "text": [
      "{'name': 'sequential', 'layers': [{'class_name': 'Flatten', 'config': {'name': 'flatten', 'trainable': True, 'batch_input_shape': (None, 28, 28), 'dtype': 'float32', 'data_format': 'channels_last'}}, {'class_name': 'Dense', 'config': {'name': 'dense', 'trainable': True, 'dtype': 'float32', 'units': 784, 'activation': 'relu', 'use_bias': True, 'kernel_initializer': {'class_name': 'RandomNormal', 'config': {'mean': 0.0, 'stddev': 0.05, 'seed': 888}}, 'bias_initializer': {'class_name': 'Zeros', 'config': {}}, 'kernel_regularizer': None, 'bias_regularizer': None, 'activity_regularizer': None, 'kernel_constraint': None, 'bias_constraint': None}}, {'class_name': 'Dense', 'config': {'name': 'dense_1', 'trainable': True, 'dtype': 'float32', 'units': 10, 'activation': 'softmax', 'use_bias': True, 'kernel_initializer': {'class_name': 'RandomNormal', 'config': {'mean': 0.0, 'stddev': 0.05, 'seed': 888}}, 'bias_initializer': {'class_name': 'Zeros', 'config': {}}, 'kernel_regularizer': None, 'bias_regularizer': None, 'activity_regularizer': None, 'kernel_constraint': None, 'bias_constraint': None}}]}\n"
     ]
    }
   ],
   "source": [
    "# Display the configuration of the baseline model\n",
    "print(baseline_model.get_config())"
   ]
  },
  {
   "cell_type": "code",
   "execution_count": 23,
   "metadata": {},
   "outputs": [
    {
     "name": "stdout",
     "output_type": "stream",
     "text": [
      "dict_keys(['loss', 'accuracy', 'val_loss', 'val_accuracy'])\n"
     ]
    }
   ],
   "source": [
    "# List all data points in the baseline model training history\n",
    "print(baseline_hist.history.keys())"
   ]
  },
  {
   "cell_type": "code",
   "execution_count": 24,
   "metadata": {},
   "outputs": [
    {
     "data": {
      "image/png": "[encoded data removed]",
      "text/plain": [
       "<Figure size 864x864 with 2 Axes>"
      ]
     },
     "metadata": {
      "needs_background": "light"
     },
     "output_type": "display_data"
    }
   ],
   "source": [
    "# Summarize model training hisotry for accuracy and loss\n",
    "fig, axs = plt.subplots(2, 1, figsize=(12,12))\n",
    "plt.subplot(211)\n",
    "plt.plot(baseline_hist.history['accuracy'], color='blue', label='train')\n",
    "plt.plot(baseline_hist.history['val_accuracy'], color='red', label='test')\n",
    "plt.title('Model Training Performance (Accuracy)')\n",
    "plt.ylabel('Accuracy')\n",
    "plt.xlabel('Epoch')\n",
    "plt.legend(['Train', 'Test'], loc='upper right')\n",
    "plt.subplot(212)\n",
    "plt.plot(baseline_hist.history['loss'], color='blue', label='train')\n",
    "plt.plot(baseline_hist.history['val_loss'], color='red', label='test')\n",
    "plt.title('Model Training Performance (Loss)')\n",
    "plt.ylabel('Loss')\n",
    "plt.xlabel('Epoch')\n",
    "plt.legend(['Train', 'Test'], loc='upper right')\n",
    "plt.show()"
   ]
  },
  {
   "cell_type": "code",
   "execution_count": 25,
   "metadata": {},
   "outputs": [],
   "source": [
    "if (notifyStatus): email_notify(\"Phase 3 Fit and Evaluate Model completed! \"+datetime.now().strftime('%a %B %d, %Y %I:%M:%S %p'))"
   ]
  },
  {
   "cell_type": "markdown",
   "metadata": {},
   "source": [
    "# Section 4. Optimize Model"
   ]
  },
  {
   "cell_type": "code",
   "execution_count": 26,
   "metadata": {},
   "outputs": [],
   "source": [
    "if (notifyStatus): email_notify(\"Phase 4 Optimize Model has begun! \"+datetime.now().strftime('%a %B %d, %Y %I:%M:%S %p'))"
   ]
  },
  {
   "cell_type": "code",
   "execution_count": 27,
   "metadata": {},
   "outputs": [],
   "source": [
    "# Define the Keras model required for KerasClassifier\n",
    "def create_customized_model(optimizer, kernel_init):\n",
    "    customized_model = Sequential()\n",
    "    customized_model.add(Flatten(input_shape=(28, 28)))\n",
    "    customized_model.add(Dense(num_pixels, activation='relu', kernel_initializer=kernel_init))\n",
    "    customized_model.add(Dense(num_classes, activation='softmax', kernel_initializer=kernel_init))\n",
    "    customized_model.compile(loss=default_loss, optimizer=optimizer, metrics=default_metrics)\n",
    "    return customized_model"
   ]
  },
  {
   "cell_type": "code",
   "execution_count": 28,
   "metadata": {},
   "outputs": [
    {
     "name": "stdout",
     "output_type": "stream",
     "text": [
      "Optimizer candidate #1 has the object ID of <tensorflow.python.keras.optimizer_v2.adam.Adam object at 0x7fb0b0484290>\n",
      "Optimizer candidate #2 has the object ID of <tensorflow.python.keras.optimizer_v2.rmsprop.RMSprop object at 0x7fb0b0484cd0>\n",
      "Optimizer candidate #3 has the object ID of <tensorflow.python.keras.optimizer_v2.gradient_descent.SGD object at 0x7fb0b0484e10>\n",
      "Initializer candidate #1 has the object ID of <tensorflow.python.ops.init_ops_v2.RandomNormal object at 0x7fb0b0413550>\n",
      "Initializer candidate #2 has the object ID of <tensorflow.python.ops.init_ops_v2.Orthogonal object at 0x7fb0b04137d0>\n",
      "Initializer candidate #2 has the object ID of <tensorflow.python.ops.init_ops_v2.GlorotNormal object at 0x7fb0b0463ad0>\n",
      "\n",
      "Forming the grid-search model #0 using: optimizer=<tensorflow.python.keras.optimizer_v2.adam.Adam object at 0x7fb0b0484290>, kernel=<tensorflow.python.ops.init_ops_v2.RandomNormal object at 0x7fb0b0413550>, epochs=3, batch_size=32\n",
      "Train on 60000 samples, validate on 10000 samples\n",
      "Epoch 1/3\n",
      "60000/60000 [==============================] - 13s 212us/sample - loss: 0.1889 - accuracy: 0.9433 - val_loss: 0.0922 - val_accuracy: 0.9707\n",
      "Epoch 2/3\n",
      "60000/60000 [==============================] - 11s 191us/sample - loss: 0.0748 - accuracy: 0.9775 - val_loss: 0.0808 - val_accuracy: 0.9745\n",
      "Epoch 3/3\n",
      "60000/60000 [==============================] - 12s 193us/sample - loss: 0.0474 - accuracy: 0.9849 - val_loss: 0.0721 - val_accuracy: 0.9781\n",
      "\n",
      "Forming the grid-search model #1 using: optimizer=<tensorflow.python.keras.optimizer_v2.adam.Adam object at 0x7fb0b0484290>, kernel=<tensorflow.python.ops.init_ops_v2.RandomNormal object at 0x7fb0b0413550>, epochs=3, batch_size=64\n",
      "Train on 60000 samples, validate on 10000 samples\n",
      "Epoch 1/3\n",
      "60000/60000 [==============================] - 8s 135us/sample - loss: 0.1635 - accuracy: 0.9501 - val_loss: 0.0815 - val_accuracy: 0.9755\n",
      "Epoch 2/3\n",
      "60000/60000 [==============================] - 7s 120us/sample - loss: 0.0618 - accuracy: 0.9811 - val_loss: 0.0686 - val_accuracy: 0.9777\n",
      "Epoch 3/3\n",
      "60000/60000 [==============================] - 7s 118us/sample - loss: 0.0382 - accuracy: 0.9886 - val_loss: 0.0616 - val_accuracy: 0.9806\n",
      "\n",
      "Forming the grid-search model #2 using: optimizer=<tensorflow.python.keras.optimizer_v2.adam.Adam object at 0x7fb0b0484290>, kernel=<tensorflow.python.ops.init_ops_v2.RandomNormal object at 0x7fb0b0413550>, epochs=3, batch_size=128\n",
      "Train on 60000 samples, validate on 10000 samples\n",
      "Epoch 1/3\n",
      "60000/60000 [==============================] - 6s 92us/sample - loss: 0.1783 - accuracy: 0.9453 - val_loss: 0.0867 - val_accuracy: 0.9726\n",
      "Epoch 2/3\n",
      "60000/60000 [==============================] - 5s 77us/sample - loss: 0.0632 - accuracy: 0.9812 - val_loss: 0.0686 - val_accuracy: 0.9788\n",
      "Epoch 3/3\n",
      "60000/60000 [==============================] - 5s 78us/sample - loss: 0.0388 - accuracy: 0.9886 - val_loss: 0.0611 - val_accuracy: 0.9809\n",
      "\n",
      "Forming the grid-search model #3 using: optimizer=<tensorflow.python.keras.optimizer_v2.adam.Adam object at 0x7fb0b0484290>, kernel=<tensorflow.python.ops.init_ops_v2.Orthogonal object at 0x7fb0b04137d0>, epochs=3, batch_size=32\n",
      "Train on 60000 samples, validate on 10000 samples\n",
      "Epoch 1/3\n",
      "60000/60000 [==============================] - 12s 205us/sample - loss: 0.1569 - accuracy: 0.9517 - val_loss: 0.0795 - val_accuracy: 0.9743\n",
      "Epoch 2/3\n",
      "60000/60000 [==============================] - 11s 187us/sample - loss: 0.0631 - accuracy: 0.9803 - val_loss: 0.0702 - val_accuracy: 0.9772\n",
      "Epoch 3/3\n",
      "60000/60000 [==============================] - 11s 191us/sample - loss: 0.0405 - accuracy: 0.9872 - val_loss: 0.0664 - val_accuracy: 0.9796\n",
      "\n",
      "Forming the grid-search model #4 using: optimizer=<tensorflow.python.keras.optimizer_v2.adam.Adam object at 0x7fb0b0484290>, kernel=<tensorflow.python.ops.init_ops_v2.Orthogonal object at 0x7fb0b04137d0>, epochs=3, batch_size=64\n",
      "Train on 60000 samples, validate on 10000 samples\n",
      "Epoch 1/3\n",
      "60000/60000 [==============================] - 8s 132us/sample - loss: 0.1634 - accuracy: 0.9499 - val_loss: 0.0819 - val_accuracy: 0.9737\n",
      "Epoch 2/3\n",
      "60000/60000 [==============================] - 7s 116us/sample - loss: 0.0608 - accuracy: 0.9818 - val_loss: 0.0693 - val_accuracy: 0.9787\n",
      "Epoch 3/3\n",
      "60000/60000 [==============================] - 7s 114us/sample - loss: 0.0378 - accuracy: 0.9886 - val_loss: 0.0593 - val_accuracy: 0.9815\n",
      "\n",
      "Forming the grid-search model #5 using: optimizer=<tensorflow.python.keras.optimizer_v2.adam.Adam object at 0x7fb0b0484290>, kernel=<tensorflow.python.ops.init_ops_v2.Orthogonal object at 0x7fb0b04137d0>, epochs=3, batch_size=128\n",
      "Train on 60000 samples, validate on 10000 samples\n",
      "Epoch 1/3\n",
      "60000/60000 [==============================] - 6s 97us/sample - loss: 0.1825 - accuracy: 0.9445 - val_loss: 0.0860 - val_accuracy: 0.9732\n",
      "Epoch 2/3\n",
      "60000/60000 [==============================] - 5s 77us/sample - loss: 0.0646 - accuracy: 0.9805 - val_loss: 0.0674 - val_accuracy: 0.9789\n",
      "Epoch 3/3\n",
      "60000/60000 [==============================] - 5s 78us/sample - loss: 0.0397 - accuracy: 0.9883 - val_loss: 0.0598 - val_accuracy: 0.9810\n",
      "\n",
      "Forming the grid-search model #6 using: optimizer=<tensorflow.python.keras.optimizer_v2.adam.Adam object at 0x7fb0b0484290>, kernel=<tensorflow.python.ops.init_ops_v2.GlorotNormal object at 0x7fb0b0463ad0>, epochs=3, batch_size=32\n",
      "Train on 60000 samples, validate on 10000 samples\n",
      "Epoch 1/3\n",
      "60000/60000 [==============================] - 12s 208us/sample - loss: 0.1570 - accuracy: 0.9523 - val_loss: 0.0810 - val_accuracy: 0.9741\n",
      "Epoch 2/3\n",
      "60000/60000 [==============================] - 12s 194us/sample - loss: 0.0628 - accuracy: 0.9812 - val_loss: 0.0675 - val_accuracy: 0.9794\n",
      "Epoch 3/3\n",
      "60000/60000 [==============================] - 11s 190us/sample - loss: 0.0402 - accuracy: 0.9867 - val_loss: 0.0697 - val_accuracy: 0.9785\n",
      "\n",
      "Forming the grid-search model #7 using: optimizer=<tensorflow.python.keras.optimizer_v2.adam.Adam object at 0x7fb0b0484290>, kernel=<tensorflow.python.ops.init_ops_v2.GlorotNormal object at 0x7fb0b0463ad0>, epochs=3, batch_size=64\n",
      "Train on 60000 samples, validate on 10000 samples\n",
      "Epoch 1/3\n",
      "60000/60000 [==============================] - 8s 139us/sample - loss: 0.1650 - accuracy: 0.9493 - val_loss: 0.0813 - val_accuracy: 0.9741\n",
      "Epoch 2/3\n",
      "60000/60000 [==============================] - 7s 118us/sample - loss: 0.0617 - accuracy: 0.9815 - val_loss: 0.0698 - val_accuracy: 0.9781\n",
      "Epoch 3/3\n",
      "60000/60000 [==============================] - 7s 117us/sample - loss: 0.0387 - accuracy: 0.9877 - val_loss: 0.0628 - val_accuracy: 0.9807\n",
      "\n",
      "Forming the grid-search model #8 using: optimizer=<tensorflow.python.keras.optimizer_v2.adam.Adam object at 0x7fb0b0484290>, kernel=<tensorflow.python.ops.init_ops_v2.GlorotNormal object at 0x7fb0b0463ad0>, epochs=3, batch_size=128\n",
      "Train on 60000 samples, validate on 10000 samples\n",
      "Epoch 1/3\n",
      "60000/60000 [==============================] - 6s 94us/sample - loss: 0.1801 - accuracy: 0.9447 - val_loss: 0.0857 - val_accuracy: 0.9729\n",
      "Epoch 2/3\n",
      "60000/60000 [==============================] - 5s 77us/sample - loss: 0.0648 - accuracy: 0.9807 - val_loss: 0.0735 - val_accuracy: 0.9779\n",
      "Epoch 3/3\n",
      "60000/60000 [==============================] - 5s 78us/sample - loss: 0.0401 - accuracy: 0.9882 - val_loss: 0.0603 - val_accuracy: 0.9817\n",
      "\n",
      "Forming the grid-search model #9 using: optimizer=<tensorflow.python.keras.optimizer_v2.rmsprop.RMSprop object at 0x7fb0b0484cd0>, kernel=<tensorflow.python.ops.init_ops_v2.RandomNormal object at 0x7fb0b0413550>, epochs=3, batch_size=32\n",
      "Train on 60000 samples, validate on 10000 samples\n",
      "Epoch 1/3\n",
      "60000/60000 [==============================] - 18s 292us/sample - loss: 0.1890 - accuracy: 0.9440 - val_loss: 0.1058 - val_accuracy: 0.9688\n",
      "Epoch 2/3\n",
      "60000/60000 [==============================] - 17s 275us/sample - loss: 0.0862 - accuracy: 0.9755 - val_loss: 0.0876 - val_accuracy: 0.9735\n",
      "Epoch 3/3\n",
      "60000/60000 [==============================] - 16s 274us/sample - loss: 0.0628 - accuracy: 0.9829 - val_loss: 0.0833 - val_accuracy: 0.9784\n",
      "\n",
      "Forming the grid-search model #10 using: optimizer=<tensorflow.python.keras.optimizer_v2.rmsprop.RMSprop object at 0x7fb0b0484cd0>, kernel=<tensorflow.python.ops.init_ops_v2.RandomNormal object at 0x7fb0b0413550>, epochs=3, batch_size=64\n",
      "Train on 60000 samples, validate on 10000 samples\n",
      "Epoch 1/3\n",
      "60000/60000 [==============================] - 11s 178us/sample - loss: 0.2068 - accuracy: 0.9383 - val_loss: 0.1072 - val_accuracy: 0.9688\n",
      "Epoch 2/3\n",
      "60000/60000 [==============================] - 10s 159us/sample - loss: 0.0837 - accuracy: 0.9752 - val_loss: 0.0780 - val_accuracy: 0.9764\n",
      "Epoch 3/3\n",
      "60000/60000 [==============================] - 9s 158us/sample - loss: 0.0565 - accuracy: 0.9830 - val_loss: 0.0776 - val_accuracy: 0.9775\n",
      "\n",
      "Forming the grid-search model #11 using: optimizer=<tensorflow.python.keras.optimizer_v2.rmsprop.RMSprop object at 0x7fb0b0484cd0>, kernel=<tensorflow.python.ops.init_ops_v2.RandomNormal object at 0x7fb0b0413550>, epochs=3, batch_size=128\n",
      "Train on 60000 samples, validate on 10000 samples\n",
      "Epoch 1/3\n",
      "60000/60000 [==============================] - 7s 114us/sample - loss: 0.2396 - accuracy: 0.9288 - val_loss: 0.1282 - val_accuracy: 0.9613\n",
      "Epoch 2/3\n",
      "60000/60000 [==============================] - 6s 99us/sample - loss: 0.0934 - accuracy: 0.9721 - val_loss: 0.0838 - val_accuracy: 0.9735\n",
      "Epoch 3/3\n",
      "60000/60000 [==============================] - 6s 96us/sample - loss: 0.0600 - accuracy: 0.9818 - val_loss: 0.0754 - val_accuracy: 0.9770\n",
      "\n",
      "Forming the grid-search model #12 using: optimizer=<tensorflow.python.keras.optimizer_v2.rmsprop.RMSprop object at 0x7fb0b0484cd0>, kernel=<tensorflow.python.ops.init_ops_v2.Orthogonal object at 0x7fb0b04137d0>, epochs=3, batch_size=32\n",
      "Train on 60000 samples, validate on 10000 samples\n",
      "Epoch 1/3\n",
      "60000/60000 [==============================] - 18s 297us/sample - loss: 0.1962 - accuracy: 0.9416 - val_loss: 0.1104 - val_accuracy: 0.9664\n",
      "Epoch 2/3\n",
      "60000/60000 [==============================] - 16s 274us/sample - loss: 0.0891 - accuracy: 0.9747 - val_loss: 0.0851 - val_accuracy: 0.9750\n",
      "Epoch 3/3\n",
      "60000/60000 [==============================] - 17s 279us/sample - loss: 0.0651 - accuracy: 0.9822 - val_loss: 0.0874 - val_accuracy: 0.9773\n",
      "\n",
      "Forming the grid-search model #13 using: optimizer=<tensorflow.python.keras.optimizer_v2.rmsprop.RMSprop object at 0x7fb0b0484cd0>, kernel=<tensorflow.python.ops.init_ops_v2.Orthogonal object at 0x7fb0b04137d0>, epochs=3, batch_size=64\n",
      "Train on 60000 samples, validate on 10000 samples\n",
      "Epoch 1/3\n",
      "60000/60000 [==============================] - 11s 175us/sample - loss: 0.2155 - accuracy: 0.9356 - val_loss: 0.1015 - val_accuracy: 0.9694\n",
      "Epoch 2/3\n",
      "60000/60000 [==============================] - 10s 159us/sample - loss: 0.0868 - accuracy: 0.9740 - val_loss: 0.0866 - val_accuracy: 0.9732\n",
      "Epoch 3/3\n",
      "60000/60000 [==============================] - 9s 158us/sample - loss: 0.0588 - accuracy: 0.9829 - val_loss: 0.0804 - val_accuracy: 0.9769\n",
      "\n",
      "Forming the grid-search model #14 using: optimizer=<tensorflow.python.keras.optimizer_v2.rmsprop.RMSprop object at 0x7fb0b0484cd0>, kernel=<tensorflow.python.ops.init_ops_v2.Orthogonal object at 0x7fb0b04137d0>, epochs=3, batch_size=128\n",
      "Train on 60000 samples, validate on 10000 samples\n",
      "Epoch 1/3\n",
      "60000/60000 [==============================] - 7s 119us/sample - loss: 0.2505 - accuracy: 0.9261 - val_loss: 0.1336 - val_accuracy: 0.9591\n",
      "Epoch 2/3\n",
      "60000/60000 [==============================] - 6s 96us/sample - loss: 0.0983 - accuracy: 0.9707 - val_loss: 0.0861 - val_accuracy: 0.9735\n",
      "Epoch 3/3\n",
      "60000/60000 [==============================] - 6s 96us/sample - loss: 0.0636 - accuracy: 0.9807 - val_loss: 0.0803 - val_accuracy: 0.9745\n",
      "\n",
      "Forming the grid-search model #15 using: optimizer=<tensorflow.python.keras.optimizer_v2.rmsprop.RMSprop object at 0x7fb0b0484cd0>, kernel=<tensorflow.python.ops.init_ops_v2.GlorotNormal object at 0x7fb0b0463ad0>, epochs=3, batch_size=32\n",
      "Train on 60000 samples, validate on 10000 samples\n",
      "Epoch 1/3\n",
      "60000/60000 [==============================] - 18s 293us/sample - loss: 0.1926 - accuracy: 0.9430 - val_loss: 0.1011 - val_accuracy: 0.9696\n",
      "Epoch 2/3\n",
      "60000/60000 [==============================] - 17s 282us/sample - loss: 0.0889 - accuracy: 0.9751 - val_loss: 0.0870 - val_accuracy: 0.9760\n",
      "Epoch 3/3\n",
      "60000/60000 [==============================] - 16s 272us/sample - loss: 0.0637 - accuracy: 0.9827 - val_loss: 0.0913 - val_accuracy: 0.9776\n",
      "\n",
      "Forming the grid-search model #16 using: optimizer=<tensorflow.python.keras.optimizer_v2.rmsprop.RMSprop object at 0x7fb0b0484cd0>, kernel=<tensorflow.python.ops.init_ops_v2.GlorotNormal object at 0x7fb0b0463ad0>, epochs=3, batch_size=64\n",
      "Train on 60000 samples, validate on 10000 samples\n",
      "Epoch 1/3\n",
      "60000/60000 [==============================] - 11s 181us/sample - loss: 0.2105 - accuracy: 0.9372 - val_loss: 0.1074 - val_accuracy: 0.9670\n",
      "Epoch 2/3\n",
      "60000/60000 [==============================] - 10s 158us/sample - loss: 0.0854 - accuracy: 0.9750 - val_loss: 0.0830 - val_accuracy: 0.9746\n",
      "Epoch 3/3\n",
      "60000/60000 [==============================] - 9s 157us/sample - loss: 0.0578 - accuracy: 0.9831 - val_loss: 0.0788 - val_accuracy: 0.9779\n",
      "\n",
      "Forming the grid-search model #17 using: optimizer=<tensorflow.python.keras.optimizer_v2.rmsprop.RMSprop object at 0x7fb0b0484cd0>, kernel=<tensorflow.python.ops.init_ops_v2.GlorotNormal object at 0x7fb0b0463ad0>, epochs=3, batch_size=128\n",
      "Train on 60000 samples, validate on 10000 samples\n",
      "Epoch 1/3\n",
      "60000/60000 [==============================] - 7s 116us/sample - loss: 0.2429 - accuracy: 0.9282 - val_loss: 0.1318 - val_accuracy: 0.9602\n",
      "Epoch 2/3\n",
      "60000/60000 [==============================] - 6s 96us/sample - loss: 0.0956 - accuracy: 0.9714 - val_loss: 0.0850 - val_accuracy: 0.9745\n",
      "Epoch 3/3\n",
      "60000/60000 [==============================] - 6s 97us/sample - loss: 0.0614 - accuracy: 0.9816 - val_loss: 0.0736 - val_accuracy: 0.9775\n",
      "\n",
      "Forming the grid-search model #18 using: optimizer=<tensorflow.python.keras.optimizer_v2.gradient_descent.SGD object at 0x7fb0b0484e10>, kernel=<tensorflow.python.ops.init_ops_v2.RandomNormal object at 0x7fb0b0413550>, epochs=3, batch_size=32\n",
      "Train on 60000 samples, validate on 10000 samples\n",
      "Epoch 1/3\n",
      "60000/60000 [==============================] - 11s 190us/sample - loss: 0.5737 - accuracy: 0.8571 - val_loss: 0.3283 - val_accuracy: 0.9132\n",
      "Epoch 2/3\n",
      "60000/60000 [==============================] - 11s 176us/sample - loss: 0.3106 - accuracy: 0.9142 - val_loss: 0.2704 - val_accuracy: 0.9244\n",
      "Epoch 3/3\n",
      "60000/60000 [==============================] - 11s 177us/sample - loss: 0.2643 - accuracy: 0.9262 - val_loss: 0.2416 - val_accuracy: 0.9332\n",
      "\n",
      "Forming the grid-search model #19 using: optimizer=<tensorflow.python.keras.optimizer_v2.gradient_descent.SGD object at 0x7fb0b0484e10>, kernel=<tensorflow.python.ops.init_ops_v2.RandomNormal object at 0x7fb0b0413550>, epochs=3, batch_size=64\n",
      "Train on 60000 samples, validate on 10000 samples\n",
      "Epoch 1/3\n",
      "60000/60000 [==============================] - 7s 121us/sample - loss: 0.7602 - accuracy: 0.8207 - val_loss: 0.4111 - val_accuracy: 0.8966\n",
      "Epoch 2/3\n",
      "60000/60000 [==============================] - 7s 109us/sample - loss: 0.3810 - accuracy: 0.8980 - val_loss: 0.3273 - val_accuracy: 0.9118\n",
      "Epoch 3/3\n",
      "60000/60000 [==============================] - 7s 111us/sample - loss: 0.3235 - accuracy: 0.9118 - val_loss: 0.2937 - val_accuracy: 0.9200\n",
      "\n",
      "Forming the grid-search model #20 using: optimizer=<tensorflow.python.keras.optimizer_v2.gradient_descent.SGD object at 0x7fb0b0484e10>, kernel=<tensorflow.python.ops.init_ops_v2.RandomNormal object at 0x7fb0b0413550>, epochs=3, batch_size=128\n",
      "Train on 60000 samples, validate on 10000 samples\n",
      "Epoch 1/3\n",
      "60000/60000 [==============================] - 5s 83us/sample - loss: 1.0252 - accuracy: 0.7648 - val_loss: 0.5554 - val_accuracy: 0.8771\n",
      "Epoch 2/3\n",
      "60000/60000 [==============================] - 5s 75us/sample - loss: 0.4914 - accuracy: 0.8786 - val_loss: 0.4106 - val_accuracy: 0.8953\n",
      "Epoch 3/3\n",
      "60000/60000 [==============================] - 4s 74us/sample - loss: 0.4007 - accuracy: 0.8942 - val_loss: 0.3579 - val_accuracy: 0.9062\n",
      "\n",
      "Forming the grid-search model #21 using: optimizer=<tensorflow.python.keras.optimizer_v2.gradient_descent.SGD object at 0x7fb0b0484e10>, kernel=<tensorflow.python.ops.init_ops_v2.Orthogonal object at 0x7fb0b04137d0>, epochs=3, batch_size=32\n",
      "Train on 60000 samples, validate on 10000 samples\n",
      "Epoch 1/3\n",
      "60000/60000 [==============================] - 11s 186us/sample - loss: 0.6503 - accuracy: 0.8521 - val_loss: 0.3530 - val_accuracy: 0.9063\n",
      "Epoch 2/3\n",
      "60000/60000 [==============================] - 11s 177us/sample - loss: 0.3334 - accuracy: 0.9071 - val_loss: 0.2903 - val_accuracy: 0.9196\n",
      "Epoch 3/3\n",
      "60000/60000 [==============================] - 11s 180us/sample - loss: 0.2851 - accuracy: 0.9199 - val_loss: 0.2601 - val_accuracy: 0.9277\n",
      "\n",
      "Forming the grid-search model #22 using: optimizer=<tensorflow.python.keras.optimizer_v2.gradient_descent.SGD object at 0x7fb0b0484e10>, kernel=<tensorflow.python.ops.init_ops_v2.Orthogonal object at 0x7fb0b04137d0>, epochs=3, batch_size=64\n",
      "Train on 60000 samples, validate on 10000 samples\n",
      "Epoch 1/3\n",
      "60000/60000 [==============================] - 7s 121us/sample - loss: 0.8818 - accuracy: 0.8154 - val_loss: 0.4553 - val_accuracy: 0.8896\n",
      "Epoch 2/3\n",
      "60000/60000 [==============================] - 7s 110us/sample - loss: 0.4137 - accuracy: 0.8913 - val_loss: 0.3527 - val_accuracy: 0.9048\n",
      "Epoch 3/3\n",
      "60000/60000 [==============================] - 7s 110us/sample - loss: 0.3476 - accuracy: 0.9044 - val_loss: 0.3147 - val_accuracy: 0.9137\n",
      "\n",
      "Forming the grid-search model #23 using: optimizer=<tensorflow.python.keras.optimizer_v2.gradient_descent.SGD object at 0x7fb0b0484e10>, kernel=<tensorflow.python.ops.init_ops_v2.Orthogonal object at 0x7fb0b04137d0>, epochs=3, batch_size=128\n",
      "Train on 60000 samples, validate on 10000 samples\n",
      "Epoch 1/3\n",
      "60000/60000 [==============================] - 5s 83us/sample - loss: 1.2038 - accuracy: 0.7632 - val_loss: 0.6548 - val_accuracy: 0.8661\n",
      "Epoch 2/3\n",
      "60000/60000 [==============================] - 4s 74us/sample - loss: 0.5565 - accuracy: 0.8699 - val_loss: 0.4551 - val_accuracy: 0.8880\n",
      "Epoch 3/3\n",
      "60000/60000 [==============================] - 4s 74us/sample - loss: 0.4380 - accuracy: 0.8874 - val_loss: 0.3882 - val_accuracy: 0.8993\n",
      "\n",
      "Forming the grid-search model #24 using: optimizer=<tensorflow.python.keras.optimizer_v2.gradient_descent.SGD object at 0x7fb0b0484e10>, kernel=<tensorflow.python.ops.init_ops_v2.GlorotNormal object at 0x7fb0b0463ad0>, epochs=3, batch_size=32\n",
      "Train on 60000 samples, validate on 10000 samples\n",
      "Epoch 1/3\n",
      "60000/60000 [==============================] - 11s 191us/sample - loss: 0.5998 - accuracy: 0.8577 - val_loss: 0.3396 - val_accuracy: 0.9108\n",
      "Epoch 2/3\n",
      "60000/60000 [==============================] - 11s 178us/sample - loss: 0.3198 - accuracy: 0.9111 - val_loss: 0.2799 - val_accuracy: 0.9216\n",
      "Epoch 3/3\n",
      "60000/60000 [==============================] - 11s 179us/sample - loss: 0.2725 - accuracy: 0.9240 - val_loss: 0.2503 - val_accuracy: 0.9316\n",
      "\n",
      "Forming the grid-search model #25 using: optimizer=<tensorflow.python.keras.optimizer_v2.gradient_descent.SGD object at 0x7fb0b0484e10>, kernel=<tensorflow.python.ops.init_ops_v2.GlorotNormal object at 0x7fb0b0463ad0>, epochs=3, batch_size=64\n",
      "Train on 60000 samples, validate on 10000 samples\n",
      "Epoch 1/3\n",
      "60000/60000 [==============================] - 7s 121us/sample - loss: 0.8003 - accuracy: 0.8243 - val_loss: 0.4286 - val_accuracy: 0.8948\n",
      "Epoch 2/3\n",
      "60000/60000 [==============================] - 7s 110us/sample - loss: 0.3936 - accuracy: 0.8961 - val_loss: 0.3392 - val_accuracy: 0.9075\n",
      "Epoch 3/3\n",
      "60000/60000 [==============================] - 7s 110us/sample - loss: 0.3332 - accuracy: 0.9089 - val_loss: 0.3038 - val_accuracy: 0.9163\n",
      "\n",
      "Forming the grid-search model #26 using: optimizer=<tensorflow.python.keras.optimizer_v2.gradient_descent.SGD object at 0x7fb0b0484e10>, kernel=<tensorflow.python.ops.init_ops_v2.GlorotNormal object at 0x7fb0b0463ad0>, epochs=3, batch_size=128\n",
      "Train on 60000 samples, validate on 10000 samples\n",
      "Epoch 1/3\n",
      "60000/60000 [==============================] - 5s 83us/sample - loss: 1.0832 - accuracy: 0.7740 - val_loss: 0.5899 - val_accuracy: 0.8743\n",
      "Epoch 2/3\n",
      "60000/60000 [==============================] - 4s 74us/sample - loss: 0.5140 - accuracy: 0.8768 - val_loss: 0.4285 - val_accuracy: 0.8932\n",
      "Epoch 3/3\n",
      "60000/60000 [==============================] - 4s 75us/sample - loss: 0.4148 - accuracy: 0.8921 - val_loss: 0.3712 - val_accuracy: 0.9024\n",
      "\n",
      "Best score (highest validation accuracy) found via grid search: accuracy=0.981700 from model iteration #8\n",
      "The best modeling parameters are: optimizer=<tensorflow.python.keras.optimizer_v2.adam.Adam object at 0x7fb0b0484290>, kernel=<tensorflow.python.ops.init_ops_v2.GlorotNormal object at 0x7fb0b0463ad0>, epochs=3, batch_size=128\n",
      "Total time for performing grid-search of the best parameters: 0:12:09.796570\n"
     ]
    }
   ],
   "source": [
    "startTimeModule = datetime.now()\n",
    "\n",
    "# Set up grid search using different epochs, batch sizes, and optimizers\n",
    "optz_1 = tf.optimizers.Adam(learning_rate=0.001)\n",
    "optz_2 = tf.optimizers.RMSprop(learning_rate=0.001)\n",
    "optz_3 = tf.optimizers.SGD(learning_rate=0.01)\n",
    "optimizer_grid = [optz_1, optz_2, optz_3]\n",
    "print('Optimizer candidate #1 has the object ID of', optz_1)\n",
    "print('Optimizer candidate #2 has the object ID of', optz_2)\n",
    "print('Optimizer candidate #3 has the object ID of', optz_3)\n",
    "\n",
    "init_1 = tf.initializers.RandomNormal(seed=seedNum)\n",
    "init_2 = tf.initializers.Orthogonal(seed=seedNum)\n",
    "init_3 = tf.initializers.GlorotNormal(seed=seedNum)\n",
    "init_grid = [init_1, init_2, init_3]\n",
    "print('Initializer candidate #1 has the object ID of', init_1)\n",
    "print('Initializer candidate #2 has the object ID of', init_2)\n",
    "print('Initializer candidate #2 has the object ID of', init_3)\n",
    "\n",
    "epoch_grid = [3]\n",
    "batch_grid = [32, 64, 128]\n",
    "\n",
    "best_score = 0\n",
    "grid_iteration = 0\n",
    "best_iteration = 0\n",
    "best_optimizer = default_optimizer\n",
    "best_kernel_init = default_kernel_init\n",
    "best_epoch = default_epoch\n",
    "best_batch = default_batch\n",
    "\n",
    "for optimizer in optimizer_grid:\n",
    "    for kernel_init in init_grid:\n",
    "        for epoch_num in epoch_grid:\n",
    "            for batch_num in batch_grid:\n",
    "                print('\\nForming the grid-search model #%d using: optimizer=%s, kernel=%s, epochs=%d, batch_size=%d'\n",
    "                      % (grid_iteration, optimizer, kernel_init, epoch_num, batch_num))\n",
    "                reset_random(seedNum)\n",
    "                grid_model = create_customized_model(optimizer, kernel_init)\n",
    "                grid_hist = grid_model.fit(X_train, y_train, epochs=epoch_num, batch_size=batch_num, \n",
    "                                       validation_data=(X_test, y_test), verbose=1)\n",
    "                if(grid_hist.history['val_accuracy'][-1] > best_score):\n",
    "                    best_score = grid_hist.history['val_accuracy'][-1]\n",
    "                    best_iteration = grid_iteration\n",
    "                    best_optimizer = optimizer\n",
    "                    best_kernel_init = kernel_init\n",
    "                    best_epoch = epoch_num\n",
    "                    best_batch = batch_num\n",
    "                grid_iteration = grid_iteration + 1\n",
    "\n",
    "# summarize results\n",
    "print(\"\\nBest score (highest validation accuracy) found via grid search: accuracy=%f from model iteration #%d\"\n",
    "      % (best_score, best_iteration))\n",
    "print('The best modeling parameters are: optimizer=%s, kernel=%s, epochs=%d, batch_size=%d'\n",
    "      % (best_optimizer, best_kernel_init, best_epoch, best_batch))\n",
    "print('Total time for performing grid-search of the best parameters:', (datetime.now() - startTimeModule))"
   ]
  },
  {
   "cell_type": "code",
   "execution_count": 29,
   "metadata": {},
   "outputs": [],
   "source": [
    "if (notifyStatus): email_notify(\"Phase 4 Optimize Model completed! \"+datetime.now().strftime('%a %B %d, %Y %I:%M:%S %p'))"
   ]
  },
  {
   "cell_type": "markdown",
   "metadata": {},
   "source": [
    "# Section 5. Finalize Model"
   ]
  },
  {
   "cell_type": "code",
   "execution_count": 30,
   "metadata": {},
   "outputs": [],
   "source": [
    "if (notifyStatus): email_notify(\"Phase 5 Finalize Model has begun! \"+datetime.now().strftime('%a %B %d, %Y %I:%M:%S %p'))"
   ]
  },
  {
   "cell_type": "code",
   "execution_count": 31,
   "metadata": {},
   "outputs": [
    {
     "name": "stdout",
     "output_type": "stream",
     "text": [
      "Forming the final model using: optimizer=<tensorflow.python.keras.optimizer_v2.adam.Adam object at 0x7fb0b0484290>, kernel=<tensorflow.python.ops.init_ops_v2.GlorotNormal object at 0x7fb0b0463ad0>, epochs=3, batch_size=128\n",
      "Train on 60000 samples\n",
      "Epoch 1/3\n",
      "60000/60000 [==============================] - 5s 87us/sample - loss: 0.1801 - accuracy: 0.9447\n",
      "Epoch 2/3\n",
      "60000/60000 [==============================] - 4s 74us/sample - loss: 0.0648 - accuracy: 0.9807\n",
      "Epoch 3/3\n",
      "60000/60000 [==============================] - 4s 71us/sample - loss: 0.0401 - accuracy: 0.9882\n",
      "Total time for training the final model: 0:00:14.309934\n"
     ]
    }
   ],
   "source": [
    "# Create the final model for evaluating the test dataset\n",
    "startTimeModule = datetime.now()\n",
    "print('Forming the final model using: optimizer=%s, kernel=%s, epochs=%d, batch_size=%d'\n",
    "      % (best_optimizer, best_kernel_init, best_epoch, best_batch))\n",
    "reset_random(seedNum)\n",
    "final_model = create_customized_model(best_optimizer, best_kernel_init)\n",
    "final_hist = final_model.fit(X_train, y_train, epochs=best_epoch, batch_size=best_batch, verbose=1)\n",
    "print('Total time for training the final model:', (datetime.now() - startTimeModule))"
   ]
  },
  {
   "cell_type": "code",
   "execution_count": 32,
   "metadata": {},
   "outputs": [
    {
     "name": "stdout",
     "output_type": "stream",
     "text": [
      "Model: \"sequential_28\"\n",
      "_________________________________________________________________\n",
      "Layer (type)                 Output Shape              Param #   \n",
      "=================================================================\n",
      "flatten_28 (Flatten)         (None, 784)               0         \n",
      "_________________________________________________________________\n",
      "dense_56 (Dense)             (None, 784)               615440    \n",
      "_________________________________________________________________\n",
      "dense_57 (Dense)             (None, 10)                7850      \n",
      "=================================================================\n",
      "Total params: 623,290\n",
      "Trainable params: 623,290\n",
      "Non-trainable params: 0\n",
      "_________________________________________________________________\n",
      "None\n"
     ]
    }
   ],
   "source": [
    "# Display a summary of the final model\n",
    "print(final_model.summary())"
   ]
  },
  {
   "cell_type": "code",
   "execution_count": 33,
   "metadata": {},
   "outputs": [
    {
     "name": "stdout",
     "output_type": "stream",
     "text": [
      "{'name': 'sequential_28', 'layers': [{'class_name': 'Flatten', 'config': {'name': 'flatten_28', 'trainable': True, 'batch_input_shape': (None, 28, 28), 'dtype': 'float32', 'data_format': 'channels_last'}}, {'class_name': 'Dense', 'config': {'name': 'dense_56', 'trainable': True, 'dtype': 'float32', 'units': 784, 'activation': 'relu', 'use_bias': True, 'kernel_initializer': {'class_name': 'GlorotNormal', 'config': {'seed': 888}}, 'bias_initializer': {'class_name': 'Zeros', 'config': {}}, 'kernel_regularizer': None, 'bias_regularizer': None, 'activity_regularizer': None, 'kernel_constraint': None, 'bias_constraint': None}}, {'class_name': 'Dense', 'config': {'name': 'dense_57', 'trainable': True, 'dtype': 'float32', 'units': 10, 'activation': 'softmax', 'use_bias': True, 'kernel_initializer': {'class_name': 'GlorotNormal', 'config': {'seed': 888}}, 'bias_initializer': {'class_name': 'Zeros', 'config': {}}, 'kernel_regularizer': None, 'bias_regularizer': None, 'activity_regularizer': None, 'kernel_constraint': None, 'bias_constraint': None}}]}\n"
     ]
    }
   ],
   "source": [
    "# Display the configuration of the final model\n",
    "print(final_model.get_config())"
   ]
  },
  {
   "cell_type": "code",
   "execution_count": 34,
   "metadata": {},
   "outputs": [
    {
     "data": {
      "image/png": "[encoded data removed]",
      "text/plain": [
       "<Figure size 864x864 with 2 Axes>"
      ]
     },
     "metadata": {
      "needs_background": "light"
     },
     "output_type": "display_data"
    }
   ],
   "source": [
    "# Summarize model training hisotry for accuracy and loss\n",
    "fig, axs = plt.subplots(2, 1, figsize=(12,12))\n",
    "plt.subplot(211)\n",
    "plt.plot(final_hist.history['accuracy'], color='blue')\n",
    "plt.title('Final Model Training Performance (Accuracy)')\n",
    "plt.ylabel('Accuracy')\n",
    "plt.xlabel('Epoch')\n",
    "plt.subplot(212)\n",
    "plt.plot(final_hist.history['loss'], color='red')\n",
    "plt.title('Final Model Training Performance (Loss)')\n",
    "plt.ylabel('Loss')\n",
    "plt.xlabel('Epoch')\n",
    "plt.show()"
   ]
  },
  {
   "cell_type": "code",
   "execution_count": 35,
   "metadata": {},
   "outputs": [
    {
     "name": "stdout",
     "output_type": "stream",
     "text": [
      "The model accuracy: 98.170000%\n",
      "The model loss: 0.060297\n"
     ]
    }
   ],
   "source": [
    "# Evaluate the Keras model on previously unseen data\n",
    "scores = final_model.evaluate(X_test, y_test, verbose=0)\n",
    "print(\"The model %s: %f%%\" % (final_model.metrics_names[1], scores[1]*100))\n",
    "print(\"The model %s: %f\" % (final_model.metrics_names[0], scores[0]))"
   ]
  },
  {
   "cell_type": "code",
   "execution_count": 36,
   "metadata": {},
   "outputs": [
    {
     "name": "stdout",
     "output_type": "stream",
     "text": [
      "Data item #0 predicted to be [7] (expected [7])\n",
      "Data item #1 predicted to be [2] (expected [2])\n",
      "Data item #2 predicted to be [1] (expected [1])\n",
      "Data item #3 predicted to be [0] (expected [0])\n",
      "Data item #4 predicted to be [4] (expected [4])\n",
      "Data item #5 predicted to be [1] (expected [1])\n",
      "Data item #6 predicted to be [4] (expected [4])\n",
      "Data item #7 predicted to be [9] (expected [9])\n",
      "Data item #8 predicted to be [6] (expected [5])\n",
      "Data item #9 predicted to be [9] (expected [9])\n",
      "Data item #10 predicted to be [0] (expected [0])\n",
      "Data item #11 predicted to be [6] (expected [6])\n",
      "Data item #12 predicted to be [9] (expected [9])\n",
      "Data item #13 predicted to be [0] (expected [0])\n",
      "Data item #14 predicted to be [1] (expected [1])\n",
      "Data item #15 predicted to be [5] (expected [5])\n",
      "Data item #16 predicted to be [9] (expected [9])\n",
      "Data item #17 predicted to be [7] (expected [7])\n",
      "Data item #18 predicted to be [3] (expected [3])\n",
      "Data item #19 predicted to be [4] (expected [4])\n"
     ]
    }
   ],
   "source": [
    "# Make class predictions with the model\n",
    "predictions = final_model.predict_classes(X_test)\n",
    "\n",
    "# Summarize the first 20 cases\n",
    "for i in range(20):\n",
    "\tprint('Data item #%d predicted to be %s (expected %s)' % (i, encoder.inverse_transform([predictions[i]]), encoder.inverse_transform([np.argmax(y_test[i])])))"
   ]
  },
  {
   "cell_type": "code",
   "execution_count": 37,
   "metadata": {},
   "outputs": [],
   "source": [
    "if (notifyStatus): email_notify(\"Phase 5 Finalize Model completed! \"+datetime.now().strftime('%a %B %d, %Y %I:%M:%S %p'))"
   ]
  },
  {
   "cell_type": "code",
   "execution_count": 38,
   "metadata": {},
   "outputs": [
    {
     "name": "stdout",
     "output_type": "stream",
     "text": [
      "Total time for the script: 0:13:33.083290\n"
     ]
    }
   ],
   "source": [
    "print ('Total time for the script:',(datetime.now() - startTimeScript))"
   ]
  }
 ],
 "metadata": {
  "kernelspec": {
   "display_name": "Python 3",
   "language": "python",
   "name": "python3"
  },
  "language_info": {
   "codemirror_mode": {
    "name": "ipython",
    "version": 3
   },
   "file_extension": ".py",
   "mimetype": "text/x-python",
   "name": "python",
   "nbconvert_exporter": "python",
   "pygments_lexer": "ipython3",
   "version": "3.7.5"
  }
 },
 "nbformat": 4,
 "nbformat_minor": 4
}
