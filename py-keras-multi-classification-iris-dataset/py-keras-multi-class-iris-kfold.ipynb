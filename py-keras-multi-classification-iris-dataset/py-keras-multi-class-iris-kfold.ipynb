{
 "cells": [
  {
   "cell_type": "markdown",
   "metadata": {
    "colab_type": "text",
    "id": "eJ2xTLgBIuLe"
   },
   "source": [
    "# Multi-Class Deep Learning Model for the Iris Dataset Using Keras\n",
    "### David Lowe\n",
    "### October 11, 2019\n",
    "Template Credit: Adapted from a template made available by Dr. Jason Brownlee of Machine Learning Mastery. [https://machinelearningmastery.com/]\n",
    "\n",
    "SUMMARY: The purpose of this project is to construct a predictive model using various machine learning algorithms and to document the end-to-end steps using a template. The Iris dataset is a multi-class classification situation where we are trying to predict one of several (more than two) possible outcomes.\n",
    "\n",
    "INTRODUCTION: This is perhaps the best known database to be found in the pattern recognition literature. Fisher's paper is a classic in the field and is referenced frequently to this day. (See Duda & Hart, for example.) The data set contains three classes of 50 instances each, where each class refers to a type of iris plant. One class is linearly separable from the other two; the latter are NOT linearly separable from each other.\n",
    "\n",
    "ANALYSIS: The baseline performance of the model achieved an average accuracy score of 96.67%, which was consistent with other classical machine learning algorithms.\n",
    "\n",
    "CONCLUSION: For this dataset, the model built using Keras and TensorFlow achieved a satisfactory result and should be considered for future modeling activities\n",
    "\n",
    "Dataset Used: Iris Data Set\n",
    "\n",
    "Dataset ML Model: Multi-class classification with numerical attributes\n",
    "\n",
    "Dataset Reference: https://archive.ics.uci.edu/ml/machine-learning-databases/iris/\n",
    "\n",
    "One potential source of performance benchmarks: https://machinelearningmastery.com/multi-class-classification-tutorial-keras-deep-learning-library/\n",
    "\n",
    "Any deep-learning modeling project genrally can be broken down into about five major tasks:\n",
    "0. Prepare Environment\n",
    "1. Load Data\n",
    "2. Define Model\n",
    "3. Fit and Evaluate Model\n",
    "4. Finalize Model"
   ]
  },
  {
   "cell_type": "markdown",
   "metadata": {
    "colab_type": "text",
    "id": "EqF7WxlHHPKr"
   },
   "source": [
    "# Section 0. Prepare Environment"
   ]
  },
  {
   "cell_type": "code",
   "execution_count": 1,
   "metadata": {},
   "outputs": [],
   "source": [
    "# Create the random seed numbers for reproducible results\n",
    "seedNum = 88"
   ]
  },
  {
   "cell_type": "code",
   "execution_count": 2,
   "metadata": {
    "colab": {
     "base_uri": "https://localhost:8080/",
     "height": 35
    },
    "colab_type": "code",
    "id": "X_BXx9P4HJGn",
    "outputId": "b19fcb52-1d53-4f4c-cd33-9298e58bcc5e"
   },
   "outputs": [],
   "source": [
    "# Load libraries and packages\n",
    "import random\n",
    "random.seed(seedNum)\n",
    "import numpy as np\n",
    "np.random.seed(seedNum)\n",
    "import pandas as pd\n",
    "import os\n",
    "import smtplib\n",
    "from datetime import datetime\n",
    "from email.message import EmailMessage\n",
    "from sklearn.model_selection import train_test_split\n",
    "from sklearn.model_selection import KFold\n",
    "from sklearn.model_selection import cross_val_score\n",
    "from sklearn.preprocessing import LabelEncoder"
   ]
  },
  {
   "cell_type": "code",
   "execution_count": 3,
   "metadata": {},
   "outputs": [
    {
     "name": "stderr",
     "output_type": "stream",
     "text": [
      "Using TensorFlow backend.\n"
     ]
    }
   ],
   "source": [
    "# Configure a new global `tensorflow` session\n",
    "import keras as K\n",
    "from keras.layers import Dense\n",
    "from keras.wrappers.scikit_learn import KerasClassifier\n",
    "from keras.utils import np_utils\n",
    "import tensorflow as tf\n",
    "tf.set_random_seed(seedNum)\n",
    "session_conf = tf.ConfigProto(intra_op_parallelism_threads=1, inter_op_parallelism_threads=1)\n",
    "sess = tf.Session(graph=tf.get_default_graph(), config=session_conf)\n",
    "K.backend.set_session(sess)"
   ]
  },
  {
   "cell_type": "code",
   "execution_count": 4,
   "metadata": {
    "colab": {},
    "colab_type": "code",
    "id": "YbIqw1TBR0P2"
   },
   "outputs": [],
   "source": [
    "# Begin the timer for the script processing\n",
    "startTimeScript = datetime.now()\n",
    "\n",
    "# Set up the flag to stop sending progress emails (setting to True will send status emails!)\n",
    "notifyStatus = False\n",
    "\n",
    "# Set the flag for splitting the dataset\n",
    "splitDataset = False\n",
    "splitPercentage = 0.25\n",
    "\n",
    "# Set various default Keras modeling parameters\n",
    "kernel_init = K.initializers.glorot_uniform(seed=seedNum)\n",
    "loss = 'categorical_crossentropy'\n",
    "optimizer = 'adam'\n",
    "metrics = ['accuracy']\n",
    "epochs = 200\n",
    "batches = 5\n",
    "\n",
    "# Set the number of folds for cross validation\n",
    "folds = 10"
   ]
  },
  {
   "cell_type": "code",
   "execution_count": 5,
   "metadata": {
    "colab": {},
    "colab_type": "code",
    "id": "Un3ZnxByRhDV"
   },
   "outputs": [],
   "source": [
    "# Set up the email notification function\n",
    "def email_notify(msg_text):\n",
    "    sender = os.environ.get('MAIL_SENDER')\n",
    "    receiver = os.environ.get('MAIL_RECEIVER')\n",
    "    gateway = os.environ.get('SMTP_GATEWAY')\n",
    "    smtpuser = os.environ.get('SMTP_USERNAME')\n",
    "    password = os.environ.get('SMTP_PASSWORD')\n",
    "    if sender==None or receiver==None or gateway==None or smtpuser==None or password==None:\n",
    "        sys.exit(\"Incomplete email setup info. Script Processing Aborted!!!\")\n",
    "    msg = EmailMessage()\n",
    "    msg.set_content(msg_text)\n",
    "    msg['Subject'] = 'Notification from Keras Binary Classification Script'\n",
    "    msg['From'] = sender\n",
    "    msg['To'] = receiver\n",
    "    server = smtplib.SMTP(gateway, 587)\n",
    "    server.starttls()\n",
    "    server.login(smtpuser, password)\n",
    "    server.send_message(msg)\n",
    "    server.quit()"
   ]
  },
  {
   "cell_type": "code",
   "execution_count": 6,
   "metadata": {
    "colab": {},
    "colab_type": "code",
    "id": "ehVMNSM6VnRE"
   },
   "outputs": [],
   "source": [
    "if (notifyStatus): email_notify(\"Phase 0 Prepare Environment completed! \"+datetime.now().strftime('%a %B %d, %Y %I:%M:%S %p'))"
   ]
  },
  {
   "cell_type": "markdown",
   "metadata": {
    "colab_type": "text",
    "id": "Hb0U0RL8Hdhy"
   },
   "source": [
    "# Section 1. Load Data"
   ]
  },
  {
   "cell_type": "code",
   "execution_count": 7,
   "metadata": {
    "colab": {},
    "colab_type": "code",
    "id": "L5G5M20LSG9i"
   },
   "outputs": [],
   "source": [
    "if (notifyStatus): email_notify(\"Phase 1 Load Data has begun! \"+datetime.now().strftime('%a %B %d, %Y %I:%M:%S %p'))"
   ]
  },
  {
   "cell_type": "code",
   "execution_count": 8,
   "metadata": {
    "colab": {
     "base_uri": "https://localhost:8080/",
     "height": 146
    },
    "colab_type": "code",
    "id": "F27fJh8CAWb6",
    "outputId": "772d7d84-0f99-4fe9-8a84-becd51b3919e"
   },
   "outputs": [
    {
     "name": "stdout",
     "output_type": "stream",
     "text": [
      "[[5.1 3.5 1.4 0.2 'Iris-setosa']\n",
      " [4.9 3.0 1.4 0.2 'Iris-setosa']\n",
      " [4.7 3.2 1.3 0.2 'Iris-setosa']\n",
      " [4.6 3.1 1.5 0.2 'Iris-setosa']\n",
      " [5.0 3.6 1.4 0.2 'Iris-setosa']\n",
      " [5.4 3.9 1.7 0.4 'Iris-setosa']\n",
      " [4.6 3.4 1.4 0.3 'Iris-setosa']\n",
      " [5.0 3.4 1.5 0.2 'Iris-setosa']\n",
      " [4.4 2.9 1.4 0.2 'Iris-setosa']\n",
      " [4.9 3.1 1.5 0.1 'Iris-setosa']\n",
      " [5.4 3.7 1.5 0.2 'Iris-setosa']\n",
      " [4.8 3.4 1.6 0.2 'Iris-setosa']\n",
      " [4.8 3.0 1.4 0.1 'Iris-setosa']\n",
      " [4.3 3.0 1.1 0.1 'Iris-setosa']\n",
      " [5.8 4.0 1.2 0.2 'Iris-setosa']\n",
      " [5.7 4.4 1.5 0.4 'Iris-setosa']\n",
      " [5.4 3.9 1.3 0.4 'Iris-setosa']\n",
      " [5.1 3.5 1.4 0.3 'Iris-setosa']\n",
      " [5.7 3.8 1.7 0.3 'Iris-setosa']\n",
      " [5.1 3.8 1.5 0.3 'Iris-setosa']\n",
      " [5.4 3.4 1.7 0.2 'Iris-setosa']\n",
      " [5.1 3.7 1.5 0.4 'Iris-setosa']\n",
      " [4.6 3.6 1.0 0.2 'Iris-setosa']\n",
      " [5.1 3.3 1.7 0.5 'Iris-setosa']\n",
      " [4.8 3.4 1.9 0.2 'Iris-setosa']\n",
      " [5.0 3.0 1.6 0.2 'Iris-setosa']\n",
      " [5.0 3.4 1.6 0.4 'Iris-setosa']\n",
      " [5.2 3.5 1.5 0.2 'Iris-setosa']\n",
      " [5.2 3.4 1.4 0.2 'Iris-setosa']\n",
      " [4.7 3.2 1.6 0.2 'Iris-setosa']\n",
      " [4.8 3.1 1.6 0.2 'Iris-setosa']\n",
      " [5.4 3.4 1.5 0.4 'Iris-setosa']\n",
      " [5.2 4.1 1.5 0.1 'Iris-setosa']\n",
      " [5.5 4.2 1.4 0.2 'Iris-setosa']\n",
      " [4.9 3.1 1.5 0.1 'Iris-setosa']\n",
      " [5.0 3.2 1.2 0.2 'Iris-setosa']\n",
      " [5.5 3.5 1.3 0.2 'Iris-setosa']\n",
      " [4.9 3.1 1.5 0.1 'Iris-setosa']\n",
      " [4.4 3.0 1.3 0.2 'Iris-setosa']\n",
      " [5.1 3.4 1.5 0.2 'Iris-setosa']\n",
      " [5.0 3.5 1.3 0.3 'Iris-setosa']\n",
      " [4.5 2.3 1.3 0.3 'Iris-setosa']\n",
      " [4.4 3.2 1.3 0.2 'Iris-setosa']\n",
      " [5.0 3.5 1.6 0.6 'Iris-setosa']\n",
      " [5.1 3.8 1.9 0.4 'Iris-setosa']\n",
      " [4.8 3.0 1.4 0.3 'Iris-setosa']\n",
      " [5.1 3.8 1.6 0.2 'Iris-setosa']\n",
      " [4.6 3.2 1.4 0.2 'Iris-setosa']\n",
      " [5.3 3.7 1.5 0.2 'Iris-setosa']\n",
      " [5.0 3.3 1.4 0.2 'Iris-setosa']\n",
      " [7.0 3.2 4.7 1.4 'Iris-versicolor']\n",
      " [6.4 3.2 4.5 1.5 'Iris-versicolor']\n",
      " [6.9 3.1 4.9 1.5 'Iris-versicolor']\n",
      " [5.5 2.3 4.0 1.3 'Iris-versicolor']\n",
      " [6.5 2.8 4.6 1.5 'Iris-versicolor']\n",
      " [5.7 2.8 4.5 1.3 'Iris-versicolor']\n",
      " [6.3 3.3 4.7 1.6 'Iris-versicolor']\n",
      " [4.9 2.4 3.3 1.0 'Iris-versicolor']\n",
      " [6.6 2.9 4.6 1.3 'Iris-versicolor']\n",
      " [5.2 2.7 3.9 1.4 'Iris-versicolor']\n",
      " [5.0 2.0 3.5 1.0 'Iris-versicolor']\n",
      " [5.9 3.0 4.2 1.5 'Iris-versicolor']\n",
      " [6.0 2.2 4.0 1.0 'Iris-versicolor']\n",
      " [6.1 2.9 4.7 1.4 'Iris-versicolor']\n",
      " [5.6 2.9 3.6 1.3 'Iris-versicolor']\n",
      " [6.7 3.1 4.4 1.4 'Iris-versicolor']\n",
      " [5.6 3.0 4.5 1.5 'Iris-versicolor']\n",
      " [5.8 2.7 4.1 1.0 'Iris-versicolor']\n",
      " [6.2 2.2 4.5 1.5 'Iris-versicolor']\n",
      " [5.6 2.5 3.9 1.1 'Iris-versicolor']\n",
      " [5.9 3.2 4.8 1.8 'Iris-versicolor']\n",
      " [6.1 2.8 4.0 1.3 'Iris-versicolor']\n",
      " [6.3 2.5 4.9 1.5 'Iris-versicolor']\n",
      " [6.1 2.8 4.7 1.2 'Iris-versicolor']\n",
      " [6.4 2.9 4.3 1.3 'Iris-versicolor']\n",
      " [6.6 3.0 4.4 1.4 'Iris-versicolor']\n",
      " [6.8 2.8 4.8 1.4 'Iris-versicolor']\n",
      " [6.7 3.0 5.0 1.7 'Iris-versicolor']\n",
      " [6.0 2.9 4.5 1.5 'Iris-versicolor']\n",
      " [5.7 2.6 3.5 1.0 'Iris-versicolor']\n",
      " [5.5 2.4 3.8 1.1 'Iris-versicolor']\n",
      " [5.5 2.4 3.7 1.0 'Iris-versicolor']\n",
      " [5.8 2.7 3.9 1.2 'Iris-versicolor']\n",
      " [6.0 2.7 5.1 1.6 'Iris-versicolor']\n",
      " [5.4 3.0 4.5 1.5 'Iris-versicolor']\n",
      " [6.0 3.4 4.5 1.6 'Iris-versicolor']\n",
      " [6.7 3.1 4.7 1.5 'Iris-versicolor']\n",
      " [6.3 2.3 4.4 1.3 'Iris-versicolor']\n",
      " [5.6 3.0 4.1 1.3 'Iris-versicolor']\n",
      " [5.5 2.5 4.0 1.3 'Iris-versicolor']\n",
      " [5.5 2.6 4.4 1.2 'Iris-versicolor']\n",
      " [6.1 3.0 4.6 1.4 'Iris-versicolor']\n",
      " [5.8 2.6 4.0 1.2 'Iris-versicolor']\n",
      " [5.0 2.3 3.3 1.0 'Iris-versicolor']\n",
      " [5.6 2.7 4.2 1.3 'Iris-versicolor']\n",
      " [5.7 3.0 4.2 1.2 'Iris-versicolor']\n",
      " [5.7 2.9 4.2 1.3 'Iris-versicolor']\n",
      " [6.2 2.9 4.3 1.3 'Iris-versicolor']\n",
      " [5.1 2.5 3.0 1.1 'Iris-versicolor']\n",
      " [5.7 2.8 4.1 1.3 'Iris-versicolor']\n",
      " [6.3 3.3 6.0 2.5 'Iris-virginica']\n",
      " [5.8 2.7 5.1 1.9 'Iris-virginica']\n",
      " [7.1 3.0 5.9 2.1 'Iris-virginica']\n",
      " [6.3 2.9 5.6 1.8 'Iris-virginica']\n",
      " [6.5 3.0 5.8 2.2 'Iris-virginica']\n",
      " [7.6 3.0 6.6 2.1 'Iris-virginica']\n",
      " [4.9 2.5 4.5 1.7 'Iris-virginica']\n",
      " [7.3 2.9 6.3 1.8 'Iris-virginica']\n",
      " [6.7 2.5 5.8 1.8 'Iris-virginica']\n",
      " [7.2 3.6 6.1 2.5 'Iris-virginica']\n",
      " [6.5 3.2 5.1 2.0 'Iris-virginica']\n",
      " [6.4 2.7 5.3 1.9 'Iris-virginica']\n",
      " [6.8 3.0 5.5 2.1 'Iris-virginica']\n",
      " [5.7 2.5 5.0 2.0 'Iris-virginica']\n",
      " [5.8 2.8 5.1 2.4 'Iris-virginica']\n",
      " [6.4 3.2 5.3 2.3 'Iris-virginica']\n",
      " [6.5 3.0 5.5 1.8 'Iris-virginica']\n",
      " [7.7 3.8 6.7 2.2 'Iris-virginica']\n",
      " [7.7 2.6 6.9 2.3 'Iris-virginica']\n",
      " [6.0 2.2 5.0 1.5 'Iris-virginica']\n",
      " [6.9 3.2 5.7 2.3 'Iris-virginica']\n",
      " [5.6 2.8 4.9 2.0 'Iris-virginica']\n",
      " [7.7 2.8 6.7 2.0 'Iris-virginica']\n",
      " [6.3 2.7 4.9 1.8 'Iris-virginica']\n",
      " [6.7 3.3 5.7 2.1 'Iris-virginica']\n",
      " [7.2 3.2 6.0 1.8 'Iris-virginica']\n",
      " [6.2 2.8 4.8 1.8 'Iris-virginica']\n",
      " [6.1 3.0 4.9 1.8 'Iris-virginica']\n",
      " [6.4 2.8 5.6 2.1 'Iris-virginica']\n",
      " [7.2 3.0 5.8 1.6 'Iris-virginica']\n",
      " [7.4 2.8 6.1 1.9 'Iris-virginica']\n",
      " [7.9 3.8 6.4 2.0 'Iris-virginica']\n",
      " [6.4 2.8 5.6 2.2 'Iris-virginica']\n",
      " [6.3 2.8 5.1 1.5 'Iris-virginica']\n",
      " [6.1 2.6 5.6 1.4 'Iris-virginica']\n",
      " [7.7 3.0 6.1 2.3 'Iris-virginica']\n",
      " [6.3 3.4 5.6 2.4 'Iris-virginica']\n",
      " [6.4 3.1 5.5 1.8 'Iris-virginica']\n",
      " [6.0 3.0 4.8 1.8 'Iris-virginica']\n",
      " [6.9 3.1 5.4 2.1 'Iris-virginica']\n",
      " [6.7 3.1 5.6 2.4 'Iris-virginica']\n",
      " [6.9 3.1 5.1 2.3 'Iris-virginica']\n",
      " [5.8 2.7 5.1 1.9 'Iris-virginica']\n",
      " [6.8 3.2 5.9 2.3 'Iris-virginica']\n",
      " [6.7 3.3 5.7 2.5 'Iris-virginica']\n",
      " [6.7 3.0 5.2 2.3 'Iris-virginica']\n",
      " [6.3 2.5 5.0 1.9 'Iris-virginica']\n",
      " [6.5 3.0 5.2 2.0 'Iris-virginica']\n",
      " [6.2 3.4 5.4 2.3 'Iris-virginica']\n",
      " [5.9 3.0 5.1 1.8 'Iris-virginica']]\n"
     ]
    }
   ],
   "source": [
    "# Load the dataset\n",
    "df_original = pd.read_csv(\"https://archive.ics.uci.edu/ml/machine-learning-databases/iris/iris.data\", header=None)\n",
    "dataset = df_original.values\n",
    "print(dataset)"
   ]
  },
  {
   "cell_type": "code",
   "execution_count": 9,
   "metadata": {
    "colab": {},
    "colab_type": "code",
    "id": "LKbZhVyPAZfX"
   },
   "outputs": [
    {
     "name": "stdout",
     "output_type": "stream",
     "text": [
      "Shape of X_original: (150, 4) | Shape of y_original: (150,)\n"
     ]
    }
   ],
   "source": [
    "# Split the original dataset into input (X) and output (y) variables\n",
    "X_original = dataset[:,0:4].astype(float)\n",
    "y_original = dataset[:,4]\n",
    "print('Shape of X_original:', X_original.shape, '| Shape of y_original:', y_original.shape)"
   ]
  },
  {
   "cell_type": "code",
   "execution_count": 10,
   "metadata": {},
   "outputs": [
    {
     "name": "stdout",
     "output_type": "stream",
     "text": [
      "[[1. 0. 0.]\n",
      " [1. 0. 0.]\n",
      " [1. 0. 0.]\n",
      " [1. 0. 0.]\n",
      " [1. 0. 0.]\n",
      " [1. 0. 0.]\n",
      " [1. 0. 0.]\n",
      " [1. 0. 0.]\n",
      " [1. 0. 0.]\n",
      " [1. 0. 0.]\n",
      " [1. 0. 0.]\n",
      " [1. 0. 0.]\n",
      " [1. 0. 0.]\n",
      " [1. 0. 0.]\n",
      " [1. 0. 0.]\n",
      " [1. 0. 0.]\n",
      " [1. 0. 0.]\n",
      " [1. 0. 0.]\n",
      " [1. 0. 0.]\n",
      " [1. 0. 0.]\n",
      " [1. 0. 0.]\n",
      " [1. 0. 0.]\n",
      " [1. 0. 0.]\n",
      " [1. 0. 0.]\n",
      " [1. 0. 0.]\n",
      " [1. 0. 0.]\n",
      " [1. 0. 0.]\n",
      " [1. 0. 0.]\n",
      " [1. 0. 0.]\n",
      " [1. 0. 0.]\n",
      " [1. 0. 0.]\n",
      " [1. 0. 0.]\n",
      " [1. 0. 0.]\n",
      " [1. 0. 0.]\n",
      " [1. 0. 0.]\n",
      " [1. 0. 0.]\n",
      " [1. 0. 0.]\n",
      " [1. 0. 0.]\n",
      " [1. 0. 0.]\n",
      " [1. 0. 0.]\n",
      " [1. 0. 0.]\n",
      " [1. 0. 0.]\n",
      " [1. 0. 0.]\n",
      " [1. 0. 0.]\n",
      " [1. 0. 0.]\n",
      " [1. 0. 0.]\n",
      " [1. 0. 0.]\n",
      " [1. 0. 0.]\n",
      " [1. 0. 0.]\n",
      " [1. 0. 0.]\n",
      " [0. 1. 0.]\n",
      " [0. 1. 0.]\n",
      " [0. 1. 0.]\n",
      " [0. 1. 0.]\n",
      " [0. 1. 0.]\n",
      " [0. 1. 0.]\n",
      " [0. 1. 0.]\n",
      " [0. 1. 0.]\n",
      " [0. 1. 0.]\n",
      " [0. 1. 0.]\n",
      " [0. 1. 0.]\n",
      " [0. 1. 0.]\n",
      " [0. 1. 0.]\n",
      " [0. 1. 0.]\n",
      " [0. 1. 0.]\n",
      " [0. 1. 0.]\n",
      " [0. 1. 0.]\n",
      " [0. 1. 0.]\n",
      " [0. 1. 0.]\n",
      " [0. 1. 0.]\n",
      " [0. 1. 0.]\n",
      " [0. 1. 0.]\n",
      " [0. 1. 0.]\n",
      " [0. 1. 0.]\n",
      " [0. 1. 0.]\n",
      " [0. 1. 0.]\n",
      " [0. 1. 0.]\n",
      " [0. 1. 0.]\n",
      " [0. 1. 0.]\n",
      " [0. 1. 0.]\n",
      " [0. 1. 0.]\n",
      " [0. 1. 0.]\n",
      " [0. 1. 0.]\n",
      " [0. 1. 0.]\n",
      " [0. 1. 0.]\n",
      " [0. 1. 0.]\n",
      " [0. 1. 0.]\n",
      " [0. 1. 0.]\n",
      " [0. 1. 0.]\n",
      " [0. 1. 0.]\n",
      " [0. 1. 0.]\n",
      " [0. 1. 0.]\n",
      " [0. 1. 0.]\n",
      " [0. 1. 0.]\n",
      " [0. 1. 0.]\n",
      " [0. 1. 0.]\n",
      " [0. 1. 0.]\n",
      " [0. 1. 0.]\n",
      " [0. 1. 0.]\n",
      " [0. 1. 0.]\n",
      " [0. 0. 1.]\n",
      " [0. 0. 1.]\n",
      " [0. 0. 1.]\n",
      " [0. 0. 1.]\n",
      " [0. 0. 1.]\n",
      " [0. 0. 1.]\n",
      " [0. 0. 1.]\n",
      " [0. 0. 1.]\n",
      " [0. 0. 1.]\n",
      " [0. 0. 1.]\n",
      " [0. 0. 1.]\n",
      " [0. 0. 1.]\n",
      " [0. 0. 1.]\n",
      " [0. 0. 1.]\n",
      " [0. 0. 1.]\n",
      " [0. 0. 1.]\n",
      " [0. 0. 1.]\n",
      " [0. 0. 1.]\n",
      " [0. 0. 1.]\n",
      " [0. 0. 1.]\n",
      " [0. 0. 1.]\n",
      " [0. 0. 1.]\n",
      " [0. 0. 1.]\n",
      " [0. 0. 1.]\n",
      " [0. 0. 1.]\n",
      " [0. 0. 1.]\n",
      " [0. 0. 1.]\n",
      " [0. 0. 1.]\n",
      " [0. 0. 1.]\n",
      " [0. 0. 1.]\n",
      " [0. 0. 1.]\n",
      " [0. 0. 1.]\n",
      " [0. 0. 1.]\n",
      " [0. 0. 1.]\n",
      " [0. 0. 1.]\n",
      " [0. 0. 1.]\n",
      " [0. 0. 1.]\n",
      " [0. 0. 1.]\n",
      " [0. 0. 1.]\n",
      " [0. 0. 1.]\n",
      " [0. 0. 1.]\n",
      " [0. 0. 1.]\n",
      " [0. 0. 1.]\n",
      " [0. 0. 1.]\n",
      " [0. 0. 1.]\n",
      " [0. 0. 1.]\n",
      " [0. 0. 1.]\n",
      " [0. 0. 1.]\n",
      " [0. 0. 1.]\n",
      " [0. 0. 1.]]\n"
     ]
    }
   ],
   "source": [
    "# Encode class values as integers and perform one-hot-encoding\n",
    "encoder = LabelEncoder()\n",
    "encoder.fit(y_original)\n",
    "encoded_y = encoder.transform(y_original)\n",
    "y_original_dummy = np_utils.to_categorical(encoded_y)\n",
    "print(y_original_dummy)"
   ]
  },
  {
   "cell_type": "code",
   "execution_count": 11,
   "metadata": {},
   "outputs": [
    {
     "name": "stdout",
     "output_type": "stream",
     "text": [
      "Shape of X_train: (150, 4) | Shape of y_train: (150, 3)\n",
      "Shape of X_test: (150, 4) | Shape of y_test: (150, 3)\n"
     ]
    }
   ],
   "source": [
    "# Split the data further into training and test datasets\n",
    "if (splitDataset):\n",
    "    X_train, X_test, y_train, y_test = train_test_split(X_original, y_original_dummy, test_size=splitPercentage, random_state=seedNum)\n",
    "else:\n",
    "    X_train, y_train = X_original, y_original_dummy\n",
    "    X_test, y_test = X_original, y_original_dummy\n",
    "print('Shape of X_train:', X_train.shape, '| Shape of y_train:', y_train.shape)\n",
    "print('Shape of X_test:', X_test.shape, '| Shape of y_test:', y_test.shape)"
   ]
  },
  {
   "cell_type": "code",
   "execution_count": 12,
   "metadata": {
    "colab": {},
    "colab_type": "code",
    "id": "d4bUiYdhSara"
   },
   "outputs": [],
   "source": [
    "if (notifyStatus): email_notify(\"Phase 1 Load Data completed! \"+datetime.now().strftime('%a %B %d, %Y %I:%M:%S %p'))"
   ]
  },
  {
   "cell_type": "markdown",
   "metadata": {
    "colab_type": "text",
    "id": "ljQSSE06Hkj0"
   },
   "source": [
    "# Section 2. Define Model"
   ]
  },
  {
   "cell_type": "code",
   "execution_count": 13,
   "metadata": {
    "colab": {},
    "colab_type": "code",
    "id": "fCo4dP5zSdib"
   },
   "outputs": [],
   "source": [
    "if (notifyStatus): email_notify(\"Phase 2 Define Model has begun! \"+datetime.now().strftime('%a %B %d, %Y %I:%M:%S %p'))"
   ]
  },
  {
   "cell_type": "code",
   "execution_count": 14,
   "metadata": {
    "colab": {
     "base_uri": "https://localhost:8080/",
     "height": 147
    },
    "colab_type": "code",
    "id": "AMBRuJibAefO",
    "outputId": "40716f3e-693b-475c-90e6-5a51cbe535dc"
   },
   "outputs": [],
   "source": [
    "# Define the Keras model required for KerasClassifier\n",
    "def create_model():\n",
    "    model = K.models.Sequential()\n",
    "    model.add(Dense(8, input_dim=4, kernel_initializer=kernel_init, activation='relu'))\n",
    "    model.add(Dense(3, kernel_initializer=kernel_init, activation='softmax'))\n",
    "    model.compile(loss=loss, optimizer=optimizer, metrics=metrics)\n",
    "    return model"
   ]
  },
  {
   "cell_type": "code",
   "execution_count": 15,
   "metadata": {
    "colab": {},
    "colab_type": "code",
    "id": "NGe320KgShbx"
   },
   "outputs": [],
   "source": [
    "if (notifyStatus): email_notify(\"Phase 2 Define Model completed! \"+datetime.now().strftime('%a %B %d, %Y %I:%M:%S %p'))"
   ]
  },
  {
   "cell_type": "markdown",
   "metadata": {
    "colab_type": "text",
    "id": "El40OmF2Hp8E"
   },
   "source": [
    "# Section 3. Compile Model"
   ]
  },
  {
   "cell_type": "code",
   "execution_count": 16,
   "metadata": {
    "colab": {},
    "colab_type": "code",
    "id": "55opOKV4SuW9"
   },
   "outputs": [],
   "source": [
    "if (notifyStatus): email_notify(\"Phase 3 Compile Model has begun! \"+datetime.now().strftime('%a %B %d, %Y %I:%M:%S %p'))"
   ]
  },
  {
   "cell_type": "code",
   "execution_count": 17,
   "metadata": {
    "colab": {
     "base_uri": "https://localhost:8080/",
     "height": 166
    },
    "colab_type": "code",
    "id": "6XG4pa74AgTr",
    "outputId": "f31c5a67-bbd9-4ad8-e02e-dc62326b5eb3"
   },
   "outputs": [],
   "source": [
    "# Initialize the Keras model\n",
    "cv_model = KerasClassifier(build_fn=create_model, epochs=epochs, batch_size=batches, verbose=0)"
   ]
  },
  {
   "cell_type": "code",
   "execution_count": 18,
   "metadata": {
    "colab": {},
    "colab_type": "code",
    "id": "oTbNwS6NSx2C"
   },
   "outputs": [],
   "source": [
    "if (notifyStatus): email_notify(\"Phase 3 Compile Model completed! \"+datetime.now().strftime('%a %B %d, %Y %I:%M:%S %p'))"
   ]
  },
  {
   "cell_type": "markdown",
   "metadata": {
    "colab_type": "text",
    "id": "utyCDnHTIJzX"
   },
   "source": [
    "# Section 4. Fit Model"
   ]
  },
  {
   "cell_type": "code",
   "execution_count": 19,
   "metadata": {
    "colab": {},
    "colab_type": "code",
    "id": "qobEj0hlS0xM"
   },
   "outputs": [],
   "source": [
    "if (notifyStatus): email_notify(\"Phase 4 Fit Model has begun! \"+datetime.now().strftime('%a %B %d, %Y %I:%M:%S %p'))"
   ]
  },
  {
   "cell_type": "code",
   "execution_count": 20,
   "metadata": {
    "colab": {
     "base_uri": "https://localhost:8080/",
     "height": 1000
    },
    "colab_type": "code",
    "id": "AEreg3esAiW3",
    "outputId": "3d77cc8d-b5f4-4cde-d682-146f7d64447b"
   },
   "outputs": [
    {
     "name": "stdout",
     "output_type": "stream",
     "text": [
      "WARNING:tensorflow:From /opt/conda/lib/python3.7/site-packages/keras/backend/tensorflow_backend.py:74: The name tf.get_default_graph is deprecated. Please use tf.compat.v1.get_default_graph instead.\n",
      "\n",
      "WARNING:tensorflow:From /opt/conda/lib/python3.7/site-packages/keras/backend/tensorflow_backend.py:517: The name tf.placeholder is deprecated. Please use tf.compat.v1.placeholder instead.\n",
      "\n",
      "WARNING:tensorflow:From /opt/conda/lib/python3.7/site-packages/keras/backend/tensorflow_backend.py:4138: The name tf.random_uniform is deprecated. Please use tf.random.uniform instead.\n",
      "\n",
      "WARNING:tensorflow:From /opt/conda/lib/python3.7/site-packages/keras/optimizers.py:790: The name tf.train.Optimizer is deprecated. Please use tf.compat.v1.train.Optimizer instead.\n",
      "\n",
      "WARNING:tensorflow:From /opt/conda/lib/python3.7/site-packages/keras/backend/tensorflow_backend.py:3295: The name tf.log is deprecated. Please use tf.math.log instead.\n",
      "\n",
      "WARNING:tensorflow:From /opt/conda/lib/python3.7/site-packages/tensorflow/python/ops/math_grad.py:1250: add_dispatch_support.<locals>.wrapper (from tensorflow.python.ops.array_ops) is deprecated and will be removed in a future version.\n",
      "Instructions for updating:\n",
      "Use tf.where in 2.0, which has the same broadcast rule as np.where\n",
      "WARNING:tensorflow:From /opt/conda/lib/python3.7/site-packages/keras/backend/tensorflow_backend.py:986: The name tf.assign_add is deprecated. Please use tf.compat.v1.assign_add instead.\n",
      "\n",
      "Generating results using the metrics of ['accuracy']\n",
      "All cross-Validate results: [1.         1.         0.93333334 1.         0.80000001 1.\n",
      " 1.         1.         1.         0.93333334]\n",
      "Average cross-Validate results: 0.9666666686534882\n"
     ]
    }
   ],
   "source": [
    "# Fit and evaluate the Keras model using 10-fold cross validation\n",
    "kfold = KFold(n_splits=folds, shuffle=True, random_state=seedNum)\n",
    "results = cross_val_score(cv_model, X_train, y_train, cv=kfold)\n",
    "print('Generating results using the metrics of', metrics)\n",
    "print('All cross-Validate results:', results)\n",
    "print('Average cross-Validate results:', results.mean())"
   ]
  },
  {
   "cell_type": "code",
   "execution_count": 21,
   "metadata": {
    "colab": {},
    "colab_type": "code",
    "id": "_Pb01NDTS44-"
   },
   "outputs": [],
   "source": [
    "if (notifyStatus): email_notify(\"Phase 4 Fit Model completed! \"+datetime.now().strftime('%a %B %d, %Y %I:%M:%S %p'))"
   ]
  },
  {
   "cell_type": "markdown",
   "metadata": {
    "colab_type": "text",
    "id": "F6Di1y9BIXey"
   },
   "source": [
    "# Section 5. Evaluate Model"
   ]
  },
  {
   "cell_type": "code",
   "execution_count": 22,
   "metadata": {
    "colab": {},
    "colab_type": "code",
    "id": "waSYHP94S-JU"
   },
   "outputs": [],
   "source": [
    "if (notifyStatus): email_notify(\"Phase 5 Evaluate Model has begun! \"+datetime.now().strftime('%a %B %d, %Y %I:%M:%S %p'))"
   ]
  },
  {
   "cell_type": "code",
   "execution_count": 23,
   "metadata": {},
   "outputs": [
    {
     "name": "stdout",
     "output_type": "stream",
     "text": [
      "Epoch 1/200\n",
      "150/150 [==============================] - 1s 5ms/step - loss: 1.5727 - acc: 0.3333\n",
      "Epoch 2/200\n",
      "150/150 [==============================] - 0s 448us/step - loss: 1.2327 - acc: 0.3400\n",
      "Epoch 3/200\n",
      "150/150 [==============================] - 0s 437us/step - loss: 1.0845 - acc: 0.3400\n",
      "Epoch 4/200\n",
      "150/150 [==============================] - 0s 437us/step - loss: 1.0093 - acc: 0.4467\n",
      "Epoch 5/200\n",
      "150/150 [==============================] - 0s 451us/step - loss: 0.9539 - acc: 0.5333\n",
      "Epoch 6/200\n",
      "150/150 [==============================] - 0s 455us/step - loss: 0.9051 - acc: 0.5467\n",
      "Epoch 7/200\n",
      "150/150 [==============================] - 0s 437us/step - loss: 0.8554 - acc: 0.6933\n",
      "Epoch 8/200\n",
      "150/150 [==============================] - 0s 435us/step - loss: 0.8016 - acc: 0.8400\n",
      "Epoch 9/200\n",
      "150/150 [==============================] - 0s 427us/step - loss: 0.7498 - acc: 0.8667\n",
      "Epoch 10/200\n",
      "150/150 [==============================] - 0s 462us/step - loss: 0.7037 - acc: 0.8533\n",
      "Epoch 11/200\n",
      "150/150 [==============================] - 0s 434us/step - loss: 0.6467 - acc: 0.8867\n",
      "Epoch 12/200\n",
      "150/150 [==============================] - 0s 458us/step - loss: 0.6005 - acc: 0.8667\n",
      "Epoch 13/200\n",
      "150/150 [==============================] - 0s 444us/step - loss: 0.5557 - acc: 0.9067\n",
      "Epoch 14/200\n",
      "150/150 [==============================] - 0s 445us/step - loss: 0.5209 - acc: 0.8800\n",
      "Epoch 15/200\n",
      "150/150 [==============================] - 0s 449us/step - loss: 0.4934 - acc: 0.9133\n",
      "Epoch 16/200\n",
      "150/150 [==============================] - 0s 447us/step - loss: 0.4718 - acc: 0.8933\n",
      "Epoch 17/200\n",
      "150/150 [==============================] - 0s 457us/step - loss: 0.4534 - acc: 0.9333\n",
      "Epoch 18/200\n",
      "150/150 [==============================] - 0s 438us/step - loss: 0.4368 - acc: 0.9333\n",
      "Epoch 19/200\n",
      "150/150 [==============================] - 0s 444us/step - loss: 0.4222 - acc: 0.9333\n",
      "Epoch 20/200\n",
      "150/150 [==============================] - 0s 450us/step - loss: 0.4118 - acc: 0.9400\n",
      "Epoch 21/200\n",
      "150/150 [==============================] - 0s 450us/step - loss: 0.3972 - acc: 0.9533\n",
      "Epoch 22/200\n",
      "150/150 [==============================] - 0s 430us/step - loss: 0.3882 - acc: 0.9200\n",
      "Epoch 23/200\n",
      "150/150 [==============================] - 0s 438us/step - loss: 0.3744 - acc: 0.9467\n",
      "Epoch 24/200\n",
      "150/150 [==============================] - 0s 427us/step - loss: 0.3634 - acc: 0.9533\n",
      "Epoch 25/200\n",
      "150/150 [==============================] - 0s 450us/step - loss: 0.3510 - acc: 0.9600\n",
      "Epoch 26/200\n",
      "150/150 [==============================] - 0s 432us/step - loss: 0.3416 - acc: 0.9667\n",
      "Epoch 27/200\n",
      "150/150 [==============================] - 0s 448us/step - loss: 0.3331 - acc: 0.9533\n",
      "Epoch 28/200\n",
      "150/150 [==============================] - 0s 446us/step - loss: 0.3228 - acc: 0.9667\n",
      "Epoch 29/200\n",
      "150/150 [==============================] - ETA: 0s - loss: 0.3142 - acc: 0.953 - 0s 437us/step - loss: 0.3154 - acc: 0.9533\n",
      "Epoch 30/200\n",
      "150/150 [==============================] - 0s 442us/step - loss: 0.3074 - acc: 0.9733\n",
      "Epoch 31/200\n",
      "150/150 [==============================] - 0s 459us/step - loss: 0.2972 - acc: 0.9600\n",
      "Epoch 32/200\n",
      "150/150 [==============================] - 0s 440us/step - loss: 0.2906 - acc: 0.9733\n",
      "Epoch 33/200\n",
      "150/150 [==============================] - 0s 435us/step - loss: 0.2846 - acc: 0.9733\n",
      "Epoch 34/200\n",
      "150/150 [==============================] - 0s 452us/step - loss: 0.2761 - acc: 0.9733\n",
      "Epoch 35/200\n",
      "150/150 [==============================] - 0s 450us/step - loss: 0.2693 - acc: 0.9667\n",
      "Epoch 36/200\n",
      "150/150 [==============================] - 0s 442us/step - loss: 0.2639 - acc: 0.9600\n",
      "Epoch 37/200\n",
      "150/150 [==============================] - 0s 435us/step - loss: 0.2580 - acc: 0.9733\n",
      "Epoch 38/200\n",
      "150/150 [==============================] - 0s 431us/step - loss: 0.2532 - acc: 0.9667\n",
      "Epoch 39/200\n",
      "150/150 [==============================] - 0s 441us/step - loss: 0.2474 - acc: 0.9667\n",
      "Epoch 40/200\n",
      "150/150 [==============================] - 0s 457us/step - loss: 0.2418 - acc: 0.9667\n",
      "Epoch 41/200\n",
      "150/150 [==============================] - 0s 456us/step - loss: 0.2383 - acc: 0.9667\n",
      "Epoch 42/200\n",
      "150/150 [==============================] - 0s 448us/step - loss: 0.2292 - acc: 0.9733\n",
      "Epoch 43/200\n",
      "150/150 [==============================] - 0s 443us/step - loss: 0.2270 - acc: 0.9733\n",
      "Epoch 44/200\n",
      "150/150 [==============================] - 0s 443us/step - loss: 0.2227 - acc: 0.9800\n",
      "Epoch 45/200\n",
      "150/150 [==============================] - 0s 437us/step - loss: 0.2173 - acc: 0.9733\n",
      "Epoch 46/200\n",
      "150/150 [==============================] - 0s 447us/step - loss: 0.2136 - acc: 0.9733\n",
      "Epoch 47/200\n",
      "150/150 [==============================] - 0s 443us/step - loss: 0.2096 - acc: 0.9733\n",
      "Epoch 48/200\n",
      "150/150 [==============================] - 0s 429us/step - loss: 0.2045 - acc: 0.9800\n",
      "Epoch 49/200\n",
      "150/150 [==============================] - 0s 442us/step - loss: 0.2022 - acc: 0.9733\n",
      "Epoch 50/200\n",
      "150/150 [==============================] - 0s 443us/step - loss: 0.1974 - acc: 0.9800\n",
      "Epoch 51/200\n",
      "150/150 [==============================] - 0s 436us/step - loss: 0.1957 - acc: 0.9667\n",
      "Epoch 52/200\n",
      "150/150 [==============================] - 0s 428us/step - loss: 0.1936 - acc: 0.9733\n",
      "Epoch 53/200\n",
      "150/150 [==============================] - 0s 426us/step - loss: 0.1866 - acc: 0.9733\n",
      "Epoch 54/200\n",
      "150/150 [==============================] - 0s 448us/step - loss: 0.1846 - acc: 0.9667\n",
      "Epoch 55/200\n",
      "150/150 [==============================] - 0s 436us/step - loss: 0.1805 - acc: 0.9733\n",
      "Epoch 56/200\n",
      "150/150 [==============================] - 0s 446us/step - loss: 0.1782 - acc: 0.9733\n",
      "Epoch 57/200\n",
      "150/150 [==============================] - 0s 434us/step - loss: 0.1790 - acc: 0.9733\n",
      "Epoch 58/200\n",
      "150/150 [==============================] - 0s 438us/step - loss: 0.1714 - acc: 0.9733\n",
      "Epoch 59/200\n",
      "150/150 [==============================] - 0s 439us/step - loss: 0.1703 - acc: 0.9733\n",
      "Epoch 60/200\n",
      "150/150 [==============================] - 0s 475us/step - loss: 0.1738 - acc: 0.9800\n",
      "Epoch 61/200\n",
      "150/150 [==============================] - 0s 459us/step - loss: 0.1656 - acc: 0.9733\n",
      "Epoch 62/200\n",
      "150/150 [==============================] - 0s 435us/step - loss: 0.1617 - acc: 0.9800\n",
      "Epoch 63/200\n",
      "150/150 [==============================] - 0s 444us/step - loss: 0.1606 - acc: 0.9733\n",
      "Epoch 64/200\n",
      "150/150 [==============================] - 0s 456us/step - loss: 0.1593 - acc: 0.9667\n",
      "Epoch 65/200\n",
      "150/150 [==============================] - 0s 441us/step - loss: 0.1547 - acc: 0.9800\n",
      "Epoch 66/200\n",
      "150/150 [==============================] - 0s 426us/step - loss: 0.1526 - acc: 0.9667\n",
      "Epoch 67/200\n",
      "150/150 [==============================] - 0s 435us/step - loss: 0.1508 - acc: 0.9733\n",
      "Epoch 68/200\n",
      "150/150 [==============================] - 0s 442us/step - loss: 0.1501 - acc: 0.9733\n",
      "Epoch 69/200\n",
      "150/150 [==============================] - 0s 429us/step - loss: 0.1460 - acc: 0.9800\n",
      "Epoch 70/200\n",
      "150/150 [==============================] - 0s 442us/step - loss: 0.1459 - acc: 0.9667\n",
      "Epoch 71/200\n",
      "150/150 [==============================] - 0s 460us/step - loss: 0.1431 - acc: 0.9733\n",
      "Epoch 72/200\n",
      "150/150 [==============================] - 0s 430us/step - loss: 0.1414 - acc: 0.9733\n",
      "Epoch 73/200\n",
      "150/150 [==============================] - 0s 465us/step - loss: 0.1389 - acc: 0.9733\n",
      "Epoch 74/200\n",
      "150/150 [==============================] - 0s 446us/step - loss: 0.1377 - acc: 0.9800\n",
      "Epoch 75/200\n",
      "150/150 [==============================] - 0s 438us/step - loss: 0.1387 - acc: 0.9733\n",
      "Epoch 76/200\n",
      "150/150 [==============================] - 0s 442us/step - loss: 0.1352 - acc: 0.9733\n",
      "Epoch 77/200\n",
      "150/150 [==============================] - 0s 442us/step - loss: 0.1325 - acc: 0.9800\n",
      "Epoch 78/200\n",
      "150/150 [==============================] - 0s 447us/step - loss: 0.1303 - acc: 0.9800\n",
      "Epoch 79/200\n",
      "150/150 [==============================] - 0s 447us/step - loss: 0.1291 - acc: 0.9800\n",
      "Epoch 80/200\n",
      "150/150 [==============================] - 0s 439us/step - loss: 0.1292 - acc: 0.9800\n",
      "Epoch 81/200\n",
      "150/150 [==============================] - 0s 490us/step - loss: 0.1281 - acc: 0.9867\n",
      "Epoch 82/200\n",
      "150/150 [==============================] - 0s 444us/step - loss: 0.1248 - acc: 0.9800\n",
      "Epoch 83/200\n",
      "150/150 [==============================] - 0s 434us/step - loss: 0.1246 - acc: 0.9733\n",
      "Epoch 84/200\n",
      "150/150 [==============================] - 0s 441us/step - loss: 0.1291 - acc: 0.9800\n",
      "Epoch 85/200\n",
      "150/150 [==============================] - 0s 456us/step - loss: 0.1205 - acc: 0.9800\n",
      "Epoch 86/200\n",
      "150/150 [==============================] - 0s 437us/step - loss: 0.1234 - acc: 0.9800\n",
      "Epoch 87/200\n",
      "150/150 [==============================] - 0s 441us/step - loss: 0.1188 - acc: 0.9800\n",
      "Epoch 88/200\n",
      "150/150 [==============================] - 0s 433us/step - loss: 0.1170 - acc: 0.9733\n",
      "Epoch 89/200\n",
      "150/150 [==============================] - 0s 443us/step - loss: 0.1148 - acc: 0.9733\n",
      "Epoch 90/200\n",
      "150/150 [==============================] - 0s 444us/step - loss: 0.1130 - acc: 0.9800\n",
      "Epoch 91/200\n",
      "150/150 [==============================] - 0s 439us/step - loss: 0.1129 - acc: 0.9800\n",
      "Epoch 92/200\n",
      "150/150 [==============================] - 0s 442us/step - loss: 0.1123 - acc: 0.9733\n",
      "Epoch 93/200\n",
      "150/150 [==============================] - 0s 487us/step - loss: 0.1114 - acc: 0.9800\n",
      "Epoch 94/200\n",
      "150/150 [==============================] - 0s 449us/step - loss: 0.1110 - acc: 0.9733\n",
      "Epoch 95/200\n",
      "150/150 [==============================] - 0s 443us/step - loss: 0.1097 - acc: 0.9800\n",
      "Epoch 96/200\n",
      "150/150 [==============================] - 0s 443us/step - loss: 0.1077 - acc: 0.9800\n",
      "Epoch 97/200\n",
      "150/150 [==============================] - 0s 431us/step - loss: 0.1072 - acc: 0.9800\n",
      "Epoch 98/200\n",
      "150/150 [==============================] - 0s 427us/step - loss: 0.1066 - acc: 0.9733\n",
      "Epoch 99/200\n",
      "150/150 [==============================] - 0s 442us/step - loss: 0.1073 - acc: 0.9800\n",
      "Epoch 100/200\n",
      "150/150 [==============================] - 0s 453us/step - loss: 0.1041 - acc: 0.9800\n",
      "Epoch 101/200\n",
      "150/150 [==============================] - 0s 434us/step - loss: 0.1035 - acc: 0.9733\n",
      "Epoch 102/200\n",
      "150/150 [==============================] - 0s 434us/step - loss: 0.1056 - acc: 0.9800\n",
      "Epoch 103/200\n",
      "150/150 [==============================] - 0s 430us/step - loss: 0.1011 - acc: 0.9800\n",
      "Epoch 104/200\n",
      "150/150 [==============================] - 0s 447us/step - loss: 0.1006 - acc: 0.9800\n",
      "Epoch 105/200\n",
      "150/150 [==============================] - 0s 437us/step - loss: 0.1003 - acc: 0.9867\n",
      "Epoch 106/200\n",
      "150/150 [==============================] - 0s 467us/step - loss: 0.0993 - acc: 0.9733\n",
      "Epoch 107/200\n",
      "150/150 [==============================] - 0s 442us/step - loss: 0.0986 - acc: 0.9800\n",
      "Epoch 108/200\n",
      "150/150 [==============================] - 0s 440us/step - loss: 0.0976 - acc: 0.9867\n",
      "Epoch 109/200\n",
      "150/150 [==============================] - 0s 437us/step - loss: 0.0971 - acc: 0.9733\n",
      "Epoch 110/200\n",
      "150/150 [==============================] - 0s 532us/step - loss: 0.0963 - acc: 0.9733\n",
      "Epoch 111/200\n",
      "150/150 [==============================] - 0s 449us/step - loss: 0.0955 - acc: 0.9800\n",
      "Epoch 112/200\n",
      "150/150 [==============================] - 0s 435us/step - loss: 0.0962 - acc: 0.9800\n",
      "Epoch 113/200\n",
      "150/150 [==============================] - 0s 440us/step - loss: 0.0943 - acc: 0.9800\n",
      "Epoch 114/200\n",
      "150/150 [==============================] - 0s 452us/step - loss: 0.0954 - acc: 0.9733\n",
      "Epoch 115/200\n",
      "150/150 [==============================] - 0s 443us/step - loss: 0.0925 - acc: 0.9800\n",
      "Epoch 116/200\n",
      "150/150 [==============================] - 0s 439us/step - loss: 0.0927 - acc: 0.9733\n",
      "Epoch 117/200\n",
      "150/150 [==============================] - 0s 431us/step - loss: 0.0935 - acc: 0.9800\n",
      "Epoch 118/200\n",
      "150/150 [==============================] - 0s 433us/step - loss: 0.0916 - acc: 0.9800\n",
      "Epoch 119/200\n",
      "150/150 [==============================] - 0s 452us/step - loss: 0.0942 - acc: 0.9800\n",
      "Epoch 120/200\n",
      "150/150 [==============================] - 0s 440us/step - loss: 0.0913 - acc: 0.9800\n",
      "Epoch 121/200\n",
      "150/150 [==============================] - 0s 448us/step - loss: 0.0929 - acc: 0.9733\n",
      "Epoch 122/200\n",
      "150/150 [==============================] - 0s 453us/step - loss: 0.0893 - acc: 0.9800\n",
      "Epoch 123/200\n",
      "150/150 [==============================] - 0s 453us/step - loss: 0.0948 - acc: 0.9800\n",
      "Epoch 124/200\n",
      "150/150 [==============================] - 0s 432us/step - loss: 0.0895 - acc: 0.9800\n",
      "Epoch 125/200\n",
      "150/150 [==============================] - 0s 444us/step - loss: 0.0902 - acc: 0.9800\n",
      "Epoch 126/200\n",
      "150/150 [==============================] - 0s 430us/step - loss: 0.0877 - acc: 0.9733\n",
      "Epoch 127/200\n",
      "150/150 [==============================] - 0s 437us/step - loss: 0.0882 - acc: 0.9733\n",
      "Epoch 128/200\n",
      "150/150 [==============================] - 0s 432us/step - loss: 0.0868 - acc: 0.9867\n",
      "Epoch 129/200\n",
      "150/150 [==============================] - 0s 448us/step - loss: 0.0853 - acc: 0.9800\n",
      "Epoch 130/200\n",
      "150/150 [==============================] - 0s 447us/step - loss: 0.0866 - acc: 0.9733\n",
      "Epoch 131/200\n",
      "150/150 [==============================] - 0s 447us/step - loss: 0.0849 - acc: 0.9733\n",
      "Epoch 132/200\n",
      "150/150 [==============================] - 0s 449us/step - loss: 0.0860 - acc: 0.9733\n",
      "Epoch 133/200\n",
      "150/150 [==============================] - 0s 450us/step - loss: 0.0848 - acc: 0.9867\n",
      "Epoch 134/200\n",
      "150/150 [==============================] - 0s 464us/step - loss: 0.0849 - acc: 0.9800\n",
      "Epoch 135/200\n",
      "150/150 [==============================] - 0s 448us/step - loss: 0.0835 - acc: 0.9800\n",
      "Epoch 136/200\n",
      "150/150 [==============================] - 0s 451us/step - loss: 0.0834 - acc: 0.9800\n",
      "Epoch 137/200\n",
      "150/150 [==============================] - 0s 445us/step - loss: 0.0830 - acc: 0.9733\n",
      "Epoch 138/200\n",
      "150/150 [==============================] - 0s 425us/step - loss: 0.0829 - acc: 0.9800\n",
      "Epoch 139/200\n",
      "150/150 [==============================] - 0s 435us/step - loss: 0.0814 - acc: 0.9800\n",
      "Epoch 140/200\n",
      "150/150 [==============================] - 0s 450us/step - loss: 0.0823 - acc: 0.9800\n",
      "Epoch 141/200\n",
      "150/150 [==============================] - 0s 434us/step - loss: 0.0820 - acc: 0.9733\n",
      "Epoch 142/200\n",
      "150/150 [==============================] - 0s 439us/step - loss: 0.0816 - acc: 0.9733\n",
      "Epoch 143/200\n",
      "150/150 [==============================] - 0s 449us/step - loss: 0.0802 - acc: 0.9733\n",
      "Epoch 144/200\n",
      "150/150 [==============================] - 0s 450us/step - loss: 0.0795 - acc: 0.9867\n",
      "Epoch 145/200\n",
      "150/150 [==============================] - 0s 425us/step - loss: 0.0792 - acc: 0.9733\n",
      "Epoch 146/200\n",
      "150/150 [==============================] - 0s 437us/step - loss: 0.0816 - acc: 0.9800\n",
      "Epoch 147/200\n",
      "150/150 [==============================] - 0s 453us/step - loss: 0.0819 - acc: 0.9733\n",
      "Epoch 148/200\n",
      "150/150 [==============================] - 0s 429us/step - loss: 0.0899 - acc: 0.9733\n",
      "Epoch 149/200\n",
      "150/150 [==============================] - 0s 446us/step - loss: 0.0807 - acc: 0.9800\n",
      "Epoch 150/200\n",
      "150/150 [==============================] - 0s 433us/step - loss: 0.0775 - acc: 0.9733\n",
      "Epoch 151/200\n",
      "150/150 [==============================] - 0s 550us/step - loss: 0.0777 - acc: 0.9800\n",
      "Epoch 152/200\n",
      "150/150 [==============================] - 0s 462us/step - loss: 0.0795 - acc: 0.9733\n",
      "Epoch 153/200\n",
      "150/150 [==============================] - 0s 438us/step - loss: 0.0788 - acc: 0.9733\n",
      "Epoch 154/200\n",
      "150/150 [==============================] - 0s 432us/step - loss: 0.0777 - acc: 0.9800\n",
      "Epoch 155/200\n",
      "150/150 [==============================] - 0s 436us/step - loss: 0.0774 - acc: 0.9800\n",
      "Epoch 156/200\n",
      "150/150 [==============================] - 0s 438us/step - loss: 0.0783 - acc: 0.9733\n",
      "Epoch 157/200\n",
      "150/150 [==============================] - 0s 453us/step - loss: 0.0763 - acc: 0.9733\n",
      "Epoch 158/200\n",
      "150/150 [==============================] - 0s 442us/step - loss: 0.0791 - acc: 0.9733\n",
      "Epoch 159/200\n",
      "150/150 [==============================] - 0s 439us/step - loss: 0.0778 - acc: 0.9867\n",
      "Epoch 160/200\n",
      "150/150 [==============================] - 0s 445us/step - loss: 0.0851 - acc: 0.9733\n",
      "Epoch 161/200\n",
      "150/150 [==============================] - 0s 452us/step - loss: 0.0765 - acc: 0.9733\n",
      "Epoch 162/200\n",
      "150/150 [==============================] - 0s 441us/step - loss: 0.0747 - acc: 0.9800\n",
      "Epoch 163/200\n",
      "150/150 [==============================] - 0s 443us/step - loss: 0.0743 - acc: 0.9800\n",
      "Epoch 164/200\n",
      "150/150 [==============================] - 0s 439us/step - loss: 0.0747 - acc: 0.9733\n",
      "Epoch 165/200\n",
      "150/150 [==============================] - 0s 439us/step - loss: 0.0753 - acc: 0.9733\n",
      "Epoch 166/200\n",
      "150/150 [==============================] - 0s 462us/step - loss: 0.0742 - acc: 0.9733\n",
      "Epoch 167/200\n",
      "150/150 [==============================] - 0s 439us/step - loss: 0.0736 - acc: 0.9800\n",
      "Epoch 168/200\n",
      "150/150 [==============================] - 0s 435us/step - loss: 0.0733 - acc: 0.9733\n",
      "Epoch 169/200\n",
      "150/150 [==============================] - 0s 449us/step - loss: 0.0735 - acc: 0.9733\n",
      "Epoch 170/200\n",
      "150/150 [==============================] - 0s 441us/step - loss: 0.0735 - acc: 0.9733\n",
      "Epoch 171/200\n",
      "150/150 [==============================] - 0s 438us/step - loss: 0.0752 - acc: 0.9733\n",
      "Epoch 172/200\n",
      "150/150 [==============================] - 0s 445us/step - loss: 0.0732 - acc: 0.9800\n",
      "Epoch 173/200\n",
      "150/150 [==============================] - 0s 441us/step - loss: 0.0725 - acc: 0.9800\n",
      "Epoch 174/200\n",
      "150/150 [==============================] - 0s 448us/step - loss: 0.0735 - acc: 0.9800\n",
      "Epoch 175/200\n",
      "150/150 [==============================] - 0s 443us/step - loss: 0.0727 - acc: 0.9800\n",
      "Epoch 176/200\n",
      "150/150 [==============================] - 0s 433us/step - loss: 0.0812 - acc: 0.9667\n",
      "Epoch 177/200\n",
      "150/150 [==============================] - 0s 435us/step - loss: 0.0763 - acc: 0.9800\n",
      "Epoch 178/200\n",
      "150/150 [==============================] - 0s 445us/step - loss: 0.0698 - acc: 0.9800\n",
      "Epoch 179/200\n",
      "150/150 [==============================] - 0s 439us/step - loss: 0.0730 - acc: 0.9733\n",
      "Epoch 180/200\n",
      "150/150 [==============================] - 0s 437us/step - loss: 0.0704 - acc: 0.9733\n",
      "Epoch 181/200\n",
      "150/150 [==============================] - 0s 499us/step - loss: 0.0711 - acc: 0.9733\n",
      "Epoch 182/200\n",
      "150/150 [==============================] - 0s 436us/step - loss: 0.0723 - acc: 0.9733\n",
      "Epoch 183/200\n",
      "150/150 [==============================] - 0s 429us/step - loss: 0.0751 - acc: 0.9667\n",
      "Epoch 184/200\n",
      "150/150 [==============================] - 0s 441us/step - loss: 0.0801 - acc: 0.9733\n",
      "Epoch 185/200\n",
      "150/150 [==============================] - 0s 439us/step - loss: 0.0713 - acc: 0.9800\n",
      "Epoch 186/200\n",
      "150/150 [==============================] - 0s 431us/step - loss: 0.0710 - acc: 0.9867\n",
      "Epoch 187/200\n",
      "150/150 [==============================] - 0s 455us/step - loss: 0.0720 - acc: 0.9667\n",
      "Epoch 188/200\n",
      "150/150 [==============================] - 0s 444us/step - loss: 0.0717 - acc: 0.9733\n",
      "Epoch 189/200\n",
      "150/150 [==============================] - 0s 457us/step - loss: 0.0700 - acc: 0.9733\n",
      "Epoch 190/200\n",
      "150/150 [==============================] - 0s 437us/step - loss: 0.0696 - acc: 0.9800\n",
      "Epoch 191/200\n",
      "150/150 [==============================] - 0s 448us/step - loss: 0.0678 - acc: 0.9733\n",
      "Epoch 192/200\n",
      "150/150 [==============================] - 0s 458us/step - loss: 0.0694 - acc: 0.9733\n",
      "Epoch 193/200\n",
      "150/150 [==============================] - 0s 433us/step - loss: 0.0699 - acc: 0.9733\n",
      "Epoch 194/200\n",
      "150/150 [==============================] - 0s 435us/step - loss: 0.0682 - acc: 0.9800\n",
      "Epoch 195/200\n",
      "150/150 [==============================] - 0s 443us/step - loss: 0.0714 - acc: 0.9733\n",
      "Epoch 196/200\n",
      "150/150 [==============================] - 0s 445us/step - loss: 0.0713 - acc: 0.9733\n",
      "Epoch 197/200\n",
      "150/150 [==============================] - 0s 433us/step - loss: 0.0703 - acc: 0.9733\n",
      "Epoch 198/200\n",
      "150/150 [==============================] - 0s 430us/step - loss: 0.0665 - acc: 0.9733\n",
      "Epoch 199/200\n",
      "150/150 [==============================] - 0s 446us/step - loss: 0.0671 - acc: 0.9733\n",
      "Epoch 200/200\n",
      "150/150 [==============================] - 0s 446us/step - loss: 0.0720 - acc: 0.9667\n"
     ]
    },
    {
     "data": {
      "text/plain": [
       "<keras.callbacks.History at 0x7f6950dbf0b8>"
      ]
     },
     "execution_count": 23,
     "metadata": {},
     "output_type": "execute_result"
    }
   ],
   "source": [
    "# Create the final model for evaluating the test dataset\n",
    "model = create_model()\n",
    "model.fit(X_train, y_train, epochs=epochs, batch_size=batches, verbose=1)"
   ]
  },
  {
   "cell_type": "code",
   "execution_count": 24,
   "metadata": {
    "colab": {
     "base_uri": "https://localhost:8080/",
     "height": 109
    },
    "colab_type": "code",
    "id": "-H_7ah8gPRmw",
    "outputId": "52212ba7-304e-46ac-e6de-a30afa3dc6bd"
   },
   "outputs": [
    {
     "name": "stdout",
     "output_type": "stream",
     "text": [
      "150/150 [==============================] - 0s 1ms/step\n",
      "\n",
      "acc: 98.00%\n",
      "\n",
      "loss: 6.70%\n"
     ]
    }
   ],
   "source": [
    "# Evaluate the Keras model on previously unseen data\n",
    "scores = model.evaluate(X_test, y_test)\n",
    "print(\"\\n%s: %.2f%%\" % (model.metrics_names[1], scores[1]*100))\n",
    "print(\"\\n%s: %.2f%%\" % (model.metrics_names[0], scores[0]*100))"
   ]
  },
  {
   "cell_type": "code",
   "execution_count": 25,
   "metadata": {
    "colab": {},
    "colab_type": "code",
    "id": "0r4rJRXHTBTv"
   },
   "outputs": [],
   "source": [
    "if (notifyStatus): email_notify(\"Phase 5 Evaluate Model completed! \"+datetime.now().strftime('%a %B %d, %Y %I:%M:%S %p'))"
   ]
  },
  {
   "cell_type": "markdown",
   "metadata": {
    "colab_type": "text",
    "id": "ohwYIizSIfPG"
   },
   "source": [
    "# Section 6. Finalize Model"
   ]
  },
  {
   "cell_type": "code",
   "execution_count": 26,
   "metadata": {
    "colab": {},
    "colab_type": "code",
    "id": "yh14j7v8TFPe"
   },
   "outputs": [],
   "source": [
    "if (notifyStatus): email_notify(\"Phase 6 Finalize Model has begun! \"+datetime.now().strftime('%a %B %d, %Y %I:%M:%S %p'))"
   ]
  },
  {
   "cell_type": "code",
   "execution_count": 27,
   "metadata": {
    "colab": {
     "base_uri": "https://localhost:8080/",
     "height": 201
    },
    "colab_type": "code",
    "id": "oUhkDCG8AkUC",
    "outputId": "fb87e85d-6fee-4a5b-9b5f-c2a9fe91099e"
   },
   "outputs": [
    {
     "name": "stdout",
     "output_type": "stream",
     "text": [
      "[0 0 0 0 0 0 0 0 0 0 0 0 0 0 0 0 0 0 0 0 0 0 0 0 0 0 0 0 0 0 0 0 0 0 0 0 0\n",
      " 0 0 0 0 0 0 0 0 0 0 0 0 0 1 1 1 1 1 1 1 1 1 1 1 1 1 1 1 1 1 1 1 1 2 1 2 1\n",
      " 1 1 1 1 1 1 1 1 1 2 1 1 1 1 1 1 1 1 1 1 1 1 1 1 1 1 2 2 2 2 2 2 2 2 2 2 2\n",
      " 2 2 2 2 2 2 2 2 2 2 2 2 2 2 2 2 2 2 2 2 2 2 2 2 2 2 2 2 2 2 2 2 2 2 2 2 2\n",
      " 2 2]\n"
     ]
    }
   ],
   "source": [
    "# Make class predictions with the model\n",
    "predictions = model.predict_classes(X_original)\n",
    "print(predictions)"
   ]
  },
  {
   "cell_type": "code",
   "execution_count": 28,
   "metadata": {
    "colab": {},
    "colab_type": "code",
    "id": "UkgS_dVLTIIi"
   },
   "outputs": [],
   "source": [
    "if (notifyStatus): email_notify(\"Phase 6 Finalize Model completed! \"+datetime.now().strftime('%a %B %d, %Y %I:%M:%S %p'))"
   ]
  },
  {
   "cell_type": "code",
   "execution_count": 29,
   "metadata": {
    "colab": {
     "base_uri": "https://localhost:8080/",
     "height": 35
    },
    "colab_type": "code",
    "id": "Qb7Ry_60TMOl",
    "outputId": "08177fca-8793-418e-a88c-131f35590eb2"
   },
   "outputs": [
    {
     "name": "stdout",
     "output_type": "stream",
     "text": [
      "Total time for the script: 0:02:07.086740\n"
     ]
    }
   ],
   "source": [
    "print ('Total time for the script:',(datetime.now() - startTimeScript))"
   ]
  }
 ],
 "metadata": {
  "colab": {
   "collapsed_sections": [],
   "name": "py-keras-classification-binary-class-example.ipynb",
   "provenance": [],
   "toc_visible": true
  },
  "kernelspec": {
   "display_name": "Python 3",
   "language": "python",
   "name": "python3"
  },
  "language_info": {
   "codemirror_mode": {
    "name": "ipython",
    "version": 3
   },
   "file_extension": ".py",
   "mimetype": "text/x-python",
   "name": "python",
   "nbconvert_exporter": "python",
   "pygments_lexer": "ipython3",
   "version": "3.7.3"
  }
 },
 "nbformat": 4,
 "nbformat_minor": 4
}
