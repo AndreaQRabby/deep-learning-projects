{
 "cells": [
  {
   "cell_type": "markdown",
   "metadata": {},
   "source": [
    "# Multi-Class Deep Learning Model for CIFAR-10 Object Recognition Using Keras Take 4\n",
    "### David Lowe\n",
    "### January 6, 2020\n",
    "\n",
    "Template Credit: Adapted from a template made available by Dr. Jason Brownlee of Machine Learning Mastery. [https://machinelearningmastery.com/]\n",
    "\n",
    "SUMMARY: The purpose of this project is to construct a predictive model using various machine learning algorithms and to document the end-to-end steps using a template. The CIFAR-10 dataset is a multi-class classification situation where we are trying to predict one of several (more than two) possible outcomes.\n",
    "\n",
    "INTRODUCTION: The CIFAR-10 is a labeled subset of the 80 million tiny images dataset. They were collected by Alex Krizhevsky, Vinod Nair, and Geoffrey Hinton. The CIFAR-10 dataset consists of 60,000 32x32 color images in 10 classes, with 6,000 images per class. There are 50,000 training images and 10,000 test images.\n",
    "\n",
    "The dataset is divided into five training batches and one test batch, each with 10,000 images. The test batch contains exactly 1,000 randomly selected images from each class. The training batches contain the remaining images in random order, but some training batches may contain more images from one class than another. Between them, the training batches contain exactly 5,000 images from each class.\n",
    "\n",
    "In iteration Take1, we constructed a simple VGG convolutional model with 1 VGG block to classify the images. This model serves as the baseline for the future iterations of modeling.\n",
    "\n",
    "In iteration Take2, we constructd a few more VGG convolutional models with 2 and 3 VGG blocks to classify the images. The additional models enabled us to choose a final baseline model before applying other performance-enhancing techniques.\n",
    "\n",
    "In iteration Take3, we tuned the VGG-3 model with various hyperparameters and select the best model.\n",
    "\n",
    "In this iteration, we will add some dropout layers as a regularization technique to reduce over-fitting.\n",
    "\n",
    "ANALYSIS: In iteration Take1, the performance of the Take1 model with the default parameters achieved an accuracy score of 66.39% on the validation dataset after training for 50 epochs. After tuning the hyperparameters, the Take1 model with the best hyperparameters processed the training dataset with an accuracy of 100.00%. The same model, however, processed the test dataset with an accuracy of only 67.01%. We will need to explore other modeling approaches to make a better model that reduces over-fitting.\n",
    "\n",
    "In iteration Take2, the performance of the VGG-1 model with the default parameters achieved an accuracy score of 66.69% on the validation dataset after training for 50 epochs. The VGG-2 model achieved an accuracy score of 71.35% on the validation dataset after training for 50 epochs. The VGG-3 model achieved an accuracy score of 73.81% on the validation dataset after training for 50 epochs. The additional VGG blocks helped the model, but we still need to explore other modeling approaches to make a better model that reduces over-fitting.\n",
    "\n",
    "In iteration Take3, the performance of the VGG-3 Take3 model with the default parameters achieved a maximum accuracy score of 73.43% on the validation dataset after training for 50 epochs. After tuning the hyperparameters, the Take1 model with the best hyperparameters processed the training dataset with an accuracy of 98.09%. The same model, however, processed the test dataset with an accuracy of only 73.44%. Even with VGG-3 and hyperparameter tuning, we still have an over-fitting problem with the model.\n",
    "\n",
    "In this iteration, the performance of the Take4 model with the default parameters achieved a maximum accuracy score of 76.96% on the validation dataset after training for 50 epochs. We can see from the graph that the accuracy and loss curves for the training and validation sets were moving in the same direction and converged well. After increasing the number of epochs, the Take4 model processed the training dataset with an accuracy of 82.22% after 100 epochs. The same model processed the test dataset with an accuracy of 82.35%. This iteration indicated to us that having dropout layers can be a good tactic to improve the model's predictive performance.\n",
    "\n",
    "CONCLUSION: For this dataset, the model built using Keras and TensorFlow achieved a satisfactory result and should be considered for future modeling activities.\n",
    "\n",
    "Dataset Used: The CIFAR-10 Dataset\n",
    "\n",
    "Dataset ML Model: Multi-class classification with numerical attributes\n",
    "\n",
    "Dataset Reference: https://www.cs.toronto.edu/~kriz/cifar.html\n",
    "\n",
    "One potential source of performance benchmarks: https://machinelearningmastery.com/how-to-develop-a-cnn-from-scratch-for-cifar-10-photo-classification/\n",
    "\n",
    "Any deep-learning modeling project genrally can be broken down into about six major tasks:\n",
    "\n",
    "0. Prepare Environment\n",
    "1. Load Data\n",
    "2. Define Model\n",
    "3. Fit and Evaluate Model\n",
    "4. Optimize Model\n",
    "5. Finalize Model"
   ]
  },
  {
   "cell_type": "markdown",
   "metadata": {},
   "source": [
    "# Section 0. Prepare Environment"
   ]
  },
  {
   "cell_type": "code",
   "execution_count": 1,
   "metadata": {},
   "outputs": [],
   "source": [
    "# Set the warning message filter\n",
    "import warnings\n",
    "warnings.filterwarnings(\"ignore\", category=FutureWarning)\n",
    "warnings.filterwarnings(\"ignore\", category=DeprecationWarning)"
   ]
  },
  {
   "cell_type": "code",
   "execution_count": 2,
   "metadata": {},
   "outputs": [],
   "source": [
    "# Set the random seed number for reproducible results\n",
    "seedNum = 888"
   ]
  },
  {
   "cell_type": "code",
   "execution_count": 3,
   "metadata": {},
   "outputs": [],
   "source": [
    "# Load libraries and packages\n",
    "import random\n",
    "random.seed(seedNum)\n",
    "import numpy as np\n",
    "np.random.seed(seedNum)\n",
    "import tensorflow as tf\n",
    "tf.random.set_seed(seedNum)\n",
    "from tensorflow.keras import Sequential\n",
    "from tensorflow.keras.layers import Dense\n",
    "from tensorflow.keras.layers import Flatten\n",
    "from tensorflow.keras.layers import Dropout\n",
    "from tensorflow.keras.layers import Conv2D\n",
    "from tensorflow.keras.layers import MaxPooling2D\n",
    "from tensorflow.keras.wrappers.scikit_learn import KerasClassifier\n",
    "# import keras as K\n",
    "# from keras.models import Sequential\n",
    "# from keras.layers import Dense\n",
    "# from keras.wrappers.scikit_learn import KerasClassifier\n",
    "import pandas as pd\n",
    "import math\n",
    "import os\n",
    "import sys\n",
    "import shutil\n",
    "import urllib.request\n",
    "import zipfile\n",
    "import smtplib\n",
    "import matplotlib.pyplot as plt\n",
    "from datetime import datetime\n",
    "from email.message import EmailMessage\n",
    "from sklearn.model_selection import train_test_split\n",
    "from sklearn.model_selection import KFold\n",
    "from sklearn.model_selection import StratifiedKFold\n",
    "from sklearn.model_selection import cross_val_score\n",
    "from sklearn.model_selection import GridSearchCV\n",
    "from sklearn.model_selection import RandomizedSearchCV\n",
    "from sklearn import preprocessing"
   ]
  },
  {
   "cell_type": "code",
   "execution_count": 4,
   "metadata": {},
   "outputs": [
    {
     "name": "stdout",
     "output_type": "stream",
     "text": [
      "Num GPUs Available:  1\n"
     ]
    }
   ],
   "source": [
    "# Begin the timer for the script processing\n",
    "startTimeScript = datetime.now()\n",
    "\n",
    "# Set up the verbose flag to print detailed messages for debugging (setting to True will activate)\n",
    "# verbose = True\n",
    "# tf.debugging.set_log_device_placement(verbose)\n",
    "\n",
    "# Set up the number of CPU cores available for multi-thread processing\n",
    "n_jobs = -1\n",
    "print(\"Num GPUs Available: \", len(tf.config.experimental.list_physical_devices('GPU')))\n",
    "\n",
    "# Set up the flag to stop sending progress emails (setting to True will send status emails!)\n",
    "notifyStatus = False\n",
    "\n",
    "# Set the number of folds for cross validation\n",
    "n_folds = 5\n",
    "\n",
    "# Set the flag for splitting the dataset\n",
    "splitDataset = True\n",
    "splitPercentage = 0.25\n",
    "\n",
    "# Set various default Keras modeling parameters\n",
    "default_loss = 'categorical_crossentropy'\n",
    "default_metrics = ['accuracy']\n",
    "default_kernel_init = tf.initializers.he_uniform(seed=seedNum)\n",
    "default_optimizer = tf.optimizers.SGD(learning_rate=0.001, momentum=0.9)\n",
    "default_epoch = 50\n",
    "default_batch = 64"
   ]
  },
  {
   "cell_type": "code",
   "execution_count": 5,
   "metadata": {},
   "outputs": [],
   "source": [
    "# Set up the email notification function\n",
    "def email_notify(msg_text):\n",
    "    sender = os.environ.get('MAIL_SENDER')\n",
    "    receiver = os.environ.get('MAIL_RECEIVER')\n",
    "    gateway = os.environ.get('SMTP_GATEWAY')\n",
    "    smtpuser = os.environ.get('SMTP_USERNAME')\n",
    "    password = os.environ.get('SMTP_PASSWORD')\n",
    "    if sender==None or receiver==None or gateway==None or smtpuser==None or password==None:\n",
    "        sys.exit(\"Incomplete email setup info. Script Processing Aborted!!!\")\n",
    "    msg = EmailMessage()\n",
    "    msg.set_content(msg_text)\n",
    "    msg['Subject'] = 'Notification from Keras Multi-Class Classification Script'\n",
    "    msg['From'] = sender\n",
    "    msg['To'] = receiver\n",
    "    server = smtplib.SMTP(gateway, 587)\n",
    "    server.starttls()\n",
    "    server.login(smtpuser, password)\n",
    "    server.send_message(msg)\n",
    "    server.quit()"
   ]
  },
  {
   "cell_type": "code",
   "execution_count": 6,
   "metadata": {},
   "outputs": [],
   "source": [
    "# Reset the random number generators\n",
    "def reset_random(seedNum):\n",
    "    random.seed(seedNum)\n",
    "    np.random.seed(seedNum)\n",
    "    tf.random.set_seed(seedNum)"
   ]
  },
  {
   "cell_type": "code",
   "execution_count": 7,
   "metadata": {},
   "outputs": [],
   "source": [
    "if (notifyStatus): email_notify(\"Phase 0 Prepare Environment completed! \"+datetime.now().strftime('%a %B %d, %Y %I:%M:%S %p'))"
   ]
  },
  {
   "cell_type": "markdown",
   "metadata": {},
   "source": [
    "# Section 1. Load Data"
   ]
  },
  {
   "cell_type": "code",
   "execution_count": 8,
   "metadata": {},
   "outputs": [],
   "source": [
    "if (notifyStatus): email_notify(\"Phase 1 Load Data has begun! \"+datetime.now().strftime('%a %B %d, %Y %I:%M:%S %p'))"
   ]
  },
  {
   "cell_type": "markdown",
   "metadata": {},
   "source": [
    "## 1.a) Load Dataset"
   ]
  },
  {
   "cell_type": "code",
   "execution_count": 9,
   "metadata": {},
   "outputs": [
    {
     "name": "stdout",
     "output_type": "stream",
     "text": [
      "Train Shape: X=(50000, 32, 32, 3), y=(50000, 1)\n",
      "Test Shape: X=(10000, 32, 32, 3), y=(10000, 1)\n"
     ]
    }
   ],
   "source": [
    "cifar10 = tf.keras.datasets.cifar10\n",
    "(X_train, y_train),(X_test, y_test) = cifar10.load_data()\n",
    "\n",
    "# Summarize loaded datasets\n",
    "print('Train Shape: X=%s, y=%s' % (X_train.shape, y_train.shape))\n",
    "print('Test Shape: X=%s, y=%s' % (X_test.shape, y_test.shape))"
   ]
  },
  {
   "cell_type": "code",
   "execution_count": 10,
   "metadata": {},
   "outputs": [
    {
     "data": {
      "image/png": "[encoded data removed]",
      "text/plain": [
       "<Figure size 432x288 with 9 Axes>"
      ]
     },
     "metadata": {
      "needs_background": "light"
     },
     "output_type": "display_data"
    }
   ],
   "source": [
    "# Plot first few images\n",
    "for i in range(9):\n",
    "    # define subplot\n",
    "    plt.subplot(330 + 1 + i)\n",
    "    # plot raw pixel data\n",
    "    plt.imshow(X_train[i], cmap=plt.get_cmap('gray'))\n",
    "plt.show()"
   ]
  },
  {
   "cell_type": "markdown",
   "metadata": {},
   "source": [
    "## 1.b) Data Cleaning"
   ]
  },
  {
   "cell_type": "code",
   "execution_count": 11,
   "metadata": {},
   "outputs": [],
   "source": [
    "# Not required for this iteration of the project"
   ]
  },
  {
   "cell_type": "markdown",
   "metadata": {},
   "source": [
    "## 1.c) Feature Scaling and Pre-processing"
   ]
  },
  {
   "cell_type": "code",
   "execution_count": 12,
   "metadata": {},
   "outputs": [],
   "source": [
    "# Reshape the input data as [samples][width][height][channels]\n",
    "# X_train = X_train.reshape(X_train.shape[0], 28, 28, 1).astype('float32')\n",
    "# X_test = X_test.reshape(X_test.shape[0], 28, 28, 1).astype('float32')\n",
    "\n",
    "# Apply feature scaling and transformation\n",
    "X_train = X_train / 255.0\n",
    "X_test = X_test / 255.0"
   ]
  },
  {
   "cell_type": "markdown",
   "metadata": {},
   "source": [
    "## 1.d) Splitting Data into Training and Test Sets"
   ]
  },
  {
   "cell_type": "code",
   "execution_count": 13,
   "metadata": {},
   "outputs": [
    {
     "name": "stdout",
     "output_type": "stream",
     "text": [
      "Train Shape: X=(50000, 32, 32, 3), y=(50000, 10)\n",
      "Test Shape: X=(10000, 32, 32, 3), y=(10000, 10)\n",
      "Number of pixels: 1024\n",
      "Number of classes: 10\n"
     ]
    },
    {
     "name": "stderr",
     "output_type": "stream",
     "text": [
      "/usr/local/lib/python3.6/dist-packages/sklearn/preprocessing/_label.py:235: DataConversionWarning: A column-vector y was passed when a 1d array was expected. Please change the shape of y to (n_samples, ), for example using ravel().\n",
      "  y = column_or_1d(y, warn=True)\n",
      "/usr/local/lib/python3.6/dist-packages/sklearn/preprocessing/_label.py:268: DataConversionWarning: A column-vector y was passed when a 1d array was expected. Please change the shape of y to (n_samples, ), for example using ravel().\n",
      "  y = column_or_1d(y, warn=True)\n"
     ]
    }
   ],
   "source": [
    "# Encode class values as integers and perform one-hot-encoding\n",
    "encoder = preprocessing.LabelEncoder()\n",
    "encoder.fit(y_train)\n",
    "train_transformed = encoder.transform(y_train)\n",
    "test_transformed = encoder.transform(y_test)\n",
    "y_train = tf.keras.utils.to_categorical(train_transformed)\n",
    "y_test = tf.keras.utils.to_categorical(test_transformed)\n",
    "\n",
    "print('Train Shape: X=%s, y=%s' % (X_train.shape, y_train.shape))\n",
    "print('Test Shape: X=%s, y=%s' % (X_test.shape, y_test.shape))\n",
    "\n",
    "num_pixels = X_train.shape[1] * X_train.shape[2]\n",
    "print('Number of pixels:', num_pixels)\n",
    "num_classes = y_train.shape[1]\n",
    "print('Number of classes:', num_classes)"
   ]
  },
  {
   "cell_type": "code",
   "execution_count": 14,
   "metadata": {},
   "outputs": [],
   "source": [
    "if (notifyStatus): email_notify(\"Phase 1 Load Data completed! \"+datetime.now().strftime('%a %B %d, %Y %I:%M:%S %p'))"
   ]
  },
  {
   "cell_type": "markdown",
   "metadata": {},
   "source": [
    "# Section 2. Define Model"
   ]
  },
  {
   "cell_type": "code",
   "execution_count": 15,
   "metadata": {},
   "outputs": [],
   "source": [
    "if (notifyStatus): email_notify(\"Phase 2 Define Model has begun! \"+datetime.now().strftime('%a %B %d, %Y %I:%M:%S %p'))"
   ]
  },
  {
   "cell_type": "code",
   "execution_count": 16,
   "metadata": {},
   "outputs": [],
   "source": [
    "# Define the Keras model for baseline measurement\n",
    "def create_default_model():\n",
    "    default_model = Sequential()\n",
    "    default_model.add(Conv2D(32, (3, 3), activation='relu', kernel_initializer=default_kernel_init, padding='same', input_shape=(32, 32, 3)))\n",
    "    default_model.add(Conv2D(32, (3, 3), activation='relu', kernel_initializer=default_kernel_init, padding='same'))\n",
    "    default_model.add(MaxPooling2D((2, 2)))\n",
    "    default_model.add(Dropout(0.2))\n",
    "    default_model.add(Conv2D(64, (3, 3), activation='relu', kernel_initializer=default_kernel_init, padding='same'))\n",
    "    default_model.add(Conv2D(64, (3, 3), activation='relu', kernel_initializer=default_kernel_init, padding='same'))\n",
    "    default_model.add(MaxPooling2D((2, 2)))\n",
    "    default_model.add(Dropout(0.3))\n",
    "    default_model.add(Conv2D(128, (3, 3), activation='relu', kernel_initializer=default_kernel_init, padding='same'))\n",
    "    default_model.add(Conv2D(128, (3, 3), activation='relu', kernel_initializer=default_kernel_init, padding='same'))\n",
    "    default_model.add(MaxPooling2D((2, 2)))\n",
    "    default_model.add(Dropout(0.4))\n",
    "    default_model.add(Flatten())\n",
    "    default_model.add(Dense(128, activation='relu', kernel_initializer=default_kernel_init))\n",
    "    default_model.add(Dropout(0.5))\n",
    "    default_model.add(Dense(num_classes, activation='softmax', kernel_initializer=default_kernel_init))\n",
    "    default_model.compile(loss=default_loss, optimizer=default_optimizer, metrics=default_metrics)\n",
    "    return default_model"
   ]
  },
  {
   "cell_type": "code",
   "execution_count": 17,
   "metadata": {},
   "outputs": [],
   "source": [
    "if (notifyStatus): email_notify(\"Phase 2 Define Model completed! \"+datetime.now().strftime('%a %B %d, %Y %I:%M:%S %p'))"
   ]
  },
  {
   "cell_type": "markdown",
   "metadata": {},
   "source": [
    "# Section 3. Fit and Evaluate Model"
   ]
  },
  {
   "cell_type": "code",
   "execution_count": 18,
   "metadata": {},
   "outputs": [],
   "source": [
    "if (notifyStatus): email_notify(\"Phase 3 Fit and Evaluate Model has begun! \"+datetime.now().strftime('%a %B %d, %Y %I:%M:%S %p'))"
   ]
  },
  {
   "cell_type": "code",
   "execution_count": 19,
   "metadata": {},
   "outputs": [
    {
     "name": "stdout",
     "output_type": "stream",
     "text": [
      "Train on 50000 samples, validate on 10000 samples\n",
      "Epoch 1/50\n",
      "50000/50000 [==============================] - 21s 411us/sample - loss: 2.2210 - accuracy: 0.1613 - val_loss: 2.0415 - val_accuracy: 0.2544\n",
      "Epoch 2/50\n",
      "50000/50000 [==============================] - 15s 303us/sample - loss: 1.9702 - accuracy: 0.2527 - val_loss: 1.7659 - val_accuracy: 0.3564\n",
      "Epoch 3/50\n",
      "50000/50000 [==============================] - 15s 300us/sample - loss: 1.7731 - accuracy: 0.3286 - val_loss: 1.7320 - val_accuracy: 0.3762\n",
      "Epoch 4/50\n",
      "50000/50000 [==============================] - 15s 299us/sample - loss: 1.6730 - accuracy: 0.3759 - val_loss: 1.5613 - val_accuracy: 0.4304\n",
      "Epoch 5/50\n",
      "50000/50000 [==============================] - 15s 296us/sample - loss: 1.5940 - accuracy: 0.4074 - val_loss: 1.4441 - val_accuracy: 0.4842\n",
      "Epoch 6/50\n",
      "50000/50000 [==============================] - 15s 301us/sample - loss: 1.5248 - accuracy: 0.4379 - val_loss: 1.3586 - val_accuracy: 0.5071\n",
      "Epoch 7/50\n",
      "50000/50000 [==============================] - 15s 301us/sample - loss: 1.4681 - accuracy: 0.4577 - val_loss: 1.3375 - val_accuracy: 0.5149\n",
      "Epoch 8/50\n",
      "50000/50000 [==============================] - 15s 301us/sample - loss: 1.4155 - accuracy: 0.4810 - val_loss: 1.2548 - val_accuracy: 0.5481\n",
      "Epoch 9/50\n",
      "50000/50000 [==============================] - 15s 299us/sample - loss: 1.3638 - accuracy: 0.5017 - val_loss: 1.2243 - val_accuracy: 0.5585\n",
      "Epoch 10/50\n",
      "50000/50000 [==============================] - 15s 303us/sample - loss: 1.3182 - accuracy: 0.5188 - val_loss: 1.1938 - val_accuracy: 0.5671\n",
      "Epoch 11/50\n",
      "50000/50000 [==============================] - 15s 306us/sample - loss: 1.2824 - accuracy: 0.5366 - val_loss: 1.1916 - val_accuracy: 0.5701\n",
      "Epoch 12/50\n",
      "50000/50000 [==============================] - 15s 301us/sample - loss: 1.2369 - accuracy: 0.5520 - val_loss: 1.1564 - val_accuracy: 0.5842\n",
      "Epoch 13/50\n",
      "50000/50000 [==============================] - 15s 297us/sample - loss: 1.2047 - accuracy: 0.5662 - val_loss: 1.0949 - val_accuracy: 0.6071\n",
      "Epoch 14/50\n",
      "50000/50000 [==============================] - 15s 308us/sample - loss: 1.1752 - accuracy: 0.5766 - val_loss: 1.0540 - val_accuracy: 0.6264\n",
      "Epoch 15/50\n",
      "50000/50000 [==============================] - 15s 305us/sample - loss: 1.1416 - accuracy: 0.5908 - val_loss: 1.0730 - val_accuracy: 0.6091\n",
      "Epoch 16/50\n",
      "50000/50000 [==============================] - 15s 302us/sample - loss: 1.1201 - accuracy: 0.5980 - val_loss: 0.9704 - val_accuracy: 0.6565\n",
      "Epoch 17/50\n",
      "50000/50000 [==============================] - 15s 299us/sample - loss: 1.0934 - accuracy: 0.6120 - val_loss: 1.0129 - val_accuracy: 0.6416\n",
      "Epoch 18/50\n",
      "50000/50000 [==============================] - 15s 305us/sample - loss: 1.0758 - accuracy: 0.6159 - val_loss: 0.9484 - val_accuracy: 0.6647\n",
      "Epoch 19/50\n",
      "50000/50000 [==============================] - 15s 296us/sample - loss: 1.0507 - accuracy: 0.6254 - val_loss: 0.9760 - val_accuracy: 0.6589\n",
      "Epoch 20/50\n",
      "50000/50000 [==============================] - 15s 299us/sample - loss: 1.0401 - accuracy: 0.6313 - val_loss: 0.9521 - val_accuracy: 0.6616\n",
      "Epoch 21/50\n",
      "50000/50000 [==============================] - 15s 298us/sample - loss: 1.0212 - accuracy: 0.6379 - val_loss: 0.8659 - val_accuracy: 0.6951\n",
      "Epoch 22/50\n",
      "50000/50000 [==============================] - 15s 303us/sample - loss: 1.0051 - accuracy: 0.6455 - val_loss: 0.8653 - val_accuracy: 0.6961\n",
      "Epoch 23/50\n",
      "50000/50000 [==============================] - 15s 302us/sample - loss: 0.9812 - accuracy: 0.6544 - val_loss: 0.8512 - val_accuracy: 0.7036\n",
      "Epoch 24/50\n",
      "50000/50000 [==============================] - 15s 302us/sample - loss: 0.9660 - accuracy: 0.6599 - val_loss: 0.8621 - val_accuracy: 0.6959\n",
      "Epoch 25/50\n",
      "50000/50000 [==============================] - 15s 298us/sample - loss: 0.9509 - accuracy: 0.6641 - val_loss: 0.8576 - val_accuracy: 0.6986\n",
      "Epoch 26/50\n",
      "50000/50000 [==============================] - 15s 304us/sample - loss: 0.9377 - accuracy: 0.6688 - val_loss: 0.8721 - val_accuracy: 0.6887\n",
      "Epoch 27/50\n",
      "50000/50000 [==============================] - 15s 300us/sample - loss: 0.9307 - accuracy: 0.6711 - val_loss: 0.8502 - val_accuracy: 0.6978\n",
      "Epoch 28/50\n",
      "50000/50000 [==============================] - 15s 302us/sample - loss: 0.9166 - accuracy: 0.6771 - val_loss: 0.8236 - val_accuracy: 0.7059\n",
      "Epoch 29/50\n",
      "50000/50000 [==============================] - 15s 304us/sample - loss: 0.9028 - accuracy: 0.6822 - val_loss: 0.7943 - val_accuracy: 0.7202\n",
      "Epoch 30/50\n",
      "50000/50000 [==============================] - 15s 304us/sample - loss: 0.8876 - accuracy: 0.6853 - val_loss: 0.8097 - val_accuracy: 0.7128\n",
      "Epoch 31/50\n",
      "50000/50000 [==============================] - 15s 301us/sample - loss: 0.8829 - accuracy: 0.6875 - val_loss: 0.7620 - val_accuracy: 0.7280\n",
      "Epoch 32/50\n",
      "50000/50000 [==============================] - 15s 301us/sample - loss: 0.8684 - accuracy: 0.6938 - val_loss: 0.7665 - val_accuracy: 0.7291\n",
      "Epoch 33/50\n",
      "50000/50000 [==============================] - 15s 301us/sample - loss: 0.8547 - accuracy: 0.6976 - val_loss: 0.7627 - val_accuracy: 0.7288\n",
      "Epoch 34/50\n",
      "50000/50000 [==============================] - 15s 302us/sample - loss: 0.8407 - accuracy: 0.7013 - val_loss: 0.7605 - val_accuracy: 0.7293\n",
      "Epoch 35/50\n",
      "50000/50000 [==============================] - 15s 298us/sample - loss: 0.8312 - accuracy: 0.7099 - val_loss: 0.7361 - val_accuracy: 0.7407\n",
      "Epoch 36/50\n",
      "50000/50000 [==============================] - 15s 300us/sample - loss: 0.8258 - accuracy: 0.7096 - val_loss: 0.7124 - val_accuracy: 0.7475\n",
      "Epoch 37/50\n",
      "50000/50000 [==============================] - 15s 302us/sample - loss: 0.8169 - accuracy: 0.7130 - val_loss: 0.7455 - val_accuracy: 0.7368\n",
      "Epoch 38/50\n",
      "50000/50000 [==============================] - 15s 304us/sample - loss: 0.8060 - accuracy: 0.7167 - val_loss: 0.7227 - val_accuracy: 0.7442\n",
      "Epoch 39/50\n",
      "50000/50000 [==============================] - 15s 299us/sample - loss: 0.7978 - accuracy: 0.7212 - val_loss: 0.7085 - val_accuracy: 0.7513\n",
      "Epoch 40/50\n",
      "50000/50000 [==============================] - 15s 302us/sample - loss: 0.7898 - accuracy: 0.7214 - val_loss: 0.6958 - val_accuracy: 0.7554\n",
      "Epoch 41/50\n",
      "50000/50000 [==============================] - 15s 299us/sample - loss: 0.7804 - accuracy: 0.7260 - val_loss: 0.6980 - val_accuracy: 0.7547\n",
      "Epoch 42/50\n",
      "50000/50000 [==============================] - 15s 302us/sample - loss: 0.7785 - accuracy: 0.7261 - val_loss: 0.6784 - val_accuracy: 0.7607\n",
      "Epoch 43/50\n",
      "50000/50000 [==============================] - 15s 302us/sample - loss: 0.7680 - accuracy: 0.7320 - val_loss: 0.7133 - val_accuracy: 0.7509\n",
      "Epoch 44/50\n",
      "50000/50000 [==============================] - 15s 305us/sample - loss: 0.7602 - accuracy: 0.7339 - val_loss: 0.6714 - val_accuracy: 0.7633\n",
      "Epoch 45/50\n",
      "50000/50000 [==============================] - 15s 310us/sample - loss: 0.7557 - accuracy: 0.7344 - val_loss: 0.6956 - val_accuracy: 0.7520\n",
      "Epoch 46/50\n",
      "50000/50000 [==============================] - 15s 306us/sample - loss: 0.7462 - accuracy: 0.7392 - val_loss: 0.6710 - val_accuracy: 0.7657\n",
      "Epoch 47/50\n",
      "50000/50000 [==============================] - 15s 305us/sample - loss: 0.7367 - accuracy: 0.7426 - val_loss: 0.6794 - val_accuracy: 0.7583\n",
      "Epoch 48/50\n",
      "50000/50000 [==============================] - 15s 302us/sample - loss: 0.7269 - accuracy: 0.7439 - val_loss: 0.6538 - val_accuracy: 0.7720\n",
      "Epoch 49/50\n",
      "50000/50000 [==============================] - 15s 308us/sample - loss: 0.7189 - accuracy: 0.7484 - val_loss: 0.6471 - val_accuracy: 0.7684\n",
      "Epoch 50/50\n",
      "50000/50000 [==============================] - 15s 302us/sample - loss: 0.7157 - accuracy: 0.7502 - val_loss: 0.6511 - val_accuracy: 0.7696\n",
      "Total time for creating the baseline model: 0:12:46.836807\n"
     ]
    }
   ],
   "source": [
    "# Initialize the baseline model\n",
    "startTimeModule = datetime.now()\n",
    "reset_random(seedNum)\n",
    "baseline_model = create_default_model()\n",
    "baseline_hist = baseline_model.fit(X_train, y_train, epochs=default_epoch, batch_size=default_batch,\n",
    "                                   validation_data=(X_test, y_test), verbose=1)\n",
    "print('Total time for creating the baseline model:', (datetime.now() - startTimeModule))"
   ]
  },
  {
   "cell_type": "code",
   "execution_count": 20,
   "metadata": {},
   "outputs": [
    {
     "name": "stdout",
     "output_type": "stream",
     "text": [
      "Model: \"sequential\"\n",
      "_________________________________________________________________\n",
      "Layer (type)                 Output Shape              Param #   \n",
      "=================================================================\n",
      "conv2d (Conv2D)              (None, 32, 32, 32)        896       \n",
      "_________________________________________________________________\n",
      "conv2d_1 (Conv2D)            (None, 32, 32, 32)        9248      \n",
      "_________________________________________________________________\n",
      "max_pooling2d (MaxPooling2D) (None, 16, 16, 32)        0         \n",
      "_________________________________________________________________\n",
      "dropout (Dropout)            (None, 16, 16, 32)        0         \n",
      "_________________________________________________________________\n",
      "conv2d_2 (Conv2D)            (None, 16, 16, 64)        18496     \n",
      "_________________________________________________________________\n",
      "conv2d_3 (Conv2D)            (None, 16, 16, 64)        36928     \n",
      "_________________________________________________________________\n",
      "max_pooling2d_1 (MaxPooling2 (None, 8, 8, 64)          0         \n",
      "_________________________________________________________________\n",
      "dropout_1 (Dropout)          (None, 8, 8, 64)          0         \n",
      "_________________________________________________________________\n",
      "conv2d_4 (Conv2D)            (None, 8, 8, 128)         73856     \n",
      "_________________________________________________________________\n",
      "conv2d_5 (Conv2D)            (None, 8, 8, 128)         147584    \n",
      "_________________________________________________________________\n",
      "max_pooling2d_2 (MaxPooling2 (None, 4, 4, 128)         0         \n",
      "_________________________________________________________________\n",
      "dropout_2 (Dropout)          (None, 4, 4, 128)         0         \n",
      "_________________________________________________________________\n",
      "flatten (Flatten)            (None, 2048)              0         \n",
      "_________________________________________________________________\n",
      "dense (Dense)                (None, 128)               262272    \n",
      "_________________________________________________________________\n",
      "dropout_3 (Dropout)          (None, 128)               0         \n",
      "_________________________________________________________________\n",
      "dense_1 (Dense)              (None, 10)                1290      \n",
      "=================================================================\n",
      "Total params: 550,570\n",
      "Trainable params: 550,570\n",
      "Non-trainable params: 0\n",
      "_________________________________________________________________\n",
      "None\n"
     ]
    }
   ],
   "source": [
    "# Display a summary of the baseline model\n",
    "print(baseline_model.summary())"
   ]
  },
  {
   "cell_type": "code",
   "execution_count": 21,
   "metadata": {},
   "outputs": [
    {
     "name": "stdout",
     "output_type": "stream",
     "text": [
      "{'name': 'sequential', 'layers': [{'class_name': 'Conv2D', 'config': {'name': 'conv2d', 'trainable': True, 'batch_input_shape': (None, 32, 32, 3), 'dtype': 'float32', 'filters': 32, 'kernel_size': (3, 3), 'strides': (1, 1), 'padding': 'same', 'data_format': 'channels_last', 'dilation_rate': (1, 1), 'activation': 'relu', 'use_bias': True, 'kernel_initializer': {'class_name': 'VarianceScaling', 'config': {'scale': 2.0, 'mode': 'fan_in', 'distribution': 'uniform', 'seed': 888}}, 'bias_initializer': {'class_name': 'Zeros', 'config': {}}, 'kernel_regularizer': None, 'bias_regularizer': None, 'activity_regularizer': None, 'kernel_constraint': None, 'bias_constraint': None}}, {'class_name': 'Conv2D', 'config': {'name': 'conv2d_1', 'trainable': True, 'dtype': 'float32', 'filters': 32, 'kernel_size': (3, 3), 'strides': (1, 1), 'padding': 'same', 'data_format': 'channels_last', 'dilation_rate': (1, 1), 'activation': 'relu', 'use_bias': True, 'kernel_initializer': {'class_name': 'VarianceScaling', 'config': {'scale': 2.0, 'mode': 'fan_in', 'distribution': 'uniform', 'seed': 888}}, 'bias_initializer': {'class_name': 'Zeros', 'config': {}}, 'kernel_regularizer': None, 'bias_regularizer': None, 'activity_regularizer': None, 'kernel_constraint': None, 'bias_constraint': None}}, {'class_name': 'MaxPooling2D', 'config': {'name': 'max_pooling2d', 'trainable': True, 'dtype': 'float32', 'pool_size': (2, 2), 'padding': 'valid', 'strides': (2, 2), 'data_format': 'channels_last'}}, {'class_name': 'Dropout', 'config': {'name': 'dropout', 'trainable': True, 'dtype': 'float32', 'rate': 0.2, 'noise_shape': None, 'seed': None}}, {'class_name': 'Conv2D', 'config': {'name': 'conv2d_2', 'trainable': True, 'dtype': 'float32', 'filters': 64, 'kernel_size': (3, 3), 'strides': (1, 1), 'padding': 'same', 'data_format': 'channels_last', 'dilation_rate': (1, 1), 'activation': 'relu', 'use_bias': True, 'kernel_initializer': {'class_name': 'VarianceScaling', 'config': {'scale': 2.0, 'mode': 'fan_in', 'distribution': 'uniform', 'seed': 888}}, 'bias_initializer': {'class_name': 'Zeros', 'config': {}}, 'kernel_regularizer': None, 'bias_regularizer': None, 'activity_regularizer': None, 'kernel_constraint': None, 'bias_constraint': None}}, {'class_name': 'Conv2D', 'config': {'name': 'conv2d_3', 'trainable': True, 'dtype': 'float32', 'filters': 64, 'kernel_size': (3, 3), 'strides': (1, 1), 'padding': 'same', 'data_format': 'channels_last', 'dilation_rate': (1, 1), 'activation': 'relu', 'use_bias': True, 'kernel_initializer': {'class_name': 'VarianceScaling', 'config': {'scale': 2.0, 'mode': 'fan_in', 'distribution': 'uniform', 'seed': 888}}, 'bias_initializer': {'class_name': 'Zeros', 'config': {}}, 'kernel_regularizer': None, 'bias_regularizer': None, 'activity_regularizer': None, 'kernel_constraint': None, 'bias_constraint': None}}, {'class_name': 'MaxPooling2D', 'config': {'name': 'max_pooling2d_1', 'trainable': True, 'dtype': 'float32', 'pool_size': (2, 2), 'padding': 'valid', 'strides': (2, 2), 'data_format': 'channels_last'}}, {'class_name': 'Dropout', 'config': {'name': 'dropout_1', 'trainable': True, 'dtype': 'float32', 'rate': 0.3, 'noise_shape': None, 'seed': None}}, {'class_name': 'Conv2D', 'config': {'name': 'conv2d_4', 'trainable': True, 'dtype': 'float32', 'filters': 128, 'kernel_size': (3, 3), 'strides': (1, 1), 'padding': 'same', 'data_format': 'channels_last', 'dilation_rate': (1, 1), 'activation': 'relu', 'use_bias': True, 'kernel_initializer': {'class_name': 'VarianceScaling', 'config': {'scale': 2.0, 'mode': 'fan_in', 'distribution': 'uniform', 'seed': 888}}, 'bias_initializer': {'class_name': 'Zeros', 'config': {}}, 'kernel_regularizer': None, 'bias_regularizer': None, 'activity_regularizer': None, 'kernel_constraint': None, 'bias_constraint': None}}, {'class_name': 'Conv2D', 'config': {'name': 'conv2d_5', 'trainable': True, 'dtype': 'float32', 'filters': 128, 'kernel_size': (3, 3), 'strides': (1, 1), 'padding': 'same', 'data_format': 'channels_last', 'dilation_rate': (1, 1), 'activation': 'relu', 'use_bias': True, 'kernel_initializer': {'class_name': 'VarianceScaling', 'config': {'scale': 2.0, 'mode': 'fan_in', 'distribution': 'uniform', 'seed': 888}}, 'bias_initializer': {'class_name': 'Zeros', 'config': {}}, 'kernel_regularizer': None, 'bias_regularizer': None, 'activity_regularizer': None, 'kernel_constraint': None, 'bias_constraint': None}}, {'class_name': 'MaxPooling2D', 'config': {'name': 'max_pooling2d_2', 'trainable': True, 'dtype': 'float32', 'pool_size': (2, 2), 'padding': 'valid', 'strides': (2, 2), 'data_format': 'channels_last'}}, {'class_name': 'Dropout', 'config': {'name': 'dropout_2', 'trainable': True, 'dtype': 'float32', 'rate': 0.4, 'noise_shape': None, 'seed': None}}, {'class_name': 'Flatten', 'config': {'name': 'flatten', 'trainable': True, 'dtype': 'float32', 'data_format': 'channels_last'}}, {'class_name': 'Dense', 'config': {'name': 'dense', 'trainable': True, 'dtype': 'float32', 'units': 128, 'activation': 'relu', 'use_bias': True, 'kernel_initializer': {'class_name': 'VarianceScaling', 'config': {'scale': 2.0, 'mode': 'fan_in', 'distribution': 'uniform', 'seed': 888}}, 'bias_initializer': {'class_name': 'Zeros', 'config': {}}, 'kernel_regularizer': None, 'bias_regularizer': None, 'activity_regularizer': None, 'kernel_constraint': None, 'bias_constraint': None}}, {'class_name': 'Dropout', 'config': {'name': 'dropout_3', 'trainable': True, 'dtype': 'float32', 'rate': 0.5, 'noise_shape': None, 'seed': None}}, {'class_name': 'Dense', 'config': {'name': 'dense_1', 'trainable': True, 'dtype': 'float32', 'units': 10, 'activation': 'softmax', 'use_bias': True, 'kernel_initializer': {'class_name': 'VarianceScaling', 'config': {'scale': 2.0, 'mode': 'fan_in', 'distribution': 'uniform', 'seed': 888}}, 'bias_initializer': {'class_name': 'Zeros', 'config': {}}, 'kernel_regularizer': None, 'bias_regularizer': None, 'activity_regularizer': None, 'kernel_constraint': None, 'bias_constraint': None}}]}\n"
     ]
    }
   ],
   "source": [
    "# Display the configuration of the baseline model\n",
    "print(baseline_model.get_config())"
   ]
  },
  {
   "cell_type": "code",
   "execution_count": 22,
   "metadata": {},
   "outputs": [
    {
     "name": "stdout",
     "output_type": "stream",
     "text": [
      "dict_keys(['loss', 'accuracy', 'val_loss', 'val_accuracy'])\n"
     ]
    }
   ],
   "source": [
    "# List all data points in the baseline model training history\n",
    "print(baseline_hist.history.keys())"
   ]
  },
  {
   "cell_type": "code",
   "execution_count": 23,
   "metadata": {},
   "outputs": [
    {
     "data": {
      "image/png": "[encoded data removed]",
      "text/plain": [
       "<Figure size 864x864 with 2 Axes>"
      ]
     },
     "metadata": {
      "needs_background": "light"
     },
     "output_type": "display_data"
    }
   ],
   "source": [
    "# Summarize model training hisotry for accuracy and loss\n",
    "fig, axs = plt.subplots(2, 1, figsize=(12,12))\n",
    "plt.subplot(211)\n",
    "plt.plot(baseline_hist.history['accuracy'], color='blue', label='train')\n",
    "plt.plot(baseline_hist.history['val_accuracy'], color='red', label='test')\n",
    "plt.title('Baseline Model Training Performance (Accuracy)')\n",
    "plt.ylabel('Accuracy')\n",
    "plt.xlabel('Epoch')\n",
    "plt.legend(['Train', 'Test'], loc='upper right')\n",
    "plt.subplot(212)\n",
    "plt.plot(baseline_hist.history['loss'], color='blue', label='train')\n",
    "plt.plot(baseline_hist.history['val_loss'], color='red', label='test')\n",
    "plt.title('Baseline Model Training Performance (Loss)')\n",
    "plt.ylabel('Loss')\n",
    "plt.xlabel('Epoch')\n",
    "plt.legend(['Train', 'Test'], loc='upper right')\n",
    "plt.show()"
   ]
  },
  {
   "cell_type": "code",
   "execution_count": 24,
   "metadata": {},
   "outputs": [],
   "source": [
    "if (notifyStatus): email_notify(\"Phase 3 Fit and Evaluate Model completed! \"+datetime.now().strftime('%a %B %d, %Y %I:%M:%S %p'))"
   ]
  },
  {
   "cell_type": "markdown",
   "metadata": {},
   "source": [
    "# Section 4. Optimize Model"
   ]
  },
  {
   "cell_type": "code",
   "execution_count": 25,
   "metadata": {},
   "outputs": [],
   "source": [
    "if (notifyStatus): email_notify(\"Phase 4 Optimize Model has begun! \"+datetime.now().strftime('%a %B %d, %Y %I:%M:%S %p'))"
   ]
  },
  {
   "cell_type": "code",
   "execution_count": 26,
   "metadata": {},
   "outputs": [],
   "source": [
    "# Define the Keras model required for KerasClassifier\n",
    "def create_customized_model(optimizer, kernel_init):\n",
    "    customized_model = Sequential()\n",
    "    customized_model.add(Conv2D(32, (3, 3), activation='relu', kernel_initializer=kernel_init, padding='same', input_shape=(32, 32, 3)))\n",
    "    customized_model.add(Conv2D(32, (3, 3), activation='relu', kernel_initializer=kernel_init, padding='same'))\n",
    "    customized_model.add(MaxPooling2D((2, 2)))\n",
    "    customized_model.add(Dropout(0.2))\n",
    "    customized_model.add(Conv2D(64, (3, 3), activation='relu', kernel_initializer=kernel_init, padding='same'))\n",
    "    customized_model.add(Conv2D(64, (3, 3), activation='relu', kernel_initializer=kernel_init, padding='same'))\n",
    "    customized_model.add(MaxPooling2D((2, 2)))\n",
    "    customized_model.add(Dropout(0.3))\n",
    "    customized_model.add(Conv2D(128, (3, 3), activation='relu', kernel_initializer=kernel_init, padding='same'))\n",
    "    customized_model.add(Conv2D(128, (3, 3), activation='relu', kernel_initializer=kernel_init, padding='same'))\n",
    "    customized_model.add(MaxPooling2D((2, 2)))\n",
    "    customized_model.add(Dropout(0.4))\n",
    "    customized_model.add(Flatten())\n",
    "    customized_model.add(Dense(128, activation='relu', kernel_initializer=kernel_init))\n",
    "    customized_model.add(Dropout(0.5))\n",
    "    customized_model.add(Dense(num_classes, activation='softmax', kernel_initializer=kernel_init))\n",
    "    customized_model.compile(loss=default_loss, optimizer=optimizer, metrics=default_metrics)\n",
    "    return customized_model"
   ]
  },
  {
   "cell_type": "code",
   "execution_count": 27,
   "metadata": {},
   "outputs": [],
   "source": [
    "if (notifyStatus): email_notify(\"Phase 4 Optimize Model completed! \"+datetime.now().strftime('%a %B %d, %Y %I:%M:%S %p'))"
   ]
  },
  {
   "cell_type": "markdown",
   "metadata": {},
   "source": [
    "# Section 5. Finalize Model"
   ]
  },
  {
   "cell_type": "code",
   "execution_count": 28,
   "metadata": {},
   "outputs": [],
   "source": [
    "if (notifyStatus): email_notify(\"Phase 5 Finalize Model has begun! \"+datetime.now().strftime('%a %B %d, %Y %I:%M:%S %p'))"
   ]
  },
  {
   "cell_type": "code",
   "execution_count": 31,
   "metadata": {},
   "outputs": [],
   "source": [
    "# Last modifications to the model to improve its effectiveness\n",
    "best_optimizer = default_optimizer\n",
    "best_kernel_init = default_kernel_init\n",
    "best_epoch = int(default_epoch * 2)\n",
    "best_batch = default_batch"
   ]
  },
  {
   "cell_type": "code",
   "execution_count": 32,
   "metadata": {},
   "outputs": [
    {
     "name": "stdout",
     "output_type": "stream",
     "text": [
      "Forming the final model using: optimizer=<tensorflow.python.keras.optimizer_v2.gradient_descent.SGD object at 0x7f45e87a8978>, kernel=<tensorflow.python.ops.init_ops_v2.VarianceScaling object at 0x7f45e87a8898>, epochs=100, batch_size=64\n",
      "Train on 50000 samples, validate on 10000 samples\n",
      "Epoch 1/100\n",
      "50000/50000 [==============================] - 17s 330us/sample - loss: 2.2224 - accuracy: 0.1611 - val_loss: 2.0384 - val_accuracy: 0.2588\n",
      "Epoch 2/100\n",
      "50000/50000 [==============================] - 15s 306us/sample - loss: 1.9672 - accuracy: 0.2548 - val_loss: 1.7782 - val_accuracy: 0.3631\n",
      "Epoch 3/100\n",
      "50000/50000 [==============================] - 15s 306us/sample - loss: 1.7703 - accuracy: 0.3315 - val_loss: 1.7027 - val_accuracy: 0.3833\n",
      "Epoch 4/100\n",
      "50000/50000 [==============================] - 15s 307us/sample - loss: 1.6730 - accuracy: 0.3722 - val_loss: 1.5953 - val_accuracy: 0.4211\n",
      "Epoch 5/100\n",
      "50000/50000 [==============================] - 15s 306us/sample - loss: 1.5940 - accuracy: 0.4081 - val_loss: 1.4486 - val_accuracy: 0.4810\n",
      "Epoch 6/100\n",
      "50000/50000 [==============================] - 15s 304us/sample - loss: 1.5291 - accuracy: 0.4346 - val_loss: 1.3812 - val_accuracy: 0.4959\n",
      "Epoch 7/100\n",
      "50000/50000 [==============================] - 15s 308us/sample - loss: 1.4713 - accuracy: 0.4574 - val_loss: 1.3613 - val_accuracy: 0.5048\n",
      "Epoch 8/100\n",
      "50000/50000 [==============================] - 15s 306us/sample - loss: 1.4212 - accuracy: 0.4789 - val_loss: 1.2827 - val_accuracy: 0.5369\n",
      "Epoch 9/100\n",
      "50000/50000 [==============================] - 15s 307us/sample - loss: 1.3730 - accuracy: 0.4984 - val_loss: 1.2459 - val_accuracy: 0.5583\n",
      "Epoch 10/100\n",
      "50000/50000 [==============================] - 16s 313us/sample - loss: 1.3288 - accuracy: 0.5159 - val_loss: 1.1932 - val_accuracy: 0.5726\n",
      "Epoch 11/100\n",
      "50000/50000 [==============================] - 15s 304us/sample - loss: 1.2865 - accuracy: 0.5349 - val_loss: 1.2384 - val_accuracy: 0.5522\n",
      "Epoch 12/100\n",
      "50000/50000 [==============================] - 15s 305us/sample - loss: 1.2408 - accuracy: 0.5537 - val_loss: 1.1768 - val_accuracy: 0.5788\n",
      "Epoch 13/100\n",
      "50000/50000 [==============================] - 15s 305us/sample - loss: 1.2084 - accuracy: 0.5638 - val_loss: 1.1216 - val_accuracy: 0.5994\n",
      "Epoch 14/100\n",
      "50000/50000 [==============================] - 15s 304us/sample - loss: 1.1760 - accuracy: 0.5778 - val_loss: 1.0714 - val_accuracy: 0.6156\n",
      "Epoch 15/100\n",
      "50000/50000 [==============================] - 15s 303us/sample - loss: 1.1427 - accuracy: 0.5923 - val_loss: 1.0531 - val_accuracy: 0.6195\n",
      "Epoch 16/100\n",
      "50000/50000 [==============================] - 15s 301us/sample - loss: 1.1204 - accuracy: 0.5992 - val_loss: 0.9914 - val_accuracy: 0.6532\n",
      "Epoch 17/100\n",
      "50000/50000 [==============================] - 15s 299us/sample - loss: 1.0965 - accuracy: 0.6093 - val_loss: 1.0187 - val_accuracy: 0.6439\n",
      "Epoch 18/100\n",
      "50000/50000 [==============================] - 15s 304us/sample - loss: 1.0717 - accuracy: 0.6194 - val_loss: 0.9590 - val_accuracy: 0.6632\n",
      "Epoch 19/100\n",
      "50000/50000 [==============================] - 15s 306us/sample - loss: 1.0483 - accuracy: 0.6275 - val_loss: 0.9479 - val_accuracy: 0.6659\n",
      "Epoch 20/100\n",
      "50000/50000 [==============================] - 15s 301us/sample - loss: 1.0325 - accuracy: 0.6332 - val_loss: 0.9450 - val_accuracy: 0.6624\n",
      "Epoch 21/100\n",
      "50000/50000 [==============================] - 15s 301us/sample - loss: 1.0168 - accuracy: 0.6406 - val_loss: 0.8886 - val_accuracy: 0.6903\n",
      "Epoch 22/100\n",
      "50000/50000 [==============================] - 15s 300us/sample - loss: 1.0027 - accuracy: 0.6459 - val_loss: 0.8711 - val_accuracy: 0.6920\n",
      "Epoch 23/100\n",
      "50000/50000 [==============================] - 15s 301us/sample - loss: 0.9781 - accuracy: 0.6538 - val_loss: 0.8703 - val_accuracy: 0.6905\n",
      "Epoch 24/100\n",
      "50000/50000 [==============================] - 15s 306us/sample - loss: 0.9690 - accuracy: 0.6566 - val_loss: 0.8649 - val_accuracy: 0.6914\n",
      "Epoch 25/100\n",
      "50000/50000 [==============================] - 15s 308us/sample - loss: 0.9538 - accuracy: 0.6629 - val_loss: 0.8771 - val_accuracy: 0.6860\n",
      "Epoch 26/100\n",
      "50000/50000 [==============================] - 15s 307us/sample - loss: 0.9388 - accuracy: 0.6693 - val_loss: 0.9099 - val_accuracy: 0.6742\n",
      "Epoch 27/100\n",
      "50000/50000 [==============================] - 15s 301us/sample - loss: 0.9312 - accuracy: 0.6713 - val_loss: 0.8420 - val_accuracy: 0.6950\n",
      "Epoch 28/100\n",
      "50000/50000 [==============================] - 15s 301us/sample - loss: 0.9183 - accuracy: 0.6744 - val_loss: 0.8175 - val_accuracy: 0.7099\n",
      "Epoch 29/100\n",
      "50000/50000 [==============================] - 15s 308us/sample - loss: 0.9101 - accuracy: 0.6803 - val_loss: 0.8279 - val_accuracy: 0.7081\n",
      "Epoch 30/100\n",
      "50000/50000 [==============================] - 15s 308us/sample - loss: 0.8941 - accuracy: 0.6843 - val_loss: 0.8073 - val_accuracy: 0.7130\n",
      "Epoch 31/100\n",
      "50000/50000 [==============================] - 15s 297us/sample - loss: 0.8847 - accuracy: 0.6877 - val_loss: 0.7974 - val_accuracy: 0.7149\n",
      "Epoch 32/100\n",
      "50000/50000 [==============================] - 15s 303us/sample - loss: 0.8691 - accuracy: 0.6943 - val_loss: 0.7623 - val_accuracy: 0.7292\n",
      "Epoch 33/100\n",
      "50000/50000 [==============================] - 15s 298us/sample - loss: 0.8623 - accuracy: 0.6959 - val_loss: 0.7593 - val_accuracy: 0.7314\n",
      "Epoch 34/100\n",
      "50000/50000 [==============================] - 15s 299us/sample - loss: 0.8521 - accuracy: 0.6979 - val_loss: 0.7540 - val_accuracy: 0.7302\n",
      "Epoch 35/100\n",
      "50000/50000 [==============================] - 15s 303us/sample - loss: 0.8438 - accuracy: 0.7041 - val_loss: 0.7459 - val_accuracy: 0.7326\n",
      "Epoch 36/100\n",
      "50000/50000 [==============================] - 15s 301us/sample - loss: 0.8367 - accuracy: 0.7064 - val_loss: 0.7347 - val_accuracy: 0.7398\n",
      "Epoch 37/100\n",
      "50000/50000 [==============================] - 15s 300us/sample - loss: 0.8278 - accuracy: 0.7074 - val_loss: 0.7418 - val_accuracy: 0.7351\n",
      "Epoch 38/100\n",
      "50000/50000 [==============================] - 15s 304us/sample - loss: 0.8162 - accuracy: 0.7126 - val_loss: 0.7288 - val_accuracy: 0.7430\n",
      "Epoch 39/100\n",
      "50000/50000 [==============================] - 15s 298us/sample - loss: 0.8053 - accuracy: 0.7178 - val_loss: 0.7150 - val_accuracy: 0.7508\n",
      "Epoch 40/100\n",
      "50000/50000 [==============================] - 15s 301us/sample - loss: 0.7980 - accuracy: 0.7201 - val_loss: 0.7131 - val_accuracy: 0.7473\n",
      "Epoch 41/100\n",
      "50000/50000 [==============================] - 15s 301us/sample - loss: 0.7913 - accuracy: 0.7225 - val_loss: 0.6959 - val_accuracy: 0.7534\n",
      "Epoch 42/100\n",
      "50000/50000 [==============================] - 15s 304us/sample - loss: 0.7813 - accuracy: 0.7246 - val_loss: 0.6966 - val_accuracy: 0.7531\n",
      "Epoch 43/100\n",
      "50000/50000 [==============================] - 15s 305us/sample - loss: 0.7789 - accuracy: 0.7266 - val_loss: 0.6919 - val_accuracy: 0.7546\n",
      "Epoch 44/100\n",
      "50000/50000 [==============================] - 15s 303us/sample - loss: 0.7661 - accuracy: 0.7318 - val_loss: 0.6779 - val_accuracy: 0.7619\n",
      "Epoch 45/100\n",
      "50000/50000 [==============================] - 15s 298us/sample - loss: 0.7654 - accuracy: 0.7309 - val_loss: 0.6739 - val_accuracy: 0.7602\n",
      "Epoch 46/100\n",
      "50000/50000 [==============================] - 15s 302us/sample - loss: 0.7543 - accuracy: 0.7373 - val_loss: 0.6671 - val_accuracy: 0.7627\n",
      "Epoch 47/100\n",
      "50000/50000 [==============================] - 15s 309us/sample - loss: 0.7449 - accuracy: 0.7382 - val_loss: 0.6803 - val_accuracy: 0.7610\n",
      "Epoch 48/100\n",
      "50000/50000 [==============================] - 15s 302us/sample - loss: 0.7389 - accuracy: 0.7421 - val_loss: 0.6491 - val_accuracy: 0.7745\n",
      "Epoch 49/100\n",
      "50000/50000 [==============================] - 15s 303us/sample - loss: 0.7265 - accuracy: 0.7471 - val_loss: 0.6677 - val_accuracy: 0.7619\n",
      "Epoch 50/100\n",
      "50000/50000 [==============================] - 15s 303us/sample - loss: 0.7236 - accuracy: 0.7480 - val_loss: 0.6498 - val_accuracy: 0.7727\n",
      "Epoch 51/100\n",
      "50000/50000 [==============================] - 15s 299us/sample - loss: 0.7209 - accuracy: 0.7477 - val_loss: 0.6496 - val_accuracy: 0.7727\n",
      "Epoch 52/100\n",
      "50000/50000 [==============================] - 15s 302us/sample - loss: 0.7082 - accuracy: 0.7509 - val_loss: 0.6744 - val_accuracy: 0.7663\n",
      "Epoch 53/100\n",
      "50000/50000 [==============================] - 15s 301us/sample - loss: 0.7032 - accuracy: 0.7542 - val_loss: 0.6518 - val_accuracy: 0.7752\n",
      "Epoch 54/100\n",
      "50000/50000 [==============================] - 15s 300us/sample - loss: 0.6998 - accuracy: 0.7535 - val_loss: 0.6341 - val_accuracy: 0.7770\n",
      "Epoch 55/100\n",
      "50000/50000 [==============================] - 15s 299us/sample - loss: 0.6922 - accuracy: 0.7577 - val_loss: 0.6267 - val_accuracy: 0.7834\n",
      "Epoch 56/100\n",
      "50000/50000 [==============================] - 15s 298us/sample - loss: 0.6867 - accuracy: 0.7609 - val_loss: 0.6363 - val_accuracy: 0.7790\n",
      "Epoch 57/100\n",
      "50000/50000 [==============================] - 15s 302us/sample - loss: 0.6804 - accuracy: 0.7625 - val_loss: 0.6271 - val_accuracy: 0.7805\n",
      "Epoch 58/100\n",
      "50000/50000 [==============================] - 15s 309us/sample - loss: 0.6727 - accuracy: 0.7645 - val_loss: 0.6375 - val_accuracy: 0.7762\n",
      "Epoch 59/100\n",
      "50000/50000 [==============================] - 15s 303us/sample - loss: 0.6702 - accuracy: 0.7638 - val_loss: 0.6121 - val_accuracy: 0.7854\n",
      "Epoch 60/100\n",
      "50000/50000 [==============================] - 15s 302us/sample - loss: 0.6652 - accuracy: 0.7669 - val_loss: 0.6015 - val_accuracy: 0.7913\n",
      "Epoch 61/100\n",
      "50000/50000 [==============================] - 15s 304us/sample - loss: 0.6575 - accuracy: 0.7697 - val_loss: 0.6163 - val_accuracy: 0.7875\n",
      "Epoch 62/100\n",
      "50000/50000 [==============================] - 15s 306us/sample - loss: 0.6508 - accuracy: 0.7738 - val_loss: 0.5980 - val_accuracy: 0.7950\n",
      "Epoch 63/100\n",
      "50000/50000 [==============================] - 15s 300us/sample - loss: 0.6520 - accuracy: 0.7732 - val_loss: 0.6127 - val_accuracy: 0.7869\n",
      "Epoch 64/100\n",
      "50000/50000 [==============================] - 15s 304us/sample - loss: 0.6430 - accuracy: 0.7764 - val_loss: 0.5989 - val_accuracy: 0.7929\n",
      "Epoch 65/100\n",
      "50000/50000 [==============================] - 15s 297us/sample - loss: 0.6421 - accuracy: 0.7772 - val_loss: 0.5933 - val_accuracy: 0.7951\n",
      "Epoch 66/100\n",
      "50000/50000 [==============================] - 15s 301us/sample - loss: 0.6345 - accuracy: 0.7775 - val_loss: 0.6089 - val_accuracy: 0.7912\n",
      "Epoch 67/100\n",
      "50000/50000 [==============================] - 15s 298us/sample - loss: 0.6242 - accuracy: 0.7826 - val_loss: 0.5869 - val_accuracy: 0.7975\n",
      "Epoch 68/100\n",
      "50000/50000 [==============================] - 15s 300us/sample - loss: 0.6236 - accuracy: 0.7802 - val_loss: 0.5785 - val_accuracy: 0.7985\n",
      "Epoch 69/100\n",
      "50000/50000 [==============================] - 15s 302us/sample - loss: 0.6188 - accuracy: 0.7842 - val_loss: 0.6015 - val_accuracy: 0.7907\n",
      "Epoch 70/100\n",
      "50000/50000 [==============================] - 15s 302us/sample - loss: 0.6144 - accuracy: 0.7859 - val_loss: 0.5716 - val_accuracy: 0.8001\n",
      "Epoch 71/100\n",
      "50000/50000 [==============================] - 15s 301us/sample - loss: 0.6147 - accuracy: 0.7863 - val_loss: 0.5762 - val_accuracy: 0.7986\n",
      "Epoch 72/100\n",
      "50000/50000 [==============================] - 15s 299us/sample - loss: 0.6042 - accuracy: 0.7907 - val_loss: 0.5908 - val_accuracy: 0.7919\n",
      "Epoch 73/100\n",
      "50000/50000 [==============================] - 15s 298us/sample - loss: 0.6019 - accuracy: 0.7893 - val_loss: 0.5960 - val_accuracy: 0.7965\n",
      "Epoch 74/100\n",
      "50000/50000 [==============================] - 15s 304us/sample - loss: 0.5965 - accuracy: 0.7918 - val_loss: 0.5744 - val_accuracy: 0.8005\n",
      "Epoch 75/100\n",
      "50000/50000 [==============================] - 15s 305us/sample - loss: 0.5946 - accuracy: 0.7924 - val_loss: 0.5605 - val_accuracy: 0.8070\n",
      "Epoch 76/100\n",
      "50000/50000 [==============================] - 16s 311us/sample - loss: 0.5867 - accuracy: 0.7966 - val_loss: 0.5620 - val_accuracy: 0.8073\n",
      "Epoch 77/100\n",
      "50000/50000 [==============================] - 15s 305us/sample - loss: 0.5889 - accuracy: 0.7957 - val_loss: 0.5971 - val_accuracy: 0.7886\n",
      "Epoch 78/100\n",
      "50000/50000 [==============================] - 15s 300us/sample - loss: 0.5817 - accuracy: 0.7968 - val_loss: 0.5787 - val_accuracy: 0.8024\n",
      "Epoch 79/100\n",
      "50000/50000 [==============================] - 15s 304us/sample - loss: 0.5726 - accuracy: 0.7985 - val_loss: 0.5580 - val_accuracy: 0.8084\n",
      "Epoch 80/100\n",
      "50000/50000 [==============================] - 15s 304us/sample - loss: 0.5798 - accuracy: 0.7980 - val_loss: 0.5614 - val_accuracy: 0.8085\n",
      "Epoch 81/100\n",
      "50000/50000 [==============================] - 15s 303us/sample - loss: 0.5700 - accuracy: 0.8004 - val_loss: 0.5647 - val_accuracy: 0.8039\n",
      "Epoch 82/100\n",
      "50000/50000 [==============================] - 15s 304us/sample - loss: 0.5615 - accuracy: 0.8041 - val_loss: 0.5788 - val_accuracy: 0.8015\n",
      "Epoch 83/100\n",
      "50000/50000 [==============================] - 15s 306us/sample - loss: 0.5658 - accuracy: 0.8044 - val_loss: 0.5516 - val_accuracy: 0.8106\n",
      "Epoch 84/100\n",
      "50000/50000 [==============================] - 15s 298us/sample - loss: 0.5609 - accuracy: 0.8056 - val_loss: 0.5431 - val_accuracy: 0.8129\n",
      "Epoch 85/100\n",
      "50000/50000 [==============================] - 15s 300us/sample - loss: 0.5541 - accuracy: 0.8063 - val_loss: 0.5696 - val_accuracy: 0.8087\n",
      "Epoch 86/100\n",
      "50000/50000 [==============================] - 15s 310us/sample - loss: 0.5548 - accuracy: 0.8087 - val_loss: 0.5638 - val_accuracy: 0.8054\n",
      "Epoch 87/100\n",
      "50000/50000 [==============================] - 15s 307us/sample - loss: 0.5468 - accuracy: 0.8104 - val_loss: 0.5307 - val_accuracy: 0.8179\n",
      "Epoch 88/100\n",
      "50000/50000 [==============================] - 15s 305us/sample - loss: 0.5443 - accuracy: 0.8108 - val_loss: 0.5360 - val_accuracy: 0.8196\n",
      "Epoch 89/100\n",
      "50000/50000 [==============================] - 15s 300us/sample - loss: 0.5394 - accuracy: 0.8117 - val_loss: 0.5413 - val_accuracy: 0.8165\n",
      "Epoch 90/100\n",
      "50000/50000 [==============================] - 15s 302us/sample - loss: 0.5384 - accuracy: 0.8117 - val_loss: 0.5427 - val_accuracy: 0.8147\n",
      "Epoch 91/100\n",
      "50000/50000 [==============================] - 15s 303us/sample - loss: 0.5316 - accuracy: 0.8161 - val_loss: 0.5471 - val_accuracy: 0.8139\n",
      "Epoch 92/100\n",
      "50000/50000 [==============================] - 15s 304us/sample - loss: 0.5312 - accuracy: 0.8145 - val_loss: 0.5335 - val_accuracy: 0.8166\n",
      "Epoch 93/100\n",
      "50000/50000 [==============================] - 15s 298us/sample - loss: 0.5257 - accuracy: 0.8164 - val_loss: 0.5307 - val_accuracy: 0.8189\n",
      "Epoch 94/100\n",
      "50000/50000 [==============================] - 15s 309us/sample - loss: 0.5265 - accuracy: 0.8172 - val_loss: 0.5181 - val_accuracy: 0.8247\n",
      "Epoch 95/100\n",
      "50000/50000 [==============================] - 15s 306us/sample - loss: 0.5193 - accuracy: 0.8184 - val_loss: 0.5352 - val_accuracy: 0.8185\n",
      "Epoch 96/100\n",
      "50000/50000 [==============================] - 15s 297us/sample - loss: 0.5229 - accuracy: 0.8181 - val_loss: 0.5310 - val_accuracy: 0.8215\n",
      "Epoch 97/100\n",
      "50000/50000 [==============================] - 15s 297us/sample - loss: 0.5160 - accuracy: 0.8186 - val_loss: 0.5313 - val_accuracy: 0.8194\n",
      "Epoch 98/100\n",
      "50000/50000 [==============================] - 15s 303us/sample - loss: 0.5177 - accuracy: 0.8195 - val_loss: 0.5268 - val_accuracy: 0.8221\n",
      "Epoch 99/100\n",
      "50000/50000 [==============================] - 15s 297us/sample - loss: 0.5121 - accuracy: 0.8220 - val_loss: 0.5243 - val_accuracy: 0.8238\n",
      "Epoch 100/100\n",
      "50000/50000 [==============================] - 15s 303us/sample - loss: 0.5101 - accuracy: 0.8222 - val_loss: 0.5129 - val_accuracy: 0.8235\n",
      "Total time for training the final model: 0:25:18.298862\n"
     ]
    }
   ],
   "source": [
    "# Create the final model for evaluating the test dataset\n",
    "startTimeModule = datetime.now()\n",
    "print('Forming the final model using: optimizer=%s, kernel=%s, epochs=%d, batch_size=%d'\n",
    "      % (best_optimizer, best_kernel_init, best_epoch, best_batch))\n",
    "reset_random(seedNum)\n",
    "final_model = create_customized_model(best_optimizer, best_kernel_init)\n",
    "final_hist = final_model.fit(X_train, y_train, epochs=best_epoch, batch_size=best_batch, validation_data=(X_test, y_test), verbose=1)\n",
    "print('Total time for training the final model:', (datetime.now() - startTimeModule))"
   ]
  },
  {
   "cell_type": "code",
   "execution_count": 33,
   "metadata": {},
   "outputs": [
    {
     "name": "stdout",
     "output_type": "stream",
     "text": [
      "Model: \"sequential_2\"\n",
      "_________________________________________________________________\n",
      "Layer (type)                 Output Shape              Param #   \n",
      "=================================================================\n",
      "conv2d_6 (Conv2D)            (None, 32, 32, 32)        896       \n",
      "_________________________________________________________________\n",
      "conv2d_7 (Conv2D)            (None, 32, 32, 32)        9248      \n",
      "_________________________________________________________________\n",
      "max_pooling2d_3 (MaxPooling2 (None, 16, 16, 32)        0         \n",
      "_________________________________________________________________\n",
      "dropout_4 (Dropout)          (None, 16, 16, 32)        0         \n",
      "_________________________________________________________________\n",
      "conv2d_8 (Conv2D)            (None, 16, 16, 64)        18496     \n",
      "_________________________________________________________________\n",
      "conv2d_9 (Conv2D)            (None, 16, 16, 64)        36928     \n",
      "_________________________________________________________________\n",
      "max_pooling2d_4 (MaxPooling2 (None, 8, 8, 64)          0         \n",
      "_________________________________________________________________\n",
      "dropout_5 (Dropout)          (None, 8, 8, 64)          0         \n",
      "_________________________________________________________________\n",
      "conv2d_10 (Conv2D)           (None, 8, 8, 128)         73856     \n",
      "_________________________________________________________________\n",
      "conv2d_11 (Conv2D)           (None, 8, 8, 128)         147584    \n",
      "_________________________________________________________________\n",
      "max_pooling2d_5 (MaxPooling2 (None, 4, 4, 128)         0         \n",
      "_________________________________________________________________\n",
      "dropout_6 (Dropout)          (None, 4, 4, 128)         0         \n",
      "_________________________________________________________________\n",
      "flatten_1 (Flatten)          (None, 2048)              0         \n",
      "_________________________________________________________________\n",
      "dense_2 (Dense)              (None, 128)               262272    \n",
      "_________________________________________________________________\n",
      "dropout_7 (Dropout)          (None, 128)               0         \n",
      "_________________________________________________________________\n",
      "dense_3 (Dense)              (None, 10)                1290      \n",
      "=================================================================\n",
      "Total params: 550,570\n",
      "Trainable params: 550,570\n",
      "Non-trainable params: 0\n",
      "_________________________________________________________________\n",
      "None\n"
     ]
    }
   ],
   "source": [
    "# Display a summary of the final model\n",
    "print(final_model.summary())"
   ]
  },
  {
   "cell_type": "code",
   "execution_count": 34,
   "metadata": {},
   "outputs": [
    {
     "name": "stdout",
     "output_type": "stream",
     "text": [
      "{'name': 'sequential_2', 'layers': [{'class_name': 'Conv2D', 'config': {'name': 'conv2d_6', 'trainable': True, 'batch_input_shape': (None, 32, 32, 3), 'dtype': 'float32', 'filters': 32, 'kernel_size': (3, 3), 'strides': (1, 1), 'padding': 'same', 'data_format': 'channels_last', 'dilation_rate': (1, 1), 'activation': 'relu', 'use_bias': True, 'kernel_initializer': {'class_name': 'VarianceScaling', 'config': {'scale': 2.0, 'mode': 'fan_in', 'distribution': 'uniform', 'seed': 888}}, 'bias_initializer': {'class_name': 'Zeros', 'config': {}}, 'kernel_regularizer': None, 'bias_regularizer': None, 'activity_regularizer': None, 'kernel_constraint': None, 'bias_constraint': None}}, {'class_name': 'Conv2D', 'config': {'name': 'conv2d_7', 'trainable': True, 'dtype': 'float32', 'filters': 32, 'kernel_size': (3, 3), 'strides': (1, 1), 'padding': 'same', 'data_format': 'channels_last', 'dilation_rate': (1, 1), 'activation': 'relu', 'use_bias': True, 'kernel_initializer': {'class_name': 'VarianceScaling', 'config': {'scale': 2.0, 'mode': 'fan_in', 'distribution': 'uniform', 'seed': 888}}, 'bias_initializer': {'class_name': 'Zeros', 'config': {}}, 'kernel_regularizer': None, 'bias_regularizer': None, 'activity_regularizer': None, 'kernel_constraint': None, 'bias_constraint': None}}, {'class_name': 'MaxPooling2D', 'config': {'name': 'max_pooling2d_3', 'trainable': True, 'dtype': 'float32', 'pool_size': (2, 2), 'padding': 'valid', 'strides': (2, 2), 'data_format': 'channels_last'}}, {'class_name': 'Dropout', 'config': {'name': 'dropout_4', 'trainable': True, 'dtype': 'float32', 'rate': 0.2, 'noise_shape': None, 'seed': None}}, {'class_name': 'Conv2D', 'config': {'name': 'conv2d_8', 'trainable': True, 'dtype': 'float32', 'filters': 64, 'kernel_size': (3, 3), 'strides': (1, 1), 'padding': 'same', 'data_format': 'channels_last', 'dilation_rate': (1, 1), 'activation': 'relu', 'use_bias': True, 'kernel_initializer': {'class_name': 'VarianceScaling', 'config': {'scale': 2.0, 'mode': 'fan_in', 'distribution': 'uniform', 'seed': 888}}, 'bias_initializer': {'class_name': 'Zeros', 'config': {}}, 'kernel_regularizer': None, 'bias_regularizer': None, 'activity_regularizer': None, 'kernel_constraint': None, 'bias_constraint': None}}, {'class_name': 'Conv2D', 'config': {'name': 'conv2d_9', 'trainable': True, 'dtype': 'float32', 'filters': 64, 'kernel_size': (3, 3), 'strides': (1, 1), 'padding': 'same', 'data_format': 'channels_last', 'dilation_rate': (1, 1), 'activation': 'relu', 'use_bias': True, 'kernel_initializer': {'class_name': 'VarianceScaling', 'config': {'scale': 2.0, 'mode': 'fan_in', 'distribution': 'uniform', 'seed': 888}}, 'bias_initializer': {'class_name': 'Zeros', 'config': {}}, 'kernel_regularizer': None, 'bias_regularizer': None, 'activity_regularizer': None, 'kernel_constraint': None, 'bias_constraint': None}}, {'class_name': 'MaxPooling2D', 'config': {'name': 'max_pooling2d_4', 'trainable': True, 'dtype': 'float32', 'pool_size': (2, 2), 'padding': 'valid', 'strides': (2, 2), 'data_format': 'channels_last'}}, {'class_name': 'Dropout', 'config': {'name': 'dropout_5', 'trainable': True, 'dtype': 'float32', 'rate': 0.3, 'noise_shape': None, 'seed': None}}, {'class_name': 'Conv2D', 'config': {'name': 'conv2d_10', 'trainable': True, 'dtype': 'float32', 'filters': 128, 'kernel_size': (3, 3), 'strides': (1, 1), 'padding': 'same', 'data_format': 'channels_last', 'dilation_rate': (1, 1), 'activation': 'relu', 'use_bias': True, 'kernel_initializer': {'class_name': 'VarianceScaling', 'config': {'scale': 2.0, 'mode': 'fan_in', 'distribution': 'uniform', 'seed': 888}}, 'bias_initializer': {'class_name': 'Zeros', 'config': {}}, 'kernel_regularizer': None, 'bias_regularizer': None, 'activity_regularizer': None, 'kernel_constraint': None, 'bias_constraint': None}}, {'class_name': 'Conv2D', 'config': {'name': 'conv2d_11', 'trainable': True, 'dtype': 'float32', 'filters': 128, 'kernel_size': (3, 3), 'strides': (1, 1), 'padding': 'same', 'data_format': 'channels_last', 'dilation_rate': (1, 1), 'activation': 'relu', 'use_bias': True, 'kernel_initializer': {'class_name': 'VarianceScaling', 'config': {'scale': 2.0, 'mode': 'fan_in', 'distribution': 'uniform', 'seed': 888}}, 'bias_initializer': {'class_name': 'Zeros', 'config': {}}, 'kernel_regularizer': None, 'bias_regularizer': None, 'activity_regularizer': None, 'kernel_constraint': None, 'bias_constraint': None}}, {'class_name': 'MaxPooling2D', 'config': {'name': 'max_pooling2d_5', 'trainable': True, 'dtype': 'float32', 'pool_size': (2, 2), 'padding': 'valid', 'strides': (2, 2), 'data_format': 'channels_last'}}, {'class_name': 'Dropout', 'config': {'name': 'dropout_6', 'trainable': True, 'dtype': 'float32', 'rate': 0.4, 'noise_shape': None, 'seed': None}}, {'class_name': 'Flatten', 'config': {'name': 'flatten_1', 'trainable': True, 'dtype': 'float32', 'data_format': 'channels_last'}}, {'class_name': 'Dense', 'config': {'name': 'dense_2', 'trainable': True, 'dtype': 'float32', 'units': 128, 'activation': 'relu', 'use_bias': True, 'kernel_initializer': {'class_name': 'VarianceScaling', 'config': {'scale': 2.0, 'mode': 'fan_in', 'distribution': 'uniform', 'seed': 888}}, 'bias_initializer': {'class_name': 'Zeros', 'config': {}}, 'kernel_regularizer': None, 'bias_regularizer': None, 'activity_regularizer': None, 'kernel_constraint': None, 'bias_constraint': None}}, {'class_name': 'Dropout', 'config': {'name': 'dropout_7', 'trainable': True, 'dtype': 'float32', 'rate': 0.5, 'noise_shape': None, 'seed': None}}, {'class_name': 'Dense', 'config': {'name': 'dense_3', 'trainable': True, 'dtype': 'float32', 'units': 10, 'activation': 'softmax', 'use_bias': True, 'kernel_initializer': {'class_name': 'VarianceScaling', 'config': {'scale': 2.0, 'mode': 'fan_in', 'distribution': 'uniform', 'seed': 888}}, 'bias_initializer': {'class_name': 'Zeros', 'config': {}}, 'kernel_regularizer': None, 'bias_regularizer': None, 'activity_regularizer': None, 'kernel_constraint': None, 'bias_constraint': None}}]}\n"
     ]
    }
   ],
   "source": [
    "# Display the configuration of the final model\n",
    "print(final_model.get_config())"
   ]
  },
  {
   "cell_type": "code",
   "execution_count": 35,
   "metadata": {},
   "outputs": [
    {
     "data": {
      "image/png": "[encoded data removed]",
      "text/plain": [
       "<Figure size 864x864 with 2 Axes>"
      ]
     },
     "metadata": {
      "needs_background": "light"
     },
     "output_type": "display_data"
    }
   ],
   "source": [
    "# Summarize model training hisotry for accuracy and loss\n",
    "fig, axs = plt.subplots(2, 1, figsize=(12,12))\n",
    "plt.subplot(211)\n",
    "plt.plot(final_hist.history['accuracy'], color='blue', label='train')\n",
    "plt.plot(final_hist.history['val_accuracy'], color='red', label='test')\n",
    "plt.title('Final Model Training Performance (Accuracy)')\n",
    "plt.ylabel('Accuracy')\n",
    "plt.xlabel('Epoch')\n",
    "plt.legend(['Train', 'Test'], loc='upper right')\n",
    "plt.subplot(212)\n",
    "plt.plot(final_hist.history['loss'], color='blue', label='train')\n",
    "plt.plot(final_hist.history['val_loss'], color='red', label='test')\n",
    "plt.title('Final Model Training Performance (Loss)')\n",
    "plt.ylabel('Loss')\n",
    "plt.xlabel('Epoch')\n",
    "plt.legend(['Train', 'Test'], loc='upper right')\n",
    "plt.show()"
   ]
  },
  {
   "cell_type": "code",
   "execution_count": 36,
   "metadata": {},
   "outputs": [
    {
     "name": "stdout",
     "output_type": "stream",
     "text": [
      "Data item #0 predicted to be [3] (expected [3])\n",
      "Data item #1 predicted to be [8] (expected [8])\n",
      "Data item #2 predicted to be [8] (expected [8])\n",
      "Data item #3 predicted to be [8] (expected [0])\n",
      "Data item #4 predicted to be [6] (expected [6])\n",
      "Data item #5 predicted to be [6] (expected [6])\n",
      "Data item #6 predicted to be [1] (expected [1])\n",
      "Data item #7 predicted to be [6] (expected [6])\n",
      "Data item #8 predicted to be [3] (expected [3])\n",
      "Data item #9 predicted to be [1] (expected [1])\n",
      "Data item #10 predicted to be [0] (expected [0])\n",
      "Data item #11 predicted to be [9] (expected [9])\n",
      "Data item #12 predicted to be [5] (expected [5])\n",
      "Data item #13 predicted to be [7] (expected [7])\n",
      "Data item #14 predicted to be [9] (expected [9])\n",
      "Data item #15 predicted to be [8] (expected [8])\n",
      "Data item #16 predicted to be [5] (expected [5])\n",
      "Data item #17 predicted to be [7] (expected [7])\n",
      "Data item #18 predicted to be [8] (expected [8])\n",
      "Data item #19 predicted to be [6] (expected [6])\n"
     ]
    }
   ],
   "source": [
    "# Make class predictions with the model\n",
    "predictions = final_model.predict_classes(X_test)\n",
    "\n",
    "# Summarize the first 20 cases\n",
    "for i in range(20):\n",
    "\tprint('Data item #%d predicted to be %s (expected %s)' % (i, encoder.inverse_transform([predictions[i]]), encoder.inverse_transform([np.argmax(y_test[i])])))"
   ]
  },
  {
   "cell_type": "code",
   "execution_count": 37,
   "metadata": {},
   "outputs": [],
   "source": [
    "if (notifyStatus): email_notify(\"Phase 5 Finalize Model completed! \"+datetime.now().strftime('%a %B %d, %Y %I:%M:%S %p'))"
   ]
  },
  {
   "cell_type": "code",
   "execution_count": 38,
   "metadata": {},
   "outputs": [
    {
     "name": "stdout",
     "output_type": "stream",
     "text": [
      "Total time for the script: 0:47:26.527963\n"
     ]
    }
   ],
   "source": [
    "print ('Total time for the script:',(datetime.now() - startTimeScript))"
   ]
  }
 ],
 "metadata": {
  "kernelspec": {
   "display_name": "Python 3",
   "language": "python",
   "name": "python3"
  },
  "language_info": {
   "codemirror_mode": {
    "name": "ipython",
    "version": 3
   },
   "file_extension": ".py",
   "mimetype": "text/x-python",
   "name": "python",
   "nbconvert_exporter": "python",
   "pygments_lexer": "ipython3",
   "version": "3.6.9"
  }
 },
 "nbformat": 4,
 "nbformat_minor": 4
}
