{
 "cells": [
  {
   "cell_type": "markdown",
   "metadata": {},
   "source": [
    "# Multi-Class Deep Learning Model for MNIST Handwritten Digits Using Keras Take 2\n",
    "### David Lowe\n",
    "### December 26, 2019\n",
    "\n",
    "Template Credit: Adapted from a template made available by Dr. Jason Brownlee of Machine Learning Mastery. [https://machinelearningmastery.com/]\n",
    "\n",
    "SUMMARY: The purpose of this project is to construct a predictive model using various machine learning algorithms and to document the end-to-end steps using a template. The MNIST dataset is a multi-class classification situation where we are trying to predict one of several (more than two) possible outcomes.\n",
    "\n",
    "INTRODUCTION: The MNIST problem is a dataset developed by Yann LeCun, Corinna Cortes, and Christopher Burges for evaluating machine learning models on the handwritten digit classification problems. The dataset was constructed from many document datasets available from the National Institute of Standards and Technology (NIST). The MNIST handwritten digit classification problem has become a standard dataset used in computer vision and deep learning.\n",
    "\n",
    "Images of digits were taken from a variety of scanned documents, normalized in size and centered. Each image is a 28 by 28-pixel square (784 pixels total). A standard split of the dataset is used to evaluate and compare models, where 60,000 images are used to train a model, and a separate set of 10,000 images are used to test it. It is a digit recognition task, so there are ten classes (0 to 9) to predict.\n",
    "\n",
    "For the Take1 iteration, we constructed a simple dense-layer model to classify the images. This model serves as the baseline for future iterations.\n",
    "\n",
    "For this iteration, we will convert the dense-layer model into a convolutional model to examine whether we can improve its performance.\n",
    "\n",
    "ANALYSIS: For the Take1 iteration, the performance of the Take1 model with the default parameters achieved an accuracy score of 98.05% on the validation dataset after training for five epochs. After tuning the hyperparameters, the Take1 model processed the training dataset with an accuracy rate of 98.82%. The same model processed the test dataset with an accuracy of 98.17%. If we were to train the model much further than three epochs, we could run into the over-fitting issue.\n",
    "\n",
    "For this iteration, the performance of the Take2 model with the default parameters achieved an accuracy score of 98.77% on the validation dataset after training for five epochs. After tuning the hyperparameters, the Take2 model processed the training dataset with an accuracy rate of 99.46%. The same model processed the test dataset with an accuracy of 98.61%.\n",
    "\n",
    "Adding the convolutional layers improved the model's prediction performance slightly. The increasing difference between training and validation accuracy after each epoch indicated that we potentially have a high variance problem. We will need more data to train the model before we can bring up the prediction accuracy of the validation dataset.\n",
    "\n",
    "CONCLUSION: For this dataset, the model built using Keras and TensorFlow achieved a satisfactory result and should be considered for future modeling activities.\n",
    "\n",
    "Dataset Used: MNIST Handwritten Digits Dataset\n",
    "\n",
    "Dataset ML Model: Multi-class classification with numerical attributes\n",
    "\n",
    "Dataset Reference: https://www.tensorflow.org/datasets/catalog/mnist\n",
    "\n",
    "One potential source of performance benchmarks: https://machinelearningmastery.com/how-to-develop-a-convolutional-neural-network-from-scratch-for-mnist-handwritten-digit-classification/\n",
    "\n",
    "Any deep-learning modeling project genrally can be broken down into about six major tasks:\n",
    "\n",
    "0. Prepare Environment\n",
    "1. Load Data\n",
    "2. Define Model\n",
    "3. Fit and Evaluate Model\n",
    "4. Optimize Model\n",
    "5. Finalize Model"
   ]
  },
  {
   "cell_type": "markdown",
   "metadata": {},
   "source": [
    "# Section 0. Prepare Environment"
   ]
  },
  {
   "cell_type": "code",
   "execution_count": 77,
   "metadata": {},
   "outputs": [],
   "source": [
    "# Set the warning message filter\n",
    "import warnings\n",
    "warnings.filterwarnings(\"ignore\", category=FutureWarning)\n",
    "warnings.filterwarnings(\"ignore\", category=DeprecationWarning)"
   ]
  },
  {
   "cell_type": "code",
   "execution_count": 78,
   "metadata": {},
   "outputs": [],
   "source": [
    "# Set the random seed number for reproducible results\n",
    "seedNum = 888"
   ]
  },
  {
   "cell_type": "code",
   "execution_count": 79,
   "metadata": {},
   "outputs": [],
   "source": [
    "# Load libraries and packages\n",
    "import random\n",
    "random.seed(seedNum)\n",
    "import numpy as np\n",
    "np.random.seed(seedNum)\n",
    "import tensorflow as tf\n",
    "tf.random.set_seed(seedNum)\n",
    "from tensorflow.keras import Sequential\n",
    "from tensorflow.keras.layers import Dense\n",
    "from tensorflow.keras.layers import Flatten\n",
    "from tensorflow.keras.layers import Dropout\n",
    "from tensorflow.keras.layers import Conv2D\n",
    "from tensorflow.keras.layers import MaxPooling2D\n",
    "from tensorflow.keras.wrappers.scikit_learn import KerasClassifier\n",
    "# import keras as K\n",
    "# from keras.models import Sequential\n",
    "# from keras.layers import Dense\n",
    "# from keras.wrappers.scikit_learn import KerasClassifier\n",
    "import pandas as pd\n",
    "import math\n",
    "import os\n",
    "import sys\n",
    "import shutil\n",
    "import urllib.request\n",
    "import zipfile\n",
    "import smtplib\n",
    "import matplotlib.pyplot as plt\n",
    "from datetime import datetime\n",
    "from email.message import EmailMessage\n",
    "from sklearn.model_selection import train_test_split\n",
    "from sklearn.model_selection import KFold\n",
    "from sklearn.model_selection import StratifiedKFold\n",
    "from sklearn.model_selection import cross_val_score\n",
    "from sklearn.model_selection import GridSearchCV\n",
    "from sklearn.model_selection import RandomizedSearchCV\n",
    "from sklearn import preprocessing"
   ]
  },
  {
   "cell_type": "code",
   "execution_count": 80,
   "metadata": {},
   "outputs": [
    {
     "name": "stdout",
     "output_type": "stream",
     "text": [
      "Num GPUs Available:  0\n"
     ]
    }
   ],
   "source": [
    "# Begin the timer for the script processing\n",
    "startTimeScript = datetime.now()\n",
    "\n",
    "# Set up the verbose flag to print detailed messages for debugging (setting to True will activate)\n",
    "# verbose = True\n",
    "# tf.debugging.set_log_device_placement(verbose)\n",
    "\n",
    "# Set up the number of CPU cores available for multi-thread processing\n",
    "n_jobs = -1\n",
    "print(\"Num GPUs Available: \", len(tf.config.experimental.list_physical_devices('GPU')))\n",
    "\n",
    "# Set up the flag to stop sending progress emails (setting to True will send status emails!)\n",
    "notifyStatus = False\n",
    "\n",
    "# Set the number of folds for cross validation\n",
    "n_folds = 5\n",
    "\n",
    "# Set the flag for splitting the dataset\n",
    "splitDataset = True\n",
    "splitPercentage = 0.25\n",
    "\n",
    "# Set various default Keras modeling parameters\n",
    "default_loss = 'categorical_crossentropy'\n",
    "default_metrics = ['accuracy']\n",
    "default_kernel_init = tf.initializers.RandomNormal(seed=seedNum)\n",
    "default_optimizer = tf.optimizers.Adam(learning_rate=0.001)\n",
    "default_epoch = 5\n",
    "default_batch = 32"
   ]
  },
  {
   "cell_type": "code",
   "execution_count": 81,
   "metadata": {},
   "outputs": [],
   "source": [
    "# Set up the email notification function\n",
    "def email_notify(msg_text):\n",
    "    sender = os.environ.get('MAIL_SENDER')\n",
    "    receiver = os.environ.get('MAIL_RECEIVER')\n",
    "    gateway = os.environ.get('SMTP_GATEWAY')\n",
    "    smtpuser = os.environ.get('SMTP_USERNAME')\n",
    "    password = os.environ.get('SMTP_PASSWORD')\n",
    "    if sender==None or receiver==None or gateway==None or smtpuser==None or password==None:\n",
    "        sys.exit(\"Incomplete email setup info. Script Processing Aborted!!!\")\n",
    "    msg = EmailMessage()\n",
    "    msg.set_content(msg_text)\n",
    "    msg['Subject'] = 'Notification from Keras Multi-Class Classification Script'\n",
    "    msg['From'] = sender\n",
    "    msg['To'] = receiver\n",
    "    server = smtplib.SMTP(gateway, 587)\n",
    "    server.starttls()\n",
    "    server.login(smtpuser, password)\n",
    "    server.send_message(msg)\n",
    "    server.quit()"
   ]
  },
  {
   "cell_type": "code",
   "execution_count": 82,
   "metadata": {},
   "outputs": [],
   "source": [
    "# Reset the random number generators\n",
    "def reset_random(seedNum):\n",
    "    random.seed(seedNum)\n",
    "    np.random.seed(seedNum)\n",
    "    tf.random.set_seed(seedNum)"
   ]
  },
  {
   "cell_type": "code",
   "execution_count": 83,
   "metadata": {},
   "outputs": [],
   "source": [
    "if (notifyStatus): email_notify(\"Phase 0 Prepare Environment completed! \"+datetime.now().strftime('%a %B %d, %Y %I:%M:%S %p'))"
   ]
  },
  {
   "cell_type": "markdown",
   "metadata": {},
   "source": [
    "# Section 1. Load Data"
   ]
  },
  {
   "cell_type": "code",
   "execution_count": 84,
   "metadata": {},
   "outputs": [],
   "source": [
    "if (notifyStatus): email_notify(\"Phase 1 Load Data has begun! \"+datetime.now().strftime('%a %B %d, %Y %I:%M:%S %p'))"
   ]
  },
  {
   "cell_type": "markdown",
   "metadata": {},
   "source": [
    "## 1.a) Load Dataset"
   ]
  },
  {
   "cell_type": "code",
   "execution_count": 85,
   "metadata": {},
   "outputs": [
    {
     "name": "stdout",
     "output_type": "stream",
     "text": [
      "Train Shape: X=(60000, 28, 28), y=(60000,)\n",
      "Test Shape: X=(10000, 28, 28), y=(10000,)\n"
     ]
    }
   ],
   "source": [
    "mnist = tf.keras.datasets.mnist\n",
    "(X_train, y_train),(X_test, y_test) = mnist.load_data()\n",
    "\n",
    "# Summarize loaded datasets\n",
    "print('Train Shape: X=%s, y=%s' % (X_train.shape, y_train.shape))\n",
    "print('Test Shape: X=%s, y=%s' % (X_test.shape, y_test.shape))"
   ]
  },
  {
   "cell_type": "code",
   "execution_count": 86,
   "metadata": {},
   "outputs": [
    {
     "data": {
      "image/png": "[encoded data removed]",
      "text/plain": [
       "<Figure size 432x288 with 9 Axes>"
      ]
     },
     "metadata": {
      "needs_background": "light"
     },
     "output_type": "display_data"
    }
   ],
   "source": [
    "# Plot first few images\n",
    "for i in range(9):\n",
    "    # define subplot\n",
    "    plt.subplot(330 + 1 + i)\n",
    "    # plot raw pixel data\n",
    "    plt.imshow(X_train[i], cmap=plt.get_cmap('gray'))\n",
    "plt.show()"
   ]
  },
  {
   "cell_type": "markdown",
   "metadata": {},
   "source": [
    "## 1.b) Data Cleaning"
   ]
  },
  {
   "cell_type": "code",
   "execution_count": 87,
   "metadata": {},
   "outputs": [],
   "source": [
    "# Not required for this iteration of the project"
   ]
  },
  {
   "cell_type": "markdown",
   "metadata": {},
   "source": [
    "## 1.c) Feature Scaling and Pre-processing"
   ]
  },
  {
   "cell_type": "code",
   "execution_count": 88,
   "metadata": {},
   "outputs": [],
   "source": [
    "# Reshape the input data as [samples][width][height][channels]\n",
    "X_train = X_train.reshape(X_train.shape[0], 28, 28, 1).astype('float32')\n",
    "X_test = X_test.reshape(X_test.shape[0], 28, 28, 1).astype('float32')\n",
    "\n",
    "# Apply feature scaling and transformation\n",
    "X_train = X_train / 255.0\n",
    "X_test = X_test / 255.0"
   ]
  },
  {
   "cell_type": "markdown",
   "metadata": {},
   "source": [
    "## 1.d) Splitting Data into Training and Test Sets"
   ]
  },
  {
   "cell_type": "code",
   "execution_count": 89,
   "metadata": {},
   "outputs": [
    {
     "name": "stdout",
     "output_type": "stream",
     "text": [
      "Train Shape: X=(60000, 28, 28, 1), y=(60000, 10)\n",
      "Test Shape: X=(10000, 28, 28, 1), y=(10000, 10)\n"
     ]
    }
   ],
   "source": [
    "# Encode class values as integers and perform one-hot-encoding\n",
    "encoder = preprocessing.LabelEncoder()\n",
    "encoder.fit(y_train)\n",
    "train_transformed = encoder.transform(y_train)\n",
    "test_transformed = encoder.transform(y_test)\n",
    "y_train = tf.keras.utils.to_categorical(train_transformed)\n",
    "y_test = tf.keras.utils.to_categorical(test_transformed)\n",
    "\n",
    "print('Train Shape: X=%s, y=%s' % (X_train.shape, y_train.shape))\n",
    "print('Test Shape: X=%s, y=%s' % (X_test.shape, y_test.shape))\n",
    "\n",
    "num_pixels = X_train.shape[1] * X_train.shape[2]\n",
    "num_classes = y_train.shape[1]"
   ]
  },
  {
   "cell_type": "code",
   "execution_count": 90,
   "metadata": {},
   "outputs": [],
   "source": [
    "if (notifyStatus): email_notify(\"Phase 1 Load Data completed! \"+datetime.now().strftime('%a %B %d, %Y %I:%M:%S %p'))"
   ]
  },
  {
   "cell_type": "markdown",
   "metadata": {},
   "source": [
    "# Section 2. Define Model"
   ]
  },
  {
   "cell_type": "code",
   "execution_count": 91,
   "metadata": {},
   "outputs": [],
   "source": [
    "if (notifyStatus): email_notify(\"Phase 2 Define Model has begun! \"+datetime.now().strftime('%a %B %d, %Y %I:%M:%S %p'))"
   ]
  },
  {
   "cell_type": "code",
   "execution_count": 92,
   "metadata": {},
   "outputs": [],
   "source": [
    "# Define the Keras model for baseline measurement\n",
    "def create_default_model():\n",
    "    default_model = Sequential()\n",
    "    default_model.add(Conv2D(32, (3,3), activation='relu', input_shape=(28, 28, 1)))\n",
    "    default_model.add(MaxPooling2D(2, 2))\n",
    "    default_model.add(Dropout(0.2))\n",
    "    default_model.add(Flatten())\n",
    "    default_model.add(Dense(128, activation='relu', kernel_initializer=default_kernel_init))\n",
    "    default_model.add(Dense(num_classes, activation='softmax', kernel_initializer=default_kernel_init))\n",
    "    default_model.compile(loss=default_loss, optimizer=default_optimizer, metrics=default_metrics)\n",
    "    return default_model"
   ]
  },
  {
   "cell_type": "code",
   "execution_count": 93,
   "metadata": {},
   "outputs": [],
   "source": [
    "# Not applicable for this iteration of the project\n",
    "# Define the Callback class and early-stopping function\n",
    "# class myCallback(tf.keras.callbacks.Callback):\n",
    "#     def on_epoch_end(self, epoch, logs={}):\n",
    "#         if(logs.get('accuracy') > 0.9):\n",
    "#             print(\"\\nReached 90% accuracy so cancelling training!\")\n",
    "#             self.model.stop_training = True\n",
    "\n",
    "# callbacks = myCallback()"
   ]
  },
  {
   "cell_type": "code",
   "execution_count": 94,
   "metadata": {},
   "outputs": [],
   "source": [
    "if (notifyStatus): email_notify(\"Phase 2 Define Model completed! \"+datetime.now().strftime('%a %B %d, %Y %I:%M:%S %p'))"
   ]
  },
  {
   "cell_type": "markdown",
   "metadata": {},
   "source": [
    "# Section 3. Fit and Evaluate Model"
   ]
  },
  {
   "cell_type": "code",
   "execution_count": 95,
   "metadata": {},
   "outputs": [],
   "source": [
    "if (notifyStatus): email_notify(\"Phase 3 Fit and Evaluate Model has begun! \"+datetime.now().strftime('%a %B %d, %Y %I:%M:%S %p'))"
   ]
  },
  {
   "cell_type": "code",
   "execution_count": 96,
   "metadata": {},
   "outputs": [
    {
     "name": "stdout",
     "output_type": "stream",
     "text": [
      "Train on 60000 samples, validate on 10000 samples\n",
      "Epoch 1/5\n",
      "60000/60000 [==============================] - 44s 730us/sample - loss: 0.1869 - accuracy: 0.9442 - val_loss: 0.0599 - val_accuracy: 0.9813\n",
      "Epoch 2/5\n",
      "60000/60000 [==============================] - 42s 707us/sample - loss: 0.0634 - accuracy: 0.9806 - val_loss: 0.0556 - val_accuracy: 0.9826\n",
      "Epoch 3/5\n",
      "60000/60000 [==============================] - 43s 713us/sample - loss: 0.0441 - accuracy: 0.9861 - val_loss: 0.0365 - val_accuracy: 0.9878\n",
      "Epoch 4/5\n",
      "60000/60000 [==============================] - 43s 714us/sample - loss: 0.0302 - accuracy: 0.9904 - val_loss: 0.0403 - val_accuracy: 0.9875\n",
      "Epoch 5/5\n",
      "60000/60000 [==============================] - 43s 714us/sample - loss: 0.0231 - accuracy: 0.9924 - val_loss: 0.0349 - val_accuracy: 0.9893\n",
      "Total time for creating the baseline model: 0:03:35.121365\n"
     ]
    }
   ],
   "source": [
    "# Initialize the baseline model\n",
    "startTimeModule = datetime.now()\n",
    "reset_random(seedNum)\n",
    "baseline_model = create_default_model()\n",
    "baseline_hist = baseline_model.fit(X_train, y_train, epochs=default_epoch, batch_size=default_batch,\n",
    "                                   validation_data=(X_test, y_test), verbose=1)\n",
    "print('Total time for creating the baseline model:', (datetime.now() - startTimeModule))"
   ]
  },
  {
   "cell_type": "code",
   "execution_count": 97,
   "metadata": {},
   "outputs": [
    {
     "name": "stdout",
     "output_type": "stream",
     "text": [
      "Model: \"sequential_58\"\n",
      "_________________________________________________________________\n",
      "Layer (type)                 Output Shape              Param #   \n",
      "=================================================================\n",
      "conv2d_58 (Conv2D)           (None, 26, 26, 32)        320       \n",
      "_________________________________________________________________\n",
      "max_pooling2d_58 (MaxPooling (None, 13, 13, 32)        0         \n",
      "_________________________________________________________________\n",
      "dropout_58 (Dropout)         (None, 13, 13, 32)        0         \n",
      "_________________________________________________________________\n",
      "flatten_58 (Flatten)         (None, 5408)              0         \n",
      "_________________________________________________________________\n",
      "dense_116 (Dense)            (None, 128)               692352    \n",
      "_________________________________________________________________\n",
      "dense_117 (Dense)            (None, 10)                1290      \n",
      "=================================================================\n",
      "Total params: 693,962\n",
      "Trainable params: 693,962\n",
      "Non-trainable params: 0\n",
      "_________________________________________________________________\n",
      "None\n"
     ]
    }
   ],
   "source": [
    "# Display a summary of the baseline model\n",
    "print(baseline_model.summary())"
   ]
  },
  {
   "cell_type": "code",
   "execution_count": 98,
   "metadata": {},
   "outputs": [
    {
     "name": "stdout",
     "output_type": "stream",
     "text": [
      "{'name': 'sequential_58', 'layers': [{'class_name': 'Conv2D', 'config': {'name': 'conv2d_58', 'trainable': True, 'batch_input_shape': (None, 28, 28, 1), 'dtype': 'float32', 'filters': 32, 'kernel_size': (3, 3), 'strides': (1, 1), 'padding': 'valid', 'data_format': 'channels_last', 'dilation_rate': (1, 1), 'activation': 'relu', 'use_bias': True, 'kernel_initializer': {'class_name': 'GlorotUniform', 'config': {'seed': None}}, 'bias_initializer': {'class_name': 'Zeros', 'config': {}}, 'kernel_regularizer': None, 'bias_regularizer': None, 'activity_regularizer': None, 'kernel_constraint': None, 'bias_constraint': None}}, {'class_name': 'MaxPooling2D', 'config': {'name': 'max_pooling2d_58', 'trainable': True, 'dtype': 'float32', 'pool_size': (2, 2), 'padding': 'valid', 'strides': (2, 2), 'data_format': 'channels_last'}}, {'class_name': 'Dropout', 'config': {'name': 'dropout_58', 'trainable': True, 'dtype': 'float32', 'rate': 0.2, 'noise_shape': None, 'seed': None}}, {'class_name': 'Flatten', 'config': {'name': 'flatten_58', 'trainable': True, 'dtype': 'float32', 'data_format': 'channels_last'}}, {'class_name': 'Dense', 'config': {'name': 'dense_116', 'trainable': True, 'dtype': 'float32', 'units': 128, 'activation': 'relu', 'use_bias': True, 'kernel_initializer': {'class_name': 'RandomNormal', 'config': {'mean': 0.0, 'stddev': 0.05, 'seed': 888}}, 'bias_initializer': {'class_name': 'Zeros', 'config': {}}, 'kernel_regularizer': None, 'bias_regularizer': None, 'activity_regularizer': None, 'kernel_constraint': None, 'bias_constraint': None}}, {'class_name': 'Dense', 'config': {'name': 'dense_117', 'trainable': True, 'dtype': 'float32', 'units': 10, 'activation': 'softmax', 'use_bias': True, 'kernel_initializer': {'class_name': 'RandomNormal', 'config': {'mean': 0.0, 'stddev': 0.05, 'seed': 888}}, 'bias_initializer': {'class_name': 'Zeros', 'config': {}}, 'kernel_regularizer': None, 'bias_regularizer': None, 'activity_regularizer': None, 'kernel_constraint': None, 'bias_constraint': None}}]}\n"
     ]
    }
   ],
   "source": [
    "# Display the configuration of the baseline model\n",
    "print(baseline_model.get_config())"
   ]
  },
  {
   "cell_type": "code",
   "execution_count": 99,
   "metadata": {},
   "outputs": [
    {
     "name": "stdout",
     "output_type": "stream",
     "text": [
      "dict_keys(['loss', 'accuracy', 'val_loss', 'val_accuracy'])\n"
     ]
    }
   ],
   "source": [
    "# List all data points in the baseline model training history\n",
    "print(baseline_hist.history.keys())"
   ]
  },
  {
   "cell_type": "code",
   "execution_count": 100,
   "metadata": {},
   "outputs": [
    {
     "data": {
      "image/png": "[encoded data removed]",
      "text/plain": [
       "<Figure size 864x864 with 2 Axes>"
      ]
     },
     "metadata": {
      "needs_background": "light"
     },
     "output_type": "display_data"
    }
   ],
   "source": [
    "# Summarize model training hisotry for accuracy and loss\n",
    "fig, axs = plt.subplots(2, 1, figsize=(12,12))\n",
    "plt.subplot(211)\n",
    "plt.plot(baseline_hist.history['accuracy'], color='blue', label='train')\n",
    "plt.plot(baseline_hist.history['val_accuracy'], color='red', label='test')\n",
    "plt.title('Model Training Performance (Accuracy)')\n",
    "plt.ylabel('Accuracy')\n",
    "plt.xlabel('Epoch')\n",
    "plt.legend(['Train', 'Test'], loc='upper right')\n",
    "plt.subplot(212)\n",
    "plt.plot(baseline_hist.history['loss'], color='blue', label='train')\n",
    "plt.plot(baseline_hist.history['val_loss'], color='red', label='test')\n",
    "plt.title('Model Training Performance (Loss)')\n",
    "plt.ylabel('Loss')\n",
    "plt.xlabel('Epoch')\n",
    "plt.legend(['Train', 'Test'], loc='upper right')\n",
    "plt.show()"
   ]
  },
  {
   "cell_type": "code",
   "execution_count": 101,
   "metadata": {},
   "outputs": [],
   "source": [
    "if (notifyStatus): email_notify(\"Phase 3 Fit and Evaluate Model completed! \"+datetime.now().strftime('%a %B %d, %Y %I:%M:%S %p'))"
   ]
  },
  {
   "cell_type": "markdown",
   "metadata": {},
   "source": [
    "# Section 4. Optimize Model"
   ]
  },
  {
   "cell_type": "code",
   "execution_count": 102,
   "metadata": {},
   "outputs": [],
   "source": [
    "if (notifyStatus): email_notify(\"Phase 4 Optimize Model has begun! \"+datetime.now().strftime('%a %B %d, %Y %I:%M:%S %p'))"
   ]
  },
  {
   "cell_type": "code",
   "execution_count": 103,
   "metadata": {},
   "outputs": [],
   "source": [
    "# Define the Keras model required for KerasClassifier\n",
    "def create_customized_model(optimizer, kernel_init):\n",
    "    customized_model = Sequential()\n",
    "    customized_model.add(Conv2D(32, (3,3), activation='relu', input_shape=(28, 28, 1)))\n",
    "    customized_model.add(MaxPooling2D(2, 2))\n",
    "    customized_model.add(Dropout(0.2))\n",
    "    customized_model.add(Flatten())\n",
    "    customized_model.add(Dense(128, activation='relu', kernel_initializer=kernel_init))\n",
    "    customized_model.add(Dense(num_classes, activation='softmax', kernel_initializer=kernel_init))\n",
    "    customized_model.compile(loss=default_loss, optimizer=optimizer, metrics=default_metrics)\n",
    "    return customized_model"
   ]
  },
  {
   "cell_type": "code",
   "execution_count": 104,
   "metadata": {},
   "outputs": [
    {
     "name": "stdout",
     "output_type": "stream",
     "text": [
      "Optimizer candidate #1 has the object ID of <tensorflow.python.keras.optimizer_v2.adam.Adam object at 0x7f6b466e66d0>\n",
      "Optimizer candidate #2 has the object ID of <tensorflow.python.keras.optimizer_v2.rmsprop.RMSprop object at 0x7f6b466e6c50>\n",
      "Optimizer candidate #3 has the object ID of <tensorflow.python.keras.optimizer_v2.gradient_descent.SGD object at 0x7f6b466e6ad0>\n",
      "Initializer candidate #1 has the object ID of <tensorflow.python.ops.init_ops_v2.RandomNormal object at 0x7f6aa0751410>\n",
      "Initializer candidate #2 has the object ID of <tensorflow.python.ops.init_ops_v2.Orthogonal object at 0x7f6b51185b50>\n",
      "Initializer candidate #2 has the object ID of <tensorflow.python.ops.init_ops_v2.GlorotNormal object at 0x7f6b466e6790>\n",
      "\n",
      "Forming the grid-search model #0 using: optimizer=<tensorflow.python.keras.optimizer_v2.adam.Adam object at 0x7f6b466e66d0>, kernel=<tensorflow.python.ops.init_ops_v2.RandomNormal object at 0x7f6aa0751410>, epochs=5, batch_size=32\n",
      "Train on 60000 samples, validate on 10000 samples\n",
      "Epoch 1/5\n",
      "60000/60000 [==============================] - 44s 737us/sample - loss: 0.1869 - accuracy: 0.9442 - val_loss: 0.0599 - val_accuracy: 0.9813\n",
      "Epoch 2/5\n",
      "60000/60000 [==============================] - 43s 717us/sample - loss: 0.0634 - accuracy: 0.9806 - val_loss: 0.0556 - val_accuracy: 0.9826\n",
      "Epoch 3/5\n",
      "60000/60000 [==============================] - 43s 715us/sample - loss: 0.0441 - accuracy: 0.9861 - val_loss: 0.0365 - val_accuracy: 0.9878\n",
      "Epoch 4/5\n",
      "60000/60000 [==============================] - 44s 725us/sample - loss: 0.0302 - accuracy: 0.9904 - val_loss: 0.0403 - val_accuracy: 0.9875\n",
      "Epoch 5/5\n",
      "60000/60000 [==============================] - 43s 716us/sample - loss: 0.0231 - accuracy: 0.9924 - val_loss: 0.0349 - val_accuracy: 0.9893\n",
      "\n",
      "Forming the grid-search model #1 using: optimizer=<tensorflow.python.keras.optimizer_v2.adam.Adam object at 0x7f6b466e66d0>, kernel=<tensorflow.python.ops.init_ops_v2.RandomNormal object at 0x7f6aa0751410>, epochs=5, batch_size=64\n",
      "Train on 60000 samples, validate on 10000 samples\n",
      "Epoch 1/5\n",
      "60000/60000 [==============================] - 24s 402us/sample - loss: 0.1348 - accuracy: 0.9588 - val_loss: 0.0522 - val_accuracy: 0.9824\n",
      "Epoch 2/5\n",
      "60000/60000 [==============================] - 23s 383us/sample - loss: 0.0494 - accuracy: 0.9848 - val_loss: 0.0437 - val_accuracy: 0.9863\n",
      "Epoch 3/5\n",
      "60000/60000 [==============================] - 23s 383us/sample - loss: 0.0339 - accuracy: 0.9893 - val_loss: 0.0360 - val_accuracy: 0.9877\n",
      "Epoch 4/5\n",
      "60000/60000 [==============================] - 23s 382us/sample - loss: 0.0245 - accuracy: 0.9922 - val_loss: 0.0344 - val_accuracy: 0.9884\n",
      "Epoch 5/5\n",
      "60000/60000 [==============================] - 23s 381us/sample - loss: 0.0178 - accuracy: 0.9944 - val_loss: 0.0333 - val_accuracy: 0.9887\n",
      "\n",
      "Forming the grid-search model #2 using: optimizer=<tensorflow.python.keras.optimizer_v2.adam.Adam object at 0x7f6b466e66d0>, kernel=<tensorflow.python.ops.init_ops_v2.RandomNormal object at 0x7f6aa0751410>, epochs=5, batch_size=128\n",
      "Train on 60000 samples, validate on 10000 samples\n",
      "Epoch 1/5\n",
      "60000/60000 [==============================] - 20s 340us/sample - loss: 0.1617 - accuracy: 0.9511 - val_loss: 0.0597 - val_accuracy: 0.9801\n",
      "Epoch 2/5\n",
      "60000/60000 [==============================] - 19s 309us/sample - loss: 0.0542 - accuracy: 0.9834 - val_loss: 0.0420 - val_accuracy: 0.9852\n",
      "Epoch 3/5\n",
      "60000/60000 [==============================] - 19s 309us/sample - loss: 0.0382 - accuracy: 0.9884 - val_loss: 0.0370 - val_accuracy: 0.9870\n",
      "Epoch 4/5\n",
      "60000/60000 [==============================] - 19s 310us/sample - loss: 0.0290 - accuracy: 0.9911 - val_loss: 0.0365 - val_accuracy: 0.9880\n",
      "Epoch 5/5\n",
      "60000/60000 [==============================] - 19s 310us/sample - loss: 0.0220 - accuracy: 0.9931 - val_loss: 0.0327 - val_accuracy: 0.9893\n",
      "\n",
      "Forming the grid-search model #3 using: optimizer=<tensorflow.python.keras.optimizer_v2.adam.Adam object at 0x7f6b466e66d0>, kernel=<tensorflow.python.ops.init_ops_v2.Orthogonal object at 0x7f6b51185b50>, epochs=5, batch_size=32\n",
      "Train on 60000 samples, validate on 10000 samples\n",
      "Epoch 1/5\n",
      "60000/60000 [==============================] - 43s 725us/sample - loss: 0.1166 - accuracy: 0.9648 - val_loss: 0.0481 - val_accuracy: 0.9846\n",
      "Epoch 2/5\n",
      "60000/60000 [==============================] - 43s 714us/sample - loss: 0.0459 - accuracy: 0.9857 - val_loss: 0.0448 - val_accuracy: 0.9858\n",
      "Epoch 3/5\n",
      "60000/60000 [==============================] - 43s 715us/sample - loss: 0.0312 - accuracy: 0.9905 - val_loss: 0.0303 - val_accuracy: 0.9894\n",
      "Epoch 4/5\n",
      "60000/60000 [==============================] - 43s 713us/sample - loss: 0.0217 - accuracy: 0.9928 - val_loss: 0.0325 - val_accuracy: 0.9888\n",
      "Epoch 5/5\n",
      "60000/60000 [==============================] - 42s 707us/sample - loss: 0.0157 - accuracy: 0.9947 - val_loss: 0.0344 - val_accuracy: 0.9884\n",
      "\n",
      "Forming the grid-search model #4 using: optimizer=<tensorflow.python.keras.optimizer_v2.adam.Adam object at 0x7f6b466e66d0>, kernel=<tensorflow.python.ops.init_ops_v2.Orthogonal object at 0x7f6b51185b50>, epochs=5, batch_size=64\n",
      "Train on 60000 samples, validate on 10000 samples\n",
      "Epoch 1/5\n",
      "60000/60000 [==============================] - 24s 402us/sample - loss: 0.1283 - accuracy: 0.9613 - val_loss: 0.0522 - val_accuracy: 0.9819\n",
      "Epoch 2/5\n",
      "60000/60000 [==============================] - 23s 382us/sample - loss: 0.0485 - accuracy: 0.9853 - val_loss: 0.0451 - val_accuracy: 0.9849\n",
      "Epoch 3/5\n",
      "60000/60000 [==============================] - 23s 382us/sample - loss: 0.0325 - accuracy: 0.9900 - val_loss: 0.0361 - val_accuracy: 0.9878\n",
      "Epoch 4/5\n",
      "60000/60000 [==============================] - 23s 383us/sample - loss: 0.0241 - accuracy: 0.9923 - val_loss: 0.0372 - val_accuracy: 0.9875\n",
      "Epoch 5/5\n",
      "60000/60000 [==============================] - 23s 383us/sample - loss: 0.0172 - accuracy: 0.9947 - val_loss: 0.0353 - val_accuracy: 0.9883\n",
      "\n",
      "Forming the grid-search model #5 using: optimizer=<tensorflow.python.keras.optimizer_v2.adam.Adam object at 0x7f6b466e66d0>, kernel=<tensorflow.python.ops.init_ops_v2.Orthogonal object at 0x7f6b51185b50>, epochs=5, batch_size=128\n",
      "Train on 60000 samples, validate on 10000 samples\n",
      "Epoch 1/5\n",
      "60000/60000 [==============================] - 20s 329us/sample - loss: 0.1532 - accuracy: 0.9531 - val_loss: 0.0580 - val_accuracy: 0.9806\n",
      "Epoch 2/5\n",
      "60000/60000 [==============================] - 18s 307us/sample - loss: 0.0522 - accuracy: 0.9841 - val_loss: 0.0433 - val_accuracy: 0.9857\n",
      "Epoch 3/5\n",
      "60000/60000 [==============================] - 18s 308us/sample - loss: 0.0358 - accuracy: 0.9893 - val_loss: 0.0380 - val_accuracy: 0.9867\n",
      "Epoch 4/5\n",
      "60000/60000 [==============================] - 19s 309us/sample - loss: 0.0267 - accuracy: 0.9918 - val_loss: 0.0357 - val_accuracy: 0.9879\n",
      "Epoch 5/5\n",
      "60000/60000 [==============================] - 19s 311us/sample - loss: 0.0197 - accuracy: 0.9938 - val_loss: 0.0347 - val_accuracy: 0.9882\n",
      "\n",
      "Forming the grid-search model #6 using: optimizer=<tensorflow.python.keras.optimizer_v2.adam.Adam object at 0x7f6b466e66d0>, kernel=<tensorflow.python.ops.init_ops_v2.GlorotNormal object at 0x7f6b466e6790>, epochs=5, batch_size=32\n",
      "Train on 60000 samples, validate on 10000 samples\n",
      "Epoch 1/5\n",
      "60000/60000 [==============================] - 44s 732us/sample - loss: 0.1128 - accuracy: 0.9655 - val_loss: 0.0445 - val_accuracy: 0.9844\n",
      "Epoch 2/5\n",
      "60000/60000 [==============================] - 43s 714us/sample - loss: 0.0436 - accuracy: 0.9869 - val_loss: 0.0404 - val_accuracy: 0.9876\n",
      "Epoch 3/5\n",
      "60000/60000 [==============================] - 43s 709us/sample - loss: 0.0290 - accuracy: 0.9907 - val_loss: 0.0338 - val_accuracy: 0.9884\n",
      "Epoch 4/5\n",
      "60000/60000 [==============================] - 42s 707us/sample - loss: 0.0199 - accuracy: 0.9936 - val_loss: 0.0358 - val_accuracy: 0.9877\n",
      "Epoch 5/5\n",
      "60000/60000 [==============================] - 42s 708us/sample - loss: 0.0144 - accuracy: 0.9955 - val_loss: 0.0362 - val_accuracy: 0.9889\n",
      "\n",
      "Forming the grid-search model #7 using: optimizer=<tensorflow.python.keras.optimizer_v2.adam.Adam object at 0x7f6b466e66d0>, kernel=<tensorflow.python.ops.init_ops_v2.GlorotNormal object at 0x7f6b466e6790>, epochs=5, batch_size=64\n",
      "Train on 60000 samples, validate on 10000 samples\n",
      "Epoch 1/5\n",
      "60000/60000 [==============================] - 25s 417us/sample - loss: 0.1237 - accuracy: 0.9626 - val_loss: 0.0511 - val_accuracy: 0.9828\n",
      "Epoch 2/5\n",
      "60000/60000 [==============================] - 23s 381us/sample - loss: 0.0475 - accuracy: 0.9858 - val_loss: 0.0445 - val_accuracy: 0.9852\n",
      "Epoch 3/5\n",
      "60000/60000 [==============================] - 23s 382us/sample - loss: 0.0321 - accuracy: 0.9905 - val_loss: 0.0345 - val_accuracy: 0.9883\n",
      "Epoch 4/5\n",
      "60000/60000 [==============================] - 23s 382us/sample - loss: 0.0239 - accuracy: 0.9924 - val_loss: 0.0353 - val_accuracy: 0.9872\n",
      "Epoch 5/5\n",
      "60000/60000 [==============================] - 23s 382us/sample - loss: 0.0174 - accuracy: 0.9945 - val_loss: 0.0351 - val_accuracy: 0.9881\n",
      "\n",
      "Forming the grid-search model #8 using: optimizer=<tensorflow.python.keras.optimizer_v2.adam.Adam object at 0x7f6b466e66d0>, kernel=<tensorflow.python.ops.init_ops_v2.GlorotNormal object at 0x7f6b466e6790>, epochs=5, batch_size=128\n",
      "Train on 60000 samples, validate on 10000 samples\n",
      "Epoch 1/5\n",
      "60000/60000 [==============================] - 20s 328us/sample - loss: 0.1441 - accuracy: 0.9560 - val_loss: 0.0544 - val_accuracy: 0.9811\n",
      "Epoch 2/5\n",
      "60000/60000 [==============================] - 19s 311us/sample - loss: 0.0514 - accuracy: 0.9843 - val_loss: 0.0419 - val_accuracy: 0.9858\n",
      "Epoch 3/5\n",
      "60000/60000 [==============================] - 19s 308us/sample - loss: 0.0358 - accuracy: 0.9891 - val_loss: 0.0376 - val_accuracy: 0.9863\n",
      "Epoch 4/5\n",
      "60000/60000 [==============================] - 19s 309us/sample - loss: 0.0270 - accuracy: 0.9916 - val_loss: 0.0370 - val_accuracy: 0.9868\n",
      "Epoch 5/5\n",
      "60000/60000 [==============================] - 19s 311us/sample - loss: 0.0202 - accuracy: 0.9935 - val_loss: 0.0357 - val_accuracy: 0.9874\n",
      "\n",
      "Forming the grid-search model #9 using: optimizer=<tensorflow.python.keras.optimizer_v2.rmsprop.RMSprop object at 0x7f6b466e6c50>, kernel=<tensorflow.python.ops.init_ops_v2.RandomNormal object at 0x7f6aa0751410>, epochs=5, batch_size=32\n",
      "Train on 60000 samples, validate on 10000 samples\n",
      "Epoch 1/5\n",
      "60000/60000 [==============================] - 45s 751us/sample - loss: 0.1853 - accuracy: 0.9450 - val_loss: 0.0648 - val_accuracy: 0.9789\n",
      "Epoch 2/5\n",
      "60000/60000 [==============================] - 43s 725us/sample - loss: 0.0663 - accuracy: 0.9803 - val_loss: 0.0470 - val_accuracy: 0.9832\n",
      "Epoch 3/5\n",
      "60000/60000 [==============================] - 44s 730us/sample - loss: 0.0479 - accuracy: 0.9860 - val_loss: 0.0394 - val_accuracy: 0.9870\n",
      "Epoch 4/5\n",
      "60000/60000 [==============================] - 44s 736us/sample - loss: 0.0394 - accuracy: 0.9883 - val_loss: 0.0418 - val_accuracy: 0.9865\n",
      "Epoch 5/5\n",
      "60000/60000 [==============================] - 44s 730us/sample - loss: 0.0353 - accuracy: 0.9896 - val_loss: 0.0401 - val_accuracy: 0.9873\n",
      "\n",
      "Forming the grid-search model #10 using: optimizer=<tensorflow.python.keras.optimizer_v2.rmsprop.RMSprop object at 0x7f6b466e6c50>, kernel=<tensorflow.python.ops.init_ops_v2.RandomNormal object at 0x7f6aa0751410>, epochs=5, batch_size=64\n",
      "Train on 60000 samples, validate on 10000 samples\n",
      "Epoch 1/5\n",
      "60000/60000 [==============================] - 25s 412us/sample - loss: 0.2265 - accuracy: 0.9329 - val_loss: 0.0792 - val_accuracy: 0.9758\n",
      "Epoch 2/5\n",
      "60000/60000 [==============================] - 23s 390us/sample - loss: 0.0742 - accuracy: 0.9776 - val_loss: 0.0536 - val_accuracy: 0.9828\n",
      "Epoch 3/5\n",
      "60000/60000 [==============================] - 23s 389us/sample - loss: 0.0497 - accuracy: 0.9848 - val_loss: 0.0440 - val_accuracy: 0.9851\n",
      "Epoch 4/5\n",
      "60000/60000 [==============================] - 24s 392us/sample - loss: 0.0382 - accuracy: 0.9881 - val_loss: 0.0360 - val_accuracy: 0.9874\n",
      "Epoch 5/5\n",
      "60000/60000 [==============================] - 24s 393us/sample - loss: 0.0310 - accuracy: 0.9905 - val_loss: 0.0366 - val_accuracy: 0.9872\n",
      "\n",
      "Forming the grid-search model #11 using: optimizer=<tensorflow.python.keras.optimizer_v2.rmsprop.RMSprop object at 0x7f6b466e6c50>, kernel=<tensorflow.python.ops.init_ops_v2.RandomNormal object at 0x7f6aa0751410>, epochs=5, batch_size=128\n",
      "Train on 60000 samples, validate on 10000 samples\n",
      "Epoch 1/5\n",
      "60000/60000 [==============================] - 21s 347us/sample - loss: 0.2803 - accuracy: 0.9171 - val_loss: 0.1125 - val_accuracy: 0.9665\n",
      "Epoch 2/5\n",
      "60000/60000 [==============================] - 19s 310us/sample - loss: 0.0919 - accuracy: 0.9722 - val_loss: 0.0614 - val_accuracy: 0.9808\n",
      "Epoch 3/5\n",
      "60000/60000 [==============================] - 19s 311us/sample - loss: 0.0593 - accuracy: 0.9821 - val_loss: 0.0575 - val_accuracy: 0.9806\n",
      "Epoch 4/5\n",
      "60000/60000 [==============================] - 19s 310us/sample - loss: 0.0452 - accuracy: 0.9863 - val_loss: 0.0413 - val_accuracy: 0.9860\n",
      "Epoch 5/5\n",
      "60000/60000 [==============================] - 19s 311us/sample - loss: 0.0361 - accuracy: 0.9888 - val_loss: 0.0414 - val_accuracy: 0.9870\n",
      "\n",
      "Forming the grid-search model #12 using: optimizer=<tensorflow.python.keras.optimizer_v2.rmsprop.RMSprop object at 0x7f6b466e6c50>, kernel=<tensorflow.python.ops.init_ops_v2.Orthogonal object at 0x7f6b51185b50>, epochs=5, batch_size=32\n",
      "Train on 60000 samples, validate on 10000 samples\n",
      "Epoch 1/5\n",
      "60000/60000 [==============================] - 45s 753us/sample - loss: 0.1738 - accuracy: 0.9476 - val_loss: 0.0659 - val_accuracy: 0.9787\n",
      "Epoch 2/5\n",
      "60000/60000 [==============================] - 44s 730us/sample - loss: 0.0652 - accuracy: 0.9803 - val_loss: 0.0474 - val_accuracy: 0.9833\n",
      "Epoch 3/5\n",
      "60000/60000 [==============================] - 44s 729us/sample - loss: 0.0474 - accuracy: 0.9859 - val_loss: 0.0419 - val_accuracy: 0.9864\n",
      "Epoch 4/5\n",
      "60000/60000 [==============================] - 44s 737us/sample - loss: 0.0392 - accuracy: 0.9885 - val_loss: 0.0413 - val_accuracy: 0.9869\n",
      "Epoch 5/5\n",
      "60000/60000 [==============================] - 44s 733us/sample - loss: 0.0340 - accuracy: 0.9902 - val_loss: 0.0420 - val_accuracy: 0.9872\n",
      "\n",
      "Forming the grid-search model #13 using: optimizer=<tensorflow.python.keras.optimizer_v2.rmsprop.RMSprop object at 0x7f6b466e6c50>, kernel=<tensorflow.python.ops.init_ops_v2.Orthogonal object at 0x7f6b51185b50>, epochs=5, batch_size=64\n",
      "Train on 60000 samples, validate on 10000 samples\n",
      "Epoch 1/5\n",
      "60000/60000 [==============================] - 25s 416us/sample - loss: 0.2093 - accuracy: 0.9376 - val_loss: 0.0779 - val_accuracy: 0.9757\n",
      "Epoch 2/5\n",
      "60000/60000 [==============================] - 23s 390us/sample - loss: 0.0721 - accuracy: 0.9786 - val_loss: 0.0526 - val_accuracy: 0.9827\n",
      "Epoch 3/5\n",
      "60000/60000 [==============================] - 23s 388us/sample - loss: 0.0488 - accuracy: 0.9855 - val_loss: 0.0426 - val_accuracy: 0.9858\n",
      "Epoch 4/5\n",
      "60000/60000 [==============================] - 23s 391us/sample - loss: 0.0375 - accuracy: 0.9885 - val_loss: 0.0353 - val_accuracy: 0.9879\n",
      "Epoch 5/5\n",
      "60000/60000 [==============================] - 24s 393us/sample - loss: 0.0304 - accuracy: 0.9907 - val_loss: 0.0383 - val_accuracy: 0.9876\n",
      "\n",
      "Forming the grid-search model #14 using: optimizer=<tensorflow.python.keras.optimizer_v2.rmsprop.RMSprop object at 0x7f6b466e6c50>, kernel=<tensorflow.python.ops.init_ops_v2.Orthogonal object at 0x7f6b51185b50>, epochs=5, batch_size=128\n",
      "Train on 60000 samples, validate on 10000 samples\n",
      "Epoch 1/5\n",
      "60000/60000 [==============================] - 20s 338us/sample - loss: 0.2590 - accuracy: 0.9225 - val_loss: 0.1031 - val_accuracy: 0.9686\n",
      "Epoch 2/5\n",
      "60000/60000 [==============================] - 19s 314us/sample - loss: 0.0853 - accuracy: 0.9743 - val_loss: 0.0565 - val_accuracy: 0.9827\n",
      "Epoch 3/5\n",
      "60000/60000 [==============================] - 19s 314us/sample - loss: 0.0567 - accuracy: 0.9829 - val_loss: 0.0545 - val_accuracy: 0.9826\n",
      "Epoch 4/5\n",
      "60000/60000 [==============================] - 19s 313us/sample - loss: 0.0438 - accuracy: 0.9862 - val_loss: 0.0400 - val_accuracy: 0.9867\n",
      "Epoch 5/5\n",
      "60000/60000 [==============================] - 19s 314us/sample - loss: 0.0343 - accuracy: 0.9893 - val_loss: 0.0399 - val_accuracy: 0.9870\n",
      "\n",
      "Forming the grid-search model #15 using: optimizer=<tensorflow.python.keras.optimizer_v2.rmsprop.RMSprop object at 0x7f6b466e6c50>, kernel=<tensorflow.python.ops.init_ops_v2.GlorotNormal object at 0x7f6b466e6790>, epochs=5, batch_size=32\n",
      "Train on 60000 samples, validate on 10000 samples\n",
      "Epoch 1/5\n",
      "60000/60000 [==============================] - 45s 747us/sample - loss: 0.1581 - accuracy: 0.9522 - val_loss: 0.0622 - val_accuracy: 0.9793\n",
      "Epoch 2/5\n",
      "60000/60000 [==============================] - 44s 729us/sample - loss: 0.0609 - accuracy: 0.9819 - val_loss: 0.0481 - val_accuracy: 0.9830\n",
      "Epoch 3/5\n",
      "60000/60000 [==============================] - 43s 725us/sample - loss: 0.0453 - accuracy: 0.9868 - val_loss: 0.0409 - val_accuracy: 0.9873\n",
      "Epoch 4/5\n",
      "60000/60000 [==============================] - 44s 727us/sample - loss: 0.0381 - accuracy: 0.9887 - val_loss: 0.0433 - val_accuracy: 0.9860\n",
      "Epoch 5/5\n",
      "60000/60000 [==============================] - 44s 735us/sample - loss: 0.0320 - accuracy: 0.9906 - val_loss: 0.0405 - val_accuracy: 0.9874\n",
      "\n",
      "Forming the grid-search model #16 using: optimizer=<tensorflow.python.keras.optimizer_v2.rmsprop.RMSprop object at 0x7f6b466e6c50>, kernel=<tensorflow.python.ops.init_ops_v2.GlorotNormal object at 0x7f6b466e6790>, epochs=5, batch_size=64\n",
      "Train on 60000 samples, validate on 10000 samples\n",
      "Epoch 1/5\n",
      "60000/60000 [==============================] - 26s 427us/sample - loss: 0.1873 - accuracy: 0.9430 - val_loss: 0.0667 - val_accuracy: 0.9786\n",
      "Epoch 2/5\n",
      "60000/60000 [==============================] - 23s 391us/sample - loss: 0.0644 - accuracy: 0.9808 - val_loss: 0.0504 - val_accuracy: 0.9817\n",
      "Epoch 3/5\n",
      "60000/60000 [==============================] - 23s 390us/sample - loss: 0.0448 - accuracy: 0.9861 - val_loss: 0.0410 - val_accuracy: 0.9861\n",
      "Epoch 4/5\n",
      "60000/60000 [==============================] - 24s 392us/sample - loss: 0.0350 - accuracy: 0.9890 - val_loss: 0.0385 - val_accuracy: 0.9878\n",
      "Epoch 5/5\n",
      "60000/60000 [==============================] - 23s 391us/sample - loss: 0.0287 - accuracy: 0.9912 - val_loss: 0.0349 - val_accuracy: 0.9881\n",
      "\n",
      "Forming the grid-search model #17 using: optimizer=<tensorflow.python.keras.optimizer_v2.rmsprop.RMSprop object at 0x7f6b466e6c50>, kernel=<tensorflow.python.ops.init_ops_v2.GlorotNormal object at 0x7f6b466e6790>, epochs=5, batch_size=128\n",
      "Train on 60000 samples, validate on 10000 samples\n",
      "Epoch 1/5\n",
      "60000/60000 [==============================] - 20s 337us/sample - loss: 0.2348 - accuracy: 0.9290 - val_loss: 0.0882 - val_accuracy: 0.9717\n",
      "Epoch 2/5\n",
      "60000/60000 [==============================] - 19s 314us/sample - loss: 0.0755 - accuracy: 0.9773 - val_loss: 0.0560 - val_accuracy: 0.9807\n",
      "Epoch 3/5\n",
      "60000/60000 [==============================] - 19s 312us/sample - loss: 0.0508 - accuracy: 0.9846 - val_loss: 0.0501 - val_accuracy: 0.9826\n",
      "Epoch 4/5\n",
      "60000/60000 [==============================] - 19s 313us/sample - loss: 0.0389 - accuracy: 0.9878 - val_loss: 0.0410 - val_accuracy: 0.9857\n",
      "Epoch 5/5\n",
      "60000/60000 [==============================] - 19s 314us/sample - loss: 0.0307 - accuracy: 0.9903 - val_loss: 0.0395 - val_accuracy: 0.9861\n",
      "\n",
      "Forming the grid-search model #18 using: optimizer=<tensorflow.python.keras.optimizer_v2.gradient_descent.SGD object at 0x7f6b466e6ad0>, kernel=<tensorflow.python.ops.init_ops_v2.RandomNormal object at 0x7f6aa0751410>, epochs=5, batch_size=32\n",
      "Train on 60000 samples, validate on 10000 samples\n",
      "Epoch 1/5\n",
      "60000/60000 [==============================] - 43s 717us/sample - loss: 0.6748 - accuracy: 0.8018 - val_loss: 0.2861 - val_accuracy: 0.9171\n",
      "Epoch 2/5\n",
      "60000/60000 [==============================] - 42s 703us/sample - loss: 0.3104 - accuracy: 0.9063 - val_loss: 0.2201 - val_accuracy: 0.9354\n",
      "Epoch 3/5\n",
      "60000/60000 [==============================] - 42s 701us/sample - loss: 0.2426 - accuracy: 0.9258 - val_loss: 0.1709 - val_accuracy: 0.9501\n",
      "Epoch 4/5\n",
      "60000/60000 [==============================] - 43s 714us/sample - loss: 0.2014 - accuracy: 0.9387 - val_loss: 0.1408 - val_accuracy: 0.9570\n",
      "Epoch 5/5\n",
      "60000/60000 [==============================] - 41s 686us/sample - loss: 0.1737 - accuracy: 0.9475 - val_loss: 0.1257 - val_accuracy: 0.9623\n",
      "\n",
      "Forming the grid-search model #19 using: optimizer=<tensorflow.python.keras.optimizer_v2.gradient_descent.SGD object at 0x7f6b466e6ad0>, kernel=<tensorflow.python.ops.init_ops_v2.RandomNormal object at 0x7f6aa0751410>, epochs=5, batch_size=64\n",
      "Train on 60000 samples, validate on 10000 samples\n",
      "Epoch 1/5\n",
      "60000/60000 [==============================] - 23s 378us/sample - loss: 0.9542 - accuracy: 0.7248 - val_loss: 0.3537 - val_accuracy: 0.8995\n",
      "Epoch 2/5\n",
      "60000/60000 [==============================] - 22s 368us/sample - loss: 0.3810 - accuracy: 0.8846 - val_loss: 0.2898 - val_accuracy: 0.9172\n",
      "Epoch 3/5\n",
      "60000/60000 [==============================] - 22s 362us/sample - loss: 0.3240 - accuracy: 0.9022 - val_loss: 0.2423 - val_accuracy: 0.9303\n",
      "Epoch 4/5\n",
      "60000/60000 [==============================] - 22s 369us/sample - loss: 0.2838 - accuracy: 0.9142 - val_loss: 0.2091 - val_accuracy: 0.9390\n",
      "Epoch 5/5\n",
      "60000/60000 [==============================] - 22s 366us/sample - loss: 0.2514 - accuracy: 0.9236 - val_loss: 0.1930 - val_accuracy: 0.9426\n",
      "\n",
      "Forming the grid-search model #20 using: optimizer=<tensorflow.python.keras.optimizer_v2.gradient_descent.SGD object at 0x7f6b466e6ad0>, kernel=<tensorflow.python.ops.init_ops_v2.RandomNormal object at 0x7f6aa0751410>, epochs=5, batch_size=128\n",
      "Train on 60000 samples, validate on 10000 samples\n",
      "Epoch 1/5\n",
      "60000/60000 [==============================] - 19s 312us/sample - loss: 1.4262 - accuracy: 0.5928 - val_loss: 0.5001 - val_accuracy: 0.8733\n",
      "Epoch 2/5\n",
      "60000/60000 [==============================] - 18s 301us/sample - loss: 0.4742 - accuracy: 0.8588 - val_loss: 0.3483 - val_accuracy: 0.9018\n",
      "Epoch 3/5\n",
      "60000/60000 [==============================] - 18s 302us/sample - loss: 0.3971 - accuracy: 0.8790 - val_loss: 0.3078 - val_accuracy: 0.9105\n",
      "Epoch 4/5\n",
      "60000/60000 [==============================] - 18s 301us/sample - loss: 0.3612 - accuracy: 0.8917 - val_loss: 0.2787 - val_accuracy: 0.9191\n",
      "Epoch 5/5\n",
      "60000/60000 [==============================] - 18s 301us/sample - loss: 0.3340 - accuracy: 0.9000 - val_loss: 0.2643 - val_accuracy: 0.9229\n",
      "\n",
      "Forming the grid-search model #21 using: optimizer=<tensorflow.python.keras.optimizer_v2.gradient_descent.SGD object at 0x7f6b466e6ad0>, kernel=<tensorflow.python.ops.init_ops_v2.Orthogonal object at 0x7f6b51185b50>, epochs=5, batch_size=32\n",
      "Train on 60000 samples, validate on 10000 samples\n",
      "Epoch 1/5\n",
      "60000/60000 [==============================] - 41s 688us/sample - loss: 0.5621 - accuracy: 0.8500 - val_loss: 0.2677 - val_accuracy: 0.9209\n",
      "Epoch 2/5\n",
      "60000/60000 [==============================] - 41s 678us/sample - loss: 0.2610 - accuracy: 0.9223 - val_loss: 0.1988 - val_accuracy: 0.9399\n",
      "Epoch 3/5\n",
      "60000/60000 [==============================] - 41s 683us/sample - loss: 0.1985 - accuracy: 0.9401 - val_loss: 0.1501 - val_accuracy: 0.9564\n",
      "Epoch 4/5\n",
      "60000/60000 [==============================] - 41s 687us/sample - loss: 0.1602 - accuracy: 0.9521 - val_loss: 0.1249 - val_accuracy: 0.9622\n",
      "Epoch 5/5\n",
      "60000/60000 [==============================] - 41s 680us/sample - loss: 0.1368 - accuracy: 0.9583 - val_loss: 0.1101 - val_accuracy: 0.9654\n",
      "\n",
      "Forming the grid-search model #22 using: optimizer=<tensorflow.python.keras.optimizer_v2.gradient_descent.SGD object at 0x7f6b466e6ad0>, kernel=<tensorflow.python.ops.init_ops_v2.Orthogonal object at 0x7f6b51185b50>, epochs=5, batch_size=64\n",
      "Train on 60000 samples, validate on 10000 samples\n",
      "Epoch 1/5\n",
      "60000/60000 [==============================] - 23s 377us/sample - loss: 0.7813 - accuracy: 0.8061 - val_loss: 0.3226 - val_accuracy: 0.9092\n",
      "Epoch 2/5\n",
      "60000/60000 [==============================] - 22s 367us/sample - loss: 0.3260 - accuracy: 0.9032 - val_loss: 0.2667 - val_accuracy: 0.9229\n",
      "Epoch 3/5\n",
      "60000/60000 [==============================] - 22s 367us/sample - loss: 0.2726 - accuracy: 0.9188 - val_loss: 0.2224 - val_accuracy: 0.9347\n",
      "Epoch 4/5\n",
      "60000/60000 [==============================] - 22s 368us/sample - loss: 0.2329 - accuracy: 0.9312 - val_loss: 0.1834 - val_accuracy: 0.9472\n",
      "Epoch 5/5\n",
      "60000/60000 [==============================] - 22s 370us/sample - loss: 0.2023 - accuracy: 0.9392 - val_loss: 0.1665 - val_accuracy: 0.9510\n",
      "\n",
      "Forming the grid-search model #23 using: optimizer=<tensorflow.python.keras.optimizer_v2.gradient_descent.SGD object at 0x7f6b466e6ad0>, kernel=<tensorflow.python.ops.init_ops_v2.Orthogonal object at 0x7f6b51185b50>, epochs=5, batch_size=128\n",
      "Train on 60000 samples, validate on 10000 samples\n",
      "Epoch 1/5\n",
      "60000/60000 [==============================] - 20s 328us/sample - loss: 1.1624 - accuracy: 0.7283 - val_loss: 0.4169 - val_accuracy: 0.8908\n",
      "Epoch 2/5\n",
      "60000/60000 [==============================] - 18s 302us/sample - loss: 0.3935 - accuracy: 0.8856 - val_loss: 0.3192 - val_accuracy: 0.9102\n",
      "Epoch 3/5\n",
      "60000/60000 [==============================] - 18s 302us/sample - loss: 0.3381 - accuracy: 0.9004 - val_loss: 0.2842 - val_accuracy: 0.9181\n",
      "Epoch 4/5\n",
      "60000/60000 [==============================] - 18s 301us/sample - loss: 0.3063 - accuracy: 0.9100 - val_loss: 0.2550 - val_accuracy: 0.9264\n",
      "Epoch 5/5\n",
      "60000/60000 [==============================] - 18s 301us/sample - loss: 0.2801 - accuracy: 0.9163 - val_loss: 0.2352 - val_accuracy: 0.9325\n",
      "\n",
      "Forming the grid-search model #24 using: optimizer=<tensorflow.python.keras.optimizer_v2.gradient_descent.SGD object at 0x7f6b466e6ad0>, kernel=<tensorflow.python.ops.init_ops_v2.GlorotNormal object at 0x7f6b466e6790>, epochs=5, batch_size=32\n",
      "Train on 60000 samples, validate on 10000 samples\n",
      "Epoch 1/5\n",
      "60000/60000 [==============================] - 41s 690us/sample - loss: 0.5018 - accuracy: 0.8581 - val_loss: 0.2396 - val_accuracy: 0.9281\n",
      "Epoch 2/5\n",
      "60000/60000 [==============================] - 41s 683us/sample - loss: 0.2426 - accuracy: 0.9281 - val_loss: 0.1821 - val_accuracy: 0.9447\n",
      "Epoch 3/5\n",
      "60000/60000 [==============================] - 41s 680us/sample - loss: 0.1879 - accuracy: 0.9438 - val_loss: 0.1394 - val_accuracy: 0.9583\n",
      "Epoch 4/5\n",
      "60000/60000 [==============================] - 41s 680us/sample - loss: 0.1556 - accuracy: 0.9530 - val_loss: 0.1167 - val_accuracy: 0.9644\n",
      "Epoch 5/5\n",
      "60000/60000 [==============================] - 41s 681us/sample - loss: 0.1335 - accuracy: 0.9597 - val_loss: 0.1065 - val_accuracy: 0.9664\n",
      "\n",
      "Forming the grid-search model #25 using: optimizer=<tensorflow.python.keras.optimizer_v2.gradient_descent.SGD object at 0x7f6b466e6ad0>, kernel=<tensorflow.python.ops.init_ops_v2.GlorotNormal object at 0x7f6b466e6790>, epochs=5, batch_size=64\n",
      "Train on 60000 samples, validate on 10000 samples\n",
      "Epoch 1/5\n",
      "60000/60000 [==============================] - 23s 378us/sample - loss: 0.6830 - accuracy: 0.8151 - val_loss: 0.2996 - val_accuracy: 0.9156\n",
      "Epoch 2/5\n",
      "60000/60000 [==============================] - 22s 368us/sample - loss: 0.3042 - accuracy: 0.9099 - val_loss: 0.2444 - val_accuracy: 0.9300\n",
      "Epoch 3/5\n",
      "60000/60000 [==============================] - 22s 368us/sample - loss: 0.2514 - accuracy: 0.9254 - val_loss: 0.2014 - val_accuracy: 0.9427\n",
      "Epoch 4/5\n",
      "60000/60000 [==============================] - 22s 368us/sample - loss: 0.2164 - accuracy: 0.9360 - val_loss: 0.1680 - val_accuracy: 0.9503\n",
      "Epoch 5/5\n",
      "60000/60000 [==============================] - 22s 369us/sample - loss: 0.1912 - accuracy: 0.9428 - val_loss: 0.1542 - val_accuracy: 0.9538\n",
      "\n",
      "Forming the grid-search model #26 using: optimizer=<tensorflow.python.keras.optimizer_v2.gradient_descent.SGD object at 0x7f6b466e6ad0>, kernel=<tensorflow.python.ops.init_ops_v2.GlorotNormal object at 0x7f6b466e6790>, epochs=5, batch_size=128\n",
      "Train on 60000 samples, validate on 10000 samples\n",
      "Epoch 1/5\n",
      "60000/60000 [==============================] - 19s 314us/sample - loss: 0.9860 - accuracy: 0.7444 - val_loss: 0.3746 - val_accuracy: 0.8984\n",
      "Epoch 2/5\n",
      "60000/60000 [==============================] - 18s 301us/sample - loss: 0.3715 - accuracy: 0.8907 - val_loss: 0.2983 - val_accuracy: 0.9126\n",
      "Epoch 3/5\n",
      "60000/60000 [==============================] - 18s 305us/sample - loss: 0.3150 - accuracy: 0.9067 - val_loss: 0.2603 - val_accuracy: 0.9251\n",
      "Epoch 4/5\n",
      "60000/60000 [==============================] - 18s 301us/sample - loss: 0.2827 - accuracy: 0.9171 - val_loss: 0.2300 - val_accuracy: 0.9338\n",
      "Epoch 5/5\n",
      "60000/60000 [==============================] - 18s 300us/sample - loss: 0.2580 - accuracy: 0.9238 - val_loss: 0.2102 - val_accuracy: 0.9401\n",
      "\n",
      "Best score (highest validation accuracy) found via grid search: accuracy=0.989300 from model iteration #0\n",
      "The best modeling parameters are: optimizer=<tensorflow.python.keras.optimizer_v2.adam.Adam object at 0x7f6b466e66d0>, kernel=<tensorflow.python.ops.init_ops_v2.RandomNormal object at 0x7f6aa0751410>, epochs=5, batch_size=32\n",
      "Total time for performing grid-search of the best parameters: 1:03:40.380750\n"
     ]
    }
   ],
   "source": [
    "startTimeModule = datetime.now()\n",
    "\n",
    "# Set up grid search using different epochs, batch sizes, and optimizers\n",
    "optz_1 = tf.optimizers.Adam(learning_rate=0.001)\n",
    "optz_2 = tf.optimizers.RMSprop(learning_rate=0.001)\n",
    "optz_3 = tf.optimizers.SGD(learning_rate=0.01)\n",
    "optimizer_grid = [optz_1, optz_2, optz_3]\n",
    "print('Optimizer candidate #1 has the object ID of', optz_1)\n",
    "print('Optimizer candidate #2 has the object ID of', optz_2)\n",
    "print('Optimizer candidate #3 has the object ID of', optz_3)\n",
    "\n",
    "init_1 = tf.initializers.RandomNormal(seed=seedNum)\n",
    "init_2 = tf.initializers.Orthogonal(seed=seedNum)\n",
    "init_3 = tf.initializers.GlorotNormal(seed=seedNum)\n",
    "init_grid = [init_1, init_2, init_3]\n",
    "print('Initializer candidate #1 has the object ID of', init_1)\n",
    "print('Initializer candidate #2 has the object ID of', init_2)\n",
    "print('Initializer candidate #2 has the object ID of', init_3)\n",
    "\n",
    "epoch_grid = [5]\n",
    "batch_grid = [32, 64, 128]\n",
    "\n",
    "best_score = 0\n",
    "grid_iteration = 0\n",
    "best_iteration = 0\n",
    "best_optimizer = default_optimizer\n",
    "best_kernel_init = default_kernel_init\n",
    "best_epoch = default_epoch\n",
    "best_batch = default_batch\n",
    "\n",
    "for optimizer in optimizer_grid:\n",
    "    for kernel_init in init_grid:\n",
    "        for epoch_num in epoch_grid:\n",
    "            for batch_num in batch_grid:\n",
    "                print('\\nForming the grid-search model #%d using: optimizer=%s, kernel=%s, epochs=%d, batch_size=%d'\n",
    "                      % (grid_iteration, optimizer, kernel_init, epoch_num, batch_num))\n",
    "                reset_random(seedNum)\n",
    "                grid_model = create_customized_model(optimizer, kernel_init)\n",
    "                grid_hist = grid_model.fit(X_train, y_train, epochs=epoch_num, batch_size=batch_num, \n",
    "                                       validation_data=(X_test, y_test), verbose=1)\n",
    "                if(grid_hist.history['val_accuracy'][-1] > best_score):\n",
    "                    best_score = grid_hist.history['val_accuracy'][-1]\n",
    "                    best_iteration = grid_iteration\n",
    "                    best_optimizer = optimizer\n",
    "                    best_kernel_init = kernel_init\n",
    "                    best_epoch = epoch_num\n",
    "                    best_batch = batch_num\n",
    "                grid_iteration = grid_iteration + 1\n",
    "\n",
    "# summarize results\n",
    "print(\"\\nBest score (highest validation accuracy) found via grid search: accuracy=%f from model iteration #%d\"\n",
    "      % (best_score, best_iteration))\n",
    "print('The best modeling parameters are: optimizer=%s, kernel=%s, epochs=%d, batch_size=%d'\n",
    "      % (best_optimizer, best_kernel_init, best_epoch, best_batch))\n",
    "print('Total time for performing grid-search of the best parameters:', (datetime.now() - startTimeModule))"
   ]
  },
  {
   "cell_type": "code",
   "execution_count": 105,
   "metadata": {},
   "outputs": [],
   "source": [
    "if (notifyStatus): email_notify(\"Phase 4 Optimize Model completed! \"+datetime.now().strftime('%a %B %d, %Y %I:%M:%S %p'))"
   ]
  },
  {
   "cell_type": "markdown",
   "metadata": {},
   "source": [
    "# Section 5. Finalize Model"
   ]
  },
  {
   "cell_type": "code",
   "execution_count": 106,
   "metadata": {},
   "outputs": [],
   "source": [
    "if (notifyStatus): email_notify(\"Phase 5 Finalize Model has begun! \"+datetime.now().strftime('%a %B %d, %Y %I:%M:%S %p'))"
   ]
  },
  {
   "cell_type": "code",
   "execution_count": 107,
   "metadata": {},
   "outputs": [
    {
     "name": "stdout",
     "output_type": "stream",
     "text": [
      "Forming the final model using: optimizer=<tensorflow.python.keras.optimizer_v2.adam.Adam object at 0x7f6b466e66d0>, kernel=<tensorflow.python.ops.init_ops_v2.RandomNormal object at 0x7f6aa0751410>, epochs=5, batch_size=32\n",
      "Train on 60000 samples\n",
      "Epoch 1/5\n",
      "60000/60000 [==============================] - 41s 687us/sample - loss: 0.1236 - accuracy: 0.9632\n",
      "Epoch 2/5\n",
      "60000/60000 [==============================] - 40s 672us/sample - loss: 0.0474 - accuracy: 0.9855\n",
      "Epoch 3/5\n",
      "60000/60000 [==============================] - 40s 672us/sample - loss: 0.0330 - accuracy: 0.9894\n",
      "Epoch 4/5\n",
      "60000/60000 [==============================] - 40s 664us/sample - loss: 0.0235 - accuracy: 0.9923\n",
      "Epoch 5/5\n",
      "60000/60000 [==============================] - 40s 670us/sample - loss: 0.0168 - accuracy: 0.9946\n",
      "Total time for training the final model: 0:03:22.198219\n"
     ]
    }
   ],
   "source": [
    "# Create the final model for evaluating the test dataset\n",
    "startTimeModule = datetime.now()\n",
    "print('Forming the final model using: optimizer=%s, kernel=%s, epochs=%d, batch_size=%d'\n",
    "      % (best_optimizer, best_kernel_init, best_epoch, best_batch))\n",
    "reset_random(seedNum)\n",
    "final_model = create_customized_model(best_optimizer, best_kernel_init)\n",
    "final_hist = final_model.fit(X_train, y_train, epochs=best_epoch, batch_size=best_batch, verbose=1)\n",
    "print('Total time for training the final model:', (datetime.now() - startTimeModule))"
   ]
  },
  {
   "cell_type": "code",
   "execution_count": 108,
   "metadata": {},
   "outputs": [
    {
     "name": "stdout",
     "output_type": "stream",
     "text": [
      "Model: \"sequential_86\"\n",
      "_________________________________________________________________\n",
      "Layer (type)                 Output Shape              Param #   \n",
      "=================================================================\n",
      "conv2d_86 (Conv2D)           (None, 26, 26, 32)        320       \n",
      "_________________________________________________________________\n",
      "max_pooling2d_86 (MaxPooling (None, 13, 13, 32)        0         \n",
      "_________________________________________________________________\n",
      "dropout_86 (Dropout)         (None, 13, 13, 32)        0         \n",
      "_________________________________________________________________\n",
      "flatten_86 (Flatten)         (None, 5408)              0         \n",
      "_________________________________________________________________\n",
      "dense_172 (Dense)            (None, 128)               692352    \n",
      "_________________________________________________________________\n",
      "dense_173 (Dense)            (None, 10)                1290      \n",
      "=================================================================\n",
      "Total params: 693,962\n",
      "Trainable params: 693,962\n",
      "Non-trainable params: 0\n",
      "_________________________________________________________________\n",
      "None\n"
     ]
    }
   ],
   "source": [
    "# Display a summary of the final model\n",
    "print(final_model.summary())"
   ]
  },
  {
   "cell_type": "code",
   "execution_count": 109,
   "metadata": {},
   "outputs": [
    {
     "name": "stdout",
     "output_type": "stream",
     "text": [
      "{'name': 'sequential_86', 'layers': [{'class_name': 'Conv2D', 'config': {'name': 'conv2d_86', 'trainable': True, 'batch_input_shape': (None, 28, 28, 1), 'dtype': 'float32', 'filters': 32, 'kernel_size': (3, 3), 'strides': (1, 1), 'padding': 'valid', 'data_format': 'channels_last', 'dilation_rate': (1, 1), 'activation': 'relu', 'use_bias': True, 'kernel_initializer': {'class_name': 'GlorotUniform', 'config': {'seed': None}}, 'bias_initializer': {'class_name': 'Zeros', 'config': {}}, 'kernel_regularizer': None, 'bias_regularizer': None, 'activity_regularizer': None, 'kernel_constraint': None, 'bias_constraint': None}}, {'class_name': 'MaxPooling2D', 'config': {'name': 'max_pooling2d_86', 'trainable': True, 'dtype': 'float32', 'pool_size': (2, 2), 'padding': 'valid', 'strides': (2, 2), 'data_format': 'channels_last'}}, {'class_name': 'Dropout', 'config': {'name': 'dropout_86', 'trainable': True, 'dtype': 'float32', 'rate': 0.2, 'noise_shape': None, 'seed': None}}, {'class_name': 'Flatten', 'config': {'name': 'flatten_86', 'trainable': True, 'dtype': 'float32', 'data_format': 'channels_last'}}, {'class_name': 'Dense', 'config': {'name': 'dense_172', 'trainable': True, 'dtype': 'float32', 'units': 128, 'activation': 'relu', 'use_bias': True, 'kernel_initializer': {'class_name': 'RandomNormal', 'config': {'mean': 0.0, 'stddev': 0.05, 'seed': 888}}, 'bias_initializer': {'class_name': 'Zeros', 'config': {}}, 'kernel_regularizer': None, 'bias_regularizer': None, 'activity_regularizer': None, 'kernel_constraint': None, 'bias_constraint': None}}, {'class_name': 'Dense', 'config': {'name': 'dense_173', 'trainable': True, 'dtype': 'float32', 'units': 10, 'activation': 'softmax', 'use_bias': True, 'kernel_initializer': {'class_name': 'RandomNormal', 'config': {'mean': 0.0, 'stddev': 0.05, 'seed': 888}}, 'bias_initializer': {'class_name': 'Zeros', 'config': {}}, 'kernel_regularizer': None, 'bias_regularizer': None, 'activity_regularizer': None, 'kernel_constraint': None, 'bias_constraint': None}}]}\n"
     ]
    }
   ],
   "source": [
    "# Display the configuration of the final model\n",
    "print(final_model.get_config())"
   ]
  },
  {
   "cell_type": "code",
   "execution_count": 110,
   "metadata": {},
   "outputs": [
    {
     "data": {
      "image/png": "[encoded data removed]",
      "text/plain": [
       "<Figure size 864x864 with 2 Axes>"
      ]
     },
     "metadata": {
      "needs_background": "light"
     },
     "output_type": "display_data"
    }
   ],
   "source": [
    "# Summarize model training hisotry for accuracy and loss\n",
    "fig, axs = plt.subplots(2, 1, figsize=(12,12))\n",
    "plt.subplot(211)\n",
    "plt.plot(final_hist.history['accuracy'], color='blue')\n",
    "plt.title('Final Model Training Performance (Accuracy)')\n",
    "plt.ylabel('Accuracy')\n",
    "plt.xlabel('Epoch')\n",
    "plt.subplot(212)\n",
    "plt.plot(final_hist.history['loss'], color='red')\n",
    "plt.title('Final Model Training Performance (Loss)')\n",
    "plt.ylabel('Loss')\n",
    "plt.xlabel('Epoch')\n",
    "plt.show()"
   ]
  },
  {
   "cell_type": "code",
   "execution_count": 111,
   "metadata": {},
   "outputs": [
    {
     "name": "stdout",
     "output_type": "stream",
     "text": [
      "The model accuracy: 98.610002%\n",
      "The model loss: 0.040496\n"
     ]
    }
   ],
   "source": [
    "# Evaluate the Keras model on previously unseen data\n",
    "scores = final_model.evaluate(X_test, y_test, verbose=0)\n",
    "print(\"The model %s: %f%%\" % (final_model.metrics_names[1], scores[1]*100))\n",
    "print(\"The model %s: %f\" % (final_model.metrics_names[0], scores[0]))"
   ]
  },
  {
   "cell_type": "code",
   "execution_count": 112,
   "metadata": {},
   "outputs": [
    {
     "name": "stdout",
     "output_type": "stream",
     "text": [
      "Data item #0 predicted to be [7] (expected [7])\n",
      "Data item #1 predicted to be [2] (expected [2])\n",
      "Data item #2 predicted to be [1] (expected [1])\n",
      "Data item #3 predicted to be [0] (expected [0])\n",
      "Data item #4 predicted to be [4] (expected [4])\n",
      "Data item #5 predicted to be [1] (expected [1])\n",
      "Data item #6 predicted to be [4] (expected [4])\n",
      "Data item #7 predicted to be [9] (expected [9])\n",
      "Data item #8 predicted to be [5] (expected [5])\n",
      "Data item #9 predicted to be [9] (expected [9])\n",
      "Data item #10 predicted to be [0] (expected [0])\n",
      "Data item #11 predicted to be [6] (expected [6])\n",
      "Data item #12 predicted to be [9] (expected [9])\n",
      "Data item #13 predicted to be [0] (expected [0])\n",
      "Data item #14 predicted to be [1] (expected [1])\n",
      "Data item #15 predicted to be [5] (expected [5])\n",
      "Data item #16 predicted to be [9] (expected [9])\n",
      "Data item #17 predicted to be [7] (expected [7])\n",
      "Data item #18 predicted to be [3] (expected [3])\n",
      "Data item #19 predicted to be [4] (expected [4])\n"
     ]
    }
   ],
   "source": [
    "# Make class predictions with the model\n",
    "predictions = final_model.predict_classes(X_test)\n",
    "\n",
    "# Summarize the first 20 cases\n",
    "for i in range(20):\n",
    "\tprint('Data item #%d predicted to be %s (expected %s)' % (i, encoder.inverse_transform([predictions[i]]), encoder.inverse_transform([np.argmax(y_test[i])])))"
   ]
  },
  {
   "cell_type": "code",
   "execution_count": 113,
   "metadata": {},
   "outputs": [],
   "source": [
    "if (notifyStatus): email_notify(\"Phase 5 Finalize Model completed! \"+datetime.now().strftime('%a %B %d, %Y %I:%M:%S %p'))"
   ]
  },
  {
   "cell_type": "code",
   "execution_count": 114,
   "metadata": {},
   "outputs": [
    {
     "name": "stdout",
     "output_type": "stream",
     "text": [
      "Total time for the script: 1:10:49.103910\n"
     ]
    }
   ],
   "source": [
    "print ('Total time for the script:',(datetime.now() - startTimeScript))"
   ]
  }
 ],
 "metadata": {
  "kernelspec": {
   "display_name": "Python 3",
   "language": "python",
   "name": "python3"
  },
  "language_info": {
   "codemirror_mode": {
    "name": "ipython",
    "version": 3
   },
   "file_extension": ".py",
   "mimetype": "text/x-python",
   "name": "python",
   "nbconvert_exporter": "python",
   "pygments_lexer": "ipython3",
   "version": "3.7.5"
  }
 },
 "nbformat": 4,
 "nbformat_minor": 4
}
