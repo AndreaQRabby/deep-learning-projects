{
 "cells": [
  {
   "cell_type": "markdown",
   "metadata": {},
   "source": [
    "# Multi-Class Deep Learning Model for Fashion-MNIST Using Keras Take 2\n",
    "### David Lowe\n",
    "### December 19, 2019\n",
    "\n",
    "Template Credit: Adapted from a template made available by Dr. Jason Brownlee of Machine Learning Mastery. [https://machinelearningmastery.com/]\n",
    "\n",
    "SUMMARY: The purpose of this project is to construct a predictive model using various machine learning algorithms and to document the end-to-end steps using a template. The Fashion MNIST dataset is a multi-class classification situation where we are trying to predict one of several (more than two) possible outcomes.\n",
    "\n",
    "INTRODUCTION: Fashion-MNIST is a MNIST-like fashion product dataset from Zalando Research. It consists of a training set of 60,000 clothing article examples and a test set of 10,000 examples. Each example is a 28x28 grayscale image, associated with a label from 10 classes. Zalando intends Fashion-MNIST to serve as a direct drop-in replacement for the original MNIST dataset for benchmarking machine learning algorithms. It shares the same image size and structure of training and testing splits.\n",
    "\n",
    "For the Take1 iteration, we constructed a simple linear/dense deep-learning model to classify the images. This model serves as the baseline for future iterations.\n",
    "\n",
    "For this iteration, we will tune this simple model further to examine whether we can improve its performance.\n",
    "\n",
    "ANALYSIS: For the Take1 iteration, the baseline performance of the model achieved an accuracy score of 88.58% after training for three epochs. The same baseline model processed the test dataset with an accuracy of 87.72%. If we were to train the model much further than three epochs, we could run into the over-fitting issue.\n",
    "\n",
    "For this iteration, the performance of the Take2 model with the default parameters achieved an accuracy score of 91.68% after training for ten epochs. After tuning the hyperparameters, the Take2 model with the best hyperparameters processed the training dataset with an accuracy of 91.82%. The same Take2 model processed the test dataset with an accuracy of 89.20%.\n",
    "\n",
    "CONCLUSION: For this dataset, the model built using Keras and TensorFlow achieved a satisfactory result and should be considered for future modeling activities.\n",
    "\n",
    "Dataset Used: Fashion-MNIST Dataset\n",
    "\n",
    "Dataset ML Model: Multi-class classification with numerical attributes\n",
    "\n",
    "Dataset Reference: https://github.com/zalandoresearch/fashion-mnist\n",
    "\n",
    "One potential source of performance benchmarks: https://www.kaggle.com/zalando-research/fashionmnist\n",
    "\n",
    "Any deep-learning modeling project genrally can be broken down into about six major tasks:\n",
    "\n",
    "0. Prepare Environment\n",
    "1. Load Data\n",
    "2. Define Model\n",
    "3. Fit and Evaluate Model\n",
    "4. Optimize Model\n",
    "5. Finalize Model"
   ]
  },
  {
   "cell_type": "markdown",
   "metadata": {},
   "source": [
    "# Section 0. Prepare Environment"
   ]
  },
  {
   "cell_type": "code",
   "execution_count": 1,
   "metadata": {},
   "outputs": [],
   "source": [
    "# Set the warning message filter\n",
    "import warnings\n",
    "warnings.filterwarnings(\"ignore\", category=FutureWarning)\n",
    "warnings.filterwarnings(\"ignore\", category=DeprecationWarning)"
   ]
  },
  {
   "cell_type": "code",
   "execution_count": 2,
   "metadata": {},
   "outputs": [],
   "source": [
    "# Set the random seed number for reproducible results\n",
    "seedNum = 888"
   ]
  },
  {
   "cell_type": "code",
   "execution_count": 3,
   "metadata": {},
   "outputs": [],
   "source": [
    "# Load libraries and packages\n",
    "import random\n",
    "random.seed(seedNum)\n",
    "import numpy as np\n",
    "np.random.seed(seedNum)\n",
    "import tensorflow as tf\n",
    "tf.random.set_seed(seedNum)\n",
    "from tensorflow.keras import Sequential\n",
    "from tensorflow.keras.layers import Dense\n",
    "from tensorflow.keras.layers import Flatten\n",
    "from tensorflow.keras.wrappers.scikit_learn import KerasClassifier\n",
    "# import keras as K\n",
    "# from keras.models import Sequential\n",
    "# from keras.layers import Dense\n",
    "# from keras.wrappers.scikit_learn import KerasClassifier\n",
    "import pandas as pd\n",
    "import math\n",
    "import os\n",
    "import sys\n",
    "import shutil\n",
    "import urllib.request\n",
    "import zipfile\n",
    "import smtplib\n",
    "import matplotlib.pyplot as plt\n",
    "from datetime import datetime\n",
    "from email.message import EmailMessage\n",
    "from sklearn.model_selection import train_test_split\n",
    "from sklearn.model_selection import KFold\n",
    "from sklearn.model_selection import StratifiedKFold\n",
    "from sklearn.model_selection import cross_val_score\n",
    "from sklearn.model_selection import GridSearchCV\n",
    "from sklearn.model_selection import RandomizedSearchCV\n",
    "from sklearn import preprocessing"
   ]
  },
  {
   "cell_type": "code",
   "execution_count": 4,
   "metadata": {},
   "outputs": [
    {
     "name": "stdout",
     "output_type": "stream",
     "text": [
      "Num GPUs Available:  0\n"
     ]
    }
   ],
   "source": [
    "# Begin the timer for the script processing\n",
    "startTimeScript = datetime.now()\n",
    "\n",
    "# Set up the verbose flag to print detailed messages for debugging (setting to True will activate)\n",
    "# verbose = True\n",
    "# tf.debugging.set_log_device_placement(verbose)\n",
    "\n",
    "# Set up the number of CPU cores available for multi-thread processing\n",
    "n_jobs = -1\n",
    "print(\"Num GPUs Available: \", len(tf.config.experimental.list_physical_devices('GPU')))\n",
    "\n",
    "# Set up the flag to stop sending progress emails (setting to True will send status emails!)\n",
    "notifyStatus = False\n",
    "\n",
    "# Set the number of folds for cross validation\n",
    "n_folds = 5\n",
    "\n",
    "# Set the flag for splitting the dataset\n",
    "splitDataset = True\n",
    "splitPercentage = 0.25\n",
    "\n",
    "# Set various default Keras modeling parameters\n",
    "default_loss = 'categorical_crossentropy'\n",
    "default_metrics = ['accuracy']\n",
    "default_kernel_init = tf.initializers.RandomNormal(seed=seedNum)\n",
    "default_optimizer = tf.optimizers.Adam(learning_rate=0.001)\n",
    "default_epoch = 10\n",
    "default_batch = 32"
   ]
  },
  {
   "cell_type": "code",
   "execution_count": 5,
   "metadata": {},
   "outputs": [],
   "source": [
    "# Reset the random number generators\n",
    "def reset_random(seedNum):\n",
    "    random.seed(seedNum)\n",
    "    np.random.seed(seedNum)\n",
    "    tf.random.set_seed(seedNum)"
   ]
  },
  {
   "cell_type": "code",
   "execution_count": 6,
   "metadata": {},
   "outputs": [],
   "source": [
    "# Set up the email notification function\n",
    "def email_notify(msg_text):\n",
    "    sender = os.environ.get('MAIL_SENDER')\n",
    "    receiver = os.environ.get('MAIL_RECEIVER')\n",
    "    gateway = os.environ.get('SMTP_GATEWAY')\n",
    "    smtpuser = os.environ.get('SMTP_USERNAME')\n",
    "    password = os.environ.get('SMTP_PASSWORD')\n",
    "    if sender==None or receiver==None or gateway==None or smtpuser==None or password==None:\n",
    "        sys.exit(\"Incomplete email setup info. Script Processing Aborted!!!\")\n",
    "    msg = EmailMessage()\n",
    "    msg.set_content(msg_text)\n",
    "    msg['Subject'] = 'Notification from Keras Multi-Class Classification Script'\n",
    "    msg['From'] = sender\n",
    "    msg['To'] = receiver\n",
    "    server = smtplib.SMTP(gateway, 587)\n",
    "    server.starttls()\n",
    "    server.login(smtpuser, password)\n",
    "    server.send_message(msg)\n",
    "    server.quit()"
   ]
  },
  {
   "cell_type": "code",
   "execution_count": 7,
   "metadata": {},
   "outputs": [],
   "source": [
    "if (notifyStatus): email_notify(\"Phase 0 Prepare Environment completed! \"+datetime.now().strftime('%a %B %d, %Y %I:%M:%S %p'))"
   ]
  },
  {
   "cell_type": "markdown",
   "metadata": {},
   "source": [
    "# Section 1. Load Data"
   ]
  },
  {
   "cell_type": "code",
   "execution_count": 8,
   "metadata": {},
   "outputs": [],
   "source": [
    "if (notifyStatus): email_notify(\"Phase 1 Load Data has begun! \"+datetime.now().strftime('%a %B %d, %Y %I:%M:%S %p'))"
   ]
  },
  {
   "cell_type": "markdown",
   "metadata": {},
   "source": [
    "## 1.a) Load Dataset"
   ]
  },
  {
   "cell_type": "code",
   "execution_count": 9,
   "metadata": {},
   "outputs": [
    {
     "name": "stdout",
     "output_type": "stream",
     "text": [
      "Train Shape: X=(60000, 28, 28), y=(60000,)\n",
      "Test Shape: X=(10000, 28, 28), y=(10000,)\n"
     ]
    }
   ],
   "source": [
    "mnist = tf.keras.datasets.fashion_mnist\n",
    "(X_train, y_train),(X_test, y_test) = mnist.load_data()\n",
    "\n",
    "# Summarize loaded datasets\n",
    "print('Train Shape: X=%s, y=%s' % (X_train.shape, y_train.shape))\n",
    "print('Test Shape: X=%s, y=%s' % (X_test.shape, y_test.shape))"
   ]
  },
  {
   "cell_type": "code",
   "execution_count": 10,
   "metadata": {},
   "outputs": [
    {
     "data": {
      "image/png": "[encoded data removed]",
      "text/plain": [
       "<Figure size 432x288 with 9 Axes>"
      ]
     },
     "metadata": {
      "needs_background": "light"
     },
     "output_type": "display_data"
    }
   ],
   "source": [
    "# Plot first few images\n",
    "for i in range(9):\n",
    "    # define subplot\n",
    "    plt.subplot(330 + 1 + i)\n",
    "    # plot raw pixel data\n",
    "    plt.imshow(X_train[i], cmap=plt.get_cmap('gray'))\n",
    "plt.show()"
   ]
  },
  {
   "cell_type": "markdown",
   "metadata": {},
   "source": [
    "## 1.b) Data Cleaning"
   ]
  },
  {
   "cell_type": "code",
   "execution_count": 11,
   "metadata": {},
   "outputs": [],
   "source": [
    "# Not required for this iteration of the project"
   ]
  },
  {
   "cell_type": "markdown",
   "metadata": {},
   "source": [
    "## 1.c) Feature Scaling and Pre-processing"
   ]
  },
  {
   "cell_type": "code",
   "execution_count": 12,
   "metadata": {},
   "outputs": [],
   "source": [
    "# Apply feature scaling and transformation\n",
    "X_train = X_train / 255.0\n",
    "X_test = X_test / 255.0"
   ]
  },
  {
   "cell_type": "markdown",
   "metadata": {},
   "source": [
    "## 1.d) Splitting Data into Training and Test Sets"
   ]
  },
  {
   "cell_type": "code",
   "execution_count": 13,
   "metadata": {},
   "outputs": [
    {
     "name": "stdout",
     "output_type": "stream",
     "text": [
      "Train Shape: X=(60000, 28, 28), y=(60000, 10)\n",
      "Test Shape: X=(10000, 28, 28), y=(10000, 10)\n"
     ]
    }
   ],
   "source": [
    "# Encode class values as integers and perform one-hot-encoding\n",
    "encoder = preprocessing.LabelEncoder()\n",
    "encoder.fit(y_train)\n",
    "train_transformed = encoder.transform(y_train)\n",
    "test_transformed = encoder.transform(y_test)\n",
    "y_train = tf.keras.utils.to_categorical(train_transformed)\n",
    "y_test = tf.keras.utils.to_categorical(test_transformed)\n",
    "\n",
    "print('Train Shape: X=%s, y=%s' % (X_train.shape, y_train.shape))\n",
    "print('Test Shape: X=%s, y=%s' % (X_test.shape, y_test.shape))\n",
    "\n",
    "num_pixels = X_train.shape[1] * X_train.shape[2]\n",
    "num_classes = y_train.shape[1]"
   ]
  },
  {
   "cell_type": "code",
   "execution_count": 14,
   "metadata": {},
   "outputs": [],
   "source": [
    "if (notifyStatus): email_notify(\"Phase 1 Load Data completed! \"+datetime.now().strftime('%a %B %d, %Y %I:%M:%S %p'))"
   ]
  },
  {
   "cell_type": "markdown",
   "metadata": {},
   "source": [
    "# Section 2. Define Model"
   ]
  },
  {
   "cell_type": "code",
   "execution_count": 15,
   "metadata": {},
   "outputs": [],
   "source": [
    "if (notifyStatus): email_notify(\"Phase 2 Define Model has begun! \"+datetime.now().strftime('%a %B %d, %Y %I:%M:%S %p'))"
   ]
  },
  {
   "cell_type": "code",
   "execution_count": 16,
   "metadata": {},
   "outputs": [],
   "source": [
    "# Define the Keras model required for KerasClassifier\n",
    "def create_default_model():\n",
    "    default_model = Sequential()\n",
    "    default_model.add(Flatten(input_shape=(28, 28)))\n",
    "    default_model.add(Dense(num_pixels, activation='relu', kernel_initializer=default_kernel_init))\n",
    "    default_model.add(Dense(num_classes, activation='softmax', kernel_initializer=default_kernel_init))\n",
    "    default_model.compile(loss=default_loss, optimizer=default_optimizer, metrics=default_metrics)\n",
    "    return default_model"
   ]
  },
  {
   "cell_type": "code",
   "execution_count": 17,
   "metadata": {},
   "outputs": [],
   "source": [
    "# Define the Callback class and early-stopping function\n",
    "# class myCallback(tf.keras.callbacks.Callback):\n",
    "#     def on_epoch_end(self, epoch, logs={}):\n",
    "#         if(logs.get('accuracy') > 0.9):\n",
    "#             print(\"\\nReached 90% accuracy so cancelling training!\")\n",
    "#             self.model.stop_training = True\n",
    "\n",
    "# callbacks = myCallback()"
   ]
  },
  {
   "cell_type": "code",
   "execution_count": 18,
   "metadata": {},
   "outputs": [],
   "source": [
    "if (notifyStatus): email_notify(\"Phase 2 Define Model completed! \"+datetime.now().strftime('%a %B %d, %Y %I:%M:%S %p'))"
   ]
  },
  {
   "cell_type": "markdown",
   "metadata": {},
   "source": [
    "# Section 3. Fit and Evaluate Model"
   ]
  },
  {
   "cell_type": "code",
   "execution_count": 19,
   "metadata": {},
   "outputs": [],
   "source": [
    "if (notifyStatus): email_notify(\"Phase 3 Fit and Evaluate Model has begun! \"+datetime.now().strftime('%a %B %d, %Y %I:%M:%S %p'))"
   ]
  },
  {
   "cell_type": "code",
   "execution_count": 20,
   "metadata": {},
   "outputs": [
    {
     "name": "stdout",
     "output_type": "stream",
     "text": [
      "Train on 60000 samples, validate on 10000 samples\n",
      "Epoch 1/10\n",
      "60000/60000 [==============================] - 14s 225us/sample - loss: 0.4723 - accuracy: 0.8308 - val_loss: 0.4263 - val_accuracy: 0.8441\n",
      "Epoch 2/10\n",
      "60000/60000 [==============================] - 12s 194us/sample - loss: 0.3563 - accuracy: 0.8687 - val_loss: 0.3670 - val_accuracy: 0.8698\n",
      "Epoch 3/10\n",
      "60000/60000 [==============================] - 12s 193us/sample - loss: 0.3193 - accuracy: 0.8816 - val_loss: 0.3512 - val_accuracy: 0.8759\n",
      "Epoch 4/10\n",
      "60000/60000 [==============================] - 12s 193us/sample - loss: 0.2950 - accuracy: 0.8903 - val_loss: 0.3630 - val_accuracy: 0.8741\n",
      "Epoch 5/10\n",
      "60000/60000 [==============================] - 12s 193us/sample - loss: 0.2783 - accuracy: 0.8960 - val_loss: 0.3353 - val_accuracy: 0.8817\n",
      "Epoch 6/10\n",
      "60000/60000 [==============================] - 12s 193us/sample - loss: 0.2635 - accuracy: 0.9019 - val_loss: 0.3297 - val_accuracy: 0.8853\n",
      "Epoch 7/10\n",
      "60000/60000 [==============================] - 12s 194us/sample - loss: 0.2490 - accuracy: 0.9065 - val_loss: 0.3491 - val_accuracy: 0.8743\n",
      "Epoch 8/10\n",
      "60000/60000 [==============================] - 12s 193us/sample - loss: 0.2366 - accuracy: 0.9106 - val_loss: 0.3317 - val_accuracy: 0.8841\n",
      "Epoch 9/10\n",
      "60000/60000 [==============================] - 12s 195us/sample - loss: 0.2272 - accuracy: 0.9155 - val_loss: 0.3323 - val_accuracy: 0.8871\n",
      "Epoch 10/10\n",
      "60000/60000 [==============================] - 12s 194us/sample - loss: 0.2193 - accuracy: 0.9168 - val_loss: 0.3355 - val_accuracy: 0.8900\n",
      "Total time for creating the baseline model: 0:01:58.565533\n"
     ]
    }
   ],
   "source": [
    "# Initialize the baseline model\n",
    "startTimeModule = datetime.now()\n",
    "reset_random(seedNum)\n",
    "baseline_model = create_default_model()\n",
    "baseline_hist = baseline_model.fit(X_train, y_train, epochs=default_epoch, batch_size=default_batch,\n",
    "                                   validation_data=(X_test, y_test), verbose=1)\n",
    "print('Total time for creating the baseline model:', (datetime.now() - startTimeModule))"
   ]
  },
  {
   "cell_type": "code",
   "execution_count": 21,
   "metadata": {},
   "outputs": [
    {
     "name": "stdout",
     "output_type": "stream",
     "text": [
      "Model: \"sequential\"\n",
      "_________________________________________________________________\n",
      "Layer (type)                 Output Shape              Param #   \n",
      "=================================================================\n",
      "flatten (Flatten)            (None, 784)               0         \n",
      "_________________________________________________________________\n",
      "dense (Dense)                (None, 784)               615440    \n",
      "_________________________________________________________________\n",
      "dense_1 (Dense)              (None, 10)                7850      \n",
      "=================================================================\n",
      "Total params: 623,290\n",
      "Trainable params: 623,290\n",
      "Non-trainable params: 0\n",
      "_________________________________________________________________\n",
      "None\n"
     ]
    }
   ],
   "source": [
    "# Display a summary of the baseline model\n",
    "print(baseline_model.summary())"
   ]
  },
  {
   "cell_type": "code",
   "execution_count": 22,
   "metadata": {},
   "outputs": [
    {
     "name": "stdout",
     "output_type": "stream",
     "text": [
      "{'name': 'sequential', 'layers': [{'class_name': 'Flatten', 'config': {'name': 'flatten', 'trainable': True, 'batch_input_shape': (None, 28, 28), 'dtype': 'float32', 'data_format': 'channels_last'}}, {'class_name': 'Dense', 'config': {'name': 'dense', 'trainable': True, 'dtype': 'float32', 'units': 784, 'activation': 'relu', 'use_bias': True, 'kernel_initializer': {'class_name': 'RandomNormal', 'config': {'mean': 0.0, 'stddev': 0.05, 'seed': 888}}, 'bias_initializer': {'class_name': 'Zeros', 'config': {}}, 'kernel_regularizer': None, 'bias_regularizer': None, 'activity_regularizer': None, 'kernel_constraint': None, 'bias_constraint': None}}, {'class_name': 'Dense', 'config': {'name': 'dense_1', 'trainable': True, 'dtype': 'float32', 'units': 10, 'activation': 'softmax', 'use_bias': True, 'kernel_initializer': {'class_name': 'RandomNormal', 'config': {'mean': 0.0, 'stddev': 0.05, 'seed': 888}}, 'bias_initializer': {'class_name': 'Zeros', 'config': {}}, 'kernel_regularizer': None, 'bias_regularizer': None, 'activity_regularizer': None, 'kernel_constraint': None, 'bias_constraint': None}}]}\n"
     ]
    }
   ],
   "source": [
    "# Display the configuration of the baseline model\n",
    "print(baseline_model.get_config())"
   ]
  },
  {
   "cell_type": "code",
   "execution_count": 23,
   "metadata": {},
   "outputs": [
    {
     "name": "stdout",
     "output_type": "stream",
     "text": [
      "dict_keys(['loss', 'accuracy', 'val_loss', 'val_accuracy'])\n"
     ]
    }
   ],
   "source": [
    "# List all data points in the baseline model training history\n",
    "print(baseline_hist.history.keys())"
   ]
  },
  {
   "cell_type": "code",
   "execution_count": 24,
   "metadata": {},
   "outputs": [
    {
     "data": {
      "image/png": "[encoded data removed]",
      "text/plain": [
       "<Figure size 864x864 with 2 Axes>"
      ]
     },
     "metadata": {
      "needs_background": "light"
     },
     "output_type": "display_data"
    }
   ],
   "source": [
    "# Summarize model training hisotry for accuracy and loss\n",
    "fig, axs = plt.subplots(2, 1, figsize=(12,12))\n",
    "plt.subplot(211)\n",
    "plt.plot(baseline_hist.history['accuracy'], color='blue', label='train')\n",
    "plt.plot(baseline_hist.history['val_accuracy'], color='red', label='test')\n",
    "plt.title('Model Training Performance (Accuracy)')\n",
    "plt.ylabel('Accuracy')\n",
    "plt.xlabel('Epoch')\n",
    "plt.legend(['Train', 'Test'], loc='upper right')\n",
    "plt.subplot(212)\n",
    "plt.plot(baseline_hist.history['loss'], color='blue', label='train')\n",
    "plt.plot(baseline_hist.history['val_loss'], color='red', label='test')\n",
    "plt.title('Model Training Performance (Loss)')\n",
    "plt.ylabel('Loss')\n",
    "plt.xlabel('Epoch')\n",
    "plt.legend(['Train', 'Test'], loc='upper right')\n",
    "plt.show()"
   ]
  },
  {
   "cell_type": "code",
   "execution_count": 25,
   "metadata": {},
   "outputs": [],
   "source": [
    "if (notifyStatus): email_notify(\"Phase 3 Fit and Evaluate Model completed! \"+datetime.now().strftime('%a %B %d, %Y %I:%M:%S %p'))"
   ]
  },
  {
   "cell_type": "markdown",
   "metadata": {},
   "source": [
    "# Section 4. Optimize Model"
   ]
  },
  {
   "cell_type": "code",
   "execution_count": 26,
   "metadata": {},
   "outputs": [],
   "source": [
    "if (notifyStatus): email_notify(\"Phase 4 Optimize Model has begun! \"+datetime.now().strftime('%a %B %d, %Y %I:%M:%S %p'))"
   ]
  },
  {
   "cell_type": "code",
   "execution_count": 27,
   "metadata": {},
   "outputs": [],
   "source": [
    "# Define the Keras model required for KerasClassifier\n",
    "def create_customized_model(optimizer, kernel_init):\n",
    "    customized_model = Sequential()\n",
    "    customized_model.add(Flatten(input_shape=(28, 28)))\n",
    "    customized_model.add(Dense(num_pixels, activation='relu', kernel_initializer=kernel_init))\n",
    "    customized_model.add(Dense(num_classes, activation='softmax', kernel_initializer=kernel_init))\n",
    "    customized_model.compile(loss=default_loss, optimizer=optimizer, metrics=default_metrics)\n",
    "    return customized_model"
   ]
  },
  {
   "cell_type": "code",
   "execution_count": 28,
   "metadata": {},
   "outputs": [
    {
     "name": "stdout",
     "output_type": "stream",
     "text": [
      "Optimizer candidate #1 has the object ID of <tensorflow.python.keras.optimizer_v2.adam.Adam object at 0x7faf1c1f1f50>\n",
      "Optimizer candidate #2 has the object ID of <tensorflow.python.keras.optimizer_v2.rmsprop.RMSprop object at 0x7faf1c1f1d90>\n",
      "Optimizer candidate #3 has the object ID of <tensorflow.python.keras.optimizer_v2.gradient_descent.SGD object at 0x7faf1c1f1750>\n",
      "Initializer candidate #1 has the object ID of <tensorflow.python.ops.init_ops_v2.RandomNormal object at 0x7faf1c1c93d0>\n",
      "Initializer candidate #2 has the object ID of <tensorflow.python.ops.init_ops_v2.Orthogonal object at 0x7faf1c1c91d0>\n",
      "Initializer candidate #2 has the object ID of <tensorflow.python.ops.init_ops_v2.GlorotNormal object at 0x7faf1c1c9790>\n",
      "\n",
      "Forming the grid-search model #0 using: optimizer=<tensorflow.python.keras.optimizer_v2.adam.Adam object at 0x7faf1c1f1f50>, kernel=<tensorflow.python.ops.init_ops_v2.RandomNormal object at 0x7faf1c1c93d0>, epochs=10, batch_size=16\n",
      "Train on 60000 samples, validate on 10000 samples\n",
      "Epoch 1/10\n",
      "60000/60000 [==============================] - 21s 352us/sample - loss: 0.4712 - accuracy: 0.8298 - val_loss: 0.4188 - val_accuracy: 0.8498\n",
      "Epoch 2/10\n",
      "60000/60000 [==============================] - 20s 331us/sample - loss: 0.3576 - accuracy: 0.8696 - val_loss: 0.3716 - val_accuracy: 0.8668\n",
      "Epoch 3/10\n",
      "60000/60000 [==============================] - 20s 334us/sample - loss: 0.3222 - accuracy: 0.8811 - val_loss: 0.3853 - val_accuracy: 0.8611\n",
      "Epoch 4/10\n",
      "60000/60000 [==============================] - 20s 329us/sample - loss: 0.2997 - accuracy: 0.8888 - val_loss: 0.3620 - val_accuracy: 0.8711\n",
      "Epoch 5/10\n",
      "60000/60000 [==============================] - 20s 336us/sample - loss: 0.2836 - accuracy: 0.8945 - val_loss: 0.3417 - val_accuracy: 0.8771\n",
      "Epoch 6/10\n",
      "60000/60000 [==============================] - 20s 334us/sample - loss: 0.2703 - accuracy: 0.8995 - val_loss: 0.3458 - val_accuracy: 0.8782\n",
      "Epoch 7/10\n",
      "60000/60000 [==============================] - 20s 337us/sample - loss: 0.2555 - accuracy: 0.9044 - val_loss: 0.3426 - val_accuracy: 0.8776\n",
      "Epoch 8/10\n",
      "60000/60000 [==============================] - 20s 336us/sample - loss: 0.2455 - accuracy: 0.9077 - val_loss: 0.3561 - val_accuracy: 0.8784\n",
      "Epoch 9/10\n",
      "60000/60000 [==============================] - 21s 353us/sample - loss: 0.2375 - accuracy: 0.9125 - val_loss: 0.3317 - val_accuracy: 0.8872\n",
      "Epoch 10/10\n",
      "60000/60000 [==============================] - 21s 353us/sample - loss: 0.2277 - accuracy: 0.9144 - val_loss: 0.3342 - val_accuracy: 0.8860\n",
      "\n",
      "Forming the grid-search model #1 using: optimizer=<tensorflow.python.keras.optimizer_v2.adam.Adam object at 0x7faf1c1f1f50>, kernel=<tensorflow.python.ops.init_ops_v2.RandomNormal object at 0x7faf1c1c93d0>, epochs=10, batch_size=32\n",
      "Train on 60000 samples, validate on 10000 samples\n",
      "Epoch 1/10\n",
      "60000/60000 [==============================] - 12s 201us/sample - loss: 0.4541 - accuracy: 0.8360 - val_loss: 0.3958 - val_accuracy: 0.8577\n",
      "Epoch 2/10\n",
      "60000/60000 [==============================] - 12s 193us/sample - loss: 0.3417 - accuracy: 0.8737 - val_loss: 0.3666 - val_accuracy: 0.8714\n",
      "Epoch 3/10\n",
      "60000/60000 [==============================] - 12s 192us/sample - loss: 0.3091 - accuracy: 0.8858 - val_loss: 0.3442 - val_accuracy: 0.8772\n",
      "Epoch 4/10\n",
      "60000/60000 [==============================] - 11s 190us/sample - loss: 0.2880 - accuracy: 0.8932 - val_loss: 0.3474 - val_accuracy: 0.8779\n",
      "Epoch 5/10\n",
      "60000/60000 [==============================] - 12s 194us/sample - loss: 0.2720 - accuracy: 0.8997 - val_loss: 0.3446 - val_accuracy: 0.8783\n",
      "Epoch 6/10\n",
      "60000/60000 [==============================] - 11s 190us/sample - loss: 0.2569 - accuracy: 0.9042 - val_loss: 0.3275 - val_accuracy: 0.8866\n",
      "Epoch 7/10\n",
      "60000/60000 [==============================] - 12s 192us/sample - loss: 0.2451 - accuracy: 0.9072 - val_loss: 0.3409 - val_accuracy: 0.8789\n",
      "Epoch 8/10\n",
      "60000/60000 [==============================] - 11s 189us/sample - loss: 0.2346 - accuracy: 0.9115 - val_loss: 0.3213 - val_accuracy: 0.8890\n",
      "Epoch 9/10\n",
      "60000/60000 [==============================] - 11s 190us/sample - loss: 0.2241 - accuracy: 0.9167 - val_loss: 0.3196 - val_accuracy: 0.8894\n",
      "Epoch 10/10\n",
      "60000/60000 [==============================] - 11s 190us/sample - loss: 0.2173 - accuracy: 0.9190 - val_loss: 0.3336 - val_accuracy: 0.8901\n",
      "\n",
      "Forming the grid-search model #2 using: optimizer=<tensorflow.python.keras.optimizer_v2.adam.Adam object at 0x7faf1c1f1f50>, kernel=<tensorflow.python.ops.init_ops_v2.RandomNormal object at 0x7faf1c1c93d0>, epochs=10, batch_size=64\n",
      "Train on 60000 samples, validate on 10000 samples\n",
      "Epoch 1/10\n",
      "60000/60000 [==============================] - 8s 132us/sample - loss: 0.4650 - accuracy: 0.8348 - val_loss: 0.3965 - val_accuracy: 0.8563\n",
      "Epoch 2/10\n",
      "60000/60000 [==============================] - 7s 119us/sample - loss: 0.3439 - accuracy: 0.8748 - val_loss: 0.3688 - val_accuracy: 0.8699\n",
      "Epoch 3/10\n",
      "60000/60000 [==============================] - 7s 114us/sample - loss: 0.3096 - accuracy: 0.8871 - val_loss: 0.3450 - val_accuracy: 0.8758\n",
      "Epoch 4/10\n",
      "60000/60000 [==============================] - 7s 116us/sample - loss: 0.2867 - accuracy: 0.8935 - val_loss: 0.3491 - val_accuracy: 0.8796\n",
      "Epoch 5/10\n",
      "60000/60000 [==============================] - 7s 117us/sample - loss: 0.2712 - accuracy: 0.9002 - val_loss: 0.3442 - val_accuracy: 0.8766\n",
      "Epoch 6/10\n",
      "60000/60000 [==============================] - 7s 116us/sample - loss: 0.2574 - accuracy: 0.9043 - val_loss: 0.3251 - val_accuracy: 0.8823\n",
      "Epoch 7/10\n",
      "60000/60000 [==============================] - 7s 116us/sample - loss: 0.2434 - accuracy: 0.9091 - val_loss: 0.3463 - val_accuracy: 0.8766\n",
      "Epoch 8/10\n",
      "60000/60000 [==============================] - 7s 115us/sample - loss: 0.2319 - accuracy: 0.9137 - val_loss: 0.3245 - val_accuracy: 0.8866\n",
      "Epoch 9/10\n",
      "60000/60000 [==============================] - 7s 116us/sample - loss: 0.2217 - accuracy: 0.9170 - val_loss: 0.3224 - val_accuracy: 0.8867\n",
      "Epoch 10/10\n",
      "60000/60000 [==============================] - 7s 116us/sample - loss: 0.2160 - accuracy: 0.9185 - val_loss: 0.3170 - val_accuracy: 0.8908\n",
      "\n",
      "Forming the grid-search model #3 using: optimizer=<tensorflow.python.keras.optimizer_v2.adam.Adam object at 0x7faf1c1f1f50>, kernel=<tensorflow.python.ops.init_ops_v2.Orthogonal object at 0x7faf1c1c91d0>, epochs=10, batch_size=16\n",
      "Train on 60000 samples, validate on 10000 samples\n",
      "Epoch 1/10\n",
      "60000/60000 [==============================] - 20s 341us/sample - loss: 0.4532 - accuracy: 0.8358 - val_loss: 0.4090 - val_accuracy: 0.8507\n",
      "Epoch 2/10\n",
      "60000/60000 [==============================] - 19s 322us/sample - loss: 0.3426 - accuracy: 0.8747 - val_loss: 0.3599 - val_accuracy: 0.8725\n",
      "Epoch 3/10\n",
      "60000/60000 [==============================] - 20s 327us/sample - loss: 0.3139 - accuracy: 0.8841 - val_loss: 0.3679 - val_accuracy: 0.8696\n",
      "Epoch 4/10\n",
      "60000/60000 [==============================] - 20s 325us/sample - loss: 0.2941 - accuracy: 0.8906 - val_loss: 0.3685 - val_accuracy: 0.8701\n",
      "Epoch 5/10\n",
      "60000/60000 [==============================] - 19s 324us/sample - loss: 0.2796 - accuracy: 0.8957 - val_loss: 0.3299 - val_accuracy: 0.8830\n",
      "Epoch 6/10\n",
      "60000/60000 [==============================] - 20s 330us/sample - loss: 0.2646 - accuracy: 0.9015 - val_loss: 0.3321 - val_accuracy: 0.8836\n",
      "Epoch 7/10\n",
      "60000/60000 [==============================] - 20s 333us/sample - loss: 0.2539 - accuracy: 0.9050 - val_loss: 0.3560 - val_accuracy: 0.8740\n",
      "Epoch 8/10\n",
      "60000/60000 [==============================] - 19s 324us/sample - loss: 0.2433 - accuracy: 0.9082 - val_loss: 0.3487 - val_accuracy: 0.8799\n",
      "Epoch 9/10\n",
      "60000/60000 [==============================] - 19s 315us/sample - loss: 0.2349 - accuracy: 0.9122 - val_loss: 0.3388 - val_accuracy: 0.8848\n",
      "Epoch 10/10\n",
      "60000/60000 [==============================] - 20s 333us/sample - loss: 0.2272 - accuracy: 0.9144 - val_loss: 0.3350 - val_accuracy: 0.8895\n",
      "\n",
      "Forming the grid-search model #4 using: optimizer=<tensorflow.python.keras.optimizer_v2.adam.Adam object at 0x7faf1c1f1f50>, kernel=<tensorflow.python.ops.init_ops_v2.Orthogonal object at 0x7faf1c1c91d0>, epochs=10, batch_size=32\n",
      "Train on 60000 samples, validate on 10000 samples\n",
      "Epoch 1/10\n",
      "60000/60000 [==============================] - 12s 207us/sample - loss: 0.4513 - accuracy: 0.8359 - val_loss: 0.3977 - val_accuracy: 0.8570\n",
      "Epoch 2/10\n",
      "60000/60000 [==============================] - 12s 194us/sample - loss: 0.3418 - accuracy: 0.8739 - val_loss: 0.3634 - val_accuracy: 0.8710\n",
      "Epoch 3/10\n",
      "60000/60000 [==============================] - 12s 193us/sample - loss: 0.3102 - accuracy: 0.8861 - val_loss: 0.3401 - val_accuracy: 0.8779\n",
      "Epoch 4/10\n",
      "60000/60000 [==============================] - 12s 192us/sample - loss: 0.2883 - accuracy: 0.8932 - val_loss: 0.3496 - val_accuracy: 0.8755\n",
      "Epoch 5/10\n",
      "60000/60000 [==============================] - 12s 194us/sample - loss: 0.2727 - accuracy: 0.8992 - val_loss: 0.3390 - val_accuracy: 0.8782\n",
      "Epoch 6/10\n",
      "60000/60000 [==============================] - 12s 192us/sample - loss: 0.2586 - accuracy: 0.9033 - val_loss: 0.3314 - val_accuracy: 0.8813\n",
      "Epoch 7/10\n",
      "60000/60000 [==============================] - 11s 191us/sample - loss: 0.2461 - accuracy: 0.9077 - val_loss: 0.3467 - val_accuracy: 0.8791\n",
      "Epoch 8/10\n",
      "60000/60000 [==============================] - 12s 192us/sample - loss: 0.2354 - accuracy: 0.9115 - val_loss: 0.3334 - val_accuracy: 0.8825\n",
      "Epoch 9/10\n",
      "60000/60000 [==============================] - 11s 192us/sample - loss: 0.2252 - accuracy: 0.9158 - val_loss: 0.3317 - val_accuracy: 0.8870\n",
      "Epoch 10/10\n",
      "60000/60000 [==============================] - 11s 191us/sample - loss: 0.2201 - accuracy: 0.9177 - val_loss: 0.3445 - val_accuracy: 0.8869\n",
      "\n",
      "Forming the grid-search model #5 using: optimizer=<tensorflow.python.keras.optimizer_v2.adam.Adam object at 0x7faf1c1f1f50>, kernel=<tensorflow.python.ops.init_ops_v2.Orthogonal object at 0x7faf1c1c91d0>, epochs=10, batch_size=64\n",
      "Train on 60000 samples, validate on 10000 samples\n",
      "Epoch 1/10\n",
      "60000/60000 [==============================] - 8s 135us/sample - loss: 0.4596 - accuracy: 0.8352 - val_loss: 0.3922 - val_accuracy: 0.8598\n",
      "Epoch 2/10\n",
      "60000/60000 [==============================] - 7s 119us/sample - loss: 0.3411 - accuracy: 0.8748 - val_loss: 0.3581 - val_accuracy: 0.8735\n",
      "Epoch 3/10\n",
      "60000/60000 [==============================] - 7s 118us/sample - loss: 0.3062 - accuracy: 0.8873 - val_loss: 0.3451 - val_accuracy: 0.8761\n",
      "Epoch 4/10\n",
      "60000/60000 [==============================] - 7s 117us/sample - loss: 0.2846 - accuracy: 0.8942 - val_loss: 0.3377 - val_accuracy: 0.8809\n",
      "Epoch 5/10\n",
      "60000/60000 [==============================] - 7s 117us/sample - loss: 0.2685 - accuracy: 0.9013 - val_loss: 0.3345 - val_accuracy: 0.8804\n",
      "Epoch 6/10\n",
      "60000/60000 [==============================] - 7s 118us/sample - loss: 0.2551 - accuracy: 0.9053 - val_loss: 0.3237 - val_accuracy: 0.8861\n",
      "Epoch 7/10\n",
      "60000/60000 [==============================] - 7s 118us/sample - loss: 0.2427 - accuracy: 0.9099 - val_loss: 0.3418 - val_accuracy: 0.8813\n",
      "Epoch 8/10\n",
      "60000/60000 [==============================] - 7s 117us/sample - loss: 0.2319 - accuracy: 0.9130 - val_loss: 0.3202 - val_accuracy: 0.8893\n",
      "Epoch 9/10\n",
      "60000/60000 [==============================] - 7s 117us/sample - loss: 0.2208 - accuracy: 0.9166 - val_loss: 0.3266 - val_accuracy: 0.8878\n",
      "Epoch 10/10\n",
      "60000/60000 [==============================] - 7s 117us/sample - loss: 0.2136 - accuracy: 0.9199 - val_loss: 0.3183 - val_accuracy: 0.8911\n",
      "\n",
      "Forming the grid-search model #6 using: optimizer=<tensorflow.python.keras.optimizer_v2.adam.Adam object at 0x7faf1c1f1f50>, kernel=<tensorflow.python.ops.init_ops_v2.GlorotNormal object at 0x7faf1c1c9790>, epochs=10, batch_size=16\n",
      "Train on 60000 samples, validate on 10000 samples\n",
      "Epoch 1/10\n",
      "60000/60000 [==============================] - 20s 340us/sample - loss: 0.4573 - accuracy: 0.8339 - val_loss: 0.4062 - val_accuracy: 0.8530\n",
      "Epoch 2/10\n",
      "60000/60000 [==============================] - 20s 328us/sample - loss: 0.3465 - accuracy: 0.8731 - val_loss: 0.4040 - val_accuracy: 0.8573\n",
      "Epoch 3/10\n",
      "60000/60000 [==============================] - 19s 314us/sample - loss: 0.3176 - accuracy: 0.8826 - val_loss: 0.3634 - val_accuracy: 0.8710\n",
      "Epoch 4/10\n",
      "60000/60000 [==============================] - 19s 315us/sample - loss: 0.2960 - accuracy: 0.8905 - val_loss: 0.3584 - val_accuracy: 0.8712\n",
      "Epoch 5/10\n",
      "60000/60000 [==============================] - 19s 311us/sample - loss: 0.2804 - accuracy: 0.8959 - val_loss: 0.3294 - val_accuracy: 0.8850\n",
      "Epoch 6/10\n",
      "60000/60000 [==============================] - 19s 322us/sample - loss: 0.2672 - accuracy: 0.9000 - val_loss: 0.3434 - val_accuracy: 0.8801\n",
      "Epoch 7/10\n",
      "60000/60000 [==============================] - 19s 321us/sample - loss: 0.2536 - accuracy: 0.9047 - val_loss: 0.3545 - val_accuracy: 0.8774\n",
      "Epoch 8/10\n",
      "60000/60000 [==============================] - 19s 324us/sample - loss: 0.2463 - accuracy: 0.9078 - val_loss: 0.3434 - val_accuracy: 0.8838\n",
      "Epoch 9/10\n",
      "60000/60000 [==============================] - 20s 325us/sample - loss: 0.2369 - accuracy: 0.9125 - val_loss: 0.3617 - val_accuracy: 0.8813\n",
      "Epoch 10/10\n",
      "60000/60000 [==============================] - 20s 335us/sample - loss: 0.2295 - accuracy: 0.9136 - val_loss: 0.3505 - val_accuracy: 0.8836\n",
      "\n",
      "Forming the grid-search model #7 using: optimizer=<tensorflow.python.keras.optimizer_v2.adam.Adam object at 0x7faf1c1f1f50>, kernel=<tensorflow.python.ops.init_ops_v2.GlorotNormal object at 0x7faf1c1c9790>, epochs=10, batch_size=32\n",
      "Train on 60000 samples, validate on 10000 samples\n",
      "Epoch 1/10\n",
      "60000/60000 [==============================] - 13s 209us/sample - loss: 0.4558 - accuracy: 0.8352 - val_loss: 0.3966 - val_accuracy: 0.8562\n",
      "Epoch 2/10\n",
      "60000/60000 [==============================] - 11s 192us/sample - loss: 0.3440 - accuracy: 0.8727 - val_loss: 0.3664 - val_accuracy: 0.8693\n",
      "Epoch 3/10\n",
      "60000/60000 [==============================] - 11s 191us/sample - loss: 0.3117 - accuracy: 0.8848 - val_loss: 0.3504 - val_accuracy: 0.8754\n",
      "Epoch 4/10\n",
      "60000/60000 [==============================] - 12s 192us/sample - loss: 0.2898 - accuracy: 0.8932 - val_loss: 0.3466 - val_accuracy: 0.8755\n",
      "Epoch 5/10\n",
      "60000/60000 [==============================] - 12s 193us/sample - loss: 0.2754 - accuracy: 0.8984 - val_loss: 0.3386 - val_accuracy: 0.8816\n",
      "Epoch 6/10\n",
      "60000/60000 [==============================] - 11s 188us/sample - loss: 0.2606 - accuracy: 0.9031 - val_loss: 0.3325 - val_accuracy: 0.8844\n",
      "Epoch 7/10\n",
      "60000/60000 [==============================] - 11s 191us/sample - loss: 0.2473 - accuracy: 0.9073 - val_loss: 0.3508 - val_accuracy: 0.8774\n",
      "Epoch 8/10\n",
      "60000/60000 [==============================] - 11s 189us/sample - loss: 0.2375 - accuracy: 0.9115 - val_loss: 0.3231 - val_accuracy: 0.8893\n",
      "Epoch 9/10\n",
      "60000/60000 [==============================] - 11s 190us/sample - loss: 0.2271 - accuracy: 0.9144 - val_loss: 0.3266 - val_accuracy: 0.8876\n",
      "Epoch 10/10\n",
      "60000/60000 [==============================] - 11s 187us/sample - loss: 0.2199 - accuracy: 0.9172 - val_loss: 0.3339 - val_accuracy: 0.8879\n",
      "\n",
      "Forming the grid-search model #8 using: optimizer=<tensorflow.python.keras.optimizer_v2.adam.Adam object at 0x7faf1c1f1f50>, kernel=<tensorflow.python.ops.init_ops_v2.GlorotNormal object at 0x7faf1c1c9790>, epochs=10, batch_size=64\n",
      "Train on 60000 samples, validate on 10000 samples\n",
      "Epoch 1/10\n",
      "60000/60000 [==============================] - 8s 131us/sample - loss: 0.4648 - accuracy: 0.8364 - val_loss: 0.3925 - val_accuracy: 0.8595\n",
      "Epoch 2/10\n",
      "60000/60000 [==============================] - 7s 116us/sample - loss: 0.3429 - accuracy: 0.8743 - val_loss: 0.3599 - val_accuracy: 0.8727\n",
      "Epoch 3/10\n",
      "60000/60000 [==============================] - 7s 115us/sample - loss: 0.3094 - accuracy: 0.8870 - val_loss: 0.3429 - val_accuracy: 0.8784\n",
      "Epoch 4/10\n",
      "60000/60000 [==============================] - 7s 119us/sample - loss: 0.2875 - accuracy: 0.8930 - val_loss: 0.3443 - val_accuracy: 0.8784\n",
      "Epoch 5/10\n",
      "60000/60000 [==============================] - 7s 118us/sample - loss: 0.2723 - accuracy: 0.8985 - val_loss: 0.3412 - val_accuracy: 0.8774\n",
      "Epoch 6/10\n",
      "60000/60000 [==============================] - 7s 117us/sample - loss: 0.2585 - accuracy: 0.9041 - val_loss: 0.3224 - val_accuracy: 0.8855\n",
      "Epoch 7/10\n",
      "60000/60000 [==============================] - 7s 114us/sample - loss: 0.2460 - accuracy: 0.9080 - val_loss: 0.3479 - val_accuracy: 0.8776\n",
      "Epoch 8/10\n",
      "60000/60000 [==============================] - 7s 115us/sample - loss: 0.2337 - accuracy: 0.9130 - val_loss: 0.3198 - val_accuracy: 0.8897\n",
      "Epoch 9/10\n",
      "60000/60000 [==============================] - 7s 114us/sample - loss: 0.2237 - accuracy: 0.9165 - val_loss: 0.3303 - val_accuracy: 0.8835\n",
      "Epoch 10/10\n",
      "60000/60000 [==============================] - 7s 115us/sample - loss: 0.2173 - accuracy: 0.9182 - val_loss: 0.3188 - val_accuracy: 0.8920\n",
      "\n",
      "Forming the grid-search model #9 using: optimizer=<tensorflow.python.keras.optimizer_v2.rmsprop.RMSprop object at 0x7faf1c1f1d90>, kernel=<tensorflow.python.ops.init_ops_v2.RandomNormal object at 0x7faf1c1c93d0>, epochs=10, batch_size=16\n",
      "Train on 60000 samples, validate on 10000 samples\n",
      "Epoch 1/10\n",
      "60000/60000 [==============================] - 31s 512us/sample - loss: 0.5111 - accuracy: 0.8243 - val_loss: 0.4371 - val_accuracy: 0.8551\n",
      "Epoch 2/10\n",
      "60000/60000 [==============================] - 30s 498us/sample - loss: 0.4274 - accuracy: 0.8636 - val_loss: 0.4552 - val_accuracy: 0.8612\n",
      "Epoch 3/10\n",
      "60000/60000 [==============================] - 30s 502us/sample - loss: 0.4168 - accuracy: 0.8726 - val_loss: 0.4739 - val_accuracy: 0.8677\n",
      "Epoch 4/10\n",
      "60000/60000 [==============================] - 30s 499us/sample - loss: 0.4114 - accuracy: 0.8781 - val_loss: 0.5201 - val_accuracy: 0.8620\n",
      "Epoch 5/10\n",
      "60000/60000 [==============================] - 31s 518us/sample - loss: 0.4126 - accuracy: 0.8826 - val_loss: 0.5465 - val_accuracy: 0.8600\n",
      "Epoch 6/10\n",
      "60000/60000 [==============================] - 30s 505us/sample - loss: 0.4041 - accuracy: 0.8857 - val_loss: 0.5361 - val_accuracy: 0.8701\n",
      "Epoch 7/10\n",
      "60000/60000 [==============================] - 30s 506us/sample - loss: 0.4071 - accuracy: 0.8899 - val_loss: 0.5527 - val_accuracy: 0.8715\n",
      "Epoch 8/10\n",
      "60000/60000 [==============================] - 30s 496us/sample - loss: 0.4040 - accuracy: 0.8919 - val_loss: 0.5775 - val_accuracy: 0.8663\n",
      "Epoch 9/10\n",
      "60000/60000 [==============================] - 30s 503us/sample - loss: 0.4019 - accuracy: 0.8935 - val_loss: 0.6000 - val_accuracy: 0.8723\n",
      "Epoch 10/10\n",
      "60000/60000 [==============================] - 30s 507us/sample - loss: 0.4002 - accuracy: 0.8954 - val_loss: 0.5597 - val_accuracy: 0.8757\n",
      "\n",
      "Forming the grid-search model #10 using: optimizer=<tensorflow.python.keras.optimizer_v2.rmsprop.RMSprop object at 0x7faf1c1f1d90>, kernel=<tensorflow.python.ops.init_ops_v2.RandomNormal object at 0x7faf1c1c93d0>, epochs=10, batch_size=32\n",
      "Train on 60000 samples, validate on 10000 samples\n",
      "Epoch 1/10\n",
      "60000/60000 [==============================] - 18s 303us/sample - loss: 0.4973 - accuracy: 0.8237 - val_loss: 0.4098 - val_accuracy: 0.8528\n",
      "Epoch 2/10\n",
      "60000/60000 [==============================] - 17s 281us/sample - loss: 0.3807 - accuracy: 0.8673 - val_loss: 0.4118 - val_accuracy: 0.8567\n",
      "Epoch 3/10\n",
      "60000/60000 [==============================] - 17s 281us/sample - loss: 0.3622 - accuracy: 0.8775 - val_loss: 0.4332 - val_accuracy: 0.8557\n",
      "Epoch 4/10\n",
      "60000/60000 [==============================] - 17s 278us/sample - loss: 0.3503 - accuracy: 0.8828 - val_loss: 0.4540 - val_accuracy: 0.8665\n",
      "Epoch 5/10\n",
      "60000/60000 [==============================] - 17s 278us/sample - loss: 0.3399 - accuracy: 0.8875 - val_loss: 0.4375 - val_accuracy: 0.8667\n",
      "Epoch 6/10\n",
      "60000/60000 [==============================] - 17s 291us/sample - loss: 0.3285 - accuracy: 0.8925 - val_loss: 0.4394 - val_accuracy: 0.8790\n",
      "Epoch 7/10\n",
      "60000/60000 [==============================] - 17s 278us/sample - loss: 0.3276 - accuracy: 0.8952 - val_loss: 0.4547 - val_accuracy: 0.8722\n",
      "Epoch 8/10\n",
      "60000/60000 [==============================] - 16s 274us/sample - loss: 0.3233 - accuracy: 0.8975 - val_loss: 0.4923 - val_accuracy: 0.8713\n",
      "Epoch 9/10\n",
      "60000/60000 [==============================] - 17s 281us/sample - loss: 0.3139 - accuracy: 0.9016 - val_loss: 0.4705 - val_accuracy: 0.8748\n",
      "Epoch 10/10\n",
      "60000/60000 [==============================] - 17s 279us/sample - loss: 0.3078 - accuracy: 0.9046 - val_loss: 0.4498 - val_accuracy: 0.8826\n",
      "\n",
      "Forming the grid-search model #11 using: optimizer=<tensorflow.python.keras.optimizer_v2.rmsprop.RMSprop object at 0x7faf1c1f1d90>, kernel=<tensorflow.python.ops.init_ops_v2.RandomNormal object at 0x7faf1c1c93d0>, epochs=10, batch_size=64\n",
      "Train on 60000 samples, validate on 10000 samples\n",
      "Epoch 1/10\n",
      "60000/60000 [==============================] - 11s 177us/sample - loss: 0.5113 - accuracy: 0.8187 - val_loss: 0.4170 - val_accuracy: 0.8459\n",
      "Epoch 2/10\n",
      "60000/60000 [==============================] - 10s 165us/sample - loss: 0.3663 - accuracy: 0.8683 - val_loss: 0.3785 - val_accuracy: 0.8673\n",
      "Epoch 3/10\n",
      "60000/60000 [==============================] - 10s 162us/sample - loss: 0.3327 - accuracy: 0.8799 - val_loss: 0.4486 - val_accuracy: 0.8448\n",
      "Epoch 4/10\n",
      "60000/60000 [==============================] - 9s 158us/sample - loss: 0.3130 - accuracy: 0.8863 - val_loss: 0.4023 - val_accuracy: 0.8638\n",
      "Epoch 5/10\n",
      "60000/60000 [==============================] - 10s 164us/sample - loss: 0.3015 - accuracy: 0.8930 - val_loss: 0.3898 - val_accuracy: 0.8737\n",
      "Epoch 6/10\n",
      "60000/60000 [==============================] - 10s 159us/sample - loss: 0.2912 - accuracy: 0.8974 - val_loss: 0.3761 - val_accuracy: 0.8808\n",
      "Epoch 7/10\n",
      "60000/60000 [==============================] - 10s 160us/sample - loss: 0.2807 - accuracy: 0.9018 - val_loss: 0.3763 - val_accuracy: 0.8760\n",
      "Epoch 8/10\n",
      "60000/60000 [==============================] - 9s 158us/sample - loss: 0.2706 - accuracy: 0.9042 - val_loss: 0.4115 - val_accuracy: 0.8807\n",
      "Epoch 9/10\n",
      "60000/60000 [==============================] - 10s 159us/sample - loss: 0.2639 - accuracy: 0.9081 - val_loss: 0.4185 - val_accuracy: 0.8771\n",
      "Epoch 10/10\n",
      "60000/60000 [==============================] - 10s 160us/sample - loss: 0.2568 - accuracy: 0.9119 - val_loss: 0.4162 - val_accuracy: 0.8838\n",
      "\n",
      "Forming the grid-search model #12 using: optimizer=<tensorflow.python.keras.optimizer_v2.rmsprop.RMSprop object at 0x7faf1c1f1d90>, kernel=<tensorflow.python.ops.init_ops_v2.Orthogonal object at 0x7faf1c1c91d0>, epochs=10, batch_size=16\n",
      "Train on 60000 samples, validate on 10000 samples\n",
      "Epoch 1/10\n",
      "60000/60000 [==============================] - 31s 513us/sample - loss: 0.5032 - accuracy: 0.8255 - val_loss: 0.4481 - val_accuracy: 0.8553\n",
      "Epoch 2/10\n",
      "60000/60000 [==============================] - 30s 500us/sample - loss: 0.4214 - accuracy: 0.8646 - val_loss: 0.4406 - val_accuracy: 0.8633\n",
      "Epoch 3/10\n",
      "60000/60000 [==============================] - 30s 505us/sample - loss: 0.4112 - accuracy: 0.8739 - val_loss: 0.4978 - val_accuracy: 0.8614\n",
      "Epoch 4/10\n",
      "60000/60000 [==============================] - 30s 499us/sample - loss: 0.4097 - accuracy: 0.8773 - val_loss: 0.4779 - val_accuracy: 0.8689\n",
      "Epoch 5/10\n",
      "60000/60000 [==============================] - 30s 500us/sample - loss: 0.4075 - accuracy: 0.8822 - val_loss: 0.5642 - val_accuracy: 0.8565\n",
      "Epoch 6/10\n",
      "60000/60000 [==============================] - 30s 503us/sample - loss: 0.4033 - accuracy: 0.8874 - val_loss: 0.5119 - val_accuracy: 0.8793\n",
      "Epoch 7/10\n",
      "60000/60000 [==============================] - 30s 498us/sample - loss: 0.4004 - accuracy: 0.8894 - val_loss: 0.5258 - val_accuracy: 0.8676\n",
      "Epoch 8/10\n",
      "60000/60000 [==============================] - 30s 505us/sample - loss: 0.4001 - accuracy: 0.8917 - val_loss: 0.6206 - val_accuracy: 0.8670\n",
      "Epoch 9/10\n",
      "60000/60000 [==============================] - 30s 495us/sample - loss: 0.3955 - accuracy: 0.8934 - val_loss: 0.5633 - val_accuracy: 0.8761\n",
      "Epoch 10/10\n",
      "60000/60000 [==============================] - 30s 500us/sample - loss: 0.3851 - accuracy: 0.8959 - val_loss: 0.5499 - val_accuracy: 0.8708\n",
      "\n",
      "Forming the grid-search model #13 using: optimizer=<tensorflow.python.keras.optimizer_v2.rmsprop.RMSprop object at 0x7faf1c1f1d90>, kernel=<tensorflow.python.ops.init_ops_v2.Orthogonal object at 0x7faf1c1c91d0>, epochs=10, batch_size=32\n",
      "Train on 60000 samples, validate on 10000 samples\n",
      "Epoch 1/10\n",
      "60000/60000 [==============================] - 18s 294us/sample - loss: 0.4917 - accuracy: 0.8235 - val_loss: 0.4119 - val_accuracy: 0.8545\n",
      "Epoch 2/10\n",
      "60000/60000 [==============================] - 17s 276us/sample - loss: 0.3804 - accuracy: 0.8663 - val_loss: 0.4124 - val_accuracy: 0.8604\n",
      "Epoch 3/10\n",
      "60000/60000 [==============================] - 16s 273us/sample - loss: 0.3608 - accuracy: 0.8766 - val_loss: 0.4335 - val_accuracy: 0.8538\n",
      "Epoch 4/10\n",
      "60000/60000 [==============================] - 17s 276us/sample - loss: 0.3492 - accuracy: 0.8822 - val_loss: 0.4326 - val_accuracy: 0.8724\n",
      "Epoch 5/10\n",
      "60000/60000 [==============================] - 16s 272us/sample - loss: 0.3423 - accuracy: 0.8876 - val_loss: 0.4114 - val_accuracy: 0.8747\n",
      "Epoch 6/10\n",
      "60000/60000 [==============================] - 17s 278us/sample - loss: 0.3344 - accuracy: 0.8928 - val_loss: 0.4163 - val_accuracy: 0.8796\n",
      "Epoch 7/10\n",
      "60000/60000 [==============================] - 17s 282us/sample - loss: 0.3244 - accuracy: 0.8953 - val_loss: 0.4519 - val_accuracy: 0.8719\n",
      "Epoch 8/10\n",
      "60000/60000 [==============================] - 17s 279us/sample - loss: 0.3193 - accuracy: 0.8991 - val_loss: 0.4758 - val_accuracy: 0.8728\n",
      "Epoch 9/10\n",
      "60000/60000 [==============================] - 17s 277us/sample - loss: 0.3151 - accuracy: 0.9015 - val_loss: 0.4789 - val_accuracy: 0.8781\n",
      "Epoch 10/10\n",
      "60000/60000 [==============================] - 17s 276us/sample - loss: 0.3154 - accuracy: 0.9032 - val_loss: 0.4861 - val_accuracy: 0.8821\n",
      "\n",
      "Forming the grid-search model #14 using: optimizer=<tensorflow.python.keras.optimizer_v2.rmsprop.RMSprop object at 0x7faf1c1f1d90>, kernel=<tensorflow.python.ops.init_ops_v2.Orthogonal object at 0x7faf1c1c91d0>, epochs=10, batch_size=64\n",
      "Train on 60000 samples, validate on 10000 samples\n",
      "Epoch 1/10\n",
      "60000/60000 [==============================] - 10s 175us/sample - loss: 0.5052 - accuracy: 0.8187 - val_loss: 0.4185 - val_accuracy: 0.8443\n",
      "Epoch 2/10\n",
      "60000/60000 [==============================] - 9s 158us/sample - loss: 0.3667 - accuracy: 0.8658 - val_loss: 0.3935 - val_accuracy: 0.8618\n",
      "Epoch 3/10\n",
      "60000/60000 [==============================] - 9s 158us/sample - loss: 0.3330 - accuracy: 0.8797 - val_loss: 0.4030 - val_accuracy: 0.8545\n",
      "Epoch 4/10\n",
      "60000/60000 [==============================] - 10s 161us/sample - loss: 0.3167 - accuracy: 0.8841 - val_loss: 0.4010 - val_accuracy: 0.8683\n",
      "Epoch 5/10\n",
      "60000/60000 [==============================] - 10s 161us/sample - loss: 0.3028 - accuracy: 0.8917 - val_loss: 0.3756 - val_accuracy: 0.8734\n",
      "Epoch 6/10\n",
      "60000/60000 [==============================] - 10s 160us/sample - loss: 0.2928 - accuracy: 0.8964 - val_loss: 0.3824 - val_accuracy: 0.8780\n",
      "Epoch 7/10\n",
      "60000/60000 [==============================] - 10s 160us/sample - loss: 0.2803 - accuracy: 0.9011 - val_loss: 0.3754 - val_accuracy: 0.8724\n",
      "Epoch 8/10\n",
      "60000/60000 [==============================] - 9s 158us/sample - loss: 0.2721 - accuracy: 0.9031 - val_loss: 0.3829 - val_accuracy: 0.8761\n",
      "Epoch 9/10\n",
      "60000/60000 [==============================] - 9s 158us/sample - loss: 0.2654 - accuracy: 0.9081 - val_loss: 0.4128 - val_accuracy: 0.8782\n",
      "Epoch 10/10\n",
      "60000/60000 [==============================] - 10s 159us/sample - loss: 0.2573 - accuracy: 0.9102 - val_loss: 0.3959 - val_accuracy: 0.8846\n",
      "\n",
      "Forming the grid-search model #15 using: optimizer=<tensorflow.python.keras.optimizer_v2.rmsprop.RMSprop object at 0x7faf1c1f1d90>, kernel=<tensorflow.python.ops.init_ops_v2.GlorotNormal object at 0x7faf1c1c9790>, epochs=10, batch_size=16\n",
      "Train on 60000 samples, validate on 10000 samples\n",
      "Epoch 1/10\n",
      "60000/60000 [==============================] - 31s 516us/sample - loss: 0.5119 - accuracy: 0.8244 - val_loss: 0.4448 - val_accuracy: 0.8575\n",
      "Epoch 2/10\n",
      "60000/60000 [==============================] - 30s 502us/sample - loss: 0.4248 - accuracy: 0.8629 - val_loss: 0.4797 - val_accuracy: 0.8581\n",
      "Epoch 3/10\n",
      "60000/60000 [==============================] - 30s 503us/sample - loss: 0.4159 - accuracy: 0.8723 - val_loss: 0.5004 - val_accuracy: 0.8620\n",
      "Epoch 4/10\n",
      "60000/60000 [==============================] - 30s 499us/sample - loss: 0.4070 - accuracy: 0.8780 - val_loss: 0.5017 - val_accuracy: 0.8686\n",
      "Epoch 5/10\n",
      "60000/60000 [==============================] - 30s 499us/sample - loss: 0.4076 - accuracy: 0.8814 - val_loss: 0.5401 - val_accuracy: 0.8561\n",
      "Epoch 6/10\n",
      "60000/60000 [==============================] - 30s 494us/sample - loss: 0.4054 - accuracy: 0.8843 - val_loss: 0.5007 - val_accuracy: 0.8763\n",
      "Epoch 7/10\n",
      "60000/60000 [==============================] - 30s 501us/sample - loss: 0.3997 - accuracy: 0.8889 - val_loss: 0.5538 - val_accuracy: 0.8676\n",
      "Epoch 8/10\n",
      "60000/60000 [==============================] - 30s 500us/sample - loss: 0.4054 - accuracy: 0.8909 - val_loss: 0.6457 - val_accuracy: 0.8563\n",
      "Epoch 9/10\n",
      "60000/60000 [==============================] - 30s 495us/sample - loss: 0.4021 - accuracy: 0.8931 - val_loss: 0.5764 - val_accuracy: 0.8701\n",
      "Epoch 10/10\n",
      "60000/60000 [==============================] - 30s 494us/sample - loss: 0.3844 - accuracy: 0.8965 - val_loss: 0.5458 - val_accuracy: 0.8772\n",
      "\n",
      "Forming the grid-search model #16 using: optimizer=<tensorflow.python.keras.optimizer_v2.rmsprop.RMSprop object at 0x7faf1c1f1d90>, kernel=<tensorflow.python.ops.init_ops_v2.GlorotNormal object at 0x7faf1c1c9790>, epochs=10, batch_size=32\n",
      "Train on 60000 samples, validate on 10000 samples\n",
      "Epoch 1/10\n",
      "60000/60000 [==============================] - 18s 297us/sample - loss: 0.5008 - accuracy: 0.8207 - val_loss: 0.4154 - val_accuracy: 0.8542\n",
      "Epoch 2/10\n",
      "60000/60000 [==============================] - 17s 276us/sample - loss: 0.3851 - accuracy: 0.8654 - val_loss: 0.4054 - val_accuracy: 0.8653\n",
      "Epoch 3/10\n",
      "60000/60000 [==============================] - 16s 275us/sample - loss: 0.3632 - accuracy: 0.8756 - val_loss: 0.4357 - val_accuracy: 0.8567\n",
      "Epoch 4/10\n",
      "60000/60000 [==============================] - 16s 274us/sample - loss: 0.3513 - accuracy: 0.8823 - val_loss: 0.4236 - val_accuracy: 0.8721\n",
      "Epoch 5/10\n",
      "60000/60000 [==============================] - 16s 271us/sample - loss: 0.3386 - accuracy: 0.8885 - val_loss: 0.4280 - val_accuracy: 0.8686\n",
      "Epoch 6/10\n",
      "60000/60000 [==============================] - 16s 274us/sample - loss: 0.3338 - accuracy: 0.8909 - val_loss: 0.4284 - val_accuracy: 0.8762\n",
      "Epoch 7/10\n",
      "60000/60000 [==============================] - 17s 278us/sample - loss: 0.3257 - accuracy: 0.8952 - val_loss: 0.4505 - val_accuracy: 0.8693\n",
      "Epoch 8/10\n",
      "60000/60000 [==============================] - 17s 277us/sample - loss: 0.3178 - accuracy: 0.8984 - val_loss: 0.4857 - val_accuracy: 0.8726\n",
      "Epoch 9/10\n",
      "60000/60000 [==============================] - 16s 274us/sample - loss: 0.3140 - accuracy: 0.9004 - val_loss: 0.5014 - val_accuracy: 0.8723\n",
      "Epoch 10/10\n",
      "60000/60000 [==============================] - 16s 275us/sample - loss: 0.3077 - accuracy: 0.9040 - val_loss: 0.4770 - val_accuracy: 0.8792\n",
      "\n",
      "Forming the grid-search model #17 using: optimizer=<tensorflow.python.keras.optimizer_v2.rmsprop.RMSprop object at 0x7faf1c1f1d90>, kernel=<tensorflow.python.ops.init_ops_v2.GlorotNormal object at 0x7faf1c1c9790>, epochs=10, batch_size=64\n",
      "Train on 60000 samples, validate on 10000 samples\n",
      "Epoch 1/10\n",
      "60000/60000 [==============================] - 11s 176us/sample - loss: 0.5156 - accuracy: 0.8148 - val_loss: 0.4283 - val_accuracy: 0.8444\n",
      "Epoch 2/10\n",
      "60000/60000 [==============================] - 10s 159us/sample - loss: 0.3699 - accuracy: 0.8663 - val_loss: 0.3966 - val_accuracy: 0.8640\n",
      "Epoch 3/10\n",
      "60000/60000 [==============================] - 9s 157us/sample - loss: 0.3367 - accuracy: 0.8784 - val_loss: 0.3953 - val_accuracy: 0.8591\n",
      "Epoch 4/10\n",
      "60000/60000 [==============================] - 10s 161us/sample - loss: 0.3185 - accuracy: 0.8840 - val_loss: 0.4158 - val_accuracy: 0.8587\n",
      "Epoch 5/10\n",
      "60000/60000 [==============================] - 10s 158us/sample - loss: 0.3028 - accuracy: 0.8919 - val_loss: 0.3642 - val_accuracy: 0.8753\n",
      "Epoch 6/10\n",
      "60000/60000 [==============================] - 10s 159us/sample - loss: 0.2940 - accuracy: 0.8970 - val_loss: 0.3689 - val_accuracy: 0.8786\n",
      "Epoch 7/10\n",
      "60000/60000 [==============================] - 10s 161us/sample - loss: 0.2815 - accuracy: 0.9007 - val_loss: 0.3869 - val_accuracy: 0.8757\n",
      "Epoch 8/10\n",
      "60000/60000 [==============================] - 10s 159us/sample - loss: 0.2734 - accuracy: 0.9036 - val_loss: 0.3899 - val_accuracy: 0.8767\n",
      "Epoch 9/10\n",
      "60000/60000 [==============================] - 9s 157us/sample - loss: 0.2666 - accuracy: 0.9074 - val_loss: 0.4194 - val_accuracy: 0.8757\n",
      "Epoch 10/10\n",
      "60000/60000 [==============================] - 9s 158us/sample - loss: 0.2583 - accuracy: 0.9096 - val_loss: 0.4249 - val_accuracy: 0.8782\n",
      "\n",
      "Forming the grid-search model #18 using: optimizer=<tensorflow.python.keras.optimizer_v2.gradient_descent.SGD object at 0x7faf1c1f1750>, kernel=<tensorflow.python.ops.init_ops_v2.RandomNormal object at 0x7faf1c1c93d0>, epochs=10, batch_size=16\n",
      "Train on 60000 samples, validate on 10000 samples\n",
      "Epoch 1/10\n",
      "60000/60000 [==============================] - 19s 318us/sample - loss: 0.5953 - accuracy: 0.8022 - val_loss: 0.4952 - val_accuracy: 0.8254\n",
      "Epoch 2/10\n",
      "60000/60000 [==============================] - 18s 299us/sample - loss: 0.4457 - accuracy: 0.8457 - val_loss: 0.4626 - val_accuracy: 0.8387\n",
      "Epoch 3/10\n",
      "60000/60000 [==============================] - 18s 293us/sample - loss: 0.4079 - accuracy: 0.8587 - val_loss: 0.4356 - val_accuracy: 0.8444\n",
      "Epoch 4/10\n",
      "60000/60000 [==============================] - 18s 298us/sample - loss: 0.3841 - accuracy: 0.8658 - val_loss: 0.4106 - val_accuracy: 0.8562\n",
      "Epoch 5/10\n",
      "60000/60000 [==============================] - 18s 303us/sample - loss: 0.3651 - accuracy: 0.8720 - val_loss: 0.3997 - val_accuracy: 0.8588\n",
      "Epoch 6/10\n",
      "60000/60000 [==============================] - 18s 296us/sample - loss: 0.3507 - accuracy: 0.8766 - val_loss: 0.3832 - val_accuracy: 0.8661\n",
      "Epoch 7/10\n",
      "60000/60000 [==============================] - 18s 293us/sample - loss: 0.3375 - accuracy: 0.8809 - val_loss: 0.3812 - val_accuracy: 0.8651\n",
      "Epoch 8/10\n",
      "60000/60000 [==============================] - 18s 297us/sample - loss: 0.3267 - accuracy: 0.8854 - val_loss: 0.3809 - val_accuracy: 0.8650\n",
      "Epoch 9/10\n",
      "60000/60000 [==============================] - 18s 297us/sample - loss: 0.3175 - accuracy: 0.8872 - val_loss: 0.3808 - val_accuracy: 0.8652\n",
      "Epoch 10/10\n",
      "60000/60000 [==============================] - 17s 286us/sample - loss: 0.3074 - accuracy: 0.8913 - val_loss: 0.3647 - val_accuracy: 0.8703\n",
      "\n",
      "Forming the grid-search model #19 using: optimizer=<tensorflow.python.keras.optimizer_v2.gradient_descent.SGD object at 0x7faf1c1f1750>, kernel=<tensorflow.python.ops.init_ops_v2.RandomNormal object at 0x7faf1c1c93d0>, epochs=10, batch_size=32\n",
      "Train on 60000 samples, validate on 10000 samples\n",
      "Epoch 1/10\n",
      "60000/60000 [==============================] - 11s 187us/sample - loss: 0.6761 - accuracy: 0.7829 - val_loss: 0.5417 - val_accuracy: 0.8152\n",
      "Epoch 2/10\n",
      "60000/60000 [==============================] - 11s 177us/sample - loss: 0.4865 - accuracy: 0.8349 - val_loss: 0.4957 - val_accuracy: 0.8283\n",
      "Epoch 3/10\n",
      "60000/60000 [==============================] - 11s 180us/sample - loss: 0.4461 - accuracy: 0.8469 - val_loss: 0.4680 - val_accuracy: 0.8354\n",
      "Epoch 4/10\n",
      "60000/60000 [==============================] - 11s 176us/sample - loss: 0.4224 - accuracy: 0.8546 - val_loss: 0.4464 - val_accuracy: 0.8443\n",
      "Epoch 5/10\n",
      "60000/60000 [==============================] - 11s 177us/sample - loss: 0.4046 - accuracy: 0.8601 - val_loss: 0.4302 - val_accuracy: 0.8500\n",
      "Epoch 6/10\n",
      "60000/60000 [==============================] - 11s 178us/sample - loss: 0.3908 - accuracy: 0.8655 - val_loss: 0.4188 - val_accuracy: 0.8538\n",
      "Epoch 7/10\n",
      "60000/60000 [==============================] - 11s 178us/sample - loss: 0.3790 - accuracy: 0.8687 - val_loss: 0.4129 - val_accuracy: 0.8541\n",
      "Epoch 8/10\n",
      "60000/60000 [==============================] - 11s 181us/sample - loss: 0.3688 - accuracy: 0.8724 - val_loss: 0.4122 - val_accuracy: 0.8562\n",
      "Epoch 9/10\n",
      "60000/60000 [==============================] - 11s 176us/sample - loss: 0.3603 - accuracy: 0.8746 - val_loss: 0.4088 - val_accuracy: 0.8582\n",
      "Epoch 10/10\n",
      "60000/60000 [==============================] - 11s 178us/sample - loss: 0.3518 - accuracy: 0.8774 - val_loss: 0.3965 - val_accuracy: 0.8595\n",
      "\n",
      "Forming the grid-search model #20 using: optimizer=<tensorflow.python.keras.optimizer_v2.gradient_descent.SGD object at 0x7faf1c1f1750>, kernel=<tensorflow.python.ops.init_ops_v2.RandomNormal object at 0x7faf1c1c93d0>, epochs=10, batch_size=64\n",
      "Train on 60000 samples, validate on 10000 samples\n",
      "Epoch 1/10\n",
      "60000/60000 [==============================] - 7s 120us/sample - loss: 0.7928 - accuracy: 0.7523 - val_loss: 0.6125 - val_accuracy: 0.7938\n",
      "Epoch 2/10\n",
      "60000/60000 [==============================] - 7s 111us/sample - loss: 0.5449 - accuracy: 0.8201 - val_loss: 0.5406 - val_accuracy: 0.8156\n",
      "Epoch 3/10\n",
      "60000/60000 [==============================] - 7s 111us/sample - loss: 0.4933 - accuracy: 0.8341 - val_loss: 0.5058 - val_accuracy: 0.8264\n",
      "Epoch 4/10\n",
      "60000/60000 [==============================] - 7s 110us/sample - loss: 0.4653 - accuracy: 0.8418 - val_loss: 0.4904 - val_accuracy: 0.8299\n",
      "Epoch 5/10\n",
      "60000/60000 [==============================] - 7s 113us/sample - loss: 0.4462 - accuracy: 0.8477 - val_loss: 0.4684 - val_accuracy: 0.8375\n",
      "Epoch 6/10\n",
      "60000/60000 [==============================] - 7s 111us/sample - loss: 0.4320 - accuracy: 0.8519 - val_loss: 0.4573 - val_accuracy: 0.8420\n",
      "Epoch 7/10\n",
      "60000/60000 [==============================] - 7s 111us/sample - loss: 0.4198 - accuracy: 0.8557 - val_loss: 0.4495 - val_accuracy: 0.8457\n",
      "Epoch 8/10\n",
      "60000/60000 [==============================] - 7s 111us/sample - loss: 0.4097 - accuracy: 0.8599 - val_loss: 0.4514 - val_accuracy: 0.8411\n",
      "Epoch 9/10\n",
      "60000/60000 [==============================] - 7s 112us/sample - loss: 0.4017 - accuracy: 0.8622 - val_loss: 0.4414 - val_accuracy: 0.8471\n",
      "Epoch 10/10\n",
      "60000/60000 [==============================] - 7s 110us/sample - loss: 0.3939 - accuracy: 0.8642 - val_loss: 0.4307 - val_accuracy: 0.8496\n",
      "\n",
      "Forming the grid-search model #21 using: optimizer=<tensorflow.python.keras.optimizer_v2.gradient_descent.SGD object at 0x7faf1c1f1750>, kernel=<tensorflow.python.ops.init_ops_v2.Orthogonal object at 0x7faf1c1c91d0>, epochs=10, batch_size=16\n",
      "Train on 60000 samples, validate on 10000 samples\n",
      "Epoch 1/10\n",
      "60000/60000 [==============================] - 19s 313us/sample - loss: 0.6349 - accuracy: 0.7917 - val_loss: 0.5107 - val_accuracy: 0.8194\n",
      "Epoch 2/10\n",
      "60000/60000 [==============================] - 18s 302us/sample - loss: 0.4596 - accuracy: 0.8413 - val_loss: 0.4714 - val_accuracy: 0.8360\n",
      "Epoch 3/10\n",
      "60000/60000 [==============================] - 18s 301us/sample - loss: 0.4195 - accuracy: 0.8543 - val_loss: 0.4429 - val_accuracy: 0.8415\n",
      "Epoch 4/10\n",
      "60000/60000 [==============================] - 18s 293us/sample - loss: 0.3944 - accuracy: 0.8620 - val_loss: 0.4174 - val_accuracy: 0.8532\n",
      "Epoch 5/10\n",
      "60000/60000 [==============================] - 18s 298us/sample - loss: 0.3746 - accuracy: 0.8692 - val_loss: 0.4050 - val_accuracy: 0.8552\n",
      "Epoch 6/10\n",
      "60000/60000 [==============================] - 18s 297us/sample - loss: 0.3599 - accuracy: 0.8738 - val_loss: 0.3898 - val_accuracy: 0.8642\n",
      "Epoch 7/10\n",
      "60000/60000 [==============================] - 18s 299us/sample - loss: 0.3467 - accuracy: 0.8775 - val_loss: 0.3849 - val_accuracy: 0.8633\n",
      "Epoch 8/10\n",
      "60000/60000 [==============================] - 18s 303us/sample - loss: 0.3355 - accuracy: 0.8824 - val_loss: 0.3829 - val_accuracy: 0.8634\n",
      "Epoch 9/10\n",
      "60000/60000 [==============================] - 18s 304us/sample - loss: 0.3260 - accuracy: 0.8842 - val_loss: 0.3826 - val_accuracy: 0.8641\n",
      "Epoch 10/10\n",
      "60000/60000 [==============================] - 18s 302us/sample - loss: 0.3160 - accuracy: 0.8884 - val_loss: 0.3655 - val_accuracy: 0.8691\n",
      "\n",
      "Forming the grid-search model #22 using: optimizer=<tensorflow.python.keras.optimizer_v2.gradient_descent.SGD object at 0x7faf1c1f1750>, kernel=<tensorflow.python.ops.init_ops_v2.Orthogonal object at 0x7faf1c1c91d0>, epochs=10, batch_size=32\n",
      "Train on 60000 samples, validate on 10000 samples\n",
      "Epoch 1/10\n",
      "60000/60000 [==============================] - 11s 190us/sample - loss: 0.7384 - accuracy: 0.7667 - val_loss: 0.5670 - val_accuracy: 0.8054\n",
      "Epoch 2/10\n",
      "60000/60000 [==============================] - 11s 179us/sample - loss: 0.5080 - accuracy: 0.8284 - val_loss: 0.5114 - val_accuracy: 0.8220\n",
      "Epoch 3/10\n",
      "60000/60000 [==============================] - 11s 179us/sample - loss: 0.4622 - accuracy: 0.8415 - val_loss: 0.4802 - val_accuracy: 0.8321\n",
      "Epoch 4/10\n",
      "60000/60000 [==============================] - 11s 179us/sample - loss: 0.4370 - accuracy: 0.8492 - val_loss: 0.4576 - val_accuracy: 0.8400\n",
      "Epoch 5/10\n",
      "60000/60000 [==============================] - 11s 179us/sample - loss: 0.4181 - accuracy: 0.8555 - val_loss: 0.4409 - val_accuracy: 0.8444\n",
      "Epoch 6/10\n",
      "60000/60000 [==============================] - 11s 178us/sample - loss: 0.4036 - accuracy: 0.8608 - val_loss: 0.4292 - val_accuracy: 0.8509\n",
      "Epoch 7/10\n",
      "60000/60000 [==============================] - 11s 179us/sample - loss: 0.3913 - accuracy: 0.8638 - val_loss: 0.4199 - val_accuracy: 0.8525\n",
      "Epoch 8/10\n",
      "60000/60000 [==============================] - 11s 178us/sample - loss: 0.3803 - accuracy: 0.8694 - val_loss: 0.4197 - val_accuracy: 0.8514\n",
      "Epoch 9/10\n",
      "60000/60000 [==============================] - 11s 178us/sample - loss: 0.3714 - accuracy: 0.8717 - val_loss: 0.4131 - val_accuracy: 0.8563\n",
      "Epoch 10/10\n",
      "60000/60000 [==============================] - 11s 175us/sample - loss: 0.3627 - accuracy: 0.8739 - val_loss: 0.4007 - val_accuracy: 0.8572\n",
      "\n",
      "Forming the grid-search model #23 using: optimizer=<tensorflow.python.keras.optimizer_v2.gradient_descent.SGD object at 0x7faf1c1f1750>, kernel=<tensorflow.python.ops.init_ops_v2.Orthogonal object at 0x7faf1c1c91d0>, epochs=10, batch_size=64\n",
      "Train on 60000 samples, validate on 10000 samples\n",
      "Epoch 1/10\n",
      "60000/60000 [==============================] - 7s 124us/sample - loss: 0.8844 - accuracy: 0.7329 - val_loss: 0.6550 - val_accuracy: 0.7825\n",
      "Epoch 2/10\n",
      "60000/60000 [==============================] - 7s 111us/sample - loss: 0.5806 - accuracy: 0.8110 - val_loss: 0.5652 - val_accuracy: 0.8085\n",
      "Epoch 3/10\n",
      "60000/60000 [==============================] - 7s 112us/sample - loss: 0.5180 - accuracy: 0.8273 - val_loss: 0.5248 - val_accuracy: 0.8190\n",
      "Epoch 4/10\n",
      "60000/60000 [==============================] - 7s 109us/sample - loss: 0.4854 - accuracy: 0.8357 - val_loss: 0.5047 - val_accuracy: 0.8270\n",
      "Epoch 5/10\n",
      "60000/60000 [==============================] - 7s 110us/sample - loss: 0.4640 - accuracy: 0.8413 - val_loss: 0.4837 - val_accuracy: 0.8316\n",
      "Epoch 6/10\n",
      "60000/60000 [==============================] - 7s 111us/sample - loss: 0.4484 - accuracy: 0.8460 - val_loss: 0.4706 - val_accuracy: 0.8350\n",
      "Epoch 7/10\n",
      "60000/60000 [==============================] - 7s 110us/sample - loss: 0.4355 - accuracy: 0.8502 - val_loss: 0.4616 - val_accuracy: 0.8396\n",
      "Epoch 8/10\n",
      "60000/60000 [==============================] - 7s 109us/sample - loss: 0.4247 - accuracy: 0.8541 - val_loss: 0.4630 - val_accuracy: 0.8338\n",
      "Epoch 9/10\n",
      "60000/60000 [==============================] - 7s 110us/sample - loss: 0.4162 - accuracy: 0.8569 - val_loss: 0.4505 - val_accuracy: 0.8427\n",
      "Epoch 10/10\n",
      "60000/60000 [==============================] - 6s 108us/sample - loss: 0.4080 - accuracy: 0.8596 - val_loss: 0.4394 - val_accuracy: 0.8470\n",
      "\n",
      "Forming the grid-search model #24 using: optimizer=<tensorflow.python.keras.optimizer_v2.gradient_descent.SGD object at 0x7faf1c1f1750>, kernel=<tensorflow.python.ops.init_ops_v2.GlorotNormal object at 0x7faf1c1c9790>, epochs=10, batch_size=16\n",
      "Train on 60000 samples, validate on 10000 samples\n",
      "Epoch 1/10\n",
      "60000/60000 [==============================] - 18s 301us/sample - loss: 0.6100 - accuracy: 0.7992 - val_loss: 0.5007 - val_accuracy: 0.8237\n",
      "Epoch 2/10\n",
      "60000/60000 [==============================] - 18s 299us/sample - loss: 0.4510 - accuracy: 0.8439 - val_loss: 0.4649 - val_accuracy: 0.8363\n",
      "Epoch 3/10\n",
      "60000/60000 [==============================] - 18s 301us/sample - loss: 0.4126 - accuracy: 0.8573 - val_loss: 0.4398 - val_accuracy: 0.8446\n",
      "Epoch 4/10\n",
      "60000/60000 [==============================] - 18s 300us/sample - loss: 0.3887 - accuracy: 0.8638 - val_loss: 0.4148 - val_accuracy: 0.8556\n",
      "Epoch 5/10\n",
      "60000/60000 [==============================] - 18s 302us/sample - loss: 0.3697 - accuracy: 0.8706 - val_loss: 0.4034 - val_accuracy: 0.8562\n",
      "Epoch 6/10\n",
      "60000/60000 [==============================] - 18s 303us/sample - loss: 0.3552 - accuracy: 0.8750 - val_loss: 0.3848 - val_accuracy: 0.8644\n",
      "Epoch 7/10\n",
      "60000/60000 [==============================] - 18s 303us/sample - loss: 0.3419 - accuracy: 0.8791 - val_loss: 0.3824 - val_accuracy: 0.8667\n",
      "Epoch 8/10\n",
      "60000/60000 [==============================] - 18s 303us/sample - loss: 0.3310 - accuracy: 0.8838 - val_loss: 0.3854 - val_accuracy: 0.8618\n",
      "Epoch 9/10\n",
      "60000/60000 [==============================] - 19s 312us/sample - loss: 0.3216 - accuracy: 0.8854 - val_loss: 0.3790 - val_accuracy: 0.8682\n",
      "Epoch 10/10\n",
      "60000/60000 [==============================] - 18s 295us/sample - loss: 0.3118 - accuracy: 0.8896 - val_loss: 0.3631 - val_accuracy: 0.8697\n",
      "\n",
      "Forming the grid-search model #25 using: optimizer=<tensorflow.python.keras.optimizer_v2.gradient_descent.SGD object at 0x7faf1c1f1750>, kernel=<tensorflow.python.ops.init_ops_v2.GlorotNormal object at 0x7faf1c1c9790>, epochs=10, batch_size=32\n",
      "Train on 60000 samples, validate on 10000 samples\n",
      "Epoch 1/10\n",
      "60000/60000 [==============================] - 11s 187us/sample - loss: 0.6995 - accuracy: 0.7781 - val_loss: 0.5492 - val_accuracy: 0.8100\n",
      "Epoch 2/10\n",
      "60000/60000 [==============================] - 11s 177us/sample - loss: 0.4937 - accuracy: 0.8333 - val_loss: 0.5007 - val_accuracy: 0.8238\n",
      "Epoch 3/10\n",
      "60000/60000 [==============================] - 11s 178us/sample - loss: 0.4520 - accuracy: 0.8453 - val_loss: 0.4733 - val_accuracy: 0.8327\n",
      "Epoch 4/10\n",
      "60000/60000 [==============================] - 11s 176us/sample - loss: 0.4279 - accuracy: 0.8524 - val_loss: 0.4501 - val_accuracy: 0.8438\n",
      "Epoch 5/10\n",
      "60000/60000 [==============================] - 11s 181us/sample - loss: 0.4097 - accuracy: 0.8585 - val_loss: 0.4333 - val_accuracy: 0.8462\n",
      "Epoch 6/10\n",
      "60000/60000 [==============================] - 11s 177us/sample - loss: 0.3956 - accuracy: 0.8628 - val_loss: 0.4227 - val_accuracy: 0.8510\n",
      "Epoch 7/10\n",
      "60000/60000 [==============================] - 10s 173us/sample - loss: 0.3837 - accuracy: 0.8669 - val_loss: 0.4150 - val_accuracy: 0.8537\n",
      "Epoch 8/10\n",
      "60000/60000 [==============================] - 11s 178us/sample - loss: 0.3732 - accuracy: 0.8709 - val_loss: 0.4170 - val_accuracy: 0.8499\n",
      "Epoch 9/10\n",
      "60000/60000 [==============================] - 11s 178us/sample - loss: 0.3648 - accuracy: 0.8739 - val_loss: 0.4124 - val_accuracy: 0.8563\n",
      "Epoch 10/10\n",
      "60000/60000 [==============================] - 11s 178us/sample - loss: 0.3564 - accuracy: 0.8761 - val_loss: 0.3971 - val_accuracy: 0.8594\n",
      "\n",
      "Forming the grid-search model #26 using: optimizer=<tensorflow.python.keras.optimizer_v2.gradient_descent.SGD object at 0x7faf1c1f1750>, kernel=<tensorflow.python.ops.init_ops_v2.GlorotNormal object at 0x7faf1c1c9790>, epochs=10, batch_size=64\n",
      "Train on 60000 samples, validate on 10000 samples\n",
      "Epoch 1/10\n",
      "60000/60000 [==============================] - 7s 121us/sample - loss: 0.8290 - accuracy: 0.7442 - val_loss: 0.6264 - val_accuracy: 0.7915\n",
      "Epoch 2/10\n",
      "60000/60000 [==============================] - 7s 110us/sample - loss: 0.5570 - accuracy: 0.8179 - val_loss: 0.5472 - val_accuracy: 0.8135\n",
      "Epoch 3/10\n",
      "60000/60000 [==============================] - 6s 108us/sample - loss: 0.5014 - accuracy: 0.8330 - val_loss: 0.5111 - val_accuracy: 0.8250\n",
      "Epoch 4/10\n",
      "60000/60000 [==============================] - 6s 108us/sample - loss: 0.4721 - accuracy: 0.8404 - val_loss: 0.4943 - val_accuracy: 0.8287\n",
      "Epoch 5/10\n",
      "60000/60000 [==============================] - 7s 110us/sample - loss: 0.4525 - accuracy: 0.8450 - val_loss: 0.4727 - val_accuracy: 0.8361\n",
      "Epoch 6/10\n",
      "60000/60000 [==============================] - 7s 109us/sample - loss: 0.4378 - accuracy: 0.8500 - val_loss: 0.4622 - val_accuracy: 0.8370\n",
      "Epoch 7/10\n",
      "60000/60000 [==============================] - 7s 110us/sample - loss: 0.4255 - accuracy: 0.8540 - val_loss: 0.4529 - val_accuracy: 0.8418\n",
      "Epoch 8/10\n",
      "60000/60000 [==============================] - 7s 109us/sample - loss: 0.4151 - accuracy: 0.8590 - val_loss: 0.4556 - val_accuracy: 0.8386\n",
      "Epoch 9/10\n",
      "60000/60000 [==============================] - 7s 111us/sample - loss: 0.4070 - accuracy: 0.8607 - val_loss: 0.4449 - val_accuracy: 0.8452\n",
      "Epoch 10/10\n",
      "60000/60000 [==============================] - 7s 111us/sample - loss: 0.3989 - accuracy: 0.8629 - val_loss: 0.4328 - val_accuracy: 0.8476\n",
      "\n",
      "Best score (highest validation accuracy) found via grid search: accuracy=0.892000 from model iteration #8\n",
      "The best modeling parameters are: optimizer=<tensorflow.python.keras.optimizer_v2.adam.Adam object at 0x7faf1c1f1f50>, kernel=<tensorflow.python.ops.init_ops_v2.GlorotNormal object at 0x7faf1c1c9790>, epochs=10, batch_size=64\n",
      "Total time for performing grid-search of the best parameters: 1:05:28.426604\n"
     ]
    }
   ],
   "source": [
    "startTimeModule = datetime.now()\n",
    "\n",
    "# Set up grid search using different epochs, batch sizes, and optimizers\n",
    "optz_1 = tf.optimizers.Adam(learning_rate=0.001)\n",
    "optz_2 = tf.optimizers.RMSprop(learning_rate=0.001)\n",
    "optz_3 = tf.optimizers.SGD(learning_rate=0.01)\n",
    "optimizer_grid = [optz_1, optz_2, optz_3]\n",
    "print('Optimizer candidate #1 has the object ID of', optz_1)\n",
    "print('Optimizer candidate #2 has the object ID of', optz_2)\n",
    "print('Optimizer candidate #3 has the object ID of', optz_3)\n",
    "\n",
    "init_1 = tf.initializers.RandomNormal(seed=seedNum)\n",
    "init_2 = tf.initializers.Orthogonal(seed=seedNum)\n",
    "init_3 = tf.initializers.GlorotNormal(seed=seedNum)\n",
    "init_grid = [init_1, init_2, init_3]\n",
    "print('Initializer candidate #1 has the object ID of', init_1)\n",
    "print('Initializer candidate #2 has the object ID of', init_2)\n",
    "print('Initializer candidate #2 has the object ID of', init_3)\n",
    "\n",
    "epoch_grid = [10]\n",
    "batch_grid = [16, 32, 64]\n",
    "\n",
    "best_score = 0\n",
    "grid_iteration = 0\n",
    "best_iteration = 0\n",
    "best_optimizer = default_optimizer\n",
    "best_kernel_init = default_kernel_init\n",
    "best_epoch = default_epoch\n",
    "best_batch = default_batch\n",
    "\n",
    "for optimizer in optimizer_grid:\n",
    "    for kernel_init in init_grid:\n",
    "        for epoch_num in epoch_grid:\n",
    "            for batch_num in batch_grid:\n",
    "                print('\\nForming the grid-search model #%d using: optimizer=%s, kernel=%s, epochs=%d, batch_size=%d'\n",
    "                      % (grid_iteration, optimizer, kernel_init, epoch_num, batch_num))\n",
    "                reset_random(seedNum)\n",
    "                grid_model = create_customized_model(optimizer, kernel_init)\n",
    "                grid_hist = grid_model.fit(X_train, y_train, epochs=epoch_num, batch_size=batch_num, \n",
    "                                       validation_data=(X_test, y_test), verbose=1)\n",
    "                if(grid_hist.history['val_accuracy'][-1] > best_score):\n",
    "                    best_score = grid_hist.history['val_accuracy'][-1]\n",
    "                    best_iteration = grid_iteration\n",
    "                    best_optimizer = optimizer\n",
    "                    best_kernel_init = kernel_init\n",
    "                    best_epoch = epoch_num\n",
    "                    best_batch = batch_num\n",
    "                grid_iteration = grid_iteration + 1\n",
    "\n",
    "# summarize results\n",
    "print(\"\\nBest score (highest validation accuracy) found via grid search: accuracy=%f from model iteration #%d\"\n",
    "      % (best_score, best_iteration))\n",
    "print('The best modeling parameters are: optimizer=%s, kernel=%s, epochs=%d, batch_size=%d'\n",
    "      % (best_optimizer, best_kernel_init, best_epoch, best_batch))\n",
    "print('Total time for performing grid-search of the best parameters:', (datetime.now() - startTimeModule))"
   ]
  },
  {
   "cell_type": "code",
   "execution_count": 29,
   "metadata": {},
   "outputs": [],
   "source": [
    "if (notifyStatus): email_notify(\"Phase 4 Optimize Model completed! \"+datetime.now().strftime('%a %B %d, %Y %I:%M:%S %p'))"
   ]
  },
  {
   "cell_type": "markdown",
   "metadata": {},
   "source": [
    "# Section 5. Finalize Model"
   ]
  },
  {
   "cell_type": "code",
   "execution_count": 30,
   "metadata": {},
   "outputs": [],
   "source": [
    "if (notifyStatus): email_notify(\"Phase 5 Finalize Model has begun! \"+datetime.now().strftime('%a %B %d, %Y %I:%M:%S %p'))"
   ]
  },
  {
   "cell_type": "code",
   "execution_count": 31,
   "metadata": {},
   "outputs": [
    {
     "name": "stdout",
     "output_type": "stream",
     "text": [
      "Forming the final model using: optimizer=<tensorflow.python.keras.optimizer_v2.adam.Adam object at 0x7faf1c1f1f50>, kernel=<tensorflow.python.ops.init_ops_v2.GlorotNormal object at 0x7faf1c1c9790>, epochs=10, batch_size=64\n",
      "Train on 60000 samples\n",
      "Epoch 1/10\n",
      "60000/60000 [==============================] - 7s 125us/sample - loss: 0.4648 - accuracy: 0.8364\n",
      "Epoch 2/10\n",
      "60000/60000 [==============================] - 6s 105us/sample - loss: 0.3429 - accuracy: 0.8743\n",
      "Epoch 3/10\n",
      "60000/60000 [==============================] - 6s 105us/sample - loss: 0.3094 - accuracy: 0.8870\n",
      "Epoch 4/10\n",
      "60000/60000 [==============================] - 6s 106us/sample - loss: 0.2875 - accuracy: 0.8930\n",
      "Epoch 5/10\n",
      "60000/60000 [==============================] - 6s 105us/sample - loss: 0.2723 - accuracy: 0.8985\n",
      "Epoch 6/10\n",
      "60000/60000 [==============================] - 6s 107us/sample - loss: 0.2585 - accuracy: 0.9041\n",
      "Epoch 7/10\n",
      "60000/60000 [==============================] - 6s 106us/sample - loss: 0.2460 - accuracy: 0.9080\n",
      "Epoch 8/10\n",
      "60000/60000 [==============================] - 6s 106us/sample - loss: 0.2337 - accuracy: 0.9130\n",
      "Epoch 9/10\n",
      "60000/60000 [==============================] - 6s 105us/sample - loss: 0.2237 - accuracy: 0.9165\n",
      "Epoch 10/10\n",
      "60000/60000 [==============================] - 6s 105us/sample - loss: 0.2173 - accuracy: 0.9182\n",
      "Total time for training the final model: 0:01:04.910152\n"
     ]
    }
   ],
   "source": [
    "# Create the final model for evaluating the test dataset\n",
    "startTimeModule = datetime.now()\n",
    "print('Forming the final model using: optimizer=%s, kernel=%s, epochs=%d, batch_size=%d'\n",
    "      % (best_optimizer, best_kernel_init, best_epoch, best_batch))\n",
    "np.random.seed(seedNum)\n",
    "tf.random.set_seed(seedNum)\n",
    "final_model = create_customized_model(best_optimizer, best_kernel_init)\n",
    "final_hist = final_model.fit(X_train, y_train, epochs=best_epoch, batch_size=best_batch, verbose=1)\n",
    "print('Total time for training the final model:', (datetime.now() - startTimeModule))"
   ]
  },
  {
   "cell_type": "code",
   "execution_count": 32,
   "metadata": {},
   "outputs": [
    {
     "name": "stdout",
     "output_type": "stream",
     "text": [
      "Model: \"sequential_28\"\n",
      "_________________________________________________________________\n",
      "Layer (type)                 Output Shape              Param #   \n",
      "=================================================================\n",
      "flatten_28 (Flatten)         (None, 784)               0         \n",
      "_________________________________________________________________\n",
      "dense_56 (Dense)             (None, 784)               615440    \n",
      "_________________________________________________________________\n",
      "dense_57 (Dense)             (None, 10)                7850      \n",
      "=================================================================\n",
      "Total params: 623,290\n",
      "Trainable params: 623,290\n",
      "Non-trainable params: 0\n",
      "_________________________________________________________________\n",
      "None\n"
     ]
    }
   ],
   "source": [
    "# Display a summary of the final model\n",
    "print(final_model.summary())"
   ]
  },
  {
   "cell_type": "code",
   "execution_count": 33,
   "metadata": {},
   "outputs": [
    {
     "name": "stdout",
     "output_type": "stream",
     "text": [
      "{'name': 'sequential_28', 'layers': [{'class_name': 'Flatten', 'config': {'name': 'flatten_28', 'trainable': True, 'batch_input_shape': (None, 28, 28), 'dtype': 'float32', 'data_format': 'channels_last'}}, {'class_name': 'Dense', 'config': {'name': 'dense_56', 'trainable': True, 'dtype': 'float32', 'units': 784, 'activation': 'relu', 'use_bias': True, 'kernel_initializer': {'class_name': 'GlorotNormal', 'config': {'seed': 888}}, 'bias_initializer': {'class_name': 'Zeros', 'config': {}}, 'kernel_regularizer': None, 'bias_regularizer': None, 'activity_regularizer': None, 'kernel_constraint': None, 'bias_constraint': None}}, {'class_name': 'Dense', 'config': {'name': 'dense_57', 'trainable': True, 'dtype': 'float32', 'units': 10, 'activation': 'softmax', 'use_bias': True, 'kernel_initializer': {'class_name': 'GlorotNormal', 'config': {'seed': 888}}, 'bias_initializer': {'class_name': 'Zeros', 'config': {}}, 'kernel_regularizer': None, 'bias_regularizer': None, 'activity_regularizer': None, 'kernel_constraint': None, 'bias_constraint': None}}]}\n"
     ]
    }
   ],
   "source": [
    "# Display the configuration of the final model\n",
    "print(final_model.get_config())"
   ]
  },
  {
   "cell_type": "code",
   "execution_count": 34,
   "metadata": {},
   "outputs": [
    {
     "data": {
      "image/png": "[encoded data removed]",
      "text/plain": [
       "<Figure size 864x864 with 2 Axes>"
      ]
     },
     "metadata": {
      "needs_background": "light"
     },
     "output_type": "display_data"
    }
   ],
   "source": [
    "# Summarize model training hisotry for accuracy and loss\n",
    "fig, axs = plt.subplots(2, 1, figsize=(12,12))\n",
    "plt.subplot(211)\n",
    "plt.plot(final_hist.history['accuracy'], color='blue')\n",
    "plt.title('Final Model Training Performance (Accuracy)')\n",
    "plt.ylabel('Accuracy')\n",
    "plt.xlabel('Epoch')\n",
    "plt.subplot(212)\n",
    "plt.plot(final_hist.history['loss'], color='red')\n",
    "plt.title('Final Model Training Performance (Loss)')\n",
    "plt.ylabel('Loss')\n",
    "plt.xlabel('Epoch')\n",
    "plt.show()"
   ]
  },
  {
   "cell_type": "code",
   "execution_count": 35,
   "metadata": {},
   "outputs": [
    {
     "name": "stdout",
     "output_type": "stream",
     "text": [
      "The model accuracy: 89.200002%\n",
      "The model loss: 0.318818\n"
     ]
    }
   ],
   "source": [
    "# Evaluate the Keras model on previously unseen data\n",
    "scores = final_model.evaluate(X_test, y_test, verbose=0)\n",
    "print(\"The model %s: %f%%\" % (final_model.metrics_names[1], scores[1]*100))\n",
    "print(\"The model %s: %f\" % (final_model.metrics_names[0], scores[0]))"
   ]
  },
  {
   "cell_type": "code",
   "execution_count": 36,
   "metadata": {},
   "outputs": [
    {
     "name": "stdout",
     "output_type": "stream",
     "text": [
      "Data item #0 predicted to be [9] (expected [9])\n",
      "Data item #1 predicted to be [2] (expected [2])\n",
      "Data item #2 predicted to be [1] (expected [1])\n",
      "Data item #3 predicted to be [1] (expected [1])\n",
      "Data item #4 predicted to be [6] (expected [6])\n",
      "Data item #5 predicted to be [1] (expected [1])\n",
      "Data item #6 predicted to be [4] (expected [4])\n",
      "Data item #7 predicted to be [6] (expected [6])\n",
      "Data item #8 predicted to be [5] (expected [5])\n",
      "Data item #9 predicted to be [7] (expected [7])\n",
      "Data item #10 predicted to be [4] (expected [4])\n",
      "Data item #11 predicted to be [5] (expected [5])\n",
      "Data item #12 predicted to be [5] (expected [7])\n",
      "Data item #13 predicted to be [3] (expected [3])\n",
      "Data item #14 predicted to be [4] (expected [4])\n",
      "Data item #15 predicted to be [1] (expected [1])\n",
      "Data item #16 predicted to be [2] (expected [2])\n",
      "Data item #17 predicted to be [2] (expected [4])\n",
      "Data item #18 predicted to be [8] (expected [8])\n",
      "Data item #19 predicted to be [0] (expected [0])\n"
     ]
    }
   ],
   "source": [
    "# Make class predictions with the model\n",
    "predictions = final_model.predict_classes(X_test)\n",
    "\n",
    "# Summarize the first 20 cases\n",
    "for i in range(20):\n",
    "\tprint('Data item #%d predicted to be %s (expected %s)' % (i, encoder.inverse_transform([predictions[i]]), encoder.inverse_transform([np.argmax(y_test[i])])))"
   ]
  },
  {
   "cell_type": "code",
   "execution_count": 37,
   "metadata": {},
   "outputs": [],
   "source": [
    "if (notifyStatus): email_notify(\"Phase 5 Finalize Model completed! \"+datetime.now().strftime('%a %B %d, %Y %I:%M:%S %p'))"
   ]
  },
  {
   "cell_type": "code",
   "execution_count": 38,
   "metadata": {},
   "outputs": [
    {
     "name": "stdout",
     "output_type": "stream",
     "text": [
      "Total time for the script: 1:08:42.015916\n"
     ]
    }
   ],
   "source": [
    "print ('Total time for the script:',(datetime.now() - startTimeScript))"
   ]
  }
 ],
 "metadata": {
  "kernelspec": {
   "display_name": "Python 3",
   "language": "python",
   "name": "python3"
  },
  "language_info": {
   "codemirror_mode": {
    "name": "ipython",
    "version": 3
   },
   "file_extension": ".py",
   "mimetype": "text/x-python",
   "name": "python",
   "nbconvert_exporter": "python",
   "pygments_lexer": "ipython3",
   "version": "3.7.5"
  }
 },
 "nbformat": 4,
 "nbformat_minor": 4
}
