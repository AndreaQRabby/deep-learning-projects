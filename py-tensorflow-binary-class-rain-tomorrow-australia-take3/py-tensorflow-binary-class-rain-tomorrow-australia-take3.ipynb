{
  "nbformat": 4,
  "nbformat_minor": 0,
  "metadata": {
    "kernelspec": {
      "name": "python3",
      "display_name": "Python 3"
    },
    "language_info": {
      "codemirror_mode": {
        "name": "ipython",
        "version": 3
      },
      "file_extension": ".py",
      "mimetype": "text/x-python",
      "name": "python",
      "nbconvert_exporter": "python",
      "pygments_lexer": "ipython3",
      "version": "3.7.7"
    },
    "colab": {
      "name": "py-tensorflow-binary-class-rain-tomorrow-australia-take3.ipynb",
      "provenance": [],
      "collapsed_sections": [],
      "toc_visible": true,
      "machine_shape": "hm"
    },
    "accelerator": "GPU"
  },
  "cells": [
    {
      "cell_type": "markdown",
      "metadata": {
        "id": "CETeEf_iJzhm",
        "colab_type": "text"
      },
      "source": [
        "# Binary Classification Model for Rain in Australia Using TensorFlow Take 3\n",
        "### David Lowe\n",
        "### March 30, 2020\n",
        "\n",
        "Template Credit: Adapted from a template made available by Dr. Jason Brownlee of Machine Learning Mastery. [https://machinelearningmastery.com/]\n",
        "\n",
        "SUMMARY: The purpose of this project is to construct a predictive model using various machine learning algorithms and to document the end-to-end steps using a template. The Rain in Australia dataset is a binary classification situation where we are trying to predict one of the two possible outcomes.\n",
        "\n",
        "INTRODUCTION: This dataset contains daily weather observations from numerous Australian weather stations. The target variable RainTomorrow represents whether it rained the next day. We also should exclude the variable Risk-MM when training a binary classification model. By not eliminating the Risk-MM feature, we run a risk of leaking the answers into our model and reduce its effectiveness.\n",
        "\n",
        "In iteration Take1, we constructed several traditional machine learning models using the linear, non-linear, and ensemble techniques. We also observed the best accuracy score that we could obtain with each of these models.\n",
        "\n",
        "In iteration Take2, we constructed and tuned an XGBoost machine learning model for this dataset. We also observed the best accuracy score that we could obtain with the XGBoost model.\n",
        "\n",
        "In this Take3 iteration, we will construct several Multilayer Perceptron (MLP) models with one, two, and three hidden layers. These simple MLP models will serve as the baseline models as we build more complex MLP models in future iterations.\n",
        "\n",
        "ANALYSIS: In iteration Take1, the baseline performance of the machine learning algorithms achieved an average accuracy of 83.83%. Two algorithms (Extra Trees and Random Forest) achieved the top accuracy metrics after the first round of modeling. After a series of tuning trials, Random Forest turned in a better overall result than Extra Trees with a lower variance. Random Forest achieved an accuracy metric of 85.44%. When configured with the optimized parameters, the Random Forest algorithm processed the test dataset with an accuracy of 85.52%, which was consistent with the accuracy score from the training phase.\n",
        "\n",
        "In iteration Take2, the XGBoost algorithm achieved a baseline accuracy of 84.69% by setting n_estimators to the default value of 100. After a series of tuning trials, XGBoost turned in an overall accuracy result of 86.21% with the n_estimators value set to 1000. When we apply the tuned XGBoost model to the test dataset, we obtained an accuracy score of 86.27%, which was consistent with the model performance from the training phase.\n",
        "\n",
        "In this Take3 iteration, all one-layer models achieved an accuracy performance of around 86%. The eight-nodes model appears to overfit the least, when compared with models with 12, 16, and 20 nodes. The single-layer eight-nodes model also seems to work better than the two and three-layer models by processing the test dataset with an accuracy score of 86.10% after 20 epochs.\n",
        "\n",
        "CONCLUSION: For this iteration, the single-layer eight-nodes MLP model produced the accuracy score that is comparable to the XGBoost model. For this dataset, we should consider doing more tuning with the XGBoost and the MLP models.\n",
        "\n",
        "Dataset Used: Rain in Australia Data Set\n",
        "\n",
        "Dataset ML Model: Binary classification with numerical and categorical attributes\n",
        "\n",
        "Dataset Reference: https://www.kaggle.com/jsphyg/weather-dataset-rattle-package\n",
        "\n",
        "One potential source of performance benchmark: https://www.kaggle.com/jsphyg/weather-dataset-rattle-package/kernels\n",
        "\n",
        "The project aims to touch on the following areas:\n",
        "\n",
        "* Document a predictive modeling problem end-to-end.\n",
        "* Explore data cleaning and transformation options\n",
        "* Explore non-ensemble and ensemble algorithms for baseline model performance\n",
        "* Explore algorithm tuning techniques for improving model performance\n",
        "\n",
        "Any predictive modeling machine learning project genrally can be broken down into about six major tasks:\n",
        "\n",
        "1. Prepare Environment\n",
        "2. Summarize Data\n",
        "3. Prepare Data\n",
        "4. Model and Evaluate Algorithms\n",
        "5. Improve Accuracy or Results\n",
        "6. Finalize Model and Present Results"
      ]
    },
    {
      "cell_type": "markdown",
      "metadata": {
        "id": "aE1k9XubJzh6",
        "colab_type": "text"
      },
      "source": [
        "## Section 1. Prepare Environment"
      ]
    },
    {
      "cell_type": "code",
      "metadata": {
        "id": "4siTk23MJziA",
        "colab_type": "code",
        "outputId": "738f8956-f4f5-4ab9-cba9-bf495f949f09",
        "colab": {
          "base_uri": "https://localhost:8080/",
          "height": 329
        }
      },
      "source": [
        "# Retrieve GPU configuration information from Colab\n",
        "gpu_info = !nvidia-smi\n",
        "gpu_info = '\\n'.join(gpu_info)\n",
        "if gpu_info.find('failed') >= 0:\n",
        "    print('Select the Runtime → \"Change runtime type\" menu to enable a GPU accelerator, ')\n",
        "    print('and then re-execute this cell.')\n",
        "else:\n",
        "    print(gpu_info)"
      ],
      "execution_count": 1,
      "outputs": [
        {
          "output_type": "stream",
          "text": [
            "Mon Mar 23 21:37:46 2020       \n",
            "+-----------------------------------------------------------------------------+\n",
            "| NVIDIA-SMI 440.64.00    Driver Version: 418.67       CUDA Version: 10.1     |\n",
            "|-------------------------------+----------------------+----------------------+\n",
            "| GPU  Name        Persistence-M| Bus-Id        Disp.A | Volatile Uncorr. ECC |\n",
            "| Fan  Temp  Perf  Pwr:Usage/Cap|         Memory-Usage | GPU-Util  Compute M. |\n",
            "|===============================+======================+======================|\n",
            "|   0  Tesla P100-PCIE...  Off  | 00000000:00:04.0 Off |                    0 |\n",
            "| N/A   35C    P0    26W / 250W |      0MiB / 16280MiB |      0%      Default |\n",
            "+-------------------------------+----------------------+----------------------+\n",
            "                                                                               \n",
            "+-----------------------------------------------------------------------------+\n",
            "| Processes:                                                       GPU Memory |\n",
            "|  GPU       PID   Type   Process name                             Usage      |\n",
            "|=============================================================================|\n",
            "|  No running processes found                                                 |\n",
            "+-----------------------------------------------------------------------------+\n"
          ],
          "name": "stdout"
        }
      ]
    },
    {
      "cell_type": "code",
      "metadata": {
        "id": "JI5xhprFJziR",
        "colab_type": "code",
        "outputId": "f8eb3c5d-1439-44d4-a6aa-0479fb0adb4e",
        "colab": {
          "base_uri": "https://localhost:8080/",
          "height": 72
        }
      },
      "source": [
        "# Retrieve memory configuration information from Colab\n",
        "from psutil import virtual_memory\n",
        "ram_gb = virtual_memory().total / 1e9\n",
        "print('Your runtime has {:.1f} gigabytes of available RAM\\n'.format(ram_gb))\n",
        "\n",
        "if ram_gb < 20:\n",
        "    print('To enable a high-RAM runtime, select the Runtime → \"Change runtime type\"')\n",
        "    print('menu, and then select High-RAM in the Runtime shape dropdown. Then, ')\n",
        "    print('re-execute this cell.')\n",
        "else:\n",
        "    print('You are using a high-RAM runtime!')"
      ],
      "execution_count": 2,
      "outputs": [
        {
          "output_type": "stream",
          "text": [
            "Your runtime has 27.4 gigabytes of available RAM\n",
            "\n",
            "You are using a high-RAM runtime!\n"
          ],
          "name": "stdout"
        }
      ]
    },
    {
      "cell_type": "code",
      "metadata": {
        "id": "sqhp0GnHCRgY",
        "colab_type": "code",
        "outputId": "0ea3edf6-970f-4c8b-8068-645ae569d6e5",
        "colab": {
          "base_uri": "https://localhost:8080/",
          "height": 35
        }
      },
      "source": [
        "%tensorflow_version 2.x"
      ],
      "execution_count": 3,
      "outputs": [
        {
          "output_type": "stream",
          "text": [
            "TensorFlow 2.x selected.\n"
          ],
          "name": "stdout"
        }
      ]
    },
    {
      "cell_type": "markdown",
      "metadata": {
        "id": "pIqxMf1UJzic",
        "colab_type": "text"
      },
      "source": [
        "### 1.a) Load libraries and modules"
      ]
    },
    {
      "cell_type": "code",
      "metadata": {
        "id": "CIwvl4k0Jzie",
        "colab_type": "code",
        "colab": {}
      },
      "source": [
        "# Set the random seed number for reproducible results\n",
        "seedNum = 888"
      ],
      "execution_count": 0,
      "outputs": []
    },
    {
      "cell_type": "code",
      "metadata": {
        "id": "Rn_oqO0rJzin",
        "colab_type": "code",
        "colab": {}
      },
      "source": [
        "# Load libraries and packages\n",
        "import random\n",
        "random.seed(seedNum)\n",
        "import numpy as np\n",
        "np.random.seed(seedNum)\n",
        "import tensorflow as tf\n",
        "tf.random.set_seed(seedNum)\n",
        "from tensorflow.keras import Sequential\n",
        "from tensorflow.keras.layers import Dense\n",
        "from tensorflow.keras.layers import Flatten\n",
        "from tensorflow.keras.layers import Dropout\n",
        "from tensorflow.keras.layers import Conv2D\n",
        "from tensorflow.keras.layers import MaxPooling2D\n",
        "from tensorflow.keras.layers import BatchNormalization\n",
        "from tensorflow.keras.preprocessing.image import ImageDataGenerator\n",
        "from tensorflow.keras.wrappers.scikit_learn import KerasClassifier\n",
        "import pandas as pd\n",
        "import math\n",
        "import os\n",
        "import sys\n",
        "import shutil\n",
        "import urllib.request\n",
        "import zipfile\n",
        "import smtplib\n",
        "import matplotlib.pyplot as plt\n",
        "from datetime import datetime\n",
        "from email.message import EmailMessage\n",
        "from sklearn.model_selection import train_test_split\n",
        "from sklearn.model_selection import KFold\n",
        "from sklearn.model_selection import StratifiedKFold\n",
        "from sklearn.model_selection import cross_val_score\n",
        "from sklearn.model_selection import GridSearchCV\n",
        "from sklearn.model_selection import RandomizedSearchCV\n",
        "from sklearn import preprocessing"
      ],
      "execution_count": 0,
      "outputs": []
    },
    {
      "cell_type": "markdown",
      "metadata": {
        "id": "l2OIlTC7Jziz",
        "colab_type": "text"
      },
      "source": [
        "### 1.b) Set up the controlling parameters and functions"
      ]
    },
    {
      "cell_type": "code",
      "metadata": {
        "id": "bXDJplesJzi2",
        "colab_type": "code",
        "outputId": "35592f1f-24fb-432f-c43f-00e03e9ab388",
        "colab": {
          "base_uri": "https://localhost:8080/",
          "height": 35
        }
      },
      "source": [
        "# Begin the timer for the script processing\n",
        "startTimeScript = datetime.now()\n",
        "\n",
        "# Set up the number of CPU cores available for multi-thread processing\n",
        "n_jobs = -1\n",
        "print(\"Num GPUs Available: \", len(tf.config.experimental.list_physical_devices('GPU')))\n",
        "\n",
        "# Set up the flag to stop sending progress emails (setting to True will send status emails!)\n",
        "notifyStatus = False\n",
        "\n",
        "# Set the flag for splitting the dataset\n",
        "splitDataset = True\n",
        "splitPercentage = 0.25\n",
        "\n",
        "# Set the number of folds for cross validation\n",
        "n_folds = 5\n",
        "\n",
        "# Set various Pandas options\n",
        "pd.set_option('display.max_rows', 9999)\n",
        "\n",
        "# Set up the verbose flag to print detailed messages for debugging (setting to True will activate)\n",
        "# verbose = True\n",
        "# tf.debugging.set_log_device_placement(verbose)\n",
        "\n",
        "# Set various default Keras modeling parameters\n",
        "default_loss = 'binary_crossentropy'\n",
        "default_metrics = ['accuracy']\n",
        "default_optimizer = tf.optimizers.Adam(learning_rate=0.001)\n",
        "default_kernel_init = tf.initializers.RandomNormal(seed=seedNum)\n",
        "default_epoch = 20\n",
        "default_batch = 32"
      ],
      "execution_count": 6,
      "outputs": [
        {
          "output_type": "stream",
          "text": [
            "Num GPUs Available:  1\n"
          ],
          "name": "stdout"
        }
      ]
    },
    {
      "cell_type": "code",
      "metadata": {
        "id": "TlU3EKOpJzi-",
        "colab_type": "code",
        "colab": {}
      },
      "source": [
        "# Set up the email notification function\n",
        "def email_notify(msg_text):\n",
        "    sender = os.environ.get('MAIL_SENDER')\n",
        "    receiver = os.environ.get('MAIL_RECEIVER')\n",
        "    gateway = os.environ.get('SMTP_GATEWAY')\n",
        "    smtpuser = os.environ.get('SMTP_USERNAME')\n",
        "    password = os.environ.get('SMTP_PASSWORD')\n",
        "    if sender==None or receiver==None or gateway==None or smtpuser==None or password==None:\n",
        "        sys.exit(\"Incomplete email setup info. Script Processing Aborted!!!\")\n",
        "    msg = EmailMessage()\n",
        "    msg.set_content(msg_text)\n",
        "    msg['Subject'] = 'Notification from Python Binary Classification Script'\n",
        "    msg['From'] = sender\n",
        "    msg['To'] = receiver\n",
        "    server = smtplib.SMTP(gateway, 587)\n",
        "    server.starttls()\n",
        "    server.login(smtpuser, password)\n",
        "    server.send_message(msg)\n",
        "    server.quit()"
      ],
      "execution_count": 0,
      "outputs": []
    },
    {
      "cell_type": "code",
      "metadata": {
        "id": "Bo22PRqPAVNL",
        "colab_type": "code",
        "colab": {}
      },
      "source": [
        "# Reset the random number generators\n",
        "def reset_random(x):\n",
        "    random.seed(x)\n",
        "    np.random.seed(x)\n",
        "    tf.random.set_seed(x)"
      ],
      "execution_count": 0,
      "outputs": []
    },
    {
      "cell_type": "code",
      "metadata": {
        "id": "5BWJWFYyJzjF",
        "colab_type": "code",
        "colab": {}
      },
      "source": [
        "if (notifyStatus): email_notify(\"Library and Data Loading has begun! \"+datetime.now().strftime('%a %B %d, %Y %I:%M:%S %p'))"
      ],
      "execution_count": 0,
      "outputs": []
    },
    {
      "cell_type": "markdown",
      "metadata": {
        "id": "vyF7fyTIJzjQ",
        "colab_type": "text"
      },
      "source": [
        "### 1.c) Load dataset"
      ]
    },
    {
      "cell_type": "code",
      "metadata": {
        "id": "bu3x2c0NJzjS",
        "colab_type": "code",
        "outputId": "79df54e0-ecdf-4c4c-89a9-500b92437bb8",
        "colab": {
          "base_uri": "https://localhost:8080/",
          "height": 383
        }
      },
      "source": [
        "dataset_path = 'https://dainesanalytics.com/datasets/kaggle-rain-tomorrow-australia/weatherAUS.csv'\n",
        "\n",
        "Xy_original = pd.read_csv(dataset_path, sep=',')\n",
        "\n",
        "# Take a peek at the dataframe after import\n",
        "Xy_original.head(10)"
      ],
      "execution_count": 10,
      "outputs": [
        {
          "output_type": "execute_result",
          "data": {
            "text/html": [
              "<div>\n",
              "<style scoped>\n",
              "    .dataframe tbody tr th:only-of-type {\n",
              "        vertical-align: middle;\n",
              "    }\n",
              "\n",
              "    .dataframe tbody tr th {\n",
              "        vertical-align: top;\n",
              "    }\n",
              "\n",
              "    .dataframe thead th {\n",
              "        text-align: right;\n",
              "    }\n",
              "</style>\n",
              "<table border=\"1\" class=\"dataframe\">\n",
              "  <thead>\n",
              "    <tr style=\"text-align: right;\">\n",
              "      <th></th>\n",
              "      <th>Date</th>\n",
              "      <th>Location</th>\n",
              "      <th>MinTemp</th>\n",
              "      <th>MaxTemp</th>\n",
              "      <th>Rainfall</th>\n",
              "      <th>Evaporation</th>\n",
              "      <th>Sunshine</th>\n",
              "      <th>WindGustDir</th>\n",
              "      <th>WindGustSpeed</th>\n",
              "      <th>WindDir9am</th>\n",
              "      <th>WindDir3pm</th>\n",
              "      <th>WindSpeed9am</th>\n",
              "      <th>WindSpeed3pm</th>\n",
              "      <th>Humidity9am</th>\n",
              "      <th>Humidity3pm</th>\n",
              "      <th>Pressure9am</th>\n",
              "      <th>Pressure3pm</th>\n",
              "      <th>Cloud9am</th>\n",
              "      <th>Cloud3pm</th>\n",
              "      <th>Temp9am</th>\n",
              "      <th>Temp3pm</th>\n",
              "      <th>RainToday</th>\n",
              "      <th>RISK_MM</th>\n",
              "      <th>RainTomorrow</th>\n",
              "    </tr>\n",
              "  </thead>\n",
              "  <tbody>\n",
              "    <tr>\n",
              "      <th>0</th>\n",
              "      <td>2008-12-01</td>\n",
              "      <td>Albury</td>\n",
              "      <td>13.4</td>\n",
              "      <td>22.9</td>\n",
              "      <td>0.6</td>\n",
              "      <td>NaN</td>\n",
              "      <td>NaN</td>\n",
              "      <td>W</td>\n",
              "      <td>44.0</td>\n",
              "      <td>W</td>\n",
              "      <td>WNW</td>\n",
              "      <td>20.0</td>\n",
              "      <td>24.0</td>\n",
              "      <td>71.0</td>\n",
              "      <td>22.0</td>\n",
              "      <td>1007.7</td>\n",
              "      <td>1007.1</td>\n",
              "      <td>8.0</td>\n",
              "      <td>NaN</td>\n",
              "      <td>16.9</td>\n",
              "      <td>21.8</td>\n",
              "      <td>No</td>\n",
              "      <td>0.0</td>\n",
              "      <td>No</td>\n",
              "    </tr>\n",
              "    <tr>\n",
              "      <th>1</th>\n",
              "      <td>2008-12-02</td>\n",
              "      <td>Albury</td>\n",
              "      <td>7.4</td>\n",
              "      <td>25.1</td>\n",
              "      <td>0.0</td>\n",
              "      <td>NaN</td>\n",
              "      <td>NaN</td>\n",
              "      <td>WNW</td>\n",
              "      <td>44.0</td>\n",
              "      <td>NNW</td>\n",
              "      <td>WSW</td>\n",
              "      <td>4.0</td>\n",
              "      <td>22.0</td>\n",
              "      <td>44.0</td>\n",
              "      <td>25.0</td>\n",
              "      <td>1010.6</td>\n",
              "      <td>1007.8</td>\n",
              "      <td>NaN</td>\n",
              "      <td>NaN</td>\n",
              "      <td>17.2</td>\n",
              "      <td>24.3</td>\n",
              "      <td>No</td>\n",
              "      <td>0.0</td>\n",
              "      <td>No</td>\n",
              "    </tr>\n",
              "    <tr>\n",
              "      <th>2</th>\n",
              "      <td>2008-12-03</td>\n",
              "      <td>Albury</td>\n",
              "      <td>12.9</td>\n",
              "      <td>25.7</td>\n",
              "      <td>0.0</td>\n",
              "      <td>NaN</td>\n",
              "      <td>NaN</td>\n",
              "      <td>WSW</td>\n",
              "      <td>46.0</td>\n",
              "      <td>W</td>\n",
              "      <td>WSW</td>\n",
              "      <td>19.0</td>\n",
              "      <td>26.0</td>\n",
              "      <td>38.0</td>\n",
              "      <td>30.0</td>\n",
              "      <td>1007.6</td>\n",
              "      <td>1008.7</td>\n",
              "      <td>NaN</td>\n",
              "      <td>2.0</td>\n",
              "      <td>21.0</td>\n",
              "      <td>23.2</td>\n",
              "      <td>No</td>\n",
              "      <td>0.0</td>\n",
              "      <td>No</td>\n",
              "    </tr>\n",
              "    <tr>\n",
              "      <th>3</th>\n",
              "      <td>2008-12-04</td>\n",
              "      <td>Albury</td>\n",
              "      <td>9.2</td>\n",
              "      <td>28.0</td>\n",
              "      <td>0.0</td>\n",
              "      <td>NaN</td>\n",
              "      <td>NaN</td>\n",
              "      <td>NE</td>\n",
              "      <td>24.0</td>\n",
              "      <td>SE</td>\n",
              "      <td>E</td>\n",
              "      <td>11.0</td>\n",
              "      <td>9.0</td>\n",
              "      <td>45.0</td>\n",
              "      <td>16.0</td>\n",
              "      <td>1017.6</td>\n",
              "      <td>1012.8</td>\n",
              "      <td>NaN</td>\n",
              "      <td>NaN</td>\n",
              "      <td>18.1</td>\n",
              "      <td>26.5</td>\n",
              "      <td>No</td>\n",
              "      <td>1.0</td>\n",
              "      <td>No</td>\n",
              "    </tr>\n",
              "    <tr>\n",
              "      <th>4</th>\n",
              "      <td>2008-12-05</td>\n",
              "      <td>Albury</td>\n",
              "      <td>17.5</td>\n",
              "      <td>32.3</td>\n",
              "      <td>1.0</td>\n",
              "      <td>NaN</td>\n",
              "      <td>NaN</td>\n",
              "      <td>W</td>\n",
              "      <td>41.0</td>\n",
              "      <td>ENE</td>\n",
              "      <td>NW</td>\n",
              "      <td>7.0</td>\n",
              "      <td>20.0</td>\n",
              "      <td>82.0</td>\n",
              "      <td>33.0</td>\n",
              "      <td>1010.8</td>\n",
              "      <td>1006.0</td>\n",
              "      <td>7.0</td>\n",
              "      <td>8.0</td>\n",
              "      <td>17.8</td>\n",
              "      <td>29.7</td>\n",
              "      <td>No</td>\n",
              "      <td>0.2</td>\n",
              "      <td>No</td>\n",
              "    </tr>\n",
              "    <tr>\n",
              "      <th>5</th>\n",
              "      <td>2008-12-06</td>\n",
              "      <td>Albury</td>\n",
              "      <td>14.6</td>\n",
              "      <td>29.7</td>\n",
              "      <td>0.2</td>\n",
              "      <td>NaN</td>\n",
              "      <td>NaN</td>\n",
              "      <td>WNW</td>\n",
              "      <td>56.0</td>\n",
              "      <td>W</td>\n",
              "      <td>W</td>\n",
              "      <td>19.0</td>\n",
              "      <td>24.0</td>\n",
              "      <td>55.0</td>\n",
              "      <td>23.0</td>\n",
              "      <td>1009.2</td>\n",
              "      <td>1005.4</td>\n",
              "      <td>NaN</td>\n",
              "      <td>NaN</td>\n",
              "      <td>20.6</td>\n",
              "      <td>28.9</td>\n",
              "      <td>No</td>\n",
              "      <td>0.0</td>\n",
              "      <td>No</td>\n",
              "    </tr>\n",
              "    <tr>\n",
              "      <th>6</th>\n",
              "      <td>2008-12-07</td>\n",
              "      <td>Albury</td>\n",
              "      <td>14.3</td>\n",
              "      <td>25.0</td>\n",
              "      <td>0.0</td>\n",
              "      <td>NaN</td>\n",
              "      <td>NaN</td>\n",
              "      <td>W</td>\n",
              "      <td>50.0</td>\n",
              "      <td>SW</td>\n",
              "      <td>W</td>\n",
              "      <td>20.0</td>\n",
              "      <td>24.0</td>\n",
              "      <td>49.0</td>\n",
              "      <td>19.0</td>\n",
              "      <td>1009.6</td>\n",
              "      <td>1008.2</td>\n",
              "      <td>1.0</td>\n",
              "      <td>NaN</td>\n",
              "      <td>18.1</td>\n",
              "      <td>24.6</td>\n",
              "      <td>No</td>\n",
              "      <td>0.0</td>\n",
              "      <td>No</td>\n",
              "    </tr>\n",
              "    <tr>\n",
              "      <th>7</th>\n",
              "      <td>2008-12-08</td>\n",
              "      <td>Albury</td>\n",
              "      <td>7.7</td>\n",
              "      <td>26.7</td>\n",
              "      <td>0.0</td>\n",
              "      <td>NaN</td>\n",
              "      <td>NaN</td>\n",
              "      <td>W</td>\n",
              "      <td>35.0</td>\n",
              "      <td>SSE</td>\n",
              "      <td>W</td>\n",
              "      <td>6.0</td>\n",
              "      <td>17.0</td>\n",
              "      <td>48.0</td>\n",
              "      <td>19.0</td>\n",
              "      <td>1013.4</td>\n",
              "      <td>1010.1</td>\n",
              "      <td>NaN</td>\n",
              "      <td>NaN</td>\n",
              "      <td>16.3</td>\n",
              "      <td>25.5</td>\n",
              "      <td>No</td>\n",
              "      <td>0.0</td>\n",
              "      <td>No</td>\n",
              "    </tr>\n",
              "    <tr>\n",
              "      <th>8</th>\n",
              "      <td>2008-12-09</td>\n",
              "      <td>Albury</td>\n",
              "      <td>9.7</td>\n",
              "      <td>31.9</td>\n",
              "      <td>0.0</td>\n",
              "      <td>NaN</td>\n",
              "      <td>NaN</td>\n",
              "      <td>NNW</td>\n",
              "      <td>80.0</td>\n",
              "      <td>SE</td>\n",
              "      <td>NW</td>\n",
              "      <td>7.0</td>\n",
              "      <td>28.0</td>\n",
              "      <td>42.0</td>\n",
              "      <td>9.0</td>\n",
              "      <td>1008.9</td>\n",
              "      <td>1003.6</td>\n",
              "      <td>NaN</td>\n",
              "      <td>NaN</td>\n",
              "      <td>18.3</td>\n",
              "      <td>30.2</td>\n",
              "      <td>No</td>\n",
              "      <td>1.4</td>\n",
              "      <td>Yes</td>\n",
              "    </tr>\n",
              "    <tr>\n",
              "      <th>9</th>\n",
              "      <td>2008-12-10</td>\n",
              "      <td>Albury</td>\n",
              "      <td>13.1</td>\n",
              "      <td>30.1</td>\n",
              "      <td>1.4</td>\n",
              "      <td>NaN</td>\n",
              "      <td>NaN</td>\n",
              "      <td>W</td>\n",
              "      <td>28.0</td>\n",
              "      <td>S</td>\n",
              "      <td>SSE</td>\n",
              "      <td>15.0</td>\n",
              "      <td>11.0</td>\n",
              "      <td>58.0</td>\n",
              "      <td>27.0</td>\n",
              "      <td>1007.0</td>\n",
              "      <td>1005.7</td>\n",
              "      <td>NaN</td>\n",
              "      <td>NaN</td>\n",
              "      <td>20.1</td>\n",
              "      <td>28.2</td>\n",
              "      <td>Yes</td>\n",
              "      <td>0.0</td>\n",
              "      <td>No</td>\n",
              "    </tr>\n",
              "  </tbody>\n",
              "</table>\n",
              "</div>"
            ],
            "text/plain": [
              "         Date Location  MinTemp  ...  RainToday  RISK_MM  RainTomorrow\n",
              "0  2008-12-01   Albury     13.4  ...         No      0.0            No\n",
              "1  2008-12-02   Albury      7.4  ...         No      0.0            No\n",
              "2  2008-12-03   Albury     12.9  ...         No      0.0            No\n",
              "3  2008-12-04   Albury      9.2  ...         No      1.0            No\n",
              "4  2008-12-05   Albury     17.5  ...         No      0.2            No\n",
              "5  2008-12-06   Albury     14.6  ...         No      0.0            No\n",
              "6  2008-12-07   Albury     14.3  ...         No      0.0            No\n",
              "7  2008-12-08   Albury      7.7  ...         No      0.0            No\n",
              "8  2008-12-09   Albury      9.7  ...         No      1.4           Yes\n",
              "9  2008-12-10   Albury     13.1  ...        Yes      0.0            No\n",
              "\n",
              "[10 rows x 24 columns]"
            ]
          },
          "metadata": {
            "tags": []
          },
          "execution_count": 10
        }
      ]
    },
    {
      "cell_type": "code",
      "metadata": {
        "id": "iqNUBxmBJzja",
        "colab_type": "code",
        "outputId": "1fde97fc-bc53-4a8c-a8c3-511219973dbc",
        "colab": {
          "base_uri": "https://localhost:8080/",
          "height": 550
        }
      },
      "source": [
        "Xy_original.info()"
      ],
      "execution_count": 11,
      "outputs": [
        {
          "output_type": "stream",
          "text": [
            "<class 'pandas.core.frame.DataFrame'>\n",
            "RangeIndex: 142193 entries, 0 to 142192\n",
            "Data columns (total 24 columns):\n",
            "Date             142193 non-null object\n",
            "Location         142193 non-null object\n",
            "MinTemp          141556 non-null float64\n",
            "MaxTemp          141871 non-null float64\n",
            "Rainfall         140787 non-null float64\n",
            "Evaporation      81350 non-null float64\n",
            "Sunshine         74377 non-null float64\n",
            "WindGustDir      132863 non-null object\n",
            "WindGustSpeed    132923 non-null float64\n",
            "WindDir9am       132180 non-null object\n",
            "WindDir3pm       138415 non-null object\n",
            "WindSpeed9am     140845 non-null float64\n",
            "WindSpeed3pm     139563 non-null float64\n",
            "Humidity9am      140419 non-null float64\n",
            "Humidity3pm      138583 non-null float64\n",
            "Pressure9am      128179 non-null float64\n",
            "Pressure3pm      128212 non-null float64\n",
            "Cloud9am         88536 non-null float64\n",
            "Cloud3pm         85099 non-null float64\n",
            "Temp9am          141289 non-null float64\n",
            "Temp3pm          139467 non-null float64\n",
            "RainToday        140787 non-null object\n",
            "RISK_MM          142193 non-null float64\n",
            "RainTomorrow     142193 non-null object\n",
            "dtypes: float64(17), object(7)\n",
            "memory usage: 26.0+ MB\n"
          ],
          "name": "stdout"
        }
      ]
    },
    {
      "cell_type": "code",
      "metadata": {
        "id": "KmRslpg0Jzjl",
        "colab_type": "code",
        "outputId": "2bda7b0d-a117-4f4e-810f-dfa8951f297b",
        "colab": {
          "base_uri": "https://localhost:8080/",
          "height": 320
        }
      },
      "source": [
        "Xy_original.describe()"
      ],
      "execution_count": 12,
      "outputs": [
        {
          "output_type": "execute_result",
          "data": {
            "text/html": [
              "<div>\n",
              "<style scoped>\n",
              "    .dataframe tbody tr th:only-of-type {\n",
              "        vertical-align: middle;\n",
              "    }\n",
              "\n",
              "    .dataframe tbody tr th {\n",
              "        vertical-align: top;\n",
              "    }\n",
              "\n",
              "    .dataframe thead th {\n",
              "        text-align: right;\n",
              "    }\n",
              "</style>\n",
              "<table border=\"1\" class=\"dataframe\">\n",
              "  <thead>\n",
              "    <tr style=\"text-align: right;\">\n",
              "      <th></th>\n",
              "      <th>MinTemp</th>\n",
              "      <th>MaxTemp</th>\n",
              "      <th>Rainfall</th>\n",
              "      <th>Evaporation</th>\n",
              "      <th>Sunshine</th>\n",
              "      <th>WindGustSpeed</th>\n",
              "      <th>WindSpeed9am</th>\n",
              "      <th>WindSpeed3pm</th>\n",
              "      <th>Humidity9am</th>\n",
              "      <th>Humidity3pm</th>\n",
              "      <th>Pressure9am</th>\n",
              "      <th>Pressure3pm</th>\n",
              "      <th>Cloud9am</th>\n",
              "      <th>Cloud3pm</th>\n",
              "      <th>Temp9am</th>\n",
              "      <th>Temp3pm</th>\n",
              "      <th>RISK_MM</th>\n",
              "    </tr>\n",
              "  </thead>\n",
              "  <tbody>\n",
              "    <tr>\n",
              "      <th>count</th>\n",
              "      <td>141556.000000</td>\n",
              "      <td>141871.000000</td>\n",
              "      <td>140787.000000</td>\n",
              "      <td>81350.000000</td>\n",
              "      <td>74377.000000</td>\n",
              "      <td>132923.000000</td>\n",
              "      <td>140845.000000</td>\n",
              "      <td>139563.000000</td>\n",
              "      <td>140419.000000</td>\n",
              "      <td>138583.000000</td>\n",
              "      <td>128179.000000</td>\n",
              "      <td>128212.000000</td>\n",
              "      <td>88536.000000</td>\n",
              "      <td>85099.000000</td>\n",
              "      <td>141289.000000</td>\n",
              "      <td>139467.000000</td>\n",
              "      <td>142193.000000</td>\n",
              "    </tr>\n",
              "    <tr>\n",
              "      <th>mean</th>\n",
              "      <td>12.186400</td>\n",
              "      <td>23.226784</td>\n",
              "      <td>2.349974</td>\n",
              "      <td>5.469824</td>\n",
              "      <td>7.624853</td>\n",
              "      <td>39.984292</td>\n",
              "      <td>14.001988</td>\n",
              "      <td>18.637576</td>\n",
              "      <td>68.843810</td>\n",
              "      <td>51.482606</td>\n",
              "      <td>1017.653758</td>\n",
              "      <td>1015.258204</td>\n",
              "      <td>4.437189</td>\n",
              "      <td>4.503167</td>\n",
              "      <td>16.987509</td>\n",
              "      <td>21.687235</td>\n",
              "      <td>2.360682</td>\n",
              "    </tr>\n",
              "    <tr>\n",
              "      <th>std</th>\n",
              "      <td>6.403283</td>\n",
              "      <td>7.117618</td>\n",
              "      <td>8.465173</td>\n",
              "      <td>4.188537</td>\n",
              "      <td>3.781525</td>\n",
              "      <td>13.588801</td>\n",
              "      <td>8.893337</td>\n",
              "      <td>8.803345</td>\n",
              "      <td>19.051293</td>\n",
              "      <td>20.797772</td>\n",
              "      <td>7.105476</td>\n",
              "      <td>7.036677</td>\n",
              "      <td>2.887016</td>\n",
              "      <td>2.720633</td>\n",
              "      <td>6.492838</td>\n",
              "      <td>6.937594</td>\n",
              "      <td>8.477969</td>\n",
              "    </tr>\n",
              "    <tr>\n",
              "      <th>min</th>\n",
              "      <td>-8.500000</td>\n",
              "      <td>-4.800000</td>\n",
              "      <td>0.000000</td>\n",
              "      <td>0.000000</td>\n",
              "      <td>0.000000</td>\n",
              "      <td>6.000000</td>\n",
              "      <td>0.000000</td>\n",
              "      <td>0.000000</td>\n",
              "      <td>0.000000</td>\n",
              "      <td>0.000000</td>\n",
              "      <td>980.500000</td>\n",
              "      <td>977.100000</td>\n",
              "      <td>0.000000</td>\n",
              "      <td>0.000000</td>\n",
              "      <td>-7.200000</td>\n",
              "      <td>-5.400000</td>\n",
              "      <td>0.000000</td>\n",
              "    </tr>\n",
              "    <tr>\n",
              "      <th>25%</th>\n",
              "      <td>7.600000</td>\n",
              "      <td>17.900000</td>\n",
              "      <td>0.000000</td>\n",
              "      <td>2.600000</td>\n",
              "      <td>4.900000</td>\n",
              "      <td>31.000000</td>\n",
              "      <td>7.000000</td>\n",
              "      <td>13.000000</td>\n",
              "      <td>57.000000</td>\n",
              "      <td>37.000000</td>\n",
              "      <td>1012.900000</td>\n",
              "      <td>1010.400000</td>\n",
              "      <td>1.000000</td>\n",
              "      <td>2.000000</td>\n",
              "      <td>12.300000</td>\n",
              "      <td>16.600000</td>\n",
              "      <td>0.000000</td>\n",
              "    </tr>\n",
              "    <tr>\n",
              "      <th>50%</th>\n",
              "      <td>12.000000</td>\n",
              "      <td>22.600000</td>\n",
              "      <td>0.000000</td>\n",
              "      <td>4.800000</td>\n",
              "      <td>8.500000</td>\n",
              "      <td>39.000000</td>\n",
              "      <td>13.000000</td>\n",
              "      <td>19.000000</td>\n",
              "      <td>70.000000</td>\n",
              "      <td>52.000000</td>\n",
              "      <td>1017.600000</td>\n",
              "      <td>1015.200000</td>\n",
              "      <td>5.000000</td>\n",
              "      <td>5.000000</td>\n",
              "      <td>16.700000</td>\n",
              "      <td>21.100000</td>\n",
              "      <td>0.000000</td>\n",
              "    </tr>\n",
              "    <tr>\n",
              "      <th>75%</th>\n",
              "      <td>16.800000</td>\n",
              "      <td>28.200000</td>\n",
              "      <td>0.800000</td>\n",
              "      <td>7.400000</td>\n",
              "      <td>10.600000</td>\n",
              "      <td>48.000000</td>\n",
              "      <td>19.000000</td>\n",
              "      <td>24.000000</td>\n",
              "      <td>83.000000</td>\n",
              "      <td>66.000000</td>\n",
              "      <td>1022.400000</td>\n",
              "      <td>1020.000000</td>\n",
              "      <td>7.000000</td>\n",
              "      <td>7.000000</td>\n",
              "      <td>21.600000</td>\n",
              "      <td>26.400000</td>\n",
              "      <td>0.800000</td>\n",
              "    </tr>\n",
              "    <tr>\n",
              "      <th>max</th>\n",
              "      <td>33.900000</td>\n",
              "      <td>48.100000</td>\n",
              "      <td>371.000000</td>\n",
              "      <td>145.000000</td>\n",
              "      <td>14.500000</td>\n",
              "      <td>135.000000</td>\n",
              "      <td>130.000000</td>\n",
              "      <td>87.000000</td>\n",
              "      <td>100.000000</td>\n",
              "      <td>100.000000</td>\n",
              "      <td>1041.000000</td>\n",
              "      <td>1039.600000</td>\n",
              "      <td>9.000000</td>\n",
              "      <td>9.000000</td>\n",
              "      <td>40.200000</td>\n",
              "      <td>46.700000</td>\n",
              "      <td>371.000000</td>\n",
              "    </tr>\n",
              "  </tbody>\n",
              "</table>\n",
              "</div>"
            ],
            "text/plain": [
              "             MinTemp        MaxTemp  ...        Temp3pm        RISK_MM\n",
              "count  141556.000000  141871.000000  ...  139467.000000  142193.000000\n",
              "mean       12.186400      23.226784  ...      21.687235       2.360682\n",
              "std         6.403283       7.117618  ...       6.937594       8.477969\n",
              "min        -8.500000      -4.800000  ...      -5.400000       0.000000\n",
              "25%         7.600000      17.900000  ...      16.600000       0.000000\n",
              "50%        12.000000      22.600000  ...      21.100000       0.000000\n",
              "75%        16.800000      28.200000  ...      26.400000       0.800000\n",
              "max        33.900000      48.100000  ...      46.700000     371.000000\n",
              "\n",
              "[8 rows x 17 columns]"
            ]
          },
          "metadata": {
            "tags": []
          },
          "execution_count": 12
        }
      ]
    },
    {
      "cell_type": "code",
      "metadata": {
        "id": "HS7-oGZcJzjs",
        "colab_type": "code",
        "outputId": "79e9a9ed-fbf5-4bac-8ca2-c14ea55eb63d",
        "colab": {
          "base_uri": "https://localhost:8080/",
          "height": 476
        }
      },
      "source": [
        "Xy_original.isnull().sum()"
      ],
      "execution_count": 13,
      "outputs": [
        {
          "output_type": "execute_result",
          "data": {
            "text/plain": [
              "Date                 0\n",
              "Location             0\n",
              "MinTemp            637\n",
              "MaxTemp            322\n",
              "Rainfall          1406\n",
              "Evaporation      60843\n",
              "Sunshine         67816\n",
              "WindGustDir       9330\n",
              "WindGustSpeed     9270\n",
              "WindDir9am       10013\n",
              "WindDir3pm        3778\n",
              "WindSpeed9am      1348\n",
              "WindSpeed3pm      2630\n",
              "Humidity9am       1774\n",
              "Humidity3pm       3610\n",
              "Pressure9am      14014\n",
              "Pressure3pm      13981\n",
              "Cloud9am         53657\n",
              "Cloud3pm         57094\n",
              "Temp9am            904\n",
              "Temp3pm           2726\n",
              "RainToday         1406\n",
              "RISK_MM              0\n",
              "RainTomorrow         0\n",
              "dtype: int64"
            ]
          },
          "metadata": {
            "tags": []
          },
          "execution_count": 13
        }
      ]
    },
    {
      "cell_type": "code",
      "metadata": {
        "id": "lB3xOOY5Jzj2",
        "colab_type": "code",
        "outputId": "cb4a9558-7067-44a1-e525-38942354a2cd",
        "colab": {
          "base_uri": "https://localhost:8080/",
          "height": 35
        }
      },
      "source": [
        "print('Total number of NaN in the dataframe: ', Xy_original.isnull().sum().sum())"
      ],
      "execution_count": 14,
      "outputs": [
        {
          "output_type": "stream",
          "text": [
            "Total number of NaN in the dataframe:  316559\n"
          ],
          "name": "stdout"
        }
      ]
    },
    {
      "cell_type": "markdown",
      "metadata": {
        "id": "CPvZVca_Jzj8",
        "colab_type": "text"
      },
      "source": [
        "### 1.d) Data Cleaning"
      ]
    },
    {
      "cell_type": "code",
      "metadata": {
        "id": "GZp8GdZbJzkA",
        "colab_type": "code",
        "outputId": "3241ff2b-ed3e-4eb3-dc4c-14e1ae4ea147",
        "colab": {
          "base_uri": "https://localhost:8080/",
          "height": 383
        }
      },
      "source": [
        "# Standardize the class column to the name of targetVar if required\n",
        "# Xy_original = Xy_original.rename(columns={'RainTomorrow': 'targetVar'})\n",
        "\n",
        "# Dropping features\n",
        "Xy_original.drop(columns=['Date','RISK_MM'], inplace=True)\n",
        "\n",
        "# Impute missing values\n",
        "Xy_original['MinTemp'].fillna(value=Xy_original['MinTemp'].median(), inplace=True)\n",
        "Xy_original['MaxTemp'].fillna(value=Xy_original['MaxTemp'].median(), inplace=True)\n",
        "Xy_original['Rainfall'].fillna(0.0, inplace=True)\n",
        "Xy_original['Evaporation'].fillna(0.0, inplace=True)\n",
        "Xy_original['Sunshine'].fillna(value=Xy_original['Sunshine'].median(), inplace=True)\n",
        "Xy_original['WindGustDir'].fillna(\"UNKNOWN\", inplace=True)\n",
        "Xy_original['WindGustSpeed'].fillna(0, inplace=True)\n",
        "Xy_original['WindDir9am'].fillna(\"UNKNOWN\", inplace=True)\n",
        "Xy_original['WindDir3pm'].fillna(\"UNKNOWN\", inplace=True)\n",
        "Xy_original['WindSpeed9am'].fillna(0, inplace=True)\n",
        "Xy_original['WindSpeed3pm'].fillna(0, inplace=True)\n",
        "Xy_original['Humidity9am'].fillna(value=Xy_original['Humidity9am'].median(), inplace=True)\n",
        "Xy_original['Humidity3pm'].fillna(value=Xy_original['Humidity3pm'].median(), inplace=True)\n",
        "Xy_original['Pressure9am'].fillna(value=Xy_original['Pressure9am'].median(), inplace=True)\n",
        "Xy_original['Pressure3pm'].fillna(value=Xy_original['Pressure3pm'].median(), inplace=True)\n",
        "Xy_original['Cloud9am'].fillna(value=Xy_original['Cloud9am'].median(), inplace=True)\n",
        "Xy_original['Cloud3pm'].fillna(value=Xy_original['Cloud3pm'].median(), inplace=True)\n",
        "Xy_original['Temp9am'].fillna(value=Xy_original['Temp9am'].median(), inplace=True)\n",
        "Xy_original['Temp3pm'].fillna(value=Xy_original['Temp3pm'].median(), inplace=True)\n",
        "Xy_original['RainToday'].fillna(\"No\", inplace=True)\n",
        "\n",
        "# Convert columns from one data type to another\n",
        "# Xy_original.column_name = Xy_original.column_name.astype('int')\n",
        "Xy_original['Location'] = Xy_original['Location'].astype('category')\n",
        "Xy_original['WindGustDir'] = Xy_original['WindGustDir'].astype('category')\n",
        "Xy_original['WindDir9am'] = Xy_original['WindDir9am'].astype('category')\n",
        "Xy_original['WindDir3pm'] = Xy_original['WindDir3pm'].astype('category')\n",
        "Xy_original['RainToday'] = Xy_original['RainToday'].astype('category')\n",
        "\n",
        "# Convert features with Yes/No levels into categorical feature of 1/0\n",
        "def reClassRainTomorrow(target):\n",
        "    if (target == 'Yes'): return 1\n",
        "    else: return 0\n",
        "Xy_original['targetVar'] = Xy_original['RainTomorrow'].apply(reClassRainTomorrow)\n",
        "Xy_original.drop(columns=['RainTomorrow'], inplace=True)\n",
        "\n",
        "# Take a peek at the dataframe after cleaning\n",
        "Xy_original.head(10)"
      ],
      "execution_count": 15,
      "outputs": [
        {
          "output_type": "execute_result",
          "data": {
            "text/html": [
              "<div>\n",
              "<style scoped>\n",
              "    .dataframe tbody tr th:only-of-type {\n",
              "        vertical-align: middle;\n",
              "    }\n",
              "\n",
              "    .dataframe tbody tr th {\n",
              "        vertical-align: top;\n",
              "    }\n",
              "\n",
              "    .dataframe thead th {\n",
              "        text-align: right;\n",
              "    }\n",
              "</style>\n",
              "<table border=\"1\" class=\"dataframe\">\n",
              "  <thead>\n",
              "    <tr style=\"text-align: right;\">\n",
              "      <th></th>\n",
              "      <th>Location</th>\n",
              "      <th>MinTemp</th>\n",
              "      <th>MaxTemp</th>\n",
              "      <th>Rainfall</th>\n",
              "      <th>Evaporation</th>\n",
              "      <th>Sunshine</th>\n",
              "      <th>WindGustDir</th>\n",
              "      <th>WindGustSpeed</th>\n",
              "      <th>WindDir9am</th>\n",
              "      <th>WindDir3pm</th>\n",
              "      <th>WindSpeed9am</th>\n",
              "      <th>WindSpeed3pm</th>\n",
              "      <th>Humidity9am</th>\n",
              "      <th>Humidity3pm</th>\n",
              "      <th>Pressure9am</th>\n",
              "      <th>Pressure3pm</th>\n",
              "      <th>Cloud9am</th>\n",
              "      <th>Cloud3pm</th>\n",
              "      <th>Temp9am</th>\n",
              "      <th>Temp3pm</th>\n",
              "      <th>RainToday</th>\n",
              "      <th>targetVar</th>\n",
              "    </tr>\n",
              "  </thead>\n",
              "  <tbody>\n",
              "    <tr>\n",
              "      <th>0</th>\n",
              "      <td>Albury</td>\n",
              "      <td>13.4</td>\n",
              "      <td>22.9</td>\n",
              "      <td>0.6</td>\n",
              "      <td>0.0</td>\n",
              "      <td>8.5</td>\n",
              "      <td>W</td>\n",
              "      <td>44.0</td>\n",
              "      <td>W</td>\n",
              "      <td>WNW</td>\n",
              "      <td>20.0</td>\n",
              "      <td>24.0</td>\n",
              "      <td>71.0</td>\n",
              "      <td>22.0</td>\n",
              "      <td>1007.7</td>\n",
              "      <td>1007.1</td>\n",
              "      <td>8.0</td>\n",
              "      <td>5.0</td>\n",
              "      <td>16.9</td>\n",
              "      <td>21.8</td>\n",
              "      <td>No</td>\n",
              "      <td>0</td>\n",
              "    </tr>\n",
              "    <tr>\n",
              "      <th>1</th>\n",
              "      <td>Albury</td>\n",
              "      <td>7.4</td>\n",
              "      <td>25.1</td>\n",
              "      <td>0.0</td>\n",
              "      <td>0.0</td>\n",
              "      <td>8.5</td>\n",
              "      <td>WNW</td>\n",
              "      <td>44.0</td>\n",
              "      <td>NNW</td>\n",
              "      <td>WSW</td>\n",
              "      <td>4.0</td>\n",
              "      <td>22.0</td>\n",
              "      <td>44.0</td>\n",
              "      <td>25.0</td>\n",
              "      <td>1010.6</td>\n",
              "      <td>1007.8</td>\n",
              "      <td>5.0</td>\n",
              "      <td>5.0</td>\n",
              "      <td>17.2</td>\n",
              "      <td>24.3</td>\n",
              "      <td>No</td>\n",
              "      <td>0</td>\n",
              "    </tr>\n",
              "    <tr>\n",
              "      <th>2</th>\n",
              "      <td>Albury</td>\n",
              "      <td>12.9</td>\n",
              "      <td>25.7</td>\n",
              "      <td>0.0</td>\n",
              "      <td>0.0</td>\n",
              "      <td>8.5</td>\n",
              "      <td>WSW</td>\n",
              "      <td>46.0</td>\n",
              "      <td>W</td>\n",
              "      <td>WSW</td>\n",
              "      <td>19.0</td>\n",
              "      <td>26.0</td>\n",
              "      <td>38.0</td>\n",
              "      <td>30.0</td>\n",
              "      <td>1007.6</td>\n",
              "      <td>1008.7</td>\n",
              "      <td>5.0</td>\n",
              "      <td>2.0</td>\n",
              "      <td>21.0</td>\n",
              "      <td>23.2</td>\n",
              "      <td>No</td>\n",
              "      <td>0</td>\n",
              "    </tr>\n",
              "    <tr>\n",
              "      <th>3</th>\n",
              "      <td>Albury</td>\n",
              "      <td>9.2</td>\n",
              "      <td>28.0</td>\n",
              "      <td>0.0</td>\n",
              "      <td>0.0</td>\n",
              "      <td>8.5</td>\n",
              "      <td>NE</td>\n",
              "      <td>24.0</td>\n",
              "      <td>SE</td>\n",
              "      <td>E</td>\n",
              "      <td>11.0</td>\n",
              "      <td>9.0</td>\n",
              "      <td>45.0</td>\n",
              "      <td>16.0</td>\n",
              "      <td>1017.6</td>\n",
              "      <td>1012.8</td>\n",
              "      <td>5.0</td>\n",
              "      <td>5.0</td>\n",
              "      <td>18.1</td>\n",
              "      <td>26.5</td>\n",
              "      <td>No</td>\n",
              "      <td>0</td>\n",
              "    </tr>\n",
              "    <tr>\n",
              "      <th>4</th>\n",
              "      <td>Albury</td>\n",
              "      <td>17.5</td>\n",
              "      <td>32.3</td>\n",
              "      <td>1.0</td>\n",
              "      <td>0.0</td>\n",
              "      <td>8.5</td>\n",
              "      <td>W</td>\n",
              "      <td>41.0</td>\n",
              "      <td>ENE</td>\n",
              "      <td>NW</td>\n",
              "      <td>7.0</td>\n",
              "      <td>20.0</td>\n",
              "      <td>82.0</td>\n",
              "      <td>33.0</td>\n",
              "      <td>1010.8</td>\n",
              "      <td>1006.0</td>\n",
              "      <td>7.0</td>\n",
              "      <td>8.0</td>\n",
              "      <td>17.8</td>\n",
              "      <td>29.7</td>\n",
              "      <td>No</td>\n",
              "      <td>0</td>\n",
              "    </tr>\n",
              "    <tr>\n",
              "      <th>5</th>\n",
              "      <td>Albury</td>\n",
              "      <td>14.6</td>\n",
              "      <td>29.7</td>\n",
              "      <td>0.2</td>\n",
              "      <td>0.0</td>\n",
              "      <td>8.5</td>\n",
              "      <td>WNW</td>\n",
              "      <td>56.0</td>\n",
              "      <td>W</td>\n",
              "      <td>W</td>\n",
              "      <td>19.0</td>\n",
              "      <td>24.0</td>\n",
              "      <td>55.0</td>\n",
              "      <td>23.0</td>\n",
              "      <td>1009.2</td>\n",
              "      <td>1005.4</td>\n",
              "      <td>5.0</td>\n",
              "      <td>5.0</td>\n",
              "      <td>20.6</td>\n",
              "      <td>28.9</td>\n",
              "      <td>No</td>\n",
              "      <td>0</td>\n",
              "    </tr>\n",
              "    <tr>\n",
              "      <th>6</th>\n",
              "      <td>Albury</td>\n",
              "      <td>14.3</td>\n",
              "      <td>25.0</td>\n",
              "      <td>0.0</td>\n",
              "      <td>0.0</td>\n",
              "      <td>8.5</td>\n",
              "      <td>W</td>\n",
              "      <td>50.0</td>\n",
              "      <td>SW</td>\n",
              "      <td>W</td>\n",
              "      <td>20.0</td>\n",
              "      <td>24.0</td>\n",
              "      <td>49.0</td>\n",
              "      <td>19.0</td>\n",
              "      <td>1009.6</td>\n",
              "      <td>1008.2</td>\n",
              "      <td>1.0</td>\n",
              "      <td>5.0</td>\n",
              "      <td>18.1</td>\n",
              "      <td>24.6</td>\n",
              "      <td>No</td>\n",
              "      <td>0</td>\n",
              "    </tr>\n",
              "    <tr>\n",
              "      <th>7</th>\n",
              "      <td>Albury</td>\n",
              "      <td>7.7</td>\n",
              "      <td>26.7</td>\n",
              "      <td>0.0</td>\n",
              "      <td>0.0</td>\n",
              "      <td>8.5</td>\n",
              "      <td>W</td>\n",
              "      <td>35.0</td>\n",
              "      <td>SSE</td>\n",
              "      <td>W</td>\n",
              "      <td>6.0</td>\n",
              "      <td>17.0</td>\n",
              "      <td>48.0</td>\n",
              "      <td>19.0</td>\n",
              "      <td>1013.4</td>\n",
              "      <td>1010.1</td>\n",
              "      <td>5.0</td>\n",
              "      <td>5.0</td>\n",
              "      <td>16.3</td>\n",
              "      <td>25.5</td>\n",
              "      <td>No</td>\n",
              "      <td>0</td>\n",
              "    </tr>\n",
              "    <tr>\n",
              "      <th>8</th>\n",
              "      <td>Albury</td>\n",
              "      <td>9.7</td>\n",
              "      <td>31.9</td>\n",
              "      <td>0.0</td>\n",
              "      <td>0.0</td>\n",
              "      <td>8.5</td>\n",
              "      <td>NNW</td>\n",
              "      <td>80.0</td>\n",
              "      <td>SE</td>\n",
              "      <td>NW</td>\n",
              "      <td>7.0</td>\n",
              "      <td>28.0</td>\n",
              "      <td>42.0</td>\n",
              "      <td>9.0</td>\n",
              "      <td>1008.9</td>\n",
              "      <td>1003.6</td>\n",
              "      <td>5.0</td>\n",
              "      <td>5.0</td>\n",
              "      <td>18.3</td>\n",
              "      <td>30.2</td>\n",
              "      <td>No</td>\n",
              "      <td>1</td>\n",
              "    </tr>\n",
              "    <tr>\n",
              "      <th>9</th>\n",
              "      <td>Albury</td>\n",
              "      <td>13.1</td>\n",
              "      <td>30.1</td>\n",
              "      <td>1.4</td>\n",
              "      <td>0.0</td>\n",
              "      <td>8.5</td>\n",
              "      <td>W</td>\n",
              "      <td>28.0</td>\n",
              "      <td>S</td>\n",
              "      <td>SSE</td>\n",
              "      <td>15.0</td>\n",
              "      <td>11.0</td>\n",
              "      <td>58.0</td>\n",
              "      <td>27.0</td>\n",
              "      <td>1007.0</td>\n",
              "      <td>1005.7</td>\n",
              "      <td>5.0</td>\n",
              "      <td>5.0</td>\n",
              "      <td>20.1</td>\n",
              "      <td>28.2</td>\n",
              "      <td>Yes</td>\n",
              "      <td>0</td>\n",
              "    </tr>\n",
              "  </tbody>\n",
              "</table>\n",
              "</div>"
            ],
            "text/plain": [
              "  Location  MinTemp  MaxTemp  Rainfall  ...  Temp9am  Temp3pm RainToday  targetVar\n",
              "0   Albury     13.4     22.9       0.6  ...     16.9     21.8        No          0\n",
              "1   Albury      7.4     25.1       0.0  ...     17.2     24.3        No          0\n",
              "2   Albury     12.9     25.7       0.0  ...     21.0     23.2        No          0\n",
              "3   Albury      9.2     28.0       0.0  ...     18.1     26.5        No          0\n",
              "4   Albury     17.5     32.3       1.0  ...     17.8     29.7        No          0\n",
              "5   Albury     14.6     29.7       0.2  ...     20.6     28.9        No          0\n",
              "6   Albury     14.3     25.0       0.0  ...     18.1     24.6        No          0\n",
              "7   Albury      7.7     26.7       0.0  ...     16.3     25.5        No          0\n",
              "8   Albury      9.7     31.9       0.0  ...     18.3     30.2        No          1\n",
              "9   Albury     13.1     30.1       1.4  ...     20.1     28.2       Yes          0\n",
              "\n",
              "[10 rows x 22 columns]"
            ]
          },
          "metadata": {
            "tags": []
          },
          "execution_count": 15
        }
      ]
    },
    {
      "cell_type": "code",
      "metadata": {
        "id": "fM5O4fSSJzkH",
        "colab_type": "code",
        "outputId": "ea806506-266b-4e2b-e2a3-181bce65dcd8",
        "colab": {
          "base_uri": "https://localhost:8080/",
          "height": 513
        }
      },
      "source": [
        "Xy_original.info()"
      ],
      "execution_count": 16,
      "outputs": [
        {
          "output_type": "stream",
          "text": [
            "<class 'pandas.core.frame.DataFrame'>\n",
            "RangeIndex: 142193 entries, 0 to 142192\n",
            "Data columns (total 22 columns):\n",
            "Location         142193 non-null category\n",
            "MinTemp          142193 non-null float64\n",
            "MaxTemp          142193 non-null float64\n",
            "Rainfall         142193 non-null float64\n",
            "Evaporation      142193 non-null float64\n",
            "Sunshine         142193 non-null float64\n",
            "WindGustDir      142193 non-null category\n",
            "WindGustSpeed    142193 non-null float64\n",
            "WindDir9am       142193 non-null category\n",
            "WindDir3pm       142193 non-null category\n",
            "WindSpeed9am     142193 non-null float64\n",
            "WindSpeed3pm     142193 non-null float64\n",
            "Humidity9am      142193 non-null float64\n",
            "Humidity3pm      142193 non-null float64\n",
            "Pressure9am      142193 non-null float64\n",
            "Pressure3pm      142193 non-null float64\n",
            "Cloud9am         142193 non-null float64\n",
            "Cloud3pm         142193 non-null float64\n",
            "Temp9am          142193 non-null float64\n",
            "Temp3pm          142193 non-null float64\n",
            "RainToday        142193 non-null category\n",
            "targetVar        142193 non-null int64\n",
            "dtypes: category(5), float64(16), int64(1)\n",
            "memory usage: 19.1 MB\n"
          ],
          "name": "stdout"
        }
      ]
    },
    {
      "cell_type": "code",
      "metadata": {
        "id": "4w6Ya_6JJzkN",
        "colab_type": "code",
        "outputId": "b487e404-b758-477c-e72f-58f2b7b39602",
        "colab": {
          "base_uri": "https://localhost:8080/",
          "height": 320
        }
      },
      "source": [
        "Xy_original.describe()"
      ],
      "execution_count": 17,
      "outputs": [
        {
          "output_type": "execute_result",
          "data": {
            "text/html": [
              "<div>\n",
              "<style scoped>\n",
              "    .dataframe tbody tr th:only-of-type {\n",
              "        vertical-align: middle;\n",
              "    }\n",
              "\n",
              "    .dataframe tbody tr th {\n",
              "        vertical-align: top;\n",
              "    }\n",
              "\n",
              "    .dataframe thead th {\n",
              "        text-align: right;\n",
              "    }\n",
              "</style>\n",
              "<table border=\"1\" class=\"dataframe\">\n",
              "  <thead>\n",
              "    <tr style=\"text-align: right;\">\n",
              "      <th></th>\n",
              "      <th>MinTemp</th>\n",
              "      <th>MaxTemp</th>\n",
              "      <th>Rainfall</th>\n",
              "      <th>Evaporation</th>\n",
              "      <th>Sunshine</th>\n",
              "      <th>WindGustSpeed</th>\n",
              "      <th>WindSpeed9am</th>\n",
              "      <th>WindSpeed3pm</th>\n",
              "      <th>Humidity9am</th>\n",
              "      <th>Humidity3pm</th>\n",
              "      <th>Pressure9am</th>\n",
              "      <th>Pressure3pm</th>\n",
              "      <th>Cloud9am</th>\n",
              "      <th>Cloud3pm</th>\n",
              "      <th>Temp9am</th>\n",
              "      <th>Temp3pm</th>\n",
              "      <th>targetVar</th>\n",
              "    </tr>\n",
              "  </thead>\n",
              "  <tbody>\n",
              "    <tr>\n",
              "      <th>count</th>\n",
              "      <td>142193.000000</td>\n",
              "      <td>142193.000000</td>\n",
              "      <td>142193.000000</td>\n",
              "      <td>142193.000000</td>\n",
              "      <td>142193.000000</td>\n",
              "      <td>142193.000000</td>\n",
              "      <td>142193.000000</td>\n",
              "      <td>142193.000000</td>\n",
              "      <td>142193.000000</td>\n",
              "      <td>142193.000000</td>\n",
              "      <td>142193.000000</td>\n",
              "      <td>142193.000000</td>\n",
              "      <td>142193.000000</td>\n",
              "      <td>142193.000000</td>\n",
              "      <td>142193.000000</td>\n",
              "      <td>142193.000000</td>\n",
              "      <td>142193.000000</td>\n",
              "    </tr>\n",
              "    <tr>\n",
              "      <th>mean</th>\n",
              "      <td>12.185565</td>\n",
              "      <td>23.225365</td>\n",
              "      <td>2.326738</td>\n",
              "      <td>3.129340</td>\n",
              "      <td>8.042236</td>\n",
              "      <td>37.377592</td>\n",
              "      <td>13.869248</td>\n",
              "      <td>18.292855</td>\n",
              "      <td>68.858235</td>\n",
              "      <td>51.495742</td>\n",
              "      <td>1017.648460</td>\n",
              "      <td>1015.252481</td>\n",
              "      <td>4.649568</td>\n",
              "      <td>4.702658</td>\n",
              "      <td>16.985681</td>\n",
              "      <td>21.675977</td>\n",
              "      <td>0.224181</td>\n",
              "    </tr>\n",
              "    <tr>\n",
              "      <th>std</th>\n",
              "      <td>6.388936</td>\n",
              "      <td>7.109617</td>\n",
              "      <td>8.426426</td>\n",
              "      <td>4.166674</td>\n",
              "      <td>2.769638</td>\n",
              "      <td>16.433198</td>\n",
              "      <td>8.954477</td>\n",
              "      <td>9.075870</td>\n",
              "      <td>18.932512</td>\n",
              "      <td>20.532227</td>\n",
              "      <td>6.746267</td>\n",
              "      <td>6.681810</td>\n",
              "      <td>2.294357</td>\n",
              "      <td>2.118753</td>\n",
              "      <td>6.472206</td>\n",
              "      <td>6.871243</td>\n",
              "      <td>0.417043</td>\n",
              "    </tr>\n",
              "    <tr>\n",
              "      <th>min</th>\n",
              "      <td>-8.500000</td>\n",
              "      <td>-4.800000</td>\n",
              "      <td>0.000000</td>\n",
              "      <td>0.000000</td>\n",
              "      <td>0.000000</td>\n",
              "      <td>0.000000</td>\n",
              "      <td>0.000000</td>\n",
              "      <td>0.000000</td>\n",
              "      <td>0.000000</td>\n",
              "      <td>0.000000</td>\n",
              "      <td>980.500000</td>\n",
              "      <td>977.100000</td>\n",
              "      <td>0.000000</td>\n",
              "      <td>0.000000</td>\n",
              "      <td>-7.200000</td>\n",
              "      <td>-5.400000</td>\n",
              "      <td>0.000000</td>\n",
              "    </tr>\n",
              "    <tr>\n",
              "      <th>25%</th>\n",
              "      <td>7.600000</td>\n",
              "      <td>17.900000</td>\n",
              "      <td>0.000000</td>\n",
              "      <td>0.000000</td>\n",
              "      <td>8.200000</td>\n",
              "      <td>30.000000</td>\n",
              "      <td>7.000000</td>\n",
              "      <td>11.000000</td>\n",
              "      <td>57.000000</td>\n",
              "      <td>37.000000</td>\n",
              "      <td>1013.500000</td>\n",
              "      <td>1011.000000</td>\n",
              "      <td>3.000000</td>\n",
              "      <td>4.000000</td>\n",
              "      <td>12.300000</td>\n",
              "      <td>16.700000</td>\n",
              "      <td>0.000000</td>\n",
              "    </tr>\n",
              "    <tr>\n",
              "      <th>50%</th>\n",
              "      <td>12.000000</td>\n",
              "      <td>22.600000</td>\n",
              "      <td>0.000000</td>\n",
              "      <td>1.600000</td>\n",
              "      <td>8.500000</td>\n",
              "      <td>37.000000</td>\n",
              "      <td>13.000000</td>\n",
              "      <td>17.000000</td>\n",
              "      <td>70.000000</td>\n",
              "      <td>52.000000</td>\n",
              "      <td>1017.600000</td>\n",
              "      <td>1015.200000</td>\n",
              "      <td>5.000000</td>\n",
              "      <td>5.000000</td>\n",
              "      <td>16.700000</td>\n",
              "      <td>21.100000</td>\n",
              "      <td>0.000000</td>\n",
              "    </tr>\n",
              "    <tr>\n",
              "      <th>75%</th>\n",
              "      <td>16.800000</td>\n",
              "      <td>28.200000</td>\n",
              "      <td>0.600000</td>\n",
              "      <td>5.400000</td>\n",
              "      <td>8.700000</td>\n",
              "      <td>46.000000</td>\n",
              "      <td>19.000000</td>\n",
              "      <td>24.000000</td>\n",
              "      <td>83.000000</td>\n",
              "      <td>65.000000</td>\n",
              "      <td>1021.800000</td>\n",
              "      <td>1019.400000</td>\n",
              "      <td>6.000000</td>\n",
              "      <td>6.000000</td>\n",
              "      <td>21.500000</td>\n",
              "      <td>26.300000</td>\n",
              "      <td>0.000000</td>\n",
              "    </tr>\n",
              "    <tr>\n",
              "      <th>max</th>\n",
              "      <td>33.900000</td>\n",
              "      <td>48.100000</td>\n",
              "      <td>371.000000</td>\n",
              "      <td>145.000000</td>\n",
              "      <td>14.500000</td>\n",
              "      <td>135.000000</td>\n",
              "      <td>130.000000</td>\n",
              "      <td>87.000000</td>\n",
              "      <td>100.000000</td>\n",
              "      <td>100.000000</td>\n",
              "      <td>1041.000000</td>\n",
              "      <td>1039.600000</td>\n",
              "      <td>9.000000</td>\n",
              "      <td>9.000000</td>\n",
              "      <td>40.200000</td>\n",
              "      <td>46.700000</td>\n",
              "      <td>1.000000</td>\n",
              "    </tr>\n",
              "  </tbody>\n",
              "</table>\n",
              "</div>"
            ],
            "text/plain": [
              "             MinTemp        MaxTemp  ...        Temp3pm      targetVar\n",
              "count  142193.000000  142193.000000  ...  142193.000000  142193.000000\n",
              "mean       12.185565      23.225365  ...      21.675977       0.224181\n",
              "std         6.388936       7.109617  ...       6.871243       0.417043\n",
              "min        -8.500000      -4.800000  ...      -5.400000       0.000000\n",
              "25%         7.600000      17.900000  ...      16.700000       0.000000\n",
              "50%        12.000000      22.600000  ...      21.100000       0.000000\n",
              "75%        16.800000      28.200000  ...      26.300000       0.000000\n",
              "max        33.900000      48.100000  ...      46.700000       1.000000\n",
              "\n",
              "[8 rows x 17 columns]"
            ]
          },
          "metadata": {
            "tags": []
          },
          "execution_count": 17
        }
      ]
    },
    {
      "cell_type": "code",
      "metadata": {
        "id": "db9dohFeJzkV",
        "colab_type": "code",
        "outputId": "1e231685-8ac1-4d52-a41d-750789ae8427",
        "colab": {
          "base_uri": "https://localhost:8080/",
          "height": 439
        }
      },
      "source": [
        "Xy_original.isnull().sum()"
      ],
      "execution_count": 18,
      "outputs": [
        {
          "output_type": "execute_result",
          "data": {
            "text/plain": [
              "Location         0\n",
              "MinTemp          0\n",
              "MaxTemp          0\n",
              "Rainfall         0\n",
              "Evaporation      0\n",
              "Sunshine         0\n",
              "WindGustDir      0\n",
              "WindGustSpeed    0\n",
              "WindDir9am       0\n",
              "WindDir3pm       0\n",
              "WindSpeed9am     0\n",
              "WindSpeed3pm     0\n",
              "Humidity9am      0\n",
              "Humidity3pm      0\n",
              "Pressure9am      0\n",
              "Pressure3pm      0\n",
              "Cloud9am         0\n",
              "Cloud3pm         0\n",
              "Temp9am          0\n",
              "Temp3pm          0\n",
              "RainToday        0\n",
              "targetVar        0\n",
              "dtype: int64"
            ]
          },
          "metadata": {
            "tags": []
          },
          "execution_count": 18
        }
      ]
    },
    {
      "cell_type": "code",
      "metadata": {
        "id": "YNTUEgEIJzkb",
        "colab_type": "code",
        "outputId": "f2e1aba5-dfdd-4ef3-acee-e191b680b16f",
        "colab": {
          "base_uri": "https://localhost:8080/",
          "height": 35
        }
      },
      "source": [
        "print('Total number of NaN in the dataframe: ', Xy_original.isnull().sum().sum())"
      ],
      "execution_count": 19,
      "outputs": [
        {
          "output_type": "stream",
          "text": [
            "Total number of NaN in the dataframe:  0\n"
          ],
          "name": "stdout"
        }
      ]
    },
    {
      "cell_type": "markdown",
      "metadata": {
        "id": "3ipb-u1ZJzkj",
        "colab_type": "text"
      },
      "source": [
        "### 1.e) Splitting Data into Attribute-only and Target-only Sets"
      ]
    },
    {
      "cell_type": "code",
      "metadata": {
        "id": "HOpZmDiKJzkl",
        "colab_type": "code",
        "colab": {}
      },
      "source": [
        "# Use variable totCol to hold the number of columns in the dataframe\n",
        "totCol = len(Xy_original.columns)\n",
        "\n",
        "# Set up variable totAttr for the total number of attribute columns\n",
        "totAttr = totCol-1\n",
        "\n",
        "# targetCol variable indicates the column location of the target/class variable\n",
        "# If the first column, set targetCol to 1. If the last column, set targetCol to totCol\n",
        "# If (targetCol <> 1) and (targetCol <> totCol), be aware when slicing up the dataframes for visualization\n",
        "targetCol = totCol"
      ],
      "execution_count": 0,
      "outputs": []
    },
    {
      "cell_type": "code",
      "metadata": {
        "id": "e4KkQgPmJzkt",
        "colab_type": "code",
        "outputId": "83e24bda-4e3e-4002-ce4a-3f2a235d2b20",
        "colab": {
          "base_uri": "https://localhost:8080/",
          "height": 35
        }
      },
      "source": [
        "# We create attribute-only and target-only datasets (X_original and y_original)\n",
        "# for various visualization and cleaning/transformation operations\n",
        "\n",
        "if targetCol == totCol:\n",
        "    X_original = Xy_original.iloc[:,0:totAttr]\n",
        "    y_original = Xy_original.iloc[:,totAttr]\n",
        "else:\n",
        "    X_original = Xy_original.iloc[:,1:totCol]\n",
        "    y_original = Xy_original.iloc[:,0]\n",
        "\n",
        "print(\"Xy_original.shape: {} X_original.shape: {} y_original.shape: {}\".format(Xy_original.shape, X_original.shape, y_original.shape))"
      ],
      "execution_count": 21,
      "outputs": [
        {
          "output_type": "stream",
          "text": [
            "Xy_original.shape: (142193, 22) X_original.shape: (142193, 21) y_original.shape: (142193,)\n"
          ],
          "name": "stdout"
        }
      ]
    },
    {
      "cell_type": "markdown",
      "metadata": {
        "id": "MedXKn8VJzk2",
        "colab_type": "text"
      },
      "source": [
        "### 1.f) Set up the parameters for data visualization"
      ]
    },
    {
      "cell_type": "code",
      "metadata": {
        "id": "F99KhNRpJzk4",
        "colab_type": "code",
        "colab": {}
      },
      "source": [
        "# Set up the number of row and columns for visualization display. dispRow * dispCol should be >= totAttr\n",
        "dispCol = 4\n",
        "if totAttr % dispCol == 0 :\n",
        "    dispRow = totAttr // dispCol\n",
        "else :\n",
        "    dispRow = (totAttr // dispCol) + 1\n",
        "    \n",
        "# Set figure width to display the data visualization plots\n",
        "fig_size = plt.rcParams[\"figure.figsize\"]\n",
        "fig_size[0] = dispCol*4\n",
        "fig_size[1] = dispRow*4\n",
        "plt.rcParams[\"figure.figsize\"] = fig_size"
      ],
      "execution_count": 0,
      "outputs": []
    },
    {
      "cell_type": "code",
      "metadata": {
        "id": "qjt_RMzfJzk8",
        "colab_type": "code",
        "colab": {}
      },
      "source": [
        "if (notifyStatus): email_notify(\"Library and Data Loading completed! \"+datetime.now().strftime('%a %B %d, %Y %I:%M:%S %p'))"
      ],
      "execution_count": 0,
      "outputs": []
    },
    {
      "cell_type": "markdown",
      "metadata": {
        "id": "VNgjCHThJzlF",
        "colab_type": "text"
      },
      "source": [
        "## Section 2. Summarize Data\n",
        "To gain a better understanding of the data that we have on-hand, we will leverage a number of descriptive statistics and data visualization techniques. The plan is to use the results to consider new questions, review assumptions, and validate hypotheses that we can investigate later with specialized models."
      ]
    },
    {
      "cell_type": "code",
      "metadata": {
        "id": "Ym2ofWLkJzlG",
        "colab_type": "code",
        "colab": {}
      },
      "source": [
        "if (notifyStatus): email_notify(\"Data Summarization and Visualization has begun! \"+datetime.now().strftime('%a %B %d, %Y %I:%M:%S %p'))"
      ],
      "execution_count": 0,
      "outputs": []
    },
    {
      "cell_type": "markdown",
      "metadata": {
        "id": "7w2q-8kAJzlL",
        "colab_type": "text"
      },
      "source": [
        "### 2.a) Descriptive Statistics"
      ]
    },
    {
      "cell_type": "markdown",
      "metadata": {
        "id": "BSSRo3vHJzlN",
        "colab_type": "text"
      },
      "source": [
        "#### 2.a.i) Peek at the attribute columns"
      ]
    },
    {
      "cell_type": "code",
      "metadata": {
        "id": "moEmbgBCJzlN",
        "colab_type": "code",
        "outputId": "18d587f9-4d51-4cd9-e1c8-59b8c77f361e",
        "colab": {
          "base_uri": "https://localhost:8080/",
          "height": 383
        }
      },
      "source": [
        "X_original.head(10)"
      ],
      "execution_count": 25,
      "outputs": [
        {
          "output_type": "execute_result",
          "data": {
            "text/html": [
              "<div>\n",
              "<style scoped>\n",
              "    .dataframe tbody tr th:only-of-type {\n",
              "        vertical-align: middle;\n",
              "    }\n",
              "\n",
              "    .dataframe tbody tr th {\n",
              "        vertical-align: top;\n",
              "    }\n",
              "\n",
              "    .dataframe thead th {\n",
              "        text-align: right;\n",
              "    }\n",
              "</style>\n",
              "<table border=\"1\" class=\"dataframe\">\n",
              "  <thead>\n",
              "    <tr style=\"text-align: right;\">\n",
              "      <th></th>\n",
              "      <th>Location</th>\n",
              "      <th>MinTemp</th>\n",
              "      <th>MaxTemp</th>\n",
              "      <th>Rainfall</th>\n",
              "      <th>Evaporation</th>\n",
              "      <th>Sunshine</th>\n",
              "      <th>WindGustDir</th>\n",
              "      <th>WindGustSpeed</th>\n",
              "      <th>WindDir9am</th>\n",
              "      <th>WindDir3pm</th>\n",
              "      <th>WindSpeed9am</th>\n",
              "      <th>WindSpeed3pm</th>\n",
              "      <th>Humidity9am</th>\n",
              "      <th>Humidity3pm</th>\n",
              "      <th>Pressure9am</th>\n",
              "      <th>Pressure3pm</th>\n",
              "      <th>Cloud9am</th>\n",
              "      <th>Cloud3pm</th>\n",
              "      <th>Temp9am</th>\n",
              "      <th>Temp3pm</th>\n",
              "      <th>RainToday</th>\n",
              "    </tr>\n",
              "  </thead>\n",
              "  <tbody>\n",
              "    <tr>\n",
              "      <th>0</th>\n",
              "      <td>Albury</td>\n",
              "      <td>13.4</td>\n",
              "      <td>22.9</td>\n",
              "      <td>0.6</td>\n",
              "      <td>0.0</td>\n",
              "      <td>8.5</td>\n",
              "      <td>W</td>\n",
              "      <td>44.0</td>\n",
              "      <td>W</td>\n",
              "      <td>WNW</td>\n",
              "      <td>20.0</td>\n",
              "      <td>24.0</td>\n",
              "      <td>71.0</td>\n",
              "      <td>22.0</td>\n",
              "      <td>1007.7</td>\n",
              "      <td>1007.1</td>\n",
              "      <td>8.0</td>\n",
              "      <td>5.0</td>\n",
              "      <td>16.9</td>\n",
              "      <td>21.8</td>\n",
              "      <td>No</td>\n",
              "    </tr>\n",
              "    <tr>\n",
              "      <th>1</th>\n",
              "      <td>Albury</td>\n",
              "      <td>7.4</td>\n",
              "      <td>25.1</td>\n",
              "      <td>0.0</td>\n",
              "      <td>0.0</td>\n",
              "      <td>8.5</td>\n",
              "      <td>WNW</td>\n",
              "      <td>44.0</td>\n",
              "      <td>NNW</td>\n",
              "      <td>WSW</td>\n",
              "      <td>4.0</td>\n",
              "      <td>22.0</td>\n",
              "      <td>44.0</td>\n",
              "      <td>25.0</td>\n",
              "      <td>1010.6</td>\n",
              "      <td>1007.8</td>\n",
              "      <td>5.0</td>\n",
              "      <td>5.0</td>\n",
              "      <td>17.2</td>\n",
              "      <td>24.3</td>\n",
              "      <td>No</td>\n",
              "    </tr>\n",
              "    <tr>\n",
              "      <th>2</th>\n",
              "      <td>Albury</td>\n",
              "      <td>12.9</td>\n",
              "      <td>25.7</td>\n",
              "      <td>0.0</td>\n",
              "      <td>0.0</td>\n",
              "      <td>8.5</td>\n",
              "      <td>WSW</td>\n",
              "      <td>46.0</td>\n",
              "      <td>W</td>\n",
              "      <td>WSW</td>\n",
              "      <td>19.0</td>\n",
              "      <td>26.0</td>\n",
              "      <td>38.0</td>\n",
              "      <td>30.0</td>\n",
              "      <td>1007.6</td>\n",
              "      <td>1008.7</td>\n",
              "      <td>5.0</td>\n",
              "      <td>2.0</td>\n",
              "      <td>21.0</td>\n",
              "      <td>23.2</td>\n",
              "      <td>No</td>\n",
              "    </tr>\n",
              "    <tr>\n",
              "      <th>3</th>\n",
              "      <td>Albury</td>\n",
              "      <td>9.2</td>\n",
              "      <td>28.0</td>\n",
              "      <td>0.0</td>\n",
              "      <td>0.0</td>\n",
              "      <td>8.5</td>\n",
              "      <td>NE</td>\n",
              "      <td>24.0</td>\n",
              "      <td>SE</td>\n",
              "      <td>E</td>\n",
              "      <td>11.0</td>\n",
              "      <td>9.0</td>\n",
              "      <td>45.0</td>\n",
              "      <td>16.0</td>\n",
              "      <td>1017.6</td>\n",
              "      <td>1012.8</td>\n",
              "      <td>5.0</td>\n",
              "      <td>5.0</td>\n",
              "      <td>18.1</td>\n",
              "      <td>26.5</td>\n",
              "      <td>No</td>\n",
              "    </tr>\n",
              "    <tr>\n",
              "      <th>4</th>\n",
              "      <td>Albury</td>\n",
              "      <td>17.5</td>\n",
              "      <td>32.3</td>\n",
              "      <td>1.0</td>\n",
              "      <td>0.0</td>\n",
              "      <td>8.5</td>\n",
              "      <td>W</td>\n",
              "      <td>41.0</td>\n",
              "      <td>ENE</td>\n",
              "      <td>NW</td>\n",
              "      <td>7.0</td>\n",
              "      <td>20.0</td>\n",
              "      <td>82.0</td>\n",
              "      <td>33.0</td>\n",
              "      <td>1010.8</td>\n",
              "      <td>1006.0</td>\n",
              "      <td>7.0</td>\n",
              "      <td>8.0</td>\n",
              "      <td>17.8</td>\n",
              "      <td>29.7</td>\n",
              "      <td>No</td>\n",
              "    </tr>\n",
              "    <tr>\n",
              "      <th>5</th>\n",
              "      <td>Albury</td>\n",
              "      <td>14.6</td>\n",
              "      <td>29.7</td>\n",
              "      <td>0.2</td>\n",
              "      <td>0.0</td>\n",
              "      <td>8.5</td>\n",
              "      <td>WNW</td>\n",
              "      <td>56.0</td>\n",
              "      <td>W</td>\n",
              "      <td>W</td>\n",
              "      <td>19.0</td>\n",
              "      <td>24.0</td>\n",
              "      <td>55.0</td>\n",
              "      <td>23.0</td>\n",
              "      <td>1009.2</td>\n",
              "      <td>1005.4</td>\n",
              "      <td>5.0</td>\n",
              "      <td>5.0</td>\n",
              "      <td>20.6</td>\n",
              "      <td>28.9</td>\n",
              "      <td>No</td>\n",
              "    </tr>\n",
              "    <tr>\n",
              "      <th>6</th>\n",
              "      <td>Albury</td>\n",
              "      <td>14.3</td>\n",
              "      <td>25.0</td>\n",
              "      <td>0.0</td>\n",
              "      <td>0.0</td>\n",
              "      <td>8.5</td>\n",
              "      <td>W</td>\n",
              "      <td>50.0</td>\n",
              "      <td>SW</td>\n",
              "      <td>W</td>\n",
              "      <td>20.0</td>\n",
              "      <td>24.0</td>\n",
              "      <td>49.0</td>\n",
              "      <td>19.0</td>\n",
              "      <td>1009.6</td>\n",
              "      <td>1008.2</td>\n",
              "      <td>1.0</td>\n",
              "      <td>5.0</td>\n",
              "      <td>18.1</td>\n",
              "      <td>24.6</td>\n",
              "      <td>No</td>\n",
              "    </tr>\n",
              "    <tr>\n",
              "      <th>7</th>\n",
              "      <td>Albury</td>\n",
              "      <td>7.7</td>\n",
              "      <td>26.7</td>\n",
              "      <td>0.0</td>\n",
              "      <td>0.0</td>\n",
              "      <td>8.5</td>\n",
              "      <td>W</td>\n",
              "      <td>35.0</td>\n",
              "      <td>SSE</td>\n",
              "      <td>W</td>\n",
              "      <td>6.0</td>\n",
              "      <td>17.0</td>\n",
              "      <td>48.0</td>\n",
              "      <td>19.0</td>\n",
              "      <td>1013.4</td>\n",
              "      <td>1010.1</td>\n",
              "      <td>5.0</td>\n",
              "      <td>5.0</td>\n",
              "      <td>16.3</td>\n",
              "      <td>25.5</td>\n",
              "      <td>No</td>\n",
              "    </tr>\n",
              "    <tr>\n",
              "      <th>8</th>\n",
              "      <td>Albury</td>\n",
              "      <td>9.7</td>\n",
              "      <td>31.9</td>\n",
              "      <td>0.0</td>\n",
              "      <td>0.0</td>\n",
              "      <td>8.5</td>\n",
              "      <td>NNW</td>\n",
              "      <td>80.0</td>\n",
              "      <td>SE</td>\n",
              "      <td>NW</td>\n",
              "      <td>7.0</td>\n",
              "      <td>28.0</td>\n",
              "      <td>42.0</td>\n",
              "      <td>9.0</td>\n",
              "      <td>1008.9</td>\n",
              "      <td>1003.6</td>\n",
              "      <td>5.0</td>\n",
              "      <td>5.0</td>\n",
              "      <td>18.3</td>\n",
              "      <td>30.2</td>\n",
              "      <td>No</td>\n",
              "    </tr>\n",
              "    <tr>\n",
              "      <th>9</th>\n",
              "      <td>Albury</td>\n",
              "      <td>13.1</td>\n",
              "      <td>30.1</td>\n",
              "      <td>1.4</td>\n",
              "      <td>0.0</td>\n",
              "      <td>8.5</td>\n",
              "      <td>W</td>\n",
              "      <td>28.0</td>\n",
              "      <td>S</td>\n",
              "      <td>SSE</td>\n",
              "      <td>15.0</td>\n",
              "      <td>11.0</td>\n",
              "      <td>58.0</td>\n",
              "      <td>27.0</td>\n",
              "      <td>1007.0</td>\n",
              "      <td>1005.7</td>\n",
              "      <td>5.0</td>\n",
              "      <td>5.0</td>\n",
              "      <td>20.1</td>\n",
              "      <td>28.2</td>\n",
              "      <td>Yes</td>\n",
              "    </tr>\n",
              "  </tbody>\n",
              "</table>\n",
              "</div>"
            ],
            "text/plain": [
              "  Location  MinTemp  MaxTemp  Rainfall  ...  Cloud3pm  Temp9am Temp3pm  RainToday\n",
              "0   Albury     13.4     22.9       0.6  ...       5.0     16.9    21.8         No\n",
              "1   Albury      7.4     25.1       0.0  ...       5.0     17.2    24.3         No\n",
              "2   Albury     12.9     25.7       0.0  ...       2.0     21.0    23.2         No\n",
              "3   Albury      9.2     28.0       0.0  ...       5.0     18.1    26.5         No\n",
              "4   Albury     17.5     32.3       1.0  ...       8.0     17.8    29.7         No\n",
              "5   Albury     14.6     29.7       0.2  ...       5.0     20.6    28.9         No\n",
              "6   Albury     14.3     25.0       0.0  ...       5.0     18.1    24.6         No\n",
              "7   Albury      7.7     26.7       0.0  ...       5.0     16.3    25.5         No\n",
              "8   Albury      9.7     31.9       0.0  ...       5.0     18.3    30.2         No\n",
              "9   Albury     13.1     30.1       1.4  ...       5.0     20.1    28.2        Yes\n",
              "\n",
              "[10 rows x 21 columns]"
            ]
          },
          "metadata": {
            "tags": []
          },
          "execution_count": 25
        }
      ]
    },
    {
      "cell_type": "markdown",
      "metadata": {
        "id": "16B06RWVJzlW",
        "colab_type": "text"
      },
      "source": [
        "#### 2.a.ii) Dimensions and attribute types"
      ]
    },
    {
      "cell_type": "code",
      "metadata": {
        "id": "5hBQvVUdJzlX",
        "colab_type": "code",
        "outputId": "71367192-ea0c-4c9f-d585-a7ae369e572e",
        "colab": {
          "base_uri": "https://localhost:8080/",
          "height": 495
        }
      },
      "source": [
        "X_original.info()"
      ],
      "execution_count": 26,
      "outputs": [
        {
          "output_type": "stream",
          "text": [
            "<class 'pandas.core.frame.DataFrame'>\n",
            "RangeIndex: 142193 entries, 0 to 142192\n",
            "Data columns (total 21 columns):\n",
            "Location         142193 non-null category\n",
            "MinTemp          142193 non-null float64\n",
            "MaxTemp          142193 non-null float64\n",
            "Rainfall         142193 non-null float64\n",
            "Evaporation      142193 non-null float64\n",
            "Sunshine         142193 non-null float64\n",
            "WindGustDir      142193 non-null category\n",
            "WindGustSpeed    142193 non-null float64\n",
            "WindDir9am       142193 non-null category\n",
            "WindDir3pm       142193 non-null category\n",
            "WindSpeed9am     142193 non-null float64\n",
            "WindSpeed3pm     142193 non-null float64\n",
            "Humidity9am      142193 non-null float64\n",
            "Humidity3pm      142193 non-null float64\n",
            "Pressure9am      142193 non-null float64\n",
            "Pressure3pm      142193 non-null float64\n",
            "Cloud9am         142193 non-null float64\n",
            "Cloud3pm         142193 non-null float64\n",
            "Temp9am          142193 non-null float64\n",
            "Temp3pm          142193 non-null float64\n",
            "RainToday        142193 non-null category\n",
            "dtypes: category(5), float64(16)\n",
            "memory usage: 18.0 MB\n"
          ],
          "name": "stdout"
        }
      ]
    },
    {
      "cell_type": "markdown",
      "metadata": {
        "id": "yLQZNaWXJzlc",
        "colab_type": "text"
      },
      "source": [
        "#### 2.a.iii) Statistical summary of the attributes"
      ]
    },
    {
      "cell_type": "code",
      "metadata": {
        "id": "7wYD03LBJzle",
        "colab_type": "code",
        "outputId": "b4c799ac-eedd-4911-d3e4-d190ca622e73",
        "colab": {
          "base_uri": "https://localhost:8080/",
          "height": 320
        }
      },
      "source": [
        "X_original.describe()"
      ],
      "execution_count": 27,
      "outputs": [
        {
          "output_type": "execute_result",
          "data": {
            "text/html": [
              "<div>\n",
              "<style scoped>\n",
              "    .dataframe tbody tr th:only-of-type {\n",
              "        vertical-align: middle;\n",
              "    }\n",
              "\n",
              "    .dataframe tbody tr th {\n",
              "        vertical-align: top;\n",
              "    }\n",
              "\n",
              "    .dataframe thead th {\n",
              "        text-align: right;\n",
              "    }\n",
              "</style>\n",
              "<table border=\"1\" class=\"dataframe\">\n",
              "  <thead>\n",
              "    <tr style=\"text-align: right;\">\n",
              "      <th></th>\n",
              "      <th>MinTemp</th>\n",
              "      <th>MaxTemp</th>\n",
              "      <th>Rainfall</th>\n",
              "      <th>Evaporation</th>\n",
              "      <th>Sunshine</th>\n",
              "      <th>WindGustSpeed</th>\n",
              "      <th>WindSpeed9am</th>\n",
              "      <th>WindSpeed3pm</th>\n",
              "      <th>Humidity9am</th>\n",
              "      <th>Humidity3pm</th>\n",
              "      <th>Pressure9am</th>\n",
              "      <th>Pressure3pm</th>\n",
              "      <th>Cloud9am</th>\n",
              "      <th>Cloud3pm</th>\n",
              "      <th>Temp9am</th>\n",
              "      <th>Temp3pm</th>\n",
              "    </tr>\n",
              "  </thead>\n",
              "  <tbody>\n",
              "    <tr>\n",
              "      <th>count</th>\n",
              "      <td>142193.000000</td>\n",
              "      <td>142193.000000</td>\n",
              "      <td>142193.000000</td>\n",
              "      <td>142193.000000</td>\n",
              "      <td>142193.000000</td>\n",
              "      <td>142193.000000</td>\n",
              "      <td>142193.000000</td>\n",
              "      <td>142193.000000</td>\n",
              "      <td>142193.000000</td>\n",
              "      <td>142193.000000</td>\n",
              "      <td>142193.000000</td>\n",
              "      <td>142193.000000</td>\n",
              "      <td>142193.000000</td>\n",
              "      <td>142193.000000</td>\n",
              "      <td>142193.000000</td>\n",
              "      <td>142193.000000</td>\n",
              "    </tr>\n",
              "    <tr>\n",
              "      <th>mean</th>\n",
              "      <td>12.185565</td>\n",
              "      <td>23.225365</td>\n",
              "      <td>2.326738</td>\n",
              "      <td>3.129340</td>\n",
              "      <td>8.042236</td>\n",
              "      <td>37.377592</td>\n",
              "      <td>13.869248</td>\n",
              "      <td>18.292855</td>\n",
              "      <td>68.858235</td>\n",
              "      <td>51.495742</td>\n",
              "      <td>1017.648460</td>\n",
              "      <td>1015.252481</td>\n",
              "      <td>4.649568</td>\n",
              "      <td>4.702658</td>\n",
              "      <td>16.985681</td>\n",
              "      <td>21.675977</td>\n",
              "    </tr>\n",
              "    <tr>\n",
              "      <th>std</th>\n",
              "      <td>6.388936</td>\n",
              "      <td>7.109617</td>\n",
              "      <td>8.426426</td>\n",
              "      <td>4.166674</td>\n",
              "      <td>2.769638</td>\n",
              "      <td>16.433198</td>\n",
              "      <td>8.954477</td>\n",
              "      <td>9.075870</td>\n",
              "      <td>18.932512</td>\n",
              "      <td>20.532227</td>\n",
              "      <td>6.746267</td>\n",
              "      <td>6.681810</td>\n",
              "      <td>2.294357</td>\n",
              "      <td>2.118753</td>\n",
              "      <td>6.472206</td>\n",
              "      <td>6.871243</td>\n",
              "    </tr>\n",
              "    <tr>\n",
              "      <th>min</th>\n",
              "      <td>-8.500000</td>\n",
              "      <td>-4.800000</td>\n",
              "      <td>0.000000</td>\n",
              "      <td>0.000000</td>\n",
              "      <td>0.000000</td>\n",
              "      <td>0.000000</td>\n",
              "      <td>0.000000</td>\n",
              "      <td>0.000000</td>\n",
              "      <td>0.000000</td>\n",
              "      <td>0.000000</td>\n",
              "      <td>980.500000</td>\n",
              "      <td>977.100000</td>\n",
              "      <td>0.000000</td>\n",
              "      <td>0.000000</td>\n",
              "      <td>-7.200000</td>\n",
              "      <td>-5.400000</td>\n",
              "    </tr>\n",
              "    <tr>\n",
              "      <th>25%</th>\n",
              "      <td>7.600000</td>\n",
              "      <td>17.900000</td>\n",
              "      <td>0.000000</td>\n",
              "      <td>0.000000</td>\n",
              "      <td>8.200000</td>\n",
              "      <td>30.000000</td>\n",
              "      <td>7.000000</td>\n",
              "      <td>11.000000</td>\n",
              "      <td>57.000000</td>\n",
              "      <td>37.000000</td>\n",
              "      <td>1013.500000</td>\n",
              "      <td>1011.000000</td>\n",
              "      <td>3.000000</td>\n",
              "      <td>4.000000</td>\n",
              "      <td>12.300000</td>\n",
              "      <td>16.700000</td>\n",
              "    </tr>\n",
              "    <tr>\n",
              "      <th>50%</th>\n",
              "      <td>12.000000</td>\n",
              "      <td>22.600000</td>\n",
              "      <td>0.000000</td>\n",
              "      <td>1.600000</td>\n",
              "      <td>8.500000</td>\n",
              "      <td>37.000000</td>\n",
              "      <td>13.000000</td>\n",
              "      <td>17.000000</td>\n",
              "      <td>70.000000</td>\n",
              "      <td>52.000000</td>\n",
              "      <td>1017.600000</td>\n",
              "      <td>1015.200000</td>\n",
              "      <td>5.000000</td>\n",
              "      <td>5.000000</td>\n",
              "      <td>16.700000</td>\n",
              "      <td>21.100000</td>\n",
              "    </tr>\n",
              "    <tr>\n",
              "      <th>75%</th>\n",
              "      <td>16.800000</td>\n",
              "      <td>28.200000</td>\n",
              "      <td>0.600000</td>\n",
              "      <td>5.400000</td>\n",
              "      <td>8.700000</td>\n",
              "      <td>46.000000</td>\n",
              "      <td>19.000000</td>\n",
              "      <td>24.000000</td>\n",
              "      <td>83.000000</td>\n",
              "      <td>65.000000</td>\n",
              "      <td>1021.800000</td>\n",
              "      <td>1019.400000</td>\n",
              "      <td>6.000000</td>\n",
              "      <td>6.000000</td>\n",
              "      <td>21.500000</td>\n",
              "      <td>26.300000</td>\n",
              "    </tr>\n",
              "    <tr>\n",
              "      <th>max</th>\n",
              "      <td>33.900000</td>\n",
              "      <td>48.100000</td>\n",
              "      <td>371.000000</td>\n",
              "      <td>145.000000</td>\n",
              "      <td>14.500000</td>\n",
              "      <td>135.000000</td>\n",
              "      <td>130.000000</td>\n",
              "      <td>87.000000</td>\n",
              "      <td>100.000000</td>\n",
              "      <td>100.000000</td>\n",
              "      <td>1041.000000</td>\n",
              "      <td>1039.600000</td>\n",
              "      <td>9.000000</td>\n",
              "      <td>9.000000</td>\n",
              "      <td>40.200000</td>\n",
              "      <td>46.700000</td>\n",
              "    </tr>\n",
              "  </tbody>\n",
              "</table>\n",
              "</div>"
            ],
            "text/plain": [
              "             MinTemp        MaxTemp  ...        Temp9am        Temp3pm\n",
              "count  142193.000000  142193.000000  ...  142193.000000  142193.000000\n",
              "mean       12.185565      23.225365  ...      16.985681      21.675977\n",
              "std         6.388936       7.109617  ...       6.472206       6.871243\n",
              "min        -8.500000      -4.800000  ...      -7.200000      -5.400000\n",
              "25%         7.600000      17.900000  ...      12.300000      16.700000\n",
              "50%        12.000000      22.600000  ...      16.700000      21.100000\n",
              "75%        16.800000      28.200000  ...      21.500000      26.300000\n",
              "max        33.900000      48.100000  ...      40.200000      46.700000\n",
              "\n",
              "[8 rows x 16 columns]"
            ]
          },
          "metadata": {
            "tags": []
          },
          "execution_count": 27
        }
      ]
    },
    {
      "cell_type": "markdown",
      "metadata": {
        "id": "p8cUZbPEJzlm",
        "colab_type": "text"
      },
      "source": [
        "#### 2.a.iv) Summarize the levels of the class attribute"
      ]
    },
    {
      "cell_type": "code",
      "metadata": {
        "id": "ofBS_SY_Jzlo",
        "colab_type": "code",
        "outputId": "67f8a8af-17fa-49cc-9314-a994c7580268",
        "colab": {
          "base_uri": "https://localhost:8080/",
          "height": 90
        }
      },
      "source": [
        "Xy_original.groupby('targetVar').size()"
      ],
      "execution_count": 28,
      "outputs": [
        {
          "output_type": "execute_result",
          "data": {
            "text/plain": [
              "targetVar\n",
              "0    110316\n",
              "1     31877\n",
              "dtype: int64"
            ]
          },
          "metadata": {
            "tags": []
          },
          "execution_count": 28
        }
      ]
    },
    {
      "cell_type": "markdown",
      "metadata": {
        "id": "5a3DGJYAJzlr",
        "colab_type": "text"
      },
      "source": [
        "### 2.b) Data Visualization"
      ]
    },
    {
      "cell_type": "code",
      "metadata": {
        "id": "NdaFQ791Jzlt",
        "colab_type": "code",
        "outputId": "eb2fdc9d-9820-4334-e611-333d0ec0f2bb",
        "colab": {
          "base_uri": "https://localhost:8080/",
          "height": 1000
        }
      },
      "source": [
        "# Histograms for each attribute\n",
        "X_original.hist(layout=(dispRow,dispCol))\n",
        "plt.show()"
      ],
      "execution_count": 29,
      "outputs": [
        {
          "output_type": "stream",
          "text": [
            "/usr/local/lib/python3.6/dist-packages/pandas/plotting/_matplotlib/tools.py:307: MatplotlibDeprecationWarning: \n",
            "The rowNum attribute was deprecated in Matplotlib 3.2 and will be removed two minor releases later. Use ax.get_subplotspec().rowspan.start instead.\n",
            "  layout[ax.rowNum, ax.colNum] = ax.get_visible()\n",
            "/usr/local/lib/python3.6/dist-packages/pandas/plotting/_matplotlib/tools.py:307: MatplotlibDeprecationWarning: \n",
            "The colNum attribute was deprecated in Matplotlib 3.2 and will be removed two minor releases later. Use ax.get_subplotspec().colspan.start instead.\n",
            "  layout[ax.rowNum, ax.colNum] = ax.get_visible()\n",
            "/usr/local/lib/python3.6/dist-packages/pandas/plotting/_matplotlib/tools.py:313: MatplotlibDeprecationWarning: \n",
            "The rowNum attribute was deprecated in Matplotlib 3.2 and will be removed two minor releases later. Use ax.get_subplotspec().rowspan.start instead.\n",
            "  if not layout[ax.rowNum + 1, ax.colNum]:\n",
            "/usr/local/lib/python3.6/dist-packages/pandas/plotting/_matplotlib/tools.py:313: MatplotlibDeprecationWarning: \n",
            "The colNum attribute was deprecated in Matplotlib 3.2 and will be removed two minor releases later. Use ax.get_subplotspec().colspan.start instead.\n",
            "  if not layout[ax.rowNum + 1, ax.colNum]:\n"
          ],
          "name": "stderr"
        },
        {
          "output_type": "display_data",
          "data": {
            "image/png": "[encoded data removed]",
            "text/plain": [
              "<Figure size 1152x1728 with 24 Axes>"
            ]
          },
          "metadata": {
            "tags": []
          }
        }
      ]
    },
    {
      "cell_type": "code",
      "metadata": {
        "id": "SSJF7ZbPJzlz",
        "colab_type": "code",
        "outputId": "01a9752b-3c58-404a-fa02-bef3ffa59524",
        "colab": {
          "base_uri": "https://localhost:8080/",
          "height": 1000
        }
      },
      "source": [
        "# Box and Whisker plot for each attribute\n",
        "X_original.plot(kind='box', subplots=True, layout=(dispRow,dispCol))\n",
        "plt.show()"
      ],
      "execution_count": 30,
      "outputs": [
        {
          "output_type": "stream",
          "text": [
            "/usr/local/lib/python3.6/dist-packages/pandas/plotting/_matplotlib/tools.py:307: MatplotlibDeprecationWarning: \n",
            "The rowNum attribute was deprecated in Matplotlib 3.2 and will be removed two minor releases later. Use ax.get_subplotspec().rowspan.start instead.\n",
            "  layout[ax.rowNum, ax.colNum] = ax.get_visible()\n",
            "/usr/local/lib/python3.6/dist-packages/pandas/plotting/_matplotlib/tools.py:307: MatplotlibDeprecationWarning: \n",
            "The colNum attribute was deprecated in Matplotlib 3.2 and will be removed two minor releases later. Use ax.get_subplotspec().colspan.start instead.\n",
            "  layout[ax.rowNum, ax.colNum] = ax.get_visible()\n",
            "/usr/local/lib/python3.6/dist-packages/pandas/plotting/_matplotlib/tools.py:313: MatplotlibDeprecationWarning: \n",
            "The rowNum attribute was deprecated in Matplotlib 3.2 and will be removed two minor releases later. Use ax.get_subplotspec().rowspan.start instead.\n",
            "  if not layout[ax.rowNum + 1, ax.colNum]:\n",
            "/usr/local/lib/python3.6/dist-packages/pandas/plotting/_matplotlib/tools.py:313: MatplotlibDeprecationWarning: \n",
            "The colNum attribute was deprecated in Matplotlib 3.2 and will be removed two minor releases later. Use ax.get_subplotspec().colspan.start instead.\n",
            "  if not layout[ax.rowNum + 1, ax.colNum]:\n",
            "/usr/local/lib/python3.6/dist-packages/pandas/plotting/_matplotlib/tools.py:307: MatplotlibDeprecationWarning: \n",
            "The rowNum attribute was deprecated in Matplotlib 3.2 and will be removed two minor releases later. Use ax.get_subplotspec().rowspan.start instead.\n",
            "  layout[ax.rowNum, ax.colNum] = ax.get_visible()\n",
            "/usr/local/lib/python3.6/dist-packages/pandas/plotting/_matplotlib/tools.py:307: MatplotlibDeprecationWarning: \n",
            "The colNum attribute was deprecated in Matplotlib 3.2 and will be removed two minor releases later. Use ax.get_subplotspec().colspan.start instead.\n",
            "  layout[ax.rowNum, ax.colNum] = ax.get_visible()\n",
            "/usr/local/lib/python3.6/dist-packages/pandas/plotting/_matplotlib/tools.py:313: MatplotlibDeprecationWarning: \n",
            "The rowNum attribute was deprecated in Matplotlib 3.2 and will be removed two minor releases later. Use ax.get_subplotspec().rowspan.start instead.\n",
            "  if not layout[ax.rowNum + 1, ax.colNum]:\n",
            "/usr/local/lib/python3.6/dist-packages/pandas/plotting/_matplotlib/tools.py:313: MatplotlibDeprecationWarning: \n",
            "The colNum attribute was deprecated in Matplotlib 3.2 and will be removed two minor releases later. Use ax.get_subplotspec().colspan.start instead.\n",
            "  if not layout[ax.rowNum + 1, ax.colNum]:\n"
          ],
          "name": "stderr"
        },
        {
          "output_type": "display_data",
          "data": {
            "image/png": "[encoded data removed]",
            "text/plain": [
              "<Figure size 1152x1728 with 24 Axes>"
            ]
          },
          "metadata": {
            "tags": []
          }
        }
      ]
    },
    {
      "cell_type": "code",
      "metadata": {
        "id": "Aja_wWToJzl5",
        "colab_type": "code",
        "outputId": "30a83107-39cd-48a4-caca-ba8e375e51c7",
        "colab": {
          "base_uri": "https://localhost:8080/",
          "height": 706
        }
      },
      "source": [
        "# Correlation matrix\n",
        "fig = plt.figure(figsize=(16,12))\n",
        "ax = fig.add_subplot(111)\n",
        "correlations = X_original.corr(method='pearson')\n",
        "cax = ax.matshow(correlations, vmin=-1, vmax=1)\n",
        "fig.colorbar(cax)\n",
        "plt.show()"
      ],
      "execution_count": 31,
      "outputs": [
        {
          "output_type": "display_data",
          "data": {
            "image/png": "[encoded data removed]",
            "text/plain": [
              "<Figure size 1152x864 with 2 Axes>"
            ]
          },
          "metadata": {
            "tags": []
          }
        }
      ]
    },
    {
      "cell_type": "code",
      "metadata": {
        "id": "oqLGZxOyJzl9",
        "colab_type": "code",
        "colab": {}
      },
      "source": [
        "if (notifyStatus): email_notify(\"Data Summarization and Visualization completed! \"+datetime.now().strftime('%a %B %d, %Y %I:%M:%S %p'))"
      ],
      "execution_count": 0,
      "outputs": []
    },
    {
      "cell_type": "markdown",
      "metadata": {
        "id": "TIvdT_rpJzmB",
        "colab_type": "text"
      },
      "source": [
        "## Section 3. Prepare Data\n",
        "Some dataset may require additional preparation activities that will best exposes the structure of the problem and the relationships between the input attributes and the output variable. Some data-prep tasks might include:\n",
        "\n",
        "* Cleaning data by removing duplicates, marking missing values and even imputing missing values.\n",
        "* Feature selection where redundant features may be removed.\n",
        "* Data transforms where attributes are scaled or redistributed in order to best expose the structure of the problem later to learning algorithms."
      ]
    },
    {
      "cell_type": "code",
      "metadata": {
        "id": "pw0RMnNkJzmD",
        "colab_type": "code",
        "colab": {}
      },
      "source": [
        "if (notifyStatus): email_notify(\"Data Cleaning and Transformation has begun! \"+datetime.now().strftime('%a %B %d, %Y %I:%M:%S %p'))"
      ],
      "execution_count": 0,
      "outputs": []
    },
    {
      "cell_type": "markdown",
      "metadata": {
        "id": "nTd6HoK2JzmI",
        "colab_type": "text"
      },
      "source": [
        "### 3.a) Feature Scaling and Data Pre-Processing"
      ]
    },
    {
      "cell_type": "code",
      "metadata": {
        "id": "NlzwuTboJzmK",
        "colab_type": "code",
        "outputId": "0fbcf550-7af7-44c3-c0a9-5db9536e1ffc",
        "colab": {
          "base_uri": "https://localhost:8080/",
          "height": 274
        }
      },
      "source": [
        "# Apply feature scaling techniques\n",
        "X_original['MinTemp'] = preprocessing.scale(X_original['MinTemp'])\n",
        "X_original['MaxTemp'] = preprocessing.scale(X_original['MaxTemp'])\n",
        "X_original['Rainfall'] = preprocessing.scale(X_original['Rainfall'])\n",
        "X_original['Evaporation'] = preprocessing.scale(X_original['Evaporation'])\n",
        "X_original['Sunshine'] = preprocessing.scale(X_original['Sunshine'])\n",
        "X_original['WindGustSpeed'] = preprocessing.scale(X_original['WindGustSpeed'])\n",
        "X_original['WindSpeed9am'] = preprocessing.scale(X_original['WindSpeed9am'])\n",
        "X_original['WindSpeed3pm'] = preprocessing.scale(X_original['WindSpeed3pm'])\n",
        "X_original['Humidity9am'] = preprocessing.scale(X_original['Humidity9am'])\n",
        "X_original['Humidity3pm'] = preprocessing.scale(X_original['Humidity3pm'])\n",
        "X_original['Pressure9am'] = preprocessing.scale(X_original['Pressure9am'])\n",
        "X_original['Pressure3pm'] = preprocessing.scale(X_original['Pressure3pm'])\n",
        "X_original['Cloud9am'] = preprocessing.scale(X_original['Cloud9am'])\n",
        "X_original['Cloud3pm'] = preprocessing.scale(X_original['Cloud3pm'])\n",
        "X_original['Temp9am'] = preprocessing.scale(X_original['Temp9am'])\n",
        "X_original['Temp3pm'] = preprocessing.scale(X_original['Temp3pm'])\n",
        "    \n",
        "print(X_original.head(-10))"
      ],
      "execution_count": 34,
      "outputs": [
        {
          "output_type": "stream",
          "text": [
            "       Location   MinTemp   MaxTemp  ...   Temp9am   Temp3pm  RainToday\n",
            "0        Albury  0.190085 -0.045764  ... -0.013238  0.018050         No\n",
            "1        Albury -0.749042  0.263677  ...  0.033114  0.381886         No\n",
            "2        Albury  0.111824  0.348070  ...  0.620242  0.221798         No\n",
            "3        Albury -0.467304  0.671577  ...  0.172171  0.702062         No\n",
            "4        Albury  0.831821  1.276393  ...  0.125818  1.167773         No\n",
            "...         ...       ...       ...  ...       ...       ...        ...\n",
            "142178    Uluru -1.406431 -0.650581  ... -1.357452 -0.622303         No\n",
            "142179    Uluru -1.531648 -0.580253  ... -1.388354 -0.418554         No\n",
            "142180    Uluru -1.109041 -0.495860  ... -1.311100 -0.360340         No\n",
            "142181    Uluru -1.515996 -0.284878  ... -1.032987 -0.200252         No\n",
            "142182    Uluru -1.547300 -0.256747  ... -1.249297 -0.200252         No\n",
            "\n",
            "[142183 rows x 21 columns]\n"
          ],
          "name": "stdout"
        }
      ]
    },
    {
      "cell_type": "code",
      "metadata": {
        "id": "aWGZAXxvJzmO",
        "colab_type": "code",
        "outputId": "3d038ed1-efc3-4925-a450-fedb2e75d868",
        "colab": {
          "base_uri": "https://localhost:8080/",
          "height": 1000
        }
      },
      "source": [
        "# Histograms for each attribute\n",
        "X_original.hist(layout=(dispRow,dispCol))\n",
        "plt.show()"
      ],
      "execution_count": 35,
      "outputs": [
        {
          "output_type": "stream",
          "text": [
            "/usr/local/lib/python3.6/dist-packages/pandas/plotting/_matplotlib/tools.py:307: MatplotlibDeprecationWarning: \n",
            "The rowNum attribute was deprecated in Matplotlib 3.2 and will be removed two minor releases later. Use ax.get_subplotspec().rowspan.start instead.\n",
            "  layout[ax.rowNum, ax.colNum] = ax.get_visible()\n",
            "/usr/local/lib/python3.6/dist-packages/pandas/plotting/_matplotlib/tools.py:307: MatplotlibDeprecationWarning: \n",
            "The colNum attribute was deprecated in Matplotlib 3.2 and will be removed two minor releases later. Use ax.get_subplotspec().colspan.start instead.\n",
            "  layout[ax.rowNum, ax.colNum] = ax.get_visible()\n",
            "/usr/local/lib/python3.6/dist-packages/pandas/plotting/_matplotlib/tools.py:313: MatplotlibDeprecationWarning: \n",
            "The rowNum attribute was deprecated in Matplotlib 3.2 and will be removed two minor releases later. Use ax.get_subplotspec().rowspan.start instead.\n",
            "  if not layout[ax.rowNum + 1, ax.colNum]:\n",
            "/usr/local/lib/python3.6/dist-packages/pandas/plotting/_matplotlib/tools.py:313: MatplotlibDeprecationWarning: \n",
            "The colNum attribute was deprecated in Matplotlib 3.2 and will be removed two minor releases later. Use ax.get_subplotspec().colspan.start instead.\n",
            "  if not layout[ax.rowNum + 1, ax.colNum]:\n"
          ],
          "name": "stderr"
        },
        {
          "output_type": "display_data",
          "data": {
            "image/png": "[encoded data removed]",
            "text/plain": [
              "<Figure size 1152x1728 with 24 Axes>"
            ]
          },
          "metadata": {
            "tags": []
          }
        }
      ]
    },
    {
      "cell_type": "markdown",
      "metadata": {
        "id": "08hYrH2mJzmW",
        "colab_type": "text"
      },
      "source": [
        "### 3.b) Apply One-Hot-Encoding to Categorical Features"
      ]
    },
    {
      "cell_type": "code",
      "metadata": {
        "id": "fN5ooT0xJzmX",
        "colab_type": "code",
        "outputId": "684a8a8b-6219-46fa-e140-47a2960b6a47",
        "colab": {
          "base_uri": "https://localhost:8080/",
          "height": 1000
        }
      },
      "source": [
        "# Perform one-hot-encoding on the categorical attributes\n",
        "X_original = pd.get_dummies(X_original)\n",
        "X_original.info(verbose=True)"
      ],
      "execution_count": 36,
      "outputs": [
        {
          "output_type": "stream",
          "text": [
            "<class 'pandas.core.frame.DataFrame'>\n",
            "RangeIndex: 142193 entries, 0 to 142192\n",
            "Data columns (total 118 columns):\n",
            "MinTemp                      float64\n",
            "MaxTemp                      float64\n",
            "Rainfall                     float64\n",
            "Evaporation                  float64\n",
            "Sunshine                     float64\n",
            "WindGustSpeed                float64\n",
            "WindSpeed9am                 float64\n",
            "WindSpeed3pm                 float64\n",
            "Humidity9am                  float64\n",
            "Humidity3pm                  float64\n",
            "Pressure9am                  float64\n",
            "Pressure3pm                  float64\n",
            "Cloud9am                     float64\n",
            "Cloud3pm                     float64\n",
            "Temp9am                      float64\n",
            "Temp3pm                      float64\n",
            "Location_Adelaide            uint8\n",
            "Location_Albany              uint8\n",
            "Location_Albury              uint8\n",
            "Location_AliceSprings        uint8\n",
            "Location_BadgerysCreek       uint8\n",
            "Location_Ballarat            uint8\n",
            "Location_Bendigo             uint8\n",
            "Location_Brisbane            uint8\n",
            "Location_Cairns              uint8\n",
            "Location_Canberra            uint8\n",
            "Location_Cobar               uint8\n",
            "Location_CoffsHarbour        uint8\n",
            "Location_Dartmoor            uint8\n",
            "Location_Darwin              uint8\n",
            "Location_GoldCoast           uint8\n",
            "Location_Hobart              uint8\n",
            "Location_Katherine           uint8\n",
            "Location_Launceston          uint8\n",
            "Location_Melbourne           uint8\n",
            "Location_MelbourneAirport    uint8\n",
            "Location_Mildura             uint8\n",
            "Location_Moree               uint8\n",
            "Location_MountGambier        uint8\n",
            "Location_MountGinini         uint8\n",
            "Location_Newcastle           uint8\n",
            "Location_Nhil                uint8\n",
            "Location_NorahHead           uint8\n",
            "Location_NorfolkIsland       uint8\n",
            "Location_Nuriootpa           uint8\n",
            "Location_PearceRAAF          uint8\n",
            "Location_Penrith             uint8\n",
            "Location_Perth               uint8\n",
            "Location_PerthAirport        uint8\n",
            "Location_Portland            uint8\n",
            "Location_Richmond            uint8\n",
            "Location_Sale                uint8\n",
            "Location_SalmonGums          uint8\n",
            "Location_Sydney              uint8\n",
            "Location_SydneyAirport       uint8\n",
            "Location_Townsville          uint8\n",
            "Location_Tuggeranong         uint8\n",
            "Location_Uluru               uint8\n",
            "Location_WaggaWagga          uint8\n",
            "Location_Walpole             uint8\n",
            "Location_Watsonia            uint8\n",
            "Location_Williamtown         uint8\n",
            "Location_Witchcliffe         uint8\n",
            "Location_Wollongong          uint8\n",
            "Location_Woomera             uint8\n",
            "WindGustDir_E                uint8\n",
            "WindGustDir_ENE              uint8\n",
            "WindGustDir_ESE              uint8\n",
            "WindGustDir_N                uint8\n",
            "WindGustDir_NE               uint8\n",
            "WindGustDir_NNE              uint8\n",
            "WindGustDir_NNW              uint8\n",
            "WindGustDir_NW               uint8\n",
            "WindGustDir_S                uint8\n",
            "WindGustDir_SE               uint8\n",
            "WindGustDir_SSE              uint8\n",
            "WindGustDir_SSW              uint8\n",
            "WindGustDir_SW               uint8\n",
            "WindGustDir_UNKNOWN          uint8\n",
            "WindGustDir_W                uint8\n",
            "WindGustDir_WNW              uint8\n",
            "WindGustDir_WSW              uint8\n",
            "WindDir9am_E                 uint8\n",
            "WindDir9am_ENE               uint8\n",
            "WindDir9am_ESE               uint8\n",
            "WindDir9am_N                 uint8\n",
            "WindDir9am_NE                uint8\n",
            "WindDir9am_NNE               uint8\n",
            "WindDir9am_NNW               uint8\n",
            "WindDir9am_NW                uint8\n",
            "WindDir9am_S                 uint8\n",
            "WindDir9am_SE                uint8\n",
            "WindDir9am_SSE               uint8\n",
            "WindDir9am_SSW               uint8\n",
            "WindDir9am_SW                uint8\n",
            "WindDir9am_UNKNOWN           uint8\n",
            "WindDir9am_W                 uint8\n",
            "WindDir9am_WNW               uint8\n",
            "WindDir9am_WSW               uint8\n",
            "WindDir3pm_E                 uint8\n",
            "WindDir3pm_ENE               uint8\n",
            "WindDir3pm_ESE               uint8\n",
            "WindDir3pm_N                 uint8\n",
            "WindDir3pm_NE                uint8\n",
            "WindDir3pm_NNE               uint8\n",
            "WindDir3pm_NNW               uint8\n",
            "WindDir3pm_NW                uint8\n",
            "WindDir3pm_S                 uint8\n",
            "WindDir3pm_SE                uint8\n",
            "WindDir3pm_SSE               uint8\n",
            "WindDir3pm_SSW               uint8\n",
            "WindDir3pm_SW                uint8\n",
            "WindDir3pm_UNKNOWN           uint8\n",
            "WindDir3pm_W                 uint8\n",
            "WindDir3pm_WNW               uint8\n",
            "WindDir3pm_WSW               uint8\n",
            "RainToday_No                 uint8\n",
            "RainToday_Yes                uint8\n",
            "dtypes: float64(16), uint8(102)\n",
            "memory usage: 31.2 MB\n"
          ],
          "name": "stdout"
        }
      ]
    },
    {
      "cell_type": "markdown",
      "metadata": {
        "id": "VJ8gS_68Jzmd",
        "colab_type": "text"
      },
      "source": [
        "### 3.c) Training Data Balancing"
      ]
    },
    {
      "cell_type": "code",
      "metadata": {
        "id": "lY1dYFNjJzmg",
        "colab_type": "code",
        "colab": {}
      },
      "source": [
        "# Not applicable for this iteration of the project"
      ],
      "execution_count": 0,
      "outputs": []
    },
    {
      "cell_type": "markdown",
      "metadata": {
        "id": "fFUKbMTXJzmk",
        "colab_type": "text"
      },
      "source": [
        "### 3.d) Feature Selection"
      ]
    },
    {
      "cell_type": "code",
      "metadata": {
        "id": "J_7-L2yQJzml",
        "colab_type": "code",
        "colab": {}
      },
      "source": [
        "# Not applicable for this iteration of the project"
      ],
      "execution_count": 0,
      "outputs": []
    },
    {
      "cell_type": "markdown",
      "metadata": {
        "id": "pKsYRJ8VJzmr",
        "colab_type": "text"
      },
      "source": [
        "### 3.e) Display the Final Datasets for Model-Building"
      ]
    },
    {
      "cell_type": "code",
      "metadata": {
        "id": "P-Kqlms4Jzmv",
        "colab_type": "code",
        "outputId": "fd2a7296-2d9f-44ec-e3f3-c1d99cfb5660",
        "colab": {
          "base_uri": "https://localhost:8080/",
          "height": 54
        }
      },
      "source": [
        "# Split the data further into training and test datasets\n",
        "if (splitDataset):\n",
        "    X_train_df, X_test_df, y_train_df, y_test_df = train_test_split(X_original, y_original, test_size=splitPercentage, \n",
        "                                                                    stratify=y_original, random_state=seedNum)\n",
        "else:\n",
        "    X_train_df, y_train_df = X_original, y_original\n",
        "    X_test_df, y_test_df = X_original, y_original\n",
        "print(\"X_train_df.shape: {} y_train_df.shape: {}\".format(X_train_df.shape, y_train_df.shape))\n",
        "print(\"X_test_df.shape: {} y_test_df.shape: {}\".format(X_test_df.shape, y_test_df.shape))"
      ],
      "execution_count": 39,
      "outputs": [
        {
          "output_type": "stream",
          "text": [
            "X_train_df.shape: (106644, 118) y_train_df.shape: (106644,)\n",
            "X_test_df.shape: (35549, 118) y_test_df.shape: (35549,)\n"
          ],
          "name": "stdout"
        }
      ]
    },
    {
      "cell_type": "code",
      "metadata": {
        "id": "H3l_7dUDJzm2",
        "colab_type": "code",
        "outputId": "a5cb4da1-b3d5-4e29-da2d-a44a5f3a6fb9",
        "colab": {
          "base_uri": "https://localhost:8080/",
          "height": 54
        }
      },
      "source": [
        "# Finalize the training and testing datasets for the modeling activities\n",
        "X_train = X_train_df.to_numpy()\n",
        "y_train = y_train_df.to_numpy()\n",
        "X_test = X_test_df.to_numpy()\n",
        "y_test = y_test_df.to_numpy()\n",
        "print(\"X_train.shape: {} y_train.shape: {}\".format(X_train.shape, y_train.shape))\n",
        "print(\"X_test.shape: {} y_test.shape: {}\".format(X_test.shape, y_test.shape))"
      ],
      "execution_count": 40,
      "outputs": [
        {
          "output_type": "stream",
          "text": [
            "X_train.shape: (106644, 118) y_train.shape: (106644,)\n",
            "X_test.shape: (35549, 118) y_test.shape: (35549,)\n"
          ],
          "name": "stdout"
        }
      ]
    },
    {
      "cell_type": "code",
      "metadata": {
        "id": "WuDC9md4Jzm6",
        "colab_type": "code",
        "colab": {}
      },
      "source": [
        "if (notifyStatus): email_notify(\"Data Cleaning and Transformation completed! \"+datetime.now().strftime('%a %B %d, %Y %I:%M:%S %p'))"
      ],
      "execution_count": 0,
      "outputs": []
    },
    {
      "cell_type": "markdown",
      "metadata": {
        "id": "MIklY7dTJzm9",
        "colab_type": "text"
      },
      "source": [
        "## Section 4. Model and Evaluate Algorithms"
      ]
    },
    {
      "cell_type": "code",
      "metadata": {
        "id": "DFVBHezKJzm_",
        "colab_type": "code",
        "outputId": "8d636d20-8797-4e48-965c-a6f86f3a3bc9",
        "colab": {
          "base_uri": "https://localhost:8080/",
          "height": 807
        }
      },
      "source": [
        "# Define MLP model #3A_1\n",
        "def create_model_3A_1():\n",
        "    default_model = Sequential()\n",
        "    default_model.add(Dense(8, input_shape=(X_train.shape[1],), activation='relu', kernel_initializer=default_kernel_init))\n",
        "    default_model.add(Dense(1, activation='sigmoid', kernel_initializer=default_kernel_init))\n",
        "    default_model.compile(loss=default_loss, optimizer=default_optimizer, metrics=default_metrics)\n",
        "    return default_model\n",
        "\n",
        "# Initialize and fit the model\n",
        "startTimeModule = datetime.now()\n",
        "reset_random(seedNum)\n",
        "baseline_model_3A_1 = create_model_3A_1()\n",
        "extra_epochs = 0\n",
        "baseline_hist = baseline_model_3A_1.fit(X_train, y_train, epochs=(default_epoch + extra_epochs), batch_size=default_batch, validation_data=(X_test, y_test), verbose=1)\n",
        "print('Total time for model fitting:', (datetime.now() - startTimeModule), '\\n')\n",
        "if (notifyStatus): email_notify(\"Model 3A_1 processing completed! \"+datetime.now().strftime('%a %B %d, %Y %I:%M:%S %p'))"
      ],
      "execution_count": 42,
      "outputs": [
        {
          "output_type": "stream",
          "text": [
            "Train on 106644 samples, validate on 35549 samples\n",
            "Epoch 1/20\n",
            "106644/106644 [==============================] - 10s 92us/sample - loss: 0.3725 - accuracy: 0.8416 - val_loss: 0.3461 - val_accuracy: 0.8506\n",
            "Epoch 2/20\n",
            "106644/106644 [==============================] - 9s 85us/sample - loss: 0.3440 - accuracy: 0.8512 - val_loss: 0.3402 - val_accuracy: 0.8530\n",
            "Epoch 3/20\n",
            "106644/106644 [==============================] - 9s 85us/sample - loss: 0.3379 - accuracy: 0.8538 - val_loss: 0.3363 - val_accuracy: 0.8547\n",
            "Epoch 4/20\n",
            "106644/106644 [==============================] - 9s 87us/sample - loss: 0.3343 - accuracy: 0.8549 - val_loss: 0.3341 - val_accuracy: 0.8568\n",
            "Epoch 5/20\n",
            "106644/106644 [==============================] - 9s 87us/sample - loss: 0.3317 - accuracy: 0.8569 - val_loss: 0.3338 - val_accuracy: 0.8559\n",
            "Epoch 6/20\n",
            "106644/106644 [==============================] - 9s 86us/sample - loss: 0.3298 - accuracy: 0.8579 - val_loss: 0.3305 - val_accuracy: 0.8595\n",
            "Epoch 7/20\n",
            "106644/106644 [==============================] - 9s 86us/sample - loss: 0.3281 - accuracy: 0.8592 - val_loss: 0.3323 - val_accuracy: 0.8586\n",
            "Epoch 8/20\n",
            "106644/106644 [==============================] - 9s 86us/sample - loss: 0.3266 - accuracy: 0.8592 - val_loss: 0.3286 - val_accuracy: 0.8594\n",
            "Epoch 9/20\n",
            "106644/106644 [==============================] - 9s 85us/sample - loss: 0.3256 - accuracy: 0.8599 - val_loss: 0.3283 - val_accuracy: 0.8599\n",
            "Epoch 10/20\n",
            "106644/106644 [==============================] - 9s 85us/sample - loss: 0.3248 - accuracy: 0.8602 - val_loss: 0.3277 - val_accuracy: 0.8600\n",
            "Epoch 11/20\n",
            "106644/106644 [==============================] - 9s 85us/sample - loss: 0.3238 - accuracy: 0.8607 - val_loss: 0.3277 - val_accuracy: 0.8601\n",
            "Epoch 12/20\n",
            "106644/106644 [==============================] - 9s 87us/sample - loss: 0.3232 - accuracy: 0.8608 - val_loss: 0.3258 - val_accuracy: 0.8601\n",
            "Epoch 13/20\n",
            "106644/106644 [==============================] - 9s 86us/sample - loss: 0.3227 - accuracy: 0.8611 - val_loss: 0.3260 - val_accuracy: 0.8610\n",
            "Epoch 14/20\n",
            "106644/106644 [==============================] - 9s 86us/sample - loss: 0.3220 - accuracy: 0.8614 - val_loss: 0.3267 - val_accuracy: 0.8608\n",
            "Epoch 15/20\n",
            "106644/106644 [==============================] - 9s 85us/sample - loss: 0.3215 - accuracy: 0.8616 - val_loss: 0.3274 - val_accuracy: 0.8591\n",
            "Epoch 16/20\n",
            "106644/106644 [==============================] - 9s 86us/sample - loss: 0.3210 - accuracy: 0.8616 - val_loss: 0.3258 - val_accuracy: 0.8604\n",
            "Epoch 17/20\n",
            "106644/106644 [==============================] - 9s 85us/sample - loss: 0.3204 - accuracy: 0.8619 - val_loss: 0.3265 - val_accuracy: 0.8596\n",
            "Epoch 18/20\n",
            "106644/106644 [==============================] - 9s 86us/sample - loss: 0.3201 - accuracy: 0.8622 - val_loss: 0.3249 - val_accuracy: 0.8607\n",
            "Epoch 19/20\n",
            "106644/106644 [==============================] - 9s 85us/sample - loss: 0.3197 - accuracy: 0.8625 - val_loss: 0.3249 - val_accuracy: 0.8605\n",
            "Epoch 20/20\n",
            "106644/106644 [==============================] - 9s 86us/sample - loss: 0.3195 - accuracy: 0.8629 - val_loss: 0.3245 - val_accuracy: 0.8610\n",
            "Total time for model fitting: 0:03:04.112823 \n",
            "\n"
          ],
          "name": "stdout"
        }
      ]
    },
    {
      "cell_type": "code",
      "metadata": {
        "id": "x-4P8UD_JznE",
        "colab_type": "code",
        "outputId": "9b36110f-5471-4db4-856d-5386b2f57787",
        "colab": {
          "base_uri": "https://localhost:8080/",
          "height": 730
        }
      },
      "source": [
        "# Summarize model 3A_1 training hisotry\n",
        "begin_epoch = 0\n",
        "fig, axs = plt.subplots(2, 1, figsize=(12,12))\n",
        "plt.subplot(211)\n",
        "plt.plot(baseline_hist.history['accuracy'][begin_epoch:], color='blue', label='train')\n",
        "plt.plot(baseline_hist.history['val_accuracy'][begin_epoch:], color='red', label='test')\n",
        "plt.title('Baseline Model Training Performance (Accuracy)')\n",
        "plt.ylabel('Accuracy')\n",
        "plt.xlabel('Epoch')\n",
        "plt.legend(['Train', 'Test'], loc='upper right')\n",
        "plt.subplot(212)\n",
        "plt.plot(baseline_hist.history['loss'][begin_epoch:], color='blue', label='train')\n",
        "plt.plot(baseline_hist.history['val_loss'][begin_epoch:], color='red', label='test')\n",
        "plt.title('Baseline Model Training Performance (Loss)')\n",
        "plt.ylabel('Loss')\n",
        "plt.xlabel('Epoch')\n",
        "plt.legend(['Train', 'Test'], loc='upper right')\n",
        "plt.show()"
      ],
      "execution_count": 43,
      "outputs": [
        {
          "output_type": "display_data",
          "data": {
            "image/png": "[encoded data removed]",
            "text/plain": [
              "<Figure size 864x864 with 2 Axes>"
            ]
          },
          "metadata": {
            "tags": []
          }
        }
      ]
    },
    {
      "cell_type": "code",
      "metadata": {
        "colab_type": "code",
        "outputId": "ba4d1296-f262-4d28-9123-32dc076391fd",
        "id": "0e4l2XCqEOF5",
        "colab": {
          "base_uri": "https://localhost:8080/",
          "height": 807
        }
      },
      "source": [
        "# Define MLP model #3A_2\n",
        "def create_model_3A_2():\n",
        "    default_model = Sequential()\n",
        "    default_model.add(Dense(12, input_shape=(X_train.shape[1],), activation='relu', kernel_initializer=default_kernel_init))\n",
        "    default_model.add(Dense(1, activation='sigmoid', kernel_initializer=default_kernel_init))\n",
        "    default_model.compile(loss=default_loss, optimizer=default_optimizer, metrics=default_metrics)\n",
        "    return default_model\n",
        "\n",
        "# Initialize and fit the model\n",
        "startTimeModule = datetime.now()\n",
        "reset_random(seedNum)\n",
        "baseline_model_3A_2 = create_model_3A_2()\n",
        "extra_epochs = 0\n",
        "baseline_hist = baseline_model_3A_2.fit(X_train, y_train, epochs=(default_epoch + extra_epochs), batch_size=default_batch, validation_data=(X_test, y_test), verbose=1)\n",
        "print('Total time for model fitting:', (datetime.now() - startTimeModule), '\\n')\n",
        "if (notifyStatus): email_notify(\"Model 3A_2 processing completed! \"+datetime.now().strftime('%a %B %d, %Y %I:%M:%S %p'))"
      ],
      "execution_count": 44,
      "outputs": [
        {
          "output_type": "stream",
          "text": [
            "Train on 106644 samples, validate on 35549 samples\n",
            "Epoch 1/20\n",
            "106644/106644 [==============================] - 10s 89us/sample - loss: 0.3535 - accuracy: 0.8467 - val_loss: 0.3407 - val_accuracy: 0.8539\n",
            "Epoch 2/20\n",
            "106644/106644 [==============================] - 9s 86us/sample - loss: 0.3382 - accuracy: 0.8539 - val_loss: 0.3373 - val_accuracy: 0.8545\n",
            "Epoch 3/20\n",
            "106644/106644 [==============================] - 9s 85us/sample - loss: 0.3330 - accuracy: 0.8561 - val_loss: 0.3332 - val_accuracy: 0.8574\n",
            "Epoch 4/20\n",
            "106644/106644 [==============================] - 9s 85us/sample - loss: 0.3293 - accuracy: 0.8574 - val_loss: 0.3314 - val_accuracy: 0.8592\n",
            "Epoch 5/20\n",
            "106644/106644 [==============================] - 10s 95us/sample - loss: 0.3265 - accuracy: 0.8590 - val_loss: 0.3311 - val_accuracy: 0.8578\n",
            "Epoch 6/20\n",
            "106644/106644 [==============================] - 9s 86us/sample - loss: 0.3245 - accuracy: 0.8595 - val_loss: 0.3276 - val_accuracy: 0.8607\n",
            "Epoch 7/20\n",
            "106644/106644 [==============================] - 9s 85us/sample - loss: 0.3229 - accuracy: 0.8605 - val_loss: 0.3298 - val_accuracy: 0.8601\n",
            "Epoch 8/20\n",
            "106644/106644 [==============================] - 9s 86us/sample - loss: 0.3213 - accuracy: 0.8617 - val_loss: 0.3267 - val_accuracy: 0.8606\n",
            "Epoch 9/20\n",
            "106644/106644 [==============================] - 9s 87us/sample - loss: 0.3202 - accuracy: 0.8620 - val_loss: 0.3260 - val_accuracy: 0.8600\n",
            "Epoch 10/20\n",
            "106644/106644 [==============================] - 9s 89us/sample - loss: 0.3194 - accuracy: 0.8626 - val_loss: 0.3261 - val_accuracy: 0.8602\n",
            "Epoch 11/20\n",
            "106644/106644 [==============================] - 9s 87us/sample - loss: 0.3183 - accuracy: 0.8630 - val_loss: 0.3272 - val_accuracy: 0.8599\n",
            "Epoch 12/20\n",
            "106644/106644 [==============================] - 9s 87us/sample - loss: 0.3178 - accuracy: 0.8631 - val_loss: 0.3245 - val_accuracy: 0.8617\n",
            "Epoch 13/20\n",
            "106644/106644 [==============================] - 9s 88us/sample - loss: 0.3174 - accuracy: 0.8634 - val_loss: 0.3243 - val_accuracy: 0.8612\n",
            "Epoch 14/20\n",
            "106644/106644 [==============================] - 9s 88us/sample - loss: 0.3168 - accuracy: 0.8632 - val_loss: 0.3256 - val_accuracy: 0.8620\n",
            "Epoch 15/20\n",
            "106644/106644 [==============================] - 9s 88us/sample - loss: 0.3162 - accuracy: 0.8636 - val_loss: 0.3264 - val_accuracy: 0.8591\n",
            "Epoch 16/20\n",
            "106644/106644 [==============================] - 9s 87us/sample - loss: 0.3159 - accuracy: 0.8641 - val_loss: 0.3245 - val_accuracy: 0.8611\n",
            "Epoch 17/20\n",
            "106644/106644 [==============================] - 9s 87us/sample - loss: 0.3152 - accuracy: 0.8640 - val_loss: 0.3266 - val_accuracy: 0.8602\n",
            "Epoch 18/20\n",
            "106644/106644 [==============================] - 10s 91us/sample - loss: 0.3151 - accuracy: 0.8645 - val_loss: 0.3238 - val_accuracy: 0.8622\n",
            "Epoch 19/20\n",
            "106644/106644 [==============================] - 10s 90us/sample - loss: 0.3145 - accuracy: 0.8645 - val_loss: 0.3239 - val_accuracy: 0.8608\n",
            "Epoch 20/20\n",
            "106644/106644 [==============================] - 9s 88us/sample - loss: 0.3144 - accuracy: 0.8644 - val_loss: 0.3236 - val_accuracy: 0.8622\n",
            "Total time for model fitting: 0:03:07.033426 \n",
            "\n"
          ],
          "name": "stdout"
        }
      ]
    },
    {
      "cell_type": "code",
      "metadata": {
        "colab_type": "code",
        "outputId": "aed3be77-9df2-4898-fba6-022583cbb2c7",
        "id": "UhjERwmWKuhs",
        "colab": {
          "base_uri": "https://localhost:8080/",
          "height": 730
        }
      },
      "source": [
        "# Summarize model 3A_2 training hisotry\n",
        "begin_epoch = 0\n",
        "fig, axs = plt.subplots(2, 1, figsize=(12,12))\n",
        "plt.subplot(211)\n",
        "plt.plot(baseline_hist.history['accuracy'][begin_epoch:], color='blue', label='train')\n",
        "plt.plot(baseline_hist.history['val_accuracy'][begin_epoch:], color='red', label='test')\n",
        "plt.title('Baseline Model Training Performance (Accuracy)')\n",
        "plt.ylabel('Accuracy')\n",
        "plt.xlabel('Epoch')\n",
        "plt.legend(['Train', 'Test'], loc='upper right')\n",
        "plt.subplot(212)\n",
        "plt.plot(baseline_hist.history['loss'][begin_epoch:], color='blue', label='train')\n",
        "plt.plot(baseline_hist.history['val_loss'][begin_epoch:], color='red', label='test')\n",
        "plt.title('Baseline Model Training Performance (Loss)')\n",
        "plt.ylabel('Loss')\n",
        "plt.xlabel('Epoch')\n",
        "plt.legend(['Train', 'Test'], loc='upper right')\n",
        "plt.show()"
      ],
      "execution_count": 45,
      "outputs": [
        {
          "output_type": "display_data",
          "data": {
            "image/png": "[encoded data removed]",
            "text/plain": [
              "<Figure size 864x864 with 2 Axes>"
            ]
          },
          "metadata": {
            "tags": []
          }
        }
      ]
    },
    {
      "cell_type": "code",
      "metadata": {
        "colab_type": "code",
        "outputId": "ad5c36fd-e60e-4509-f0aa-da477e7efd78",
        "id": "JvUAtM9xEUEF",
        "colab": {
          "base_uri": "https://localhost:8080/",
          "height": 807
        }
      },
      "source": [
        "# Define MLP model #3A_3\n",
        "def create_model_3A_3():\n",
        "    default_model = Sequential()\n",
        "    default_model.add(Dense(16, input_shape=(X_train.shape[1],), activation='relu', kernel_initializer=default_kernel_init))\n",
        "    default_model.add(Dense(1, activation='sigmoid', kernel_initializer=default_kernel_init))\n",
        "    default_model.compile(loss=default_loss, optimizer=default_optimizer, metrics=default_metrics)\n",
        "    return default_model\n",
        "\n",
        "# Initialize and fit the model\n",
        "startTimeModule = datetime.now()\n",
        "reset_random(seedNum)\n",
        "baseline_model_3A_3 = create_model_3A_3()\n",
        "extra_epochs = 0\n",
        "baseline_hist = baseline_model_3A_3.fit(X_train, y_train, epochs=(default_epoch + extra_epochs), batch_size=default_batch, validation_data=(X_test, y_test), verbose=1)\n",
        "print('Total time for model fitting:', (datetime.now() - startTimeModule), '\\n')\n",
        "if (notifyStatus): email_notify(\"Model 3A_3 processing completed! \"+datetime.now().strftime('%a %B %d, %Y %I:%M:%S %p'))"
      ],
      "execution_count": 46,
      "outputs": [
        {
          "output_type": "stream",
          "text": [
            "Train on 106644 samples, validate on 35549 samples\n",
            "Epoch 1/20\n",
            "106644/106644 [==============================] - 10s 91us/sample - loss: 0.3531 - accuracy: 0.8466 - val_loss: 0.3413 - val_accuracy: 0.8530\n",
            "Epoch 2/20\n",
            "106644/106644 [==============================] - 9s 88us/sample - loss: 0.3382 - accuracy: 0.8538 - val_loss: 0.3367 - val_accuracy: 0.8545\n",
            "Epoch 3/20\n",
            "106644/106644 [==============================] - 9s 88us/sample - loss: 0.3324 - accuracy: 0.8563 - val_loss: 0.3324 - val_accuracy: 0.8571\n",
            "Epoch 4/20\n",
            "106644/106644 [==============================] - 9s 88us/sample - loss: 0.3282 - accuracy: 0.8586 - val_loss: 0.3304 - val_accuracy: 0.8582\n",
            "Epoch 5/20\n",
            "106644/106644 [==============================] - 9s 88us/sample - loss: 0.3249 - accuracy: 0.8603 - val_loss: 0.3299 - val_accuracy: 0.8590\n",
            "Epoch 6/20\n",
            "106644/106644 [==============================] - 9s 88us/sample - loss: 0.3225 - accuracy: 0.8609 - val_loss: 0.3265 - val_accuracy: 0.8613\n",
            "Epoch 7/20\n",
            "106644/106644 [==============================] - 10s 89us/sample - loss: 0.3205 - accuracy: 0.8614 - val_loss: 0.3292 - val_accuracy: 0.8613\n",
            "Epoch 8/20\n",
            "106644/106644 [==============================] - 9s 89us/sample - loss: 0.3186 - accuracy: 0.8629 - val_loss: 0.3257 - val_accuracy: 0.8618\n",
            "Epoch 9/20\n",
            "106644/106644 [==============================] - 9s 87us/sample - loss: 0.3173 - accuracy: 0.8631 - val_loss: 0.3255 - val_accuracy: 0.8598\n",
            "Epoch 10/20\n",
            "106644/106644 [==============================] - 9s 87us/sample - loss: 0.3163 - accuracy: 0.8633 - val_loss: 0.3252 - val_accuracy: 0.8615\n",
            "Epoch 11/20\n",
            "106644/106644 [==============================] - 9s 88us/sample - loss: 0.3152 - accuracy: 0.8641 - val_loss: 0.3255 - val_accuracy: 0.8616\n",
            "Epoch 12/20\n",
            "106644/106644 [==============================] - 9s 88us/sample - loss: 0.3145 - accuracy: 0.8642 - val_loss: 0.3234 - val_accuracy: 0.8631\n",
            "Epoch 13/20\n",
            "106644/106644 [==============================] - 9s 88us/sample - loss: 0.3140 - accuracy: 0.8648 - val_loss: 0.3232 - val_accuracy: 0.8625\n",
            "Epoch 14/20\n",
            "106644/106644 [==============================] - 9s 88us/sample - loss: 0.3131 - accuracy: 0.8649 - val_loss: 0.3254 - val_accuracy: 0.8622\n",
            "Epoch 15/20\n",
            "106644/106644 [==============================] - 9s 88us/sample - loss: 0.3125 - accuracy: 0.8651 - val_loss: 0.3259 - val_accuracy: 0.8601\n",
            "Epoch 16/20\n",
            "106644/106644 [==============================] - 9s 89us/sample - loss: 0.3120 - accuracy: 0.8652 - val_loss: 0.3238 - val_accuracy: 0.8604\n",
            "Epoch 17/20\n",
            "106644/106644 [==============================] - 9s 88us/sample - loss: 0.3111 - accuracy: 0.8657 - val_loss: 0.3261 - val_accuracy: 0.8603\n",
            "Epoch 18/20\n",
            "106644/106644 [==============================] - 10s 96us/sample - loss: 0.3111 - accuracy: 0.8658 - val_loss: 0.3235 - val_accuracy: 0.8625\n",
            "Epoch 19/20\n",
            "106644/106644 [==============================] - 9s 89us/sample - loss: 0.3104 - accuracy: 0.8661 - val_loss: 0.3231 - val_accuracy: 0.8617\n",
            "Epoch 20/20\n",
            "106644/106644 [==============================] - 9s 88us/sample - loss: 0.3103 - accuracy: 0.8662 - val_loss: 0.3228 - val_accuracy: 0.8625\n",
            "Total time for model fitting: 0:03:09.177190 \n",
            "\n"
          ],
          "name": "stdout"
        }
      ]
    },
    {
      "cell_type": "code",
      "metadata": {
        "colab_type": "code",
        "outputId": "9d8a8f32-6eb2-4c51-e15c-6f562d79ea20",
        "id": "PUbdkwOBKw33",
        "colab": {
          "base_uri": "https://localhost:8080/",
          "height": 730
        }
      },
      "source": [
        "# Summarize model 3A_3 training hisotry\n",
        "begin_epoch = 0\n",
        "fig, axs = plt.subplots(2, 1, figsize=(12,12))\n",
        "plt.subplot(211)\n",
        "plt.plot(baseline_hist.history['accuracy'][begin_epoch:], color='blue', label='train')\n",
        "plt.plot(baseline_hist.history['val_accuracy'][begin_epoch:], color='red', label='test')\n",
        "plt.title('Baseline Model Training Performance (Accuracy)')\n",
        "plt.ylabel('Accuracy')\n",
        "plt.xlabel('Epoch')\n",
        "plt.legend(['Train', 'Test'], loc='upper right')\n",
        "plt.subplot(212)\n",
        "plt.plot(baseline_hist.history['loss'][begin_epoch:], color='blue', label='train')\n",
        "plt.plot(baseline_hist.history['val_loss'][begin_epoch:], color='red', label='test')\n",
        "plt.title('Baseline Model Training Performance (Loss)')\n",
        "plt.ylabel('Loss')\n",
        "plt.xlabel('Epoch')\n",
        "plt.legend(['Train', 'Test'], loc='upper right')\n",
        "plt.show()"
      ],
      "execution_count": 47,
      "outputs": [
        {
          "output_type": "display_data",
          "data": {
            "image/png": "[encoded data removed]",
            "text/plain": [
              "<Figure size 864x864 with 2 Axes>"
            ]
          },
          "metadata": {
            "tags": []
          }
        }
      ]
    },
    {
      "cell_type": "code",
      "metadata": {
        "colab_type": "code",
        "outputId": "840e1af9-06af-479b-9ab3-293746efb0a6",
        "id": "hJwPTBJ4EZrF",
        "colab": {
          "base_uri": "https://localhost:8080/",
          "height": 807
        }
      },
      "source": [
        "# Define MLP model #3A_4\n",
        "def create_model_3A_4():\n",
        "    default_model = Sequential()\n",
        "    default_model.add(Dense(20, input_shape=(X_train.shape[1],), activation='relu', kernel_initializer=default_kernel_init))\n",
        "    default_model.add(Dense(1, activation='sigmoid', kernel_initializer=default_kernel_init))\n",
        "    default_model.compile(loss=default_loss, optimizer=default_optimizer, metrics=default_metrics)\n",
        "    return default_model\n",
        "\n",
        "# Initialize and fit the model\n",
        "startTimeModule = datetime.now()\n",
        "reset_random(seedNum)\n",
        "baseline_model_3A_4 = create_model_3A_4()\n",
        "extra_epochs = 0\n",
        "baseline_hist = baseline_model_3A_4.fit(X_train, y_train, epochs=(default_epoch + extra_epochs), batch_size=default_batch, validation_data=(X_test, y_test), verbose=1)\n",
        "print('Total time for model fitting:', (datetime.now() - startTimeModule), '\\n')\n",
        "if (notifyStatus): email_notify(\"Model 3A_4 processing completed! \"+datetime.now().strftime('%a %B %d, %Y %I:%M:%S %p'))"
      ],
      "execution_count": 48,
      "outputs": [
        {
          "output_type": "stream",
          "text": [
            "Train on 106644 samples, validate on 35549 samples\n",
            "Epoch 1/20\n",
            "106644/106644 [==============================] - 10s 91us/sample - loss: 0.3513 - accuracy: 0.8473 - val_loss: 0.3391 - val_accuracy: 0.8538\n",
            "Epoch 2/20\n",
            "106644/106644 [==============================] - 9s 88us/sample - loss: 0.3350 - accuracy: 0.8550 - val_loss: 0.3342 - val_accuracy: 0.8545\n",
            "Epoch 3/20\n",
            "106644/106644 [==============================] - 9s 88us/sample - loss: 0.3283 - accuracy: 0.8583 - val_loss: 0.3298 - val_accuracy: 0.8584\n",
            "Epoch 4/20\n",
            "106644/106644 [==============================] - 10s 90us/sample - loss: 0.3239 - accuracy: 0.8598 - val_loss: 0.3278 - val_accuracy: 0.8588\n",
            "Epoch 5/20\n",
            "106644/106644 [==============================] - 10s 90us/sample - loss: 0.3209 - accuracy: 0.8622 - val_loss: 0.3275 - val_accuracy: 0.8589\n",
            "Epoch 6/20\n",
            "106644/106644 [==============================] - 9s 89us/sample - loss: 0.3189 - accuracy: 0.8623 - val_loss: 0.3245 - val_accuracy: 0.8609\n",
            "Epoch 7/20\n",
            "106644/106644 [==============================] - 9s 88us/sample - loss: 0.3171 - accuracy: 0.8634 - val_loss: 0.3282 - val_accuracy: 0.8594\n",
            "Epoch 8/20\n",
            "106644/106644 [==============================] - 9s 88us/sample - loss: 0.3154 - accuracy: 0.8646 - val_loss: 0.3238 - val_accuracy: 0.8616\n",
            "Epoch 9/20\n",
            "106644/106644 [==============================] - 9s 88us/sample - loss: 0.3143 - accuracy: 0.8649 - val_loss: 0.3241 - val_accuracy: 0.8616\n",
            "Epoch 10/20\n",
            "106644/106644 [==============================] - 10s 90us/sample - loss: 0.3134 - accuracy: 0.8650 - val_loss: 0.3247 - val_accuracy: 0.8599\n",
            "Epoch 11/20\n",
            "106644/106644 [==============================] - 10s 91us/sample - loss: 0.3123 - accuracy: 0.8659 - val_loss: 0.3251 - val_accuracy: 0.8604\n",
            "Epoch 12/20\n",
            "106644/106644 [==============================] - 10s 89us/sample - loss: 0.3117 - accuracy: 0.8657 - val_loss: 0.3224 - val_accuracy: 0.8622\n",
            "Epoch 13/20\n",
            "106644/106644 [==============================] - 10s 89us/sample - loss: 0.3112 - accuracy: 0.8664 - val_loss: 0.3230 - val_accuracy: 0.8616\n",
            "Epoch 14/20\n",
            "106644/106644 [==============================] - 9s 88us/sample - loss: 0.3104 - accuracy: 0.8668 - val_loss: 0.3248 - val_accuracy: 0.8624\n",
            "Epoch 15/20\n",
            "106644/106644 [==============================] - 9s 87us/sample - loss: 0.3098 - accuracy: 0.8663 - val_loss: 0.3253 - val_accuracy: 0.8586\n",
            "Epoch 16/20\n",
            "106644/106644 [==============================] - 9s 88us/sample - loss: 0.3092 - accuracy: 0.8669 - val_loss: 0.3232 - val_accuracy: 0.8603\n",
            "Epoch 17/20\n",
            "106644/106644 [==============================] - 9s 88us/sample - loss: 0.3083 - accuracy: 0.8668 - val_loss: 0.3253 - val_accuracy: 0.8608\n",
            "Epoch 18/20\n",
            "106644/106644 [==============================] - 9s 87us/sample - loss: 0.3082 - accuracy: 0.8672 - val_loss: 0.3226 - val_accuracy: 0.8612\n",
            "Epoch 19/20\n",
            "106644/106644 [==============================] - 9s 88us/sample - loss: 0.3076 - accuracy: 0.8674 - val_loss: 0.3233 - val_accuracy: 0.8606\n",
            "Epoch 20/20\n",
            "106644/106644 [==============================] - 9s 87us/sample - loss: 0.3075 - accuracy: 0.8676 - val_loss: 0.3225 - val_accuracy: 0.8614\n",
            "Total time for model fitting: 0:03:09.156925 \n",
            "\n"
          ],
          "name": "stdout"
        }
      ]
    },
    {
      "cell_type": "code",
      "metadata": {
        "colab_type": "code",
        "outputId": "04f775c4-6132-467b-ef1f-e6e1e7fa3809",
        "id": "_CElidgsK0ep",
        "colab": {
          "base_uri": "https://localhost:8080/",
          "height": 730
        }
      },
      "source": [
        "# Summarize model 3A_4 training hisotry\n",
        "begin_epoch = 0\n",
        "fig, axs = plt.subplots(2, 1, figsize=(12,12))\n",
        "plt.subplot(211)\n",
        "plt.plot(baseline_hist.history['accuracy'][begin_epoch:], color='blue', label='train')\n",
        "plt.plot(baseline_hist.history['val_accuracy'][begin_epoch:], color='red', label='test')\n",
        "plt.title('Baseline Model Training Performance (Accuracy)')\n",
        "plt.ylabel('Accuracy')\n",
        "plt.xlabel('Epoch')\n",
        "plt.legend(['Train', 'Test'], loc='upper right')\n",
        "plt.subplot(212)\n",
        "plt.plot(baseline_hist.history['loss'][begin_epoch:], color='blue', label='train')\n",
        "plt.plot(baseline_hist.history['val_loss'][begin_epoch:], color='red', label='test')\n",
        "plt.title('Baseline Model Training Performance (Loss)')\n",
        "plt.ylabel('Loss')\n",
        "plt.xlabel('Epoch')\n",
        "plt.legend(['Train', 'Test'], loc='upper right')\n",
        "plt.show()"
      ],
      "execution_count": 49,
      "outputs": [
        {
          "output_type": "display_data",
          "data": {
            "image/png": "[encoded data removed]",
            "text/plain": [
              "<Figure size 864x864 with 2 Axes>"
            ]
          },
          "metadata": {
            "tags": []
          }
        }
      ]
    },
    {
      "cell_type": "code",
      "metadata": {
        "colab_type": "code",
        "outputId": "40f1a0d0-c64d-40fd-ccc6-e64a49f62940",
        "id": "HEkc6FOsk62T",
        "colab": {
          "base_uri": "https://localhost:8080/",
          "height": 807
        }
      },
      "source": [
        "# Define MLP model #3B\n",
        "def create_model_3B():\n",
        "    default_model = Sequential()\n",
        "    default_model.add(Dense(8, input_shape=(X_train.shape[1],), activation='relu', kernel_initializer=default_kernel_init))\n",
        "    default_model.add(Dense(6, activation='relu', kernel_initializer=default_kernel_init))\n",
        "    default_model.add(Dense(1, activation='sigmoid', kernel_initializer=default_kernel_init))\n",
        "    default_model.compile(loss=default_loss, optimizer=default_optimizer, metrics=default_metrics)\n",
        "    return default_model\n",
        "\n",
        "# Initialize and fit the model\n",
        "startTimeModule = datetime.now()\n",
        "reset_random(seedNum)\n",
        "baseline_model_3B = create_model_3B()\n",
        "extra_epochs = 0\n",
        "baseline_hist = baseline_model_3B.fit(X_train, y_train, epochs=(default_epoch + extra_epochs), batch_size=default_batch, validation_data=(X_test, y_test), verbose=1)\n",
        "print('Total time for model fitting:', (datetime.now() - startTimeModule), '\\n')\n",
        "if (notifyStatus): email_notify(\"Model 3B processing completed! \"+datetime.now().strftime('%a %B %d, %Y %I:%M:%S %p'))"
      ],
      "execution_count": 50,
      "outputs": [
        {
          "output_type": "stream",
          "text": [
            "Train on 106644 samples, validate on 35549 samples\n",
            "Epoch 1/20\n",
            "106644/106644 [==============================] - 10s 96us/sample - loss: 0.3577 - accuracy: 0.8446 - val_loss: 0.3436 - val_accuracy: 0.8520\n",
            "Epoch 2/20\n",
            "106644/106644 [==============================] - 10s 90us/sample - loss: 0.3407 - accuracy: 0.8530 - val_loss: 0.3386 - val_accuracy: 0.8527\n",
            "Epoch 3/20\n",
            "106644/106644 [==============================] - 10s 90us/sample - loss: 0.3346 - accuracy: 0.8564 - val_loss: 0.3344 - val_accuracy: 0.8560\n",
            "Epoch 4/20\n",
            "106644/106644 [==============================] - 10s 89us/sample - loss: 0.3307 - accuracy: 0.8573 - val_loss: 0.3326 - val_accuracy: 0.8579\n",
            "Epoch 5/20\n",
            "106644/106644 [==============================] - 10s 90us/sample - loss: 0.3282 - accuracy: 0.8589 - val_loss: 0.3317 - val_accuracy: 0.8563\n",
            "Epoch 6/20\n",
            "106644/106644 [==============================] - 10s 89us/sample - loss: 0.3265 - accuracy: 0.8600 - val_loss: 0.3293 - val_accuracy: 0.8582\n",
            "Epoch 7/20\n",
            "106644/106644 [==============================] - 10s 90us/sample - loss: 0.3249 - accuracy: 0.8604 - val_loss: 0.3313 - val_accuracy: 0.8589\n",
            "Epoch 8/20\n",
            "106644/106644 [==============================] - 10s 89us/sample - loss: 0.3236 - accuracy: 0.8612 - val_loss: 0.3279 - val_accuracy: 0.8592\n",
            "Epoch 9/20\n",
            "106644/106644 [==============================] - 9s 89us/sample - loss: 0.3226 - accuracy: 0.8621 - val_loss: 0.3272 - val_accuracy: 0.8592\n",
            "Epoch 10/20\n",
            "106644/106644 [==============================] - 10s 95us/sample - loss: 0.3218 - accuracy: 0.8623 - val_loss: 0.3273 - val_accuracy: 0.8599\n",
            "Epoch 11/20\n",
            "106644/106644 [==============================] - 10s 95us/sample - loss: 0.3209 - accuracy: 0.8621 - val_loss: 0.3280 - val_accuracy: 0.8598\n",
            "Epoch 12/20\n",
            "106644/106644 [==============================] - 10s 89us/sample - loss: 0.3204 - accuracy: 0.8622 - val_loss: 0.3258 - val_accuracy: 0.8604\n",
            "Epoch 13/20\n",
            "106644/106644 [==============================] - 10s 90us/sample - loss: 0.3200 - accuracy: 0.8621 - val_loss: 0.3256 - val_accuracy: 0.8611\n",
            "Epoch 14/20\n",
            "106644/106644 [==============================] - 9s 89us/sample - loss: 0.3194 - accuracy: 0.8627 - val_loss: 0.3283 - val_accuracy: 0.8610\n",
            "Epoch 15/20\n",
            "106644/106644 [==============================] - 10s 89us/sample - loss: 0.3190 - accuracy: 0.8633 - val_loss: 0.3269 - val_accuracy: 0.8602\n",
            "Epoch 16/20\n",
            "106644/106644 [==============================] - 10s 90us/sample - loss: 0.3187 - accuracy: 0.8635 - val_loss: 0.3261 - val_accuracy: 0.8607\n",
            "Epoch 17/20\n",
            "106644/106644 [==============================] - 10s 89us/sample - loss: 0.3180 - accuracy: 0.8640 - val_loss: 0.3270 - val_accuracy: 0.8596\n",
            "Epoch 18/20\n",
            "106644/106644 [==============================] - 10s 91us/sample - loss: 0.3180 - accuracy: 0.8635 - val_loss: 0.3250 - val_accuracy: 0.8619\n",
            "Epoch 19/20\n",
            "106644/106644 [==============================] - 9s 89us/sample - loss: 0.3177 - accuracy: 0.8636 - val_loss: 0.3261 - val_accuracy: 0.8601\n",
            "Epoch 20/20\n",
            "106644/106644 [==============================] - 9s 88us/sample - loss: 0.3176 - accuracy: 0.8637 - val_loss: 0.3243 - val_accuracy: 0.8610\n",
            "Total time for model fitting: 0:03:12.797511 \n",
            "\n"
          ],
          "name": "stdout"
        }
      ]
    },
    {
      "cell_type": "code",
      "metadata": {
        "colab_type": "code",
        "outputId": "459d224f-7e95-40d8-d61f-b1a1d6ead72d",
        "id": "YW1E8XUqlI4S",
        "colab": {
          "base_uri": "https://localhost:8080/",
          "height": 730
        }
      },
      "source": [
        "# Summarize model 3B training hisotry\n",
        "begin_epoch = 0\n",
        "fig, axs = plt.subplots(2, 1, figsize=(12,12))\n",
        "plt.subplot(211)\n",
        "plt.plot(baseline_hist.history['accuracy'][begin_epoch:], color='blue', label='train')\n",
        "plt.plot(baseline_hist.history['val_accuracy'][begin_epoch:], color='red', label='test')\n",
        "plt.title('Baseline Model Training Performance (Accuracy)')\n",
        "plt.ylabel('Accuracy')\n",
        "plt.xlabel('Epoch')\n",
        "plt.legend(['Train', 'Test'], loc='upper right')\n",
        "plt.subplot(212)\n",
        "plt.plot(baseline_hist.history['loss'][begin_epoch:], color='blue', label='train')\n",
        "plt.plot(baseline_hist.history['val_loss'][begin_epoch:], color='red', label='test')\n",
        "plt.title('Baseline Model Training Performance (Loss)')\n",
        "plt.ylabel('Loss')\n",
        "plt.xlabel('Epoch')\n",
        "plt.legend(['Train', 'Test'], loc='upper right')\n",
        "plt.show()"
      ],
      "execution_count": 51,
      "outputs": [
        {
          "output_type": "display_data",
          "data": {
            "image/png": "[encoded data removed]",
            "text/plain": [
              "<Figure size 864x864 with 2 Axes>"
            ]
          },
          "metadata": {
            "tags": []
          }
        }
      ]
    },
    {
      "cell_type": "code",
      "metadata": {
        "colab_type": "code",
        "outputId": "06c40ad9-e6d0-43fc-8b48-967d688021e0",
        "id": "vBtn_ZpRJT0E",
        "colab": {
          "base_uri": "https://localhost:8080/",
          "height": 807
        }
      },
      "source": [
        "# Define MLP model #3C\n",
        "def create_model_3C():\n",
        "    default_model = Sequential()\n",
        "    default_model.add(Dense(8, input_shape=(X_train.shape[1],), activation='relu', kernel_initializer=default_kernel_init))\n",
        "    default_model.add(Dense(6, activation='relu', kernel_initializer=default_kernel_init))\n",
        "    default_model.add(Dense(4, activation='relu', kernel_initializer=default_kernel_init))\n",
        "    default_model.add(Dense(1, activation='sigmoid', kernel_initializer=default_kernel_init))\n",
        "    default_model.compile(loss=default_loss, optimizer=default_optimizer, metrics=default_metrics)\n",
        "    return default_model\n",
        "\n",
        "# Initialize and fit the model\n",
        "startTimeModule = datetime.now()\n",
        "reset_random(seedNum)\n",
        "baseline_model_3C = create_model_3C()\n",
        "extra_epochs = 0\n",
        "baseline_hist = baseline_model_3C.fit(X_train, y_train, epochs=(default_epoch + extra_epochs), batch_size=default_batch, validation_data=(X_test, y_test), verbose=1)\n",
        "print('Total time for model fitting:', (datetime.now() - startTimeModule), '\\n')\n",
        "if (notifyStatus): email_notify(\"Model 3C processing completed! \"+datetime.now().strftime('%a %B %d, %Y %I:%M:%S %p'))"
      ],
      "execution_count": 52,
      "outputs": [
        {
          "output_type": "stream",
          "text": [
            "Train on 106644 samples, validate on 35549 samples\n",
            "Epoch 1/20\n",
            "106644/106644 [==============================] - 10s 96us/sample - loss: 0.3633 - accuracy: 0.8425 - val_loss: 0.3481 - val_accuracy: 0.8498\n",
            "Epoch 2/20\n",
            "106644/106644 [==============================] - 10s 96us/sample - loss: 0.3467 - accuracy: 0.8499 - val_loss: 0.3433 - val_accuracy: 0.8511\n",
            "Epoch 3/20\n",
            "106644/106644 [==============================] - 10s 94us/sample - loss: 0.3412 - accuracy: 0.8528 - val_loss: 0.3391 - val_accuracy: 0.8534\n",
            "Epoch 4/20\n",
            "106644/106644 [==============================] - 10s 93us/sample - loss: 0.3373 - accuracy: 0.8545 - val_loss: 0.3372 - val_accuracy: 0.8551\n",
            "Epoch 5/20\n",
            "106644/106644 [==============================] - 10s 92us/sample - loss: 0.3343 - accuracy: 0.8556 - val_loss: 0.3363 - val_accuracy: 0.8544\n",
            "Epoch 6/20\n",
            "106644/106644 [==============================] - 10s 94us/sample - loss: 0.3319 - accuracy: 0.8566 - val_loss: 0.3332 - val_accuracy: 0.8567\n",
            "Epoch 7/20\n",
            "106644/106644 [==============================] - 10s 91us/sample - loss: 0.3297 - accuracy: 0.8580 - val_loss: 0.3351 - val_accuracy: 0.8564\n",
            "Epoch 8/20\n",
            "106644/106644 [==============================] - 10s 92us/sample - loss: 0.3278 - accuracy: 0.8584 - val_loss: 0.3318 - val_accuracy: 0.8584\n",
            "Epoch 9/20\n",
            "106644/106644 [==============================] - 10s 92us/sample - loss: 0.3266 - accuracy: 0.8590 - val_loss: 0.3307 - val_accuracy: 0.8571\n",
            "Epoch 10/20\n",
            "106644/106644 [==============================] - 10s 93us/sample - loss: 0.3257 - accuracy: 0.8597 - val_loss: 0.3307 - val_accuracy: 0.8592\n",
            "Epoch 11/20\n",
            "106644/106644 [==============================] - 10s 93us/sample - loss: 0.3246 - accuracy: 0.8593 - val_loss: 0.3319 - val_accuracy: 0.8587\n",
            "Epoch 12/20\n",
            "106644/106644 [==============================] - 10s 91us/sample - loss: 0.3241 - accuracy: 0.8604 - val_loss: 0.3292 - val_accuracy: 0.8596\n",
            "Epoch 13/20\n",
            "106644/106644 [==============================] - 10s 92us/sample - loss: 0.3238 - accuracy: 0.8606 - val_loss: 0.3291 - val_accuracy: 0.8595\n",
            "Epoch 14/20\n",
            "106644/106644 [==============================] - 10s 93us/sample - loss: 0.3231 - accuracy: 0.8608 - val_loss: 0.3327 - val_accuracy: 0.8594\n",
            "Epoch 15/20\n",
            "106644/106644 [==============================] - 10s 92us/sample - loss: 0.3227 - accuracy: 0.8613 - val_loss: 0.3296 - val_accuracy: 0.8579\n",
            "Epoch 16/20\n",
            "106644/106644 [==============================] - 10s 92us/sample - loss: 0.3222 - accuracy: 0.8615 - val_loss: 0.3286 - val_accuracy: 0.8590\n",
            "Epoch 17/20\n",
            "106644/106644 [==============================] - 10s 92us/sample - loss: 0.3214 - accuracy: 0.8621 - val_loss: 0.3301 - val_accuracy: 0.8584\n",
            "Epoch 18/20\n",
            "106644/106644 [==============================] - 10s 91us/sample - loss: 0.3214 - accuracy: 0.8616 - val_loss: 0.3277 - val_accuracy: 0.8600\n",
            "Epoch 19/20\n",
            "106644/106644 [==============================] - 10s 93us/sample - loss: 0.3209 - accuracy: 0.8619 - val_loss: 0.3282 - val_accuracy: 0.8592\n",
            "Epoch 20/20\n",
            "106644/106644 [==============================] - 10s 92us/sample - loss: 0.3208 - accuracy: 0.8617 - val_loss: 0.3269 - val_accuracy: 0.8604\n",
            "Total time for model fitting: 0:03:17.863850 \n",
            "\n"
          ],
          "name": "stdout"
        }
      ]
    },
    {
      "cell_type": "code",
      "metadata": {
        "colab_type": "code",
        "outputId": "fcee7611-7461-44c7-b0ca-8cc59cb208ff",
        "id": "YMoNkp-EJf-9",
        "colab": {
          "base_uri": "https://localhost:8080/",
          "height": 730
        }
      },
      "source": [
        "# Summarize model 3B training hisotry\n",
        "begin_epoch = 0\n",
        "fig, axs = plt.subplots(2, 1, figsize=(12,12))\n",
        "plt.subplot(211)\n",
        "plt.plot(baseline_hist.history['accuracy'][begin_epoch:], color='blue', label='train')\n",
        "plt.plot(baseline_hist.history['val_accuracy'][begin_epoch:], color='red', label='test')\n",
        "plt.title('Baseline Model Training Performance (Accuracy)')\n",
        "plt.ylabel('Accuracy')\n",
        "plt.xlabel('Epoch')\n",
        "plt.legend(['Train', 'Test'], loc='upper right')\n",
        "plt.subplot(212)\n",
        "plt.plot(baseline_hist.history['loss'][begin_epoch:], color='blue', label='train')\n",
        "plt.plot(baseline_hist.history['val_loss'][begin_epoch:], color='red', label='test')\n",
        "plt.title('Baseline Model Training Performance (Loss)')\n",
        "plt.ylabel('Loss')\n",
        "plt.xlabel('Epoch')\n",
        "plt.legend(['Train', 'Test'], loc='upper right')\n",
        "plt.show()"
      ],
      "execution_count": 53,
      "outputs": [
        {
          "output_type": "display_data",
          "data": {
            "image/png": "[encoded data removed]",
            "text/plain": [
              "<Figure size 864x864 with 2 Axes>"
            ]
          },
          "metadata": {
            "tags": []
          }
        }
      ]
    },
    {
      "cell_type": "code",
      "metadata": {
        "colab_type": "code",
        "outputId": "6991b803-1d8d-4838-ff60-038a2f9260c8",
        "id": "JtrJF27FbgY3",
        "colab": {
          "base_uri": "https://localhost:8080/",
          "height": 807
        }
      },
      "source": [
        "# Define MLP model #3D\n",
        "def create_model_3D():\n",
        "    default_model = Sequential()\n",
        "    default_model.add(Dense(8, input_shape=(X_train.shape[1],), activation='relu', kernel_initializer=default_kernel_init))\n",
        "    default_model.add(BatchNormalization())\n",
        "    default_model.add(Dense(1, activation='sigmoid', kernel_initializer=default_kernel_init))\n",
        "    default_model.compile(loss=default_loss, optimizer=default_optimizer, metrics=default_metrics)\n",
        "    return default_model\n",
        "\n",
        "# Initialize and fit the model\n",
        "startTimeModule = datetime.now()\n",
        "reset_random(seedNum)\n",
        "baseline_model_3D = create_model_3D()\n",
        "extra_epochs = 0\n",
        "baseline_hist = baseline_model_3D.fit(X_train, y_train, epochs=(default_epoch + extra_epochs), batch_size=default_batch, validation_data=(X_test, y_test), verbose=1)\n",
        "print('Total time for model fitting:', (datetime.now() - startTimeModule), '\\n')\n",
        "if (notifyStatus): email_notify(\"Model 3D processing completed! \"+datetime.now().strftime('%a %B %d, %Y %I:%M:%S %p'))"
      ],
      "execution_count": 54,
      "outputs": [
        {
          "output_type": "stream",
          "text": [
            "Train on 106644 samples, validate on 35549 samples\n",
            "Epoch 1/20\n",
            "106644/106644 [==============================] - 11s 104us/sample - loss: 0.3620 - accuracy: 0.8424 - val_loss: 0.3397 - val_accuracy: 0.8534\n",
            "Epoch 2/20\n",
            "106644/106644 [==============================] - 12s 111us/sample - loss: 0.3471 - accuracy: 0.8490 - val_loss: 0.3362 - val_accuracy: 0.8549\n",
            "Epoch 3/20\n",
            "106644/106644 [==============================] - 11s 101us/sample - loss: 0.3433 - accuracy: 0.8506 - val_loss: 0.3336 - val_accuracy: 0.8559\n",
            "Epoch 4/20\n",
            "106644/106644 [==============================] - 11s 100us/sample - loss: 0.3400 - accuracy: 0.8528 - val_loss: 0.3322 - val_accuracy: 0.8576\n",
            "Epoch 5/20\n",
            "106644/106644 [==============================] - 11s 101us/sample - loss: 0.3391 - accuracy: 0.8532 - val_loss: 0.3324 - val_accuracy: 0.8561\n",
            "Epoch 6/20\n",
            "106644/106644 [==============================] - 11s 101us/sample - loss: 0.3379 - accuracy: 0.8531 - val_loss: 0.3296 - val_accuracy: 0.8593\n",
            "Epoch 7/20\n",
            "106644/106644 [==============================] - 11s 102us/sample - loss: 0.3367 - accuracy: 0.8542 - val_loss: 0.3329 - val_accuracy: 0.8574\n",
            "Epoch 8/20\n",
            "106644/106644 [==============================] - 11s 102us/sample - loss: 0.3352 - accuracy: 0.8552 - val_loss: 0.3290 - val_accuracy: 0.8583\n",
            "Epoch 9/20\n",
            "106644/106644 [==============================] - 11s 102us/sample - loss: 0.3350 - accuracy: 0.8556 - val_loss: 0.3292 - val_accuracy: 0.8590\n",
            "Epoch 10/20\n",
            "106644/106644 [==============================] - 11s 102us/sample - loss: 0.3350 - accuracy: 0.8550 - val_loss: 0.3288 - val_accuracy: 0.8580\n",
            "Epoch 11/20\n",
            "106644/106644 [==============================] - 11s 101us/sample - loss: 0.3343 - accuracy: 0.8547 - val_loss: 0.3288 - val_accuracy: 0.8594\n",
            "Epoch 12/20\n",
            "106644/106644 [==============================] - 11s 104us/sample - loss: 0.3340 - accuracy: 0.8555 - val_loss: 0.3270 - val_accuracy: 0.8586\n",
            "Epoch 13/20\n",
            "106644/106644 [==============================] - 11s 101us/sample - loss: 0.3333 - accuracy: 0.8557 - val_loss: 0.3273 - val_accuracy: 0.8591\n",
            "Epoch 14/20\n",
            "106644/106644 [==============================] - 11s 101us/sample - loss: 0.3317 - accuracy: 0.8567 - val_loss: 0.3274 - val_accuracy: 0.8594\n",
            "Epoch 15/20\n",
            "106644/106644 [==============================] - 11s 100us/sample - loss: 0.3326 - accuracy: 0.8555 - val_loss: 0.3286 - val_accuracy: 0.8575\n",
            "Epoch 16/20\n",
            "106644/106644 [==============================] - 11s 101us/sample - loss: 0.3324 - accuracy: 0.8573 - val_loss: 0.3276 - val_accuracy: 0.8580\n",
            "Epoch 17/20\n",
            "106644/106644 [==============================] - 11s 103us/sample - loss: 0.3321 - accuracy: 0.8560 - val_loss: 0.3281 - val_accuracy: 0.8585\n",
            "Epoch 18/20\n",
            "106644/106644 [==============================] - 11s 101us/sample - loss: 0.3317 - accuracy: 0.8568 - val_loss: 0.3255 - val_accuracy: 0.8603\n",
            "Epoch 19/20\n",
            "106644/106644 [==============================] - 11s 101us/sample - loss: 0.3313 - accuracy: 0.8565 - val_loss: 0.3262 - val_accuracy: 0.8597\n",
            "Epoch 20/20\n",
            "106644/106644 [==============================] - 11s 100us/sample - loss: 0.3315 - accuracy: 0.8563 - val_loss: 0.3262 - val_accuracy: 0.8597\n",
            "Total time for model fitting: 0:03:37.966736 \n",
            "\n"
          ],
          "name": "stdout"
        }
      ]
    },
    {
      "cell_type": "code",
      "metadata": {
        "colab_type": "code",
        "outputId": "71e5842b-4601-4ba4-dfe9-34f78185457f",
        "id": "_Q7jbqBSbnsm",
        "colab": {
          "base_uri": "https://localhost:8080/",
          "height": 730
        }
      },
      "source": [
        "# Summarize model 3D training hisotry\n",
        "begin_epoch = 0\n",
        "fig, axs = plt.subplots(2, 1, figsize=(12,12))\n",
        "plt.subplot(211)\n",
        "plt.plot(baseline_hist.history['accuracy'][begin_epoch:], color='blue', label='train')\n",
        "plt.plot(baseline_hist.history['val_accuracy'][begin_epoch:], color='red', label='test')\n",
        "plt.title('Baseline Model Training Performance (Accuracy)')\n",
        "plt.ylabel('Accuracy')\n",
        "plt.xlabel('Epoch')\n",
        "plt.legend(['Train', 'Test'], loc='upper right')\n",
        "plt.subplot(212)\n",
        "plt.plot(baseline_hist.history['loss'][begin_epoch:], color='blue', label='train')\n",
        "plt.plot(baseline_hist.history['val_loss'][begin_epoch:], color='red', label='test')\n",
        "plt.title('Baseline Model Training Performance (Loss)')\n",
        "plt.ylabel('Loss')\n",
        "plt.xlabel('Epoch')\n",
        "plt.legend(['Train', 'Test'], loc='upper right')\n",
        "plt.show()"
      ],
      "execution_count": 55,
      "outputs": [
        {
          "output_type": "display_data",
          "data": {
            "image/png": "[encoded data removed]",
            "text/plain": [
              "<Figure size 864x864 with 2 Axes>"
            ]
          },
          "metadata": {
            "tags": []
          }
        }
      ]
    },
    {
      "cell_type": "markdown",
      "metadata": {
        "id": "ZbN107UuJznf",
        "colab_type": "text"
      },
      "source": [
        "## Section 5. Model Tuning and Improvement"
      ]
    },
    {
      "cell_type": "code",
      "metadata": {
        "colab_type": "code",
        "id": "UnVZ-9nR_jSR",
        "colab": {}
      },
      "source": [
        "if (notifyStatus): email_notify(\"Model Tuning and Imprvement has begun! \"+datetime.now().strftime('%a %B %d, %Y %I:%M:%S %p'))"
      ],
      "execution_count": 0,
      "outputs": []
    },
    {
      "cell_type": "code",
      "metadata": {
        "colab_type": "code",
        "id": "RxC2lcXp_trI",
        "colab": {}
      },
      "source": [
        "if (notifyStatus): email_notify(\"Model Tuning and Imprvement completed! \"+datetime.now().strftime('%a %B %d, %Y %I:%M:%S %p'))"
      ],
      "execution_count": 0,
      "outputs": []
    },
    {
      "cell_type": "markdown",
      "metadata": {
        "id": "Qk_G3eJIJzn_",
        "colab_type": "text"
      },
      "source": [
        "## Section 6. Finalize Model"
      ]
    },
    {
      "cell_type": "code",
      "metadata": {
        "id": "jmGYpCbqJzoA",
        "colab_type": "code",
        "colab": {}
      },
      "source": [
        "if (notifyStatus): email_notify(\"Model Validation and Final Model Creation has begun! \"+datetime.now().strftime('%a %B %d, %Y %I:%M:%S %p'))"
      ],
      "execution_count": 0,
      "outputs": []
    },
    {
      "cell_type": "code",
      "metadata": {
        "id": "eJXumgC4aTBR",
        "colab_type": "code",
        "colab": {
          "base_uri": "https://localhost:8080/",
          "height": 256
        },
        "outputId": "a31cf5bf-8e74-4e49-eabd-4e6550c738a2"
      },
      "source": [
        "# Display a summary of the final model\n",
        "final_model = baseline_model_3A_1\n",
        "print(final_model.summary())"
      ],
      "execution_count": 59,
      "outputs": [
        {
          "output_type": "stream",
          "text": [
            "Model: \"sequential\"\n",
            "_________________________________________________________________\n",
            "Layer (type)                 Output Shape              Param #   \n",
            "=================================================================\n",
            "dense (Dense)                (None, 8)                 952       \n",
            "_________________________________________________________________\n",
            "dense_1 (Dense)              (None, 1)                 9         \n",
            "=================================================================\n",
            "Total params: 961\n",
            "Trainable params: 961\n",
            "Non-trainable params: 0\n",
            "_________________________________________________________________\n",
            "None\n"
          ],
          "name": "stdout"
        }
      ]
    },
    {
      "cell_type": "code",
      "metadata": {
        "id": "gsl6KUr1aWau",
        "colab_type": "code",
        "colab": {
          "base_uri": "https://localhost:8080/",
          "height": 55
        },
        "outputId": "315f364d-bf24-414f-9269-06f831a5f0e1"
      },
      "source": [
        "# Display the configuration of the final model\n",
        "print(final_model.get_config())"
      ],
      "execution_count": 60,
      "outputs": [
        {
          "output_type": "stream",
          "text": [
            "{'name': 'sequential', 'layers': [{'class_name': 'Dense', 'config': {'name': 'dense', 'trainable': True, 'batch_input_shape': (None, 118), 'dtype': 'float32', 'units': 8, 'activation': 'relu', 'use_bias': True, 'kernel_initializer': {'class_name': 'RandomNormal', 'config': {'mean': 0.0, 'stddev': 0.05, 'seed': 888}}, 'bias_initializer': {'class_name': 'Zeros', 'config': {}}, 'kernel_regularizer': None, 'bias_regularizer': None, 'activity_regularizer': None, 'kernel_constraint': None, 'bias_constraint': None}}, {'class_name': 'Dense', 'config': {'name': 'dense_1', 'trainable': True, 'dtype': 'float32', 'units': 1, 'activation': 'sigmoid', 'use_bias': True, 'kernel_initializer': {'class_name': 'RandomNormal', 'config': {'mean': 0.0, 'stddev': 0.05, 'seed': 888}}, 'bias_initializer': {'class_name': 'Zeros', 'config': {}}, 'kernel_regularizer': None, 'bias_regularizer': None, 'activity_regularizer': None, 'kernel_constraint': None, 'bias_constraint': None}}]}\n"
          ],
          "name": "stdout"
        }
      ]
    },
    {
      "cell_type": "code",
      "metadata": {
        "id": "buJAkLUWJzoV",
        "colab_type": "code",
        "colab": {}
      },
      "source": [
        "if (notifyStatus): email_notify(\"Model Validation and Final Model Creation completed! \"+datetime.now().strftime('%a %B %d, %Y %I:%M:%S %p'))"
      ],
      "execution_count": 0,
      "outputs": []
    },
    {
      "cell_type": "code",
      "metadata": {
        "id": "Np7z6FMeJzoZ",
        "colab_type": "code",
        "outputId": "c63484d7-66b9-43d8-f62c-2b0289e37747",
        "colab": {
          "base_uri": "https://localhost:8080/",
          "height": 35
        }
      },
      "source": [
        "print ('Total time for the script:',(datetime.now() - startTimeScript))"
      ],
      "execution_count": 62,
      "outputs": [
        {
          "output_type": "stream",
          "text": [
            "Total time for the script: 0:22:48.394357\n"
          ],
          "name": "stdout"
        }
      ]
    }
  ]
}