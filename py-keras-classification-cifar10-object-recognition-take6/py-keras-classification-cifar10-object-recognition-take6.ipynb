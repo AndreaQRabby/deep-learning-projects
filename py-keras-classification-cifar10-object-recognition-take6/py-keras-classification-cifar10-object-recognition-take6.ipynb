{
 "cells": [
  {
   "cell_type": "markdown",
   "metadata": {},
   "source": [
    "# Multi-Class Deep Learning Model for CIFAR-10 Object Recognition Using Keras Take 6\n",
    "### David Lowe\n",
    "### January 9, 2020\n",
    "\n",
    "Template Credit: Adapted from a template made available by Dr. Jason Brownlee of Machine Learning Mastery. [https://machinelearningmastery.com/]\n",
    "\n",
    "SUMMARY: The purpose of this project is to construct a predictive model using various machine learning algorithms and to document the end-to-end steps using a template. The CIFAR-10 dataset is a multi-class classification situation where we are trying to predict one of several (more than two) possible outcomes.\n",
    "\n",
    "INTRODUCTION: The CIFAR-10 is a labeled subset of the 80 million tiny images dataset. They were collected by Alex Krizhevsky, Vinod Nair, and Geoffrey Hinton. The CIFAR-10 dataset consists of 60,000 32x32 color images in 10 classes, with 6,000 images per class. There are 50,000 training images and 10,000 test images.\n",
    "\n",
    "The dataset is divided into five training batches and one test batch, each with 10,000 images. The test batch contains exactly 1,000 randomly selected images from each class. The training batches contain the remaining images in random order, but some training batches may contain more images from one class than another. Between them, the training batches contain exactly 5,000 images from each class.\n",
    "\n",
    "In iteration Take1, we constructed a simple VGG convolutional model with 1 VGG block to classify the images. This model serves as the baseline for the future iterations of modeling.\n",
    "\n",
    "In iteration Take2, we constructed a few more VGG convolutional models with 2 and 3 VGG blocks to classify the images. The additional models enabled us to choose a final baseline model before applying other performance-enhancing techniques.\n",
    "\n",
    "In iteration Take3, we tuned the VGG-3 model with various hyperparameters and selected the best model.\n",
    "\n",
    "In iteration Take4, we added some dropout layers as a regularization technique to reduce over-fitting.\n",
    "\n",
    "In iteration Take5, we applied data augmentation to the dataset as a regularization technique to reduce over-fitting.\n",
    "\n",
    "In this iteration, we will combine both dropout layers and data augmentation to the dataset as a regularization technique to reduce over-fitting.\n",
    "\n",
    "ANALYSIS: In iteration Take1, the performance of the Take1 model with the default parameters achieved an accuracy score of 66.39% on the validation dataset after training for 50 epochs. After tuning the hyperparameters, the Take1 model with the best hyperparameters processed the training dataset with an accuracy of 100.00%. The same model, however, processed the test dataset with an accuracy of only 67.01%. We will need to explore other modeling approaches to make a better model that reduces over-fitting.\n",
    "\n",
    "In iteration Take2, the performance of the VGG-1 model with the default parameters achieved an accuracy score of 66.69% on the validation dataset after training for 50 epochs. The VGG-2 model achieved an accuracy score of 71.35% on the validation dataset after training for 50 epochs. The VGG-3 model achieved an accuracy score of 73.81% on the validation dataset after training for 50 epochs. The additional VGG blocks helped the model, but we still need to explore other modeling approaches to make a better model that reduces over-fitting.\n",
    "\n",
    "In iteration Take3, the performance of the VGG-3 Take3 model with the default parameters achieved a maximum accuracy score of 73.43% on the validation dataset after training for 50 epochs. After tuning the hyperparameters, the Take1 model with the best hyperparameters processed the training dataset with an accuracy of 98.09%. The same model, however, processed the test dataset with an accuracy of only 73.44%. Even with VGG-3 and hyperparameter tuning, we still have an over-fitting problem with the model.\n",
    "\n",
    "In iteration Take4, the performance of the Take4 model with the default parameters achieved a maximum accuracy score of 76.96% on the validation dataset after training for 50 epochs. We can see from the graph that the accuracy and loss curves for the training and validation sets were moving in the same direction and converged well. After increasing the number of epochs, the Take4 model processed the training dataset with an accuracy of 82.22% after 100 epochs. The same model processed the test dataset with an accuracy of 82.35%. This iteration indicated to us that having dropout layers can be a good tactic to improve the model's predictive performance.\n",
    "\n",
    "In iteration Take5, the performance of the Take5 model with the default parameters achieved a maximum accuracy score of 81.41% on the validation dataset after training for 50 epochs. We can see from the graph that the accuracy and loss curves for the training and validation sets were moving in the same direction and converged well. After increasing the number of epochs, the Take5 model processed the training dataset with an accuracy of 91.60% after 100 epochs. The same model processed the test dataset with an accuracy of 84.43%. This iteration indicated to us that applying data augmentation can be a good tactic to improve the model's predictive performance.\n",
    "\n",
    "In this iteration, the performance of the Take6 model with the default parameters achieved a maximum accuracy score of 84.12% on the validation dataset after training for 100 epochs. We can see from the graph that the accuracy and loss curves for the training and validation sets were moving in the same direction and converged well. After increasing the number of epochs, the Take6 model processed the training dataset with an accuracy of 87.21% after 200 epochs. The same model processed the test dataset with an accuracy of 85.79%. This iteration indicated to us that applying dropout layers and data augmentation together can be a good tactic to improve the model's predictive performance.\n",
    "\n",
    "CONCLUSION: For this dataset, the model built using Keras and TensorFlow achieved a satisfactory result and should be considered for future modeling activities.\n",
    "\n",
    "Dataset Used: The CIFAR-10 Dataset\n",
    "\n",
    "Dataset ML Model: Multi-class classification with numerical attributes\n",
    "\n",
    "Dataset Reference: https://www.cs.toronto.edu/~kriz/cifar.html\n",
    "\n",
    "One potential source of performance benchmarks: https://machinelearningmastery.com/how-to-develop-a-cnn-from-scratch-for-cifar-10-photo-classification/\n",
    "\n",
    "Any deep-learning modeling project genrally can be broken down into about six major tasks:\n",
    "\n",
    "0. Prepare Environment\n",
    "1. Load Data\n",
    "2. Define Model\n",
    "3. Fit and Evaluate Model\n",
    "4. Optimize Model\n",
    "5. Finalize Model"
   ]
  },
  {
   "cell_type": "markdown",
   "metadata": {},
   "source": [
    "# Section 0. Prepare Environment"
   ]
  },
  {
   "cell_type": "code",
   "execution_count": 1,
   "metadata": {},
   "outputs": [],
   "source": [
    "# Set the warning message filter\n",
    "import warnings\n",
    "warnings.filterwarnings(\"ignore\", category=FutureWarning)\n",
    "warnings.filterwarnings(\"ignore\", category=DeprecationWarning)"
   ]
  },
  {
   "cell_type": "code",
   "execution_count": 2,
   "metadata": {},
   "outputs": [],
   "source": [
    "# Set the random seed number for reproducible results\n",
    "seedNum = 888"
   ]
  },
  {
   "cell_type": "code",
   "execution_count": 3,
   "metadata": {},
   "outputs": [],
   "source": [
    "# Load libraries and packages\n",
    "import random\n",
    "random.seed(seedNum)\n",
    "import numpy as np\n",
    "np.random.seed(seedNum)\n",
    "import tensorflow as tf\n",
    "tf.random.set_seed(seedNum)\n",
    "from tensorflow.keras import Sequential\n",
    "from tensorflow.keras.layers import Dense\n",
    "from tensorflow.keras.layers import Flatten\n",
    "from tensorflow.keras.layers import Dropout\n",
    "from tensorflow.keras.layers import Conv2D\n",
    "from tensorflow.keras.layers import MaxPooling2D\n",
    "from tensorflow.keras.preprocessing.image import ImageDataGenerator\n",
    "from tensorflow.keras.wrappers.scikit_learn import KerasClassifier\n",
    "# import keras as K\n",
    "# from keras.models import Sequential\n",
    "# from keras.layers import Dense\n",
    "# from keras.wrappers.scikit_learn import KerasClassifier\n",
    "import pandas as pd\n",
    "import math\n",
    "import os\n",
    "import sys\n",
    "import shutil\n",
    "import urllib.request\n",
    "import zipfile\n",
    "import smtplib\n",
    "import matplotlib.pyplot as plt\n",
    "from datetime import datetime\n",
    "from email.message import EmailMessage\n",
    "from sklearn.model_selection import train_test_split\n",
    "from sklearn.model_selection import KFold\n",
    "from sklearn.model_selection import StratifiedKFold\n",
    "from sklearn.model_selection import cross_val_score\n",
    "from sklearn.model_selection import GridSearchCV\n",
    "from sklearn.model_selection import RandomizedSearchCV\n",
    "from sklearn import preprocessing"
   ]
  },
  {
   "cell_type": "code",
   "execution_count": 4,
   "metadata": {},
   "outputs": [
    {
     "name": "stdout",
     "output_type": "stream",
     "text": [
      "Num GPUs Available:  1\n"
     ]
    }
   ],
   "source": [
    "# Begin the timer for the script processing\n",
    "startTimeScript = datetime.now()\n",
    "\n",
    "# Set up the verbose flag to print detailed messages for debugging (setting to True will activate)\n",
    "# verbose = True\n",
    "# tf.debugging.set_log_device_placement(verbose)\n",
    "\n",
    "# Set up the number of CPU cores available for multi-thread processing\n",
    "n_jobs = -1\n",
    "print(\"Num GPUs Available: \", len(tf.config.experimental.list_physical_devices('GPU')))\n",
    "\n",
    "# Set up the flag to stop sending progress emails (setting to True will send status emails!)\n",
    "notifyStatus = False\n",
    "\n",
    "# Set the number of folds for cross validation\n",
    "n_folds = 5\n",
    "\n",
    "# Set the flag for splitting the dataset\n",
    "splitDataset = True\n",
    "splitPercentage = 0.25\n",
    "\n",
    "# Set various default Keras modeling parameters\n",
    "default_loss = 'categorical_crossentropy'\n",
    "default_metrics = ['accuracy']\n",
    "default_kernel_init = tf.initializers.he_uniform(seed=seedNum)\n",
    "default_optimizer = tf.optimizers.SGD(learning_rate=0.001, momentum=0.9)\n",
    "default_epoch = 200\n",
    "default_batch = 64"
   ]
  },
  {
   "cell_type": "code",
   "execution_count": 5,
   "metadata": {},
   "outputs": [],
   "source": [
    "# Set up the email notification function\n",
    "def email_notify(msg_text):\n",
    "    sender = os.environ.get('MAIL_SENDER')\n",
    "    receiver = os.environ.get('MAIL_RECEIVER')\n",
    "    gateway = os.environ.get('SMTP_GATEWAY')\n",
    "    smtpuser = os.environ.get('SMTP_USERNAME')\n",
    "    password = os.environ.get('SMTP_PASSWORD')\n",
    "    if sender==None or receiver==None or gateway==None or smtpuser==None or password==None:\n",
    "        sys.exit(\"Incomplete email setup info. Script Processing Aborted!!!\")\n",
    "    msg = EmailMessage()\n",
    "    msg.set_content(msg_text)\n",
    "    msg['Subject'] = 'Notification from Keras Multi-Class Classification Script'\n",
    "    msg['From'] = sender\n",
    "    msg['To'] = receiver\n",
    "    server = smtplib.SMTP(gateway, 587)\n",
    "    server.starttls()\n",
    "    server.login(smtpuser, password)\n",
    "    server.send_message(msg)\n",
    "    server.quit()"
   ]
  },
  {
   "cell_type": "code",
   "execution_count": 6,
   "metadata": {},
   "outputs": [],
   "source": [
    "# Reset the random number generators\n",
    "def reset_random(seedNum):\n",
    "    random.seed(seedNum)\n",
    "    np.random.seed(seedNum)\n",
    "    tf.random.set_seed(seedNum)"
   ]
  },
  {
   "cell_type": "code",
   "execution_count": 7,
   "metadata": {},
   "outputs": [],
   "source": [
    "if (notifyStatus): email_notify(\"Phase 0 Prepare Environment completed! \"+datetime.now().strftime('%a %B %d, %Y %I:%M:%S %p'))"
   ]
  },
  {
   "cell_type": "markdown",
   "metadata": {},
   "source": [
    "# Section 1. Load Data"
   ]
  },
  {
   "cell_type": "code",
   "execution_count": 8,
   "metadata": {},
   "outputs": [],
   "source": [
    "if (notifyStatus): email_notify(\"Phase 1 Load Data has begun! \"+datetime.now().strftime('%a %B %d, %Y %I:%M:%S %p'))"
   ]
  },
  {
   "cell_type": "markdown",
   "metadata": {},
   "source": [
    "## 1.a) Load Dataset"
   ]
  },
  {
   "cell_type": "code",
   "execution_count": 9,
   "metadata": {},
   "outputs": [
    {
     "name": "stdout",
     "output_type": "stream",
     "text": [
      "Train Shape: X=(50000, 32, 32, 3), y=(50000, 1)\n",
      "Test Shape: X=(10000, 32, 32, 3), y=(10000, 1)\n"
     ]
    }
   ],
   "source": [
    "cifar10 = tf.keras.datasets.cifar10\n",
    "(X_train, y_train),(X_test, y_test) = cifar10.load_data()\n",
    "\n",
    "# Summarize loaded datasets\n",
    "print('Train Shape: X=%s, y=%s' % (X_train.shape, y_train.shape))\n",
    "print('Test Shape: X=%s, y=%s' % (X_test.shape, y_test.shape))"
   ]
  },
  {
   "cell_type": "code",
   "execution_count": 10,
   "metadata": {},
   "outputs": [
    {
     "data": {
      "image/png": "[encoded data removed]",
      "text/plain": [
       "<Figure size 432x288 with 9 Axes>"
      ]
     },
     "metadata": {
      "needs_background": "light"
     },
     "output_type": "display_data"
    }
   ],
   "source": [
    "# Plot first few images\n",
    "for i in range(9):\n",
    "    # define subplot\n",
    "    plt.subplot(330 + 1 + i)\n",
    "    # plot raw pixel data\n",
    "    plt.imshow(X_train[i], cmap=plt.get_cmap('gray'))\n",
    "plt.show()"
   ]
  },
  {
   "cell_type": "markdown",
   "metadata": {},
   "source": [
    "## 1.b) Data Cleaning"
   ]
  },
  {
   "cell_type": "code",
   "execution_count": 11,
   "metadata": {},
   "outputs": [],
   "source": [
    "# Not required for this iteration of the project"
   ]
  },
  {
   "cell_type": "markdown",
   "metadata": {},
   "source": [
    "## 1.c) Feature Scaling and Pre-processing"
   ]
  },
  {
   "cell_type": "code",
   "execution_count": 12,
   "metadata": {},
   "outputs": [],
   "source": [
    "# Reshape the input data as [samples][width][height][channels]\n",
    "# X_train = X_train.reshape(X_train.shape[0], 28, 28, 1).astype('float32')\n",
    "# X_test = X_test.reshape(X_test.shape[0], 28, 28, 1).astype('float32')\n",
    "\n",
    "# Apply feature scaling and transformation\n",
    "X_train = X_train / 255.0\n",
    "X_test = X_test / 255.0"
   ]
  },
  {
   "cell_type": "markdown",
   "metadata": {},
   "source": [
    "## 1.d) Splitting Data into Training and Test Sets"
   ]
  },
  {
   "cell_type": "code",
   "execution_count": 13,
   "metadata": {},
   "outputs": [
    {
     "name": "stdout",
     "output_type": "stream",
     "text": [
      "Train Shape: X=(50000, 32, 32, 3), y=(50000, 10)\n",
      "Test Shape: X=(10000, 32, 32, 3), y=(10000, 10)\n",
      "Number of pixels: 1024\n",
      "Number of classes: 10\n"
     ]
    },
    {
     "name": "stderr",
     "output_type": "stream",
     "text": [
      "/usr/local/lib/python3.6/dist-packages/sklearn/preprocessing/_label.py:235: DataConversionWarning: A column-vector y was passed when a 1d array was expected. Please change the shape of y to (n_samples, ), for example using ravel().\n",
      "  y = column_or_1d(y, warn=True)\n",
      "/usr/local/lib/python3.6/dist-packages/sklearn/preprocessing/_label.py:268: DataConversionWarning: A column-vector y was passed when a 1d array was expected. Please change the shape of y to (n_samples, ), for example using ravel().\n",
      "  y = column_or_1d(y, warn=True)\n"
     ]
    }
   ],
   "source": [
    "# Encode class values as integers and perform one-hot-encoding\n",
    "encoder = preprocessing.LabelEncoder()\n",
    "encoder.fit(y_train)\n",
    "train_transformed = encoder.transform(y_train)\n",
    "test_transformed = encoder.transform(y_test)\n",
    "y_train = tf.keras.utils.to_categorical(train_transformed)\n",
    "y_test = tf.keras.utils.to_categorical(test_transformed)\n",
    "\n",
    "print('Train Shape: X=%s, y=%s' % (X_train.shape, y_train.shape))\n",
    "print('Test Shape: X=%s, y=%s' % (X_test.shape, y_test.shape))\n",
    "\n",
    "num_pixels = X_train.shape[1] * X_train.shape[2]\n",
    "print('Number of pixels:', num_pixels)\n",
    "num_classes = y_train.shape[1]\n",
    "print('Number of classes:', num_classes)"
   ]
  },
  {
   "cell_type": "code",
   "execution_count": 14,
   "metadata": {},
   "outputs": [],
   "source": [
    "if (notifyStatus): email_notify(\"Phase 1 Load Data completed! \"+datetime.now().strftime('%a %B %d, %Y %I:%M:%S %p'))"
   ]
  },
  {
   "cell_type": "markdown",
   "metadata": {},
   "source": [
    "# Section 2. Define Model"
   ]
  },
  {
   "cell_type": "code",
   "execution_count": 15,
   "metadata": {},
   "outputs": [],
   "source": [
    "if (notifyStatus): email_notify(\"Phase 2 Define Model has begun! \"+datetime.now().strftime('%a %B %d, %Y %I:%M:%S %p'))"
   ]
  },
  {
   "cell_type": "code",
   "execution_count": 16,
   "metadata": {},
   "outputs": [],
   "source": [
    "# Define the Keras model for baseline measurement\n",
    "def create_default_model():\n",
    "    default_model = Sequential()\n",
    "    default_model.add(Conv2D(32, (3, 3), activation='relu', kernel_initializer=default_kernel_init, padding='same', input_shape=(32, 32, 3)))\n",
    "    default_model.add(Conv2D(32, (3, 3), activation='relu', kernel_initializer=default_kernel_init, padding='same'))\n",
    "    default_model.add(MaxPooling2D((2, 2)))\n",
    "    default_model.add(Dropout(0.2))\n",
    "    default_model.add(Conv2D(64, (3, 3), activation='relu', kernel_initializer=default_kernel_init, padding='same'))\n",
    "    default_model.add(Conv2D(64, (3, 3), activation='relu', kernel_initializer=default_kernel_init, padding='same'))\n",
    "    default_model.add(MaxPooling2D((2, 2)))\n",
    "    default_model.add(Dropout(0.2))\n",
    "    default_model.add(Conv2D(128, (3, 3), activation='relu', kernel_initializer=default_kernel_init, padding='same'))\n",
    "    default_model.add(Conv2D(128, (3, 3), activation='relu', kernel_initializer=default_kernel_init, padding='same'))\n",
    "    default_model.add(MaxPooling2D((2, 2)))\n",
    "    default_model.add(Dropout(0.2))\n",
    "    default_model.add(Flatten())\n",
    "    default_model.add(Dense(128, activation='relu', kernel_initializer=default_kernel_init))\n",
    "    default_model.add(Dropout(0.2))\n",
    "    default_model.add(Dense(num_classes, activation='softmax', kernel_initializer=default_kernel_init))\n",
    "    default_model.compile(loss=default_loss, optimizer=default_optimizer, metrics=default_metrics)\n",
    "    return default_model"
   ]
  },
  {
   "cell_type": "code",
   "execution_count": 17,
   "metadata": {},
   "outputs": [],
   "source": [
    "if (notifyStatus): email_notify(\"Phase 2 Define Model completed! \"+datetime.now().strftime('%a %B %d, %Y %I:%M:%S %p'))"
   ]
  },
  {
   "cell_type": "markdown",
   "metadata": {},
   "source": [
    "# Section 3. Fit and Evaluate Model"
   ]
  },
  {
   "cell_type": "code",
   "execution_count": 18,
   "metadata": {},
   "outputs": [],
   "source": [
    "if (notifyStatus): email_notify(\"Phase 3 Fit and Evaluate Model has begun! \"+datetime.now().strftime('%a %B %d, %Y %I:%M:%S %p'))"
   ]
  },
  {
   "cell_type": "code",
   "execution_count": 19,
   "metadata": {},
   "outputs": [
    {
     "name": "stdout",
     "output_type": "stream",
     "text": [
      "Train for 781 steps, validate on 10000 samples\n",
      "Epoch 1/200\n",
      "781/781 [==============================] - 41s 52ms/step - loss: 2.1160 - accuracy: 0.2094 - val_loss: 1.8788 - val_accuracy: 0.3513\n",
      "Epoch 2/200\n",
      "781/781 [==============================] - 37s 47ms/step - loss: 1.8001 - accuracy: 0.3354 - val_loss: 1.5941 - val_accuracy: 0.4125\n",
      "Epoch 3/200\n",
      "781/781 [==============================] - 37s 47ms/step - loss: 1.6511 - accuracy: 0.3889 - val_loss: 1.4797 - val_accuracy: 0.4593\n",
      "Epoch 4/200\n",
      "781/781 [==============================] - 36s 46ms/step - loss: 1.5634 - accuracy: 0.4227 - val_loss: 1.4376 - val_accuracy: 0.4653\n",
      "Epoch 5/200\n",
      "781/781 [==============================] - 36s 46ms/step - loss: 1.4851 - accuracy: 0.4528 - val_loss: 1.3882 - val_accuracy: 0.4874\n",
      "Epoch 6/200\n",
      "781/781 [==============================] - 37s 47ms/step - loss: 1.4325 - accuracy: 0.4777 - val_loss: 1.2869 - val_accuracy: 0.5263\n",
      "Epoch 7/200\n",
      "781/781 [==============================] - 37s 47ms/step - loss: 1.3784 - accuracy: 0.4982 - val_loss: 1.2237 - val_accuracy: 0.5557\n",
      "Epoch 8/200\n",
      "781/781 [==============================] - 36s 46ms/step - loss: 1.3311 - accuracy: 0.5162 - val_loss: 1.1814 - val_accuracy: 0.5673\n",
      "Epoch 9/200\n",
      "781/781 [==============================] - 36s 46ms/step - loss: 1.2855 - accuracy: 0.5348 - val_loss: 1.1732 - val_accuracy: 0.5777\n",
      "Epoch 10/200\n",
      "781/781 [==============================] - 36s 47ms/step - loss: 1.2444 - accuracy: 0.5514 - val_loss: 1.1539 - val_accuracy: 0.5838\n",
      "Epoch 11/200\n",
      "781/781 [==============================] - 37s 47ms/step - loss: 1.2077 - accuracy: 0.5665 - val_loss: 1.1045 - val_accuracy: 0.6018\n",
      "Epoch 12/200\n",
      "781/781 [==============================] - 36s 46ms/step - loss: 1.1711 - accuracy: 0.5796 - val_loss: 1.0717 - val_accuracy: 0.6153\n",
      "Epoch 13/200\n",
      "781/781 [==============================] - 36s 46ms/step - loss: 1.1348 - accuracy: 0.5927 - val_loss: 1.0420 - val_accuracy: 0.6296\n",
      "Epoch 14/200\n",
      "781/781 [==============================] - 36s 46ms/step - loss: 1.1100 - accuracy: 0.6018 - val_loss: 1.0092 - val_accuracy: 0.6426\n",
      "Epoch 15/200\n",
      "781/781 [==============================] - 37s 47ms/step - loss: 1.0840 - accuracy: 0.6121 - val_loss: 0.9578 - val_accuracy: 0.6639\n",
      "Epoch 16/200\n",
      "781/781 [==============================] - 37s 47ms/step - loss: 1.0531 - accuracy: 0.6234 - val_loss: 0.9807 - val_accuracy: 0.6526\n",
      "Epoch 17/200\n",
      "781/781 [==============================] - 35s 45ms/step - loss: 1.0297 - accuracy: 0.6327 - val_loss: 0.9556 - val_accuracy: 0.6679\n",
      "Epoch 18/200\n",
      "781/781 [==============================] - 36s 46ms/step - loss: 1.0120 - accuracy: 0.6409 - val_loss: 0.8707 - val_accuracy: 0.6880\n",
      "Epoch 19/200\n",
      "781/781 [==============================] - 37s 47ms/step - loss: 0.9860 - accuracy: 0.6500 - val_loss: 0.8705 - val_accuracy: 0.6911\n",
      "Epoch 20/200\n",
      "781/781 [==============================] - 36s 46ms/step - loss: 0.9656 - accuracy: 0.6570 - val_loss: 0.9254 - val_accuracy: 0.6732\n",
      "Epoch 21/200\n",
      "781/781 [==============================] - 35s 45ms/step - loss: 0.9513 - accuracy: 0.6597 - val_loss: 0.8464 - val_accuracy: 0.6969\n",
      "Epoch 22/200\n",
      "781/781 [==============================] - 36s 46ms/step - loss: 0.9321 - accuracy: 0.6673 - val_loss: 0.7892 - val_accuracy: 0.7220\n",
      "Epoch 23/200\n",
      "781/781 [==============================] - 37s 47ms/step - loss: 0.9147 - accuracy: 0.6761 - val_loss: 0.7555 - val_accuracy: 0.7302\n",
      "Epoch 24/200\n",
      "781/781 [==============================] - 37s 47ms/step - loss: 0.9024 - accuracy: 0.6818 - val_loss: 0.8573 - val_accuracy: 0.7001\n",
      "Epoch 25/200\n",
      "781/781 [==============================] - 36s 46ms/step - loss: 0.8871 - accuracy: 0.6861 - val_loss: 0.8123 - val_accuracy: 0.7147\n",
      "Epoch 26/200\n",
      "781/781 [==============================] - 36s 45ms/step - loss: 0.8747 - accuracy: 0.6913 - val_loss: 0.8388 - val_accuracy: 0.7070\n",
      "Epoch 27/200\n",
      "781/781 [==============================] - 37s 47ms/step - loss: 0.8572 - accuracy: 0.6985 - val_loss: 0.8182 - val_accuracy: 0.7064\n",
      "Epoch 28/200\n",
      "781/781 [==============================] - 37s 47ms/step - loss: 0.8452 - accuracy: 0.7017 - val_loss: 0.8166 - val_accuracy: 0.7069\n",
      "Epoch 29/200\n",
      "781/781 [==============================] - 36s 46ms/step - loss: 0.8357 - accuracy: 0.7051 - val_loss: 0.8309 - val_accuracy: 0.7108\n",
      "Epoch 30/200\n",
      "781/781 [==============================] - 36s 46ms/step - loss: 0.8203 - accuracy: 0.7127 - val_loss: 0.7771 - val_accuracy: 0.7255\n",
      "Epoch 31/200\n",
      "781/781 [==============================] - 37s 47ms/step - loss: 0.8120 - accuracy: 0.7144 - val_loss: 0.8093 - val_accuracy: 0.7170\n",
      "Epoch 32/200\n",
      "781/781 [==============================] - 37s 47ms/step - loss: 0.8040 - accuracy: 0.7174 - val_loss: 0.7142 - val_accuracy: 0.7482\n",
      "Epoch 33/200\n",
      "781/781 [==============================] - 36s 46ms/step - loss: 0.7885 - accuracy: 0.7244 - val_loss: 0.7437 - val_accuracy: 0.7417\n",
      "Epoch 34/200\n",
      "781/781 [==============================] - 36s 46ms/step - loss: 0.7878 - accuracy: 0.7230 - val_loss: 0.7268 - val_accuracy: 0.7469\n",
      "Epoch 35/200\n",
      "781/781 [==============================] - 36s 46ms/step - loss: 0.7753 - accuracy: 0.7265 - val_loss: 0.7067 - val_accuracy: 0.7530\n",
      "Epoch 36/200\n",
      "781/781 [==============================] - 37s 47ms/step - loss: 0.7699 - accuracy: 0.7298 - val_loss: 0.7474 - val_accuracy: 0.7381\n",
      "Epoch 37/200\n",
      "781/781 [==============================] - 36s 46ms/step - loss: 0.7534 - accuracy: 0.7331 - val_loss: 0.6680 - val_accuracy: 0.7689\n",
      "Epoch 38/200\n",
      "781/781 [==============================] - 36s 46ms/step - loss: 0.7525 - accuracy: 0.7378 - val_loss: 0.7050 - val_accuracy: 0.7575\n",
      "Epoch 39/200\n",
      "781/781 [==============================] - 36s 46ms/step - loss: 0.7397 - accuracy: 0.7410 - val_loss: 0.6949 - val_accuracy: 0.7598\n",
      "Epoch 40/200\n",
      "781/781 [==============================] - 37s 47ms/step - loss: 0.7332 - accuracy: 0.7454 - val_loss: 0.6509 - val_accuracy: 0.7727\n",
      "Epoch 41/200\n",
      "781/781 [==============================] - 36s 46ms/step - loss: 0.7298 - accuracy: 0.7439 - val_loss: 0.6601 - val_accuracy: 0.7707\n",
      "Epoch 42/200\n",
      "781/781 [==============================] - 36s 46ms/step - loss: 0.7193 - accuracy: 0.7476 - val_loss: 0.7027 - val_accuracy: 0.7541\n",
      "Epoch 43/200\n",
      "781/781 [==============================] - 36s 46ms/step - loss: 0.7115 - accuracy: 0.7509 - val_loss: 0.6885 - val_accuracy: 0.7668\n",
      "Epoch 44/200\n",
      "781/781 [==============================] - 37s 47ms/step - loss: 0.7060 - accuracy: 0.7545 - val_loss: 0.6212 - val_accuracy: 0.7877\n",
      "Epoch 45/200\n",
      "781/781 [==============================] - 36s 47ms/step - loss: 0.7034 - accuracy: 0.7541 - val_loss: 0.6219 - val_accuracy: 0.7852\n",
      "Epoch 46/200\n",
      "781/781 [==============================] - 36s 46ms/step - loss: 0.6923 - accuracy: 0.7562 - val_loss: 0.6413 - val_accuracy: 0.7797\n",
      "Epoch 47/200\n",
      "781/781 [==============================] - 35s 45ms/step - loss: 0.6874 - accuracy: 0.7575 - val_loss: 0.6494 - val_accuracy: 0.7750\n",
      "Epoch 48/200\n",
      "781/781 [==============================] - 37s 47ms/step - loss: 0.6846 - accuracy: 0.7613 - val_loss: 0.6196 - val_accuracy: 0.7868\n",
      "Epoch 49/200\n",
      "781/781 [==============================] - 37s 47ms/step - loss: 0.6795 - accuracy: 0.7620 - val_loss: 0.6483 - val_accuracy: 0.7780\n",
      "Epoch 50/200\n",
      "781/781 [==============================] - 36s 46ms/step - loss: 0.6740 - accuracy: 0.7626 - val_loss: 0.6098 - val_accuracy: 0.7907\n",
      "Epoch 51/200\n",
      "781/781 [==============================] - 35s 45ms/step - loss: 0.6694 - accuracy: 0.7646 - val_loss: 0.6178 - val_accuracy: 0.7869\n",
      "Epoch 52/200\n",
      "781/781 [==============================] - 37s 47ms/step - loss: 0.6623 - accuracy: 0.7656 - val_loss: 0.6486 - val_accuracy: 0.7798\n",
      "Epoch 53/200\n",
      "781/781 [==============================] - 37s 47ms/step - loss: 0.6612 - accuracy: 0.7694 - val_loss: 0.6676 - val_accuracy: 0.7706\n",
      "Epoch 54/200\n",
      "781/781 [==============================] - 36s 46ms/step - loss: 0.6499 - accuracy: 0.7720 - val_loss: 0.6179 - val_accuracy: 0.7903\n",
      "Epoch 55/200\n",
      "781/781 [==============================] - 36s 46ms/step - loss: 0.6469 - accuracy: 0.7749 - val_loss: 0.6076 - val_accuracy: 0.7927\n",
      "Epoch 56/200\n",
      "781/781 [==============================] - 36s 47ms/step - loss: 0.6410 - accuracy: 0.7774 - val_loss: 0.6841 - val_accuracy: 0.7678\n",
      "Epoch 57/200\n",
      "781/781 [==============================] - 37s 47ms/step - loss: 0.6382 - accuracy: 0.7765 - val_loss: 0.5993 - val_accuracy: 0.7939\n",
      "Epoch 58/200\n",
      "781/781 [==============================] - 36s 46ms/step - loss: 0.6299 - accuracy: 0.7817 - val_loss: 0.6254 - val_accuracy: 0.7858\n",
      "Epoch 59/200\n",
      "781/781 [==============================] - 36s 46ms/step - loss: 0.6327 - accuracy: 0.7786 - val_loss: 0.6903 - val_accuracy: 0.7663\n",
      "Epoch 60/200\n",
      "781/781 [==============================] - 35s 45ms/step - loss: 0.6256 - accuracy: 0.7814 - val_loss: 0.6211 - val_accuracy: 0.7892\n",
      "Epoch 61/200\n",
      "781/781 [==============================] - 36s 46ms/step - loss: 0.6251 - accuracy: 0.7810 - val_loss: 0.5944 - val_accuracy: 0.7963\n",
      "Epoch 62/200\n",
      "781/781 [==============================] - 35s 45ms/step - loss: 0.6166 - accuracy: 0.7853 - val_loss: 0.5548 - val_accuracy: 0.8092\n",
      "Epoch 63/200\n",
      "781/781 [==============================] - 36s 46ms/step - loss: 0.6155 - accuracy: 0.7857 - val_loss: 0.6019 - val_accuracy: 0.7979\n",
      "Epoch 64/200\n",
      "781/781 [==============================] - 36s 46ms/step - loss: 0.6084 - accuracy: 0.7870 - val_loss: 0.5695 - val_accuracy: 0.8085\n",
      "Epoch 65/200\n",
      "781/781 [==============================] - 36s 46ms/step - loss: 0.6049 - accuracy: 0.7883 - val_loss: 0.5634 - val_accuracy: 0.8072\n",
      "Epoch 66/200\n",
      "781/781 [==============================] - 36s 46ms/step - loss: 0.6007 - accuracy: 0.7909 - val_loss: 0.5550 - val_accuracy: 0.8136\n",
      "Epoch 67/200\n",
      "781/781 [==============================] - 36s 46ms/step - loss: 0.5995 - accuracy: 0.7911 - val_loss: 0.5358 - val_accuracy: 0.8211\n",
      "Epoch 68/200\n",
      "781/781 [==============================] - 35s 45ms/step - loss: 0.5924 - accuracy: 0.7930 - val_loss: 0.5675 - val_accuracy: 0.8010\n",
      "Epoch 69/200\n",
      "781/781 [==============================] - 35s 45ms/step - loss: 0.5914 - accuracy: 0.7912 - val_loss: 0.6118 - val_accuracy: 0.7954\n",
      "Epoch 70/200\n",
      "781/781 [==============================] - 35s 45ms/step - loss: 0.5904 - accuracy: 0.7932 - val_loss: 0.6547 - val_accuracy: 0.7826\n",
      "Epoch 71/200\n",
      "781/781 [==============================] - 36s 46ms/step - loss: 0.5811 - accuracy: 0.7979 - val_loss: 0.6481 - val_accuracy: 0.7792\n",
      "Epoch 72/200\n",
      "781/781 [==============================] - 35s 45ms/step - loss: 0.5818 - accuracy: 0.7955 - val_loss: 0.5333 - val_accuracy: 0.8183\n",
      "Epoch 73/200\n",
      "781/781 [==============================] - 35s 45ms/step - loss: 0.5762 - accuracy: 0.7996 - val_loss: 0.5634 - val_accuracy: 0.8105\n",
      "Epoch 74/200\n",
      "781/781 [==============================] - 36s 46ms/step - loss: 0.5746 - accuracy: 0.7990 - val_loss: 0.6217 - val_accuracy: 0.7893\n",
      "Epoch 75/200\n",
      "781/781 [==============================] - 35s 45ms/step - loss: 0.5700 - accuracy: 0.8004 - val_loss: 0.5478 - val_accuracy: 0.8172\n",
      "Epoch 76/200\n",
      "781/781 [==============================] - 36s 45ms/step - loss: 0.5677 - accuracy: 0.8008 - val_loss: 0.5911 - val_accuracy: 0.8047\n",
      "Epoch 77/200\n",
      "781/781 [==============================] - 35s 45ms/step - loss: 0.5674 - accuracy: 0.8015 - val_loss: 0.5313 - val_accuracy: 0.8201\n",
      "Epoch 78/200\n",
      "781/781 [==============================] - 35s 45ms/step - loss: 0.5634 - accuracy: 0.8034 - val_loss: 0.6000 - val_accuracy: 0.7975\n",
      "Epoch 79/200\n",
      "781/781 [==============================] - 35s 45ms/step - loss: 0.5585 - accuracy: 0.8046 - val_loss: 0.5697 - val_accuracy: 0.8095\n",
      "Epoch 80/200\n",
      "781/781 [==============================] - 35s 45ms/step - loss: 0.5560 - accuracy: 0.8071 - val_loss: 0.5541 - val_accuracy: 0.8152\n",
      "Epoch 81/200\n",
      "781/781 [==============================] - 36s 45ms/step - loss: 0.5510 - accuracy: 0.8059 - val_loss: 0.5377 - val_accuracy: 0.8164\n",
      "Epoch 82/200\n",
      "781/781 [==============================] - 36s 46ms/step - loss: 0.5496 - accuracy: 0.8074 - val_loss: 0.5376 - val_accuracy: 0.8183\n",
      "Epoch 83/200\n",
      "781/781 [==============================] - 35s 45ms/step - loss: 0.5481 - accuracy: 0.8080 - val_loss: 0.5589 - val_accuracy: 0.8097\n",
      "Epoch 84/200\n",
      "781/781 [==============================] - 35s 45ms/step - loss: 0.5414 - accuracy: 0.8114 - val_loss: 0.5583 - val_accuracy: 0.8155\n",
      "Epoch 85/200\n",
      "781/781 [==============================] - 36s 46ms/step - loss: 0.5385 - accuracy: 0.8111 - val_loss: 0.5048 - val_accuracy: 0.8305\n",
      "Epoch 86/200\n",
      "781/781 [==============================] - 35s 45ms/step - loss: 0.5378 - accuracy: 0.8122 - val_loss: 0.5131 - val_accuracy: 0.8281\n",
      "Epoch 87/200\n",
      "781/781 [==============================] - 35s 45ms/step - loss: 0.5325 - accuracy: 0.8117 - val_loss: 0.5203 - val_accuracy: 0.8253\n",
      "Epoch 88/200\n",
      "781/781 [==============================] - 35s 45ms/step - loss: 0.5350 - accuracy: 0.8129 - val_loss: 0.5247 - val_accuracy: 0.8260\n",
      "Epoch 89/200\n",
      "781/781 [==============================] - 35s 45ms/step - loss: 0.5310 - accuracy: 0.8157 - val_loss: 0.5337 - val_accuracy: 0.8231\n",
      "Epoch 90/200\n",
      "781/781 [==============================] - 35s 45ms/step - loss: 0.5275 - accuracy: 0.8147 - val_loss: 0.5429 - val_accuracy: 0.8233\n",
      "Epoch 91/200\n",
      "781/781 [==============================] - 35s 45ms/step - loss: 0.5242 - accuracy: 0.8161 - val_loss: 0.5615 - val_accuracy: 0.8173\n",
      "Epoch 92/200\n",
      "781/781 [==============================] - 36s 46ms/step - loss: 0.5168 - accuracy: 0.8192 - val_loss: 0.5046 - val_accuracy: 0.8311\n",
      "Epoch 93/200\n",
      "781/781 [==============================] - 36s 45ms/step - loss: 0.5211 - accuracy: 0.8172 - val_loss: 0.5529 - val_accuracy: 0.8171\n",
      "Epoch 94/200\n",
      "781/781 [==============================] - 35s 45ms/step - loss: 0.5160 - accuracy: 0.8188 - val_loss: 0.6046 - val_accuracy: 0.8005\n",
      "Epoch 95/200\n",
      "781/781 [==============================] - 35s 45ms/step - loss: 0.5183 - accuracy: 0.8190 - val_loss: 0.5006 - val_accuracy: 0.8299\n",
      "Epoch 96/200\n",
      "781/781 [==============================] - 35s 45ms/step - loss: 0.5078 - accuracy: 0.8221 - val_loss: 0.5456 - val_accuracy: 0.8198\n",
      "Epoch 97/200\n",
      "781/781 [==============================] - 35s 45ms/step - loss: 0.5061 - accuracy: 0.8233 - val_loss: 0.5111 - val_accuracy: 0.8267\n",
      "Epoch 98/200\n",
      "781/781 [==============================] - 36s 46ms/step - loss: 0.5088 - accuracy: 0.8219 - val_loss: 0.5035 - val_accuracy: 0.8305\n",
      "Epoch 99/200\n",
      "781/781 [==============================] - 36s 45ms/step - loss: 0.5029 - accuracy: 0.8247 - val_loss: 0.5019 - val_accuracy: 0.8313\n",
      "Epoch 100/200\n",
      "781/781 [==============================] - 36s 46ms/step - loss: 0.5064 - accuracy: 0.8244 - val_loss: 0.4772 - val_accuracy: 0.8412\n",
      "Epoch 101/200\n",
      "781/781 [==============================] - 36s 46ms/step - loss: 0.4999 - accuracy: 0.8263 - val_loss: 0.5695 - val_accuracy: 0.8161\n",
      "Epoch 102/200\n",
      "781/781 [==============================] - 35s 45ms/step - loss: 0.5010 - accuracy: 0.8255 - val_loss: 0.5021 - val_accuracy: 0.8325\n",
      "Epoch 103/200\n",
      "781/781 [==============================] - 36s 46ms/step - loss: 0.4954 - accuracy: 0.8273 - val_loss: 0.5236 - val_accuracy: 0.8286\n",
      "Epoch 104/200\n",
      "781/781 [==============================] - 36s 46ms/step - loss: 0.4950 - accuracy: 0.8275 - val_loss: 0.5370 - val_accuracy: 0.8219\n",
      "Epoch 105/200\n",
      "781/781 [==============================] - 35s 45ms/step - loss: 0.4913 - accuracy: 0.8295 - val_loss: 0.4867 - val_accuracy: 0.8374\n",
      "Epoch 106/200\n",
      "781/781 [==============================] - 36s 46ms/step - loss: 0.4920 - accuracy: 0.8271 - val_loss: 0.5239 - val_accuracy: 0.8272\n",
      "Epoch 107/200\n",
      "781/781 [==============================] - 36s 46ms/step - loss: 0.4856 - accuracy: 0.8284 - val_loss: 0.5561 - val_accuracy: 0.8206\n",
      "Epoch 108/200\n",
      "781/781 [==============================] - 36s 46ms/step - loss: 0.4832 - accuracy: 0.8296 - val_loss: 0.5304 - val_accuracy: 0.8239\n",
      "Epoch 109/200\n",
      "781/781 [==============================] - 35s 45ms/step - loss: 0.4813 - accuracy: 0.8319 - val_loss: 0.4954 - val_accuracy: 0.8340\n",
      "Epoch 110/200\n",
      "781/781 [==============================] - 36s 46ms/step - loss: 0.4800 - accuracy: 0.8305 - val_loss: 0.4926 - val_accuracy: 0.8348\n",
      "Epoch 111/200\n",
      "781/781 [==============================] - 35s 45ms/step - loss: 0.4765 - accuracy: 0.8340 - val_loss: 0.5250 - val_accuracy: 0.8269\n",
      "Epoch 112/200\n",
      "781/781 [==============================] - 36s 46ms/step - loss: 0.4820 - accuracy: 0.8305 - val_loss: 0.5282 - val_accuracy: 0.8280\n",
      "Epoch 113/200\n",
      "781/781 [==============================] - 36s 46ms/step - loss: 0.4732 - accuracy: 0.8349 - val_loss: 0.5034 - val_accuracy: 0.8346\n",
      "Epoch 114/200\n",
      "781/781 [==============================] - 36s 46ms/step - loss: 0.4729 - accuracy: 0.8353 - val_loss: 0.4854 - val_accuracy: 0.8408\n",
      "Epoch 115/200\n",
      "781/781 [==============================] - 36s 46ms/step - loss: 0.4706 - accuracy: 0.8340 - val_loss: 0.4896 - val_accuracy: 0.8398\n",
      "Epoch 116/200\n",
      "781/781 [==============================] - 36s 46ms/step - loss: 0.4661 - accuracy: 0.8373 - val_loss: 0.5576 - val_accuracy: 0.8198\n",
      "Epoch 117/200\n",
      "781/781 [==============================] - 36s 46ms/step - loss: 0.4687 - accuracy: 0.8366 - val_loss: 0.4843 - val_accuracy: 0.8374\n",
      "Epoch 118/200\n",
      "781/781 [==============================] - 36s 46ms/step - loss: 0.4663 - accuracy: 0.8367 - val_loss: 0.4902 - val_accuracy: 0.8355\n",
      "Epoch 119/200\n",
      "781/781 [==============================] - 36s 46ms/step - loss: 0.4620 - accuracy: 0.8373 - val_loss: 0.4901 - val_accuracy: 0.8369\n",
      "Epoch 120/200\n",
      "781/781 [==============================] - 36s 46ms/step - loss: 0.4616 - accuracy: 0.8380 - val_loss: 0.5040 - val_accuracy: 0.8349\n",
      "Epoch 121/200\n",
      "781/781 [==============================] - 36s 46ms/step - loss: 0.4585 - accuracy: 0.8399 - val_loss: 0.4828 - val_accuracy: 0.8433\n",
      "Epoch 122/200\n",
      "781/781 [==============================] - 36s 46ms/step - loss: 0.4556 - accuracy: 0.8407 - val_loss: 0.4735 - val_accuracy: 0.8439\n",
      "Epoch 123/200\n",
      "781/781 [==============================] - 36s 46ms/step - loss: 0.4613 - accuracy: 0.8370 - val_loss: 0.5072 - val_accuracy: 0.8332\n",
      "Epoch 124/200\n",
      "781/781 [==============================] - 36s 46ms/step - loss: 0.4568 - accuracy: 0.8378 - val_loss: 0.4795 - val_accuracy: 0.8415\n",
      "Epoch 125/200\n",
      "781/781 [==============================] - 36s 46ms/step - loss: 0.4559 - accuracy: 0.8419 - val_loss: 0.5155 - val_accuracy: 0.8323\n",
      "Epoch 126/200\n",
      "781/781 [==============================] - 36s 46ms/step - loss: 0.4489 - accuracy: 0.8423 - val_loss: 0.4838 - val_accuracy: 0.8396\n",
      "Epoch 127/200\n",
      "781/781 [==============================] - 36s 46ms/step - loss: 0.4476 - accuracy: 0.8419 - val_loss: 0.4775 - val_accuracy: 0.8443\n",
      "Epoch 128/200\n",
      "781/781 [==============================] - 36s 46ms/step - loss: 0.4475 - accuracy: 0.8424 - val_loss: 0.4839 - val_accuracy: 0.8404\n",
      "Epoch 129/200\n",
      "781/781 [==============================] - 35s 45ms/step - loss: 0.4443 - accuracy: 0.8437 - val_loss: 0.5337 - val_accuracy: 0.8288\n",
      "Epoch 130/200\n",
      "781/781 [==============================] - 36s 46ms/step - loss: 0.4446 - accuracy: 0.8437 - val_loss: 0.4975 - val_accuracy: 0.8393\n",
      "Epoch 131/200\n",
      "781/781 [==============================] - 36s 46ms/step - loss: 0.4422 - accuracy: 0.8447 - val_loss: 0.4754 - val_accuracy: 0.8417\n",
      "Epoch 132/200\n",
      "781/781 [==============================] - 36s 46ms/step - loss: 0.4405 - accuracy: 0.8443 - val_loss: 0.4822 - val_accuracy: 0.8408\n",
      "Epoch 133/200\n",
      "781/781 [==============================] - 36s 46ms/step - loss: 0.4349 - accuracy: 0.8471 - val_loss: 0.4706 - val_accuracy: 0.8451\n",
      "Epoch 134/200\n",
      "781/781 [==============================] - 36s 46ms/step - loss: 0.4365 - accuracy: 0.8471 - val_loss: 0.4652 - val_accuracy: 0.8486\n",
      "Epoch 135/200\n",
      "781/781 [==============================] - 36s 46ms/step - loss: 0.4315 - accuracy: 0.8476 - val_loss: 0.4715 - val_accuracy: 0.8440\n",
      "Epoch 136/200\n",
      "781/781 [==============================] - 36s 46ms/step - loss: 0.4344 - accuracy: 0.8480 - val_loss: 0.4974 - val_accuracy: 0.8393\n",
      "Epoch 137/200\n",
      "781/781 [==============================] - 36s 46ms/step - loss: 0.4303 - accuracy: 0.8479 - val_loss: 0.4656 - val_accuracy: 0.8456\n",
      "Epoch 138/200\n",
      "781/781 [==============================] - 36s 46ms/step - loss: 0.4323 - accuracy: 0.8488 - val_loss: 0.4538 - val_accuracy: 0.8540\n",
      "Epoch 139/200\n",
      "781/781 [==============================] - 36s 46ms/step - loss: 0.4264 - accuracy: 0.8501 - val_loss: 0.4929 - val_accuracy: 0.8381\n",
      "Epoch 140/200\n",
      "781/781 [==============================] - 36s 46ms/step - loss: 0.4264 - accuracy: 0.8491 - val_loss: 0.4866 - val_accuracy: 0.8430\n",
      "Epoch 141/200\n",
      "781/781 [==============================] - 35s 45ms/step - loss: 0.4255 - accuracy: 0.8508 - val_loss: 0.4696 - val_accuracy: 0.8484\n",
      "Epoch 142/200\n",
      "781/781 [==============================] - 36s 46ms/step - loss: 0.4226 - accuracy: 0.8501 - val_loss: 0.4474 - val_accuracy: 0.8518\n",
      "Epoch 143/200\n",
      "781/781 [==============================] - 36s 46ms/step - loss: 0.4252 - accuracy: 0.8503 - val_loss: 0.4688 - val_accuracy: 0.8488\n",
      "Epoch 144/200\n",
      "781/781 [==============================] - 36s 46ms/step - loss: 0.4228 - accuracy: 0.8532 - val_loss: 0.4978 - val_accuracy: 0.8399\n",
      "Epoch 145/200\n",
      "781/781 [==============================] - 36s 46ms/step - loss: 0.4180 - accuracy: 0.8518 - val_loss: 0.4600 - val_accuracy: 0.8506\n",
      "Epoch 146/200\n",
      "781/781 [==============================] - 36s 46ms/step - loss: 0.4182 - accuracy: 0.8529 - val_loss: 0.4959 - val_accuracy: 0.8378\n",
      "Epoch 147/200\n",
      "781/781 [==============================] - 35s 45ms/step - loss: 0.4196 - accuracy: 0.8540 - val_loss: 0.4751 - val_accuracy: 0.8468\n",
      "Epoch 148/200\n",
      "781/781 [==============================] - 36s 46ms/step - loss: 0.4138 - accuracy: 0.8550 - val_loss: 0.4964 - val_accuracy: 0.8402\n",
      "Epoch 149/200\n",
      "781/781 [==============================] - 36s 46ms/step - loss: 0.4168 - accuracy: 0.8524 - val_loss: 0.4858 - val_accuracy: 0.8433\n",
      "Epoch 150/200\n",
      "781/781 [==============================] - 36s 46ms/step - loss: 0.4074 - accuracy: 0.8558 - val_loss: 0.4648 - val_accuracy: 0.8481\n",
      "Epoch 151/200\n",
      "781/781 [==============================] - 36s 46ms/step - loss: 0.4149 - accuracy: 0.8537 - val_loss: 0.4938 - val_accuracy: 0.8395\n",
      "Epoch 152/200\n",
      "781/781 [==============================] - 36s 46ms/step - loss: 0.4085 - accuracy: 0.8567 - val_loss: 0.4398 - val_accuracy: 0.8568\n",
      "Epoch 153/200\n",
      "781/781 [==============================] - 36s 46ms/step - loss: 0.4113 - accuracy: 0.8551 - val_loss: 0.4540 - val_accuracy: 0.8547\n",
      "Epoch 154/200\n",
      "781/781 [==============================] - 36s 45ms/step - loss: 0.4091 - accuracy: 0.8562 - val_loss: 0.4799 - val_accuracy: 0.8482\n",
      "Epoch 155/200\n",
      "781/781 [==============================] - 36s 46ms/step - loss: 0.4072 - accuracy: 0.8561 - val_loss: 0.4555 - val_accuracy: 0.8518\n",
      "Epoch 156/200\n",
      "781/781 [==============================] - 36s 46ms/step - loss: 0.4046 - accuracy: 0.8581 - val_loss: 0.4402 - val_accuracy: 0.8561\n",
      "Epoch 157/200\n",
      "781/781 [==============================] - 36s 46ms/step - loss: 0.4028 - accuracy: 0.8585 - val_loss: 0.5096 - val_accuracy: 0.8355\n",
      "Epoch 158/200\n",
      "781/781 [==============================] - 36s 46ms/step - loss: 0.4015 - accuracy: 0.8574 - val_loss: 0.4766 - val_accuracy: 0.8446\n",
      "Epoch 159/200\n",
      "781/781 [==============================] - 35s 45ms/step - loss: 0.3982 - accuracy: 0.8581 - val_loss: 0.4515 - val_accuracy: 0.8531\n",
      "Epoch 160/200\n",
      "781/781 [==============================] - 36s 46ms/step - loss: 0.3986 - accuracy: 0.8598 - val_loss: 0.4804 - val_accuracy: 0.8453\n",
      "Epoch 161/200\n",
      "781/781 [==============================] - 36s 46ms/step - loss: 0.3968 - accuracy: 0.8614 - val_loss: 0.4639 - val_accuracy: 0.8494\n",
      "Epoch 162/200\n",
      "781/781 [==============================] - 36s 45ms/step - loss: 0.3951 - accuracy: 0.8612 - val_loss: 0.4511 - val_accuracy: 0.8527\n",
      "Epoch 163/200\n",
      "781/781 [==============================] - 36s 46ms/step - loss: 0.3928 - accuracy: 0.8629 - val_loss: 0.4639 - val_accuracy: 0.8499\n",
      "Epoch 164/200\n",
      "781/781 [==============================] - 36s 46ms/step - loss: 0.3921 - accuracy: 0.8614 - val_loss: 0.4727 - val_accuracy: 0.8483\n",
      "Epoch 165/200\n",
      "781/781 [==============================] - 35s 45ms/step - loss: 0.3964 - accuracy: 0.8602 - val_loss: 0.4603 - val_accuracy: 0.8526\n",
      "Epoch 166/200\n",
      "781/781 [==============================] - 36s 46ms/step - loss: 0.3893 - accuracy: 0.8636 - val_loss: 0.4366 - val_accuracy: 0.8589\n",
      "Epoch 167/200\n",
      "781/781 [==============================] - 36s 45ms/step - loss: 0.3903 - accuracy: 0.8629 - val_loss: 0.4464 - val_accuracy: 0.8547\n",
      "Epoch 168/200\n",
      "781/781 [==============================] - 35s 45ms/step - loss: 0.3937 - accuracy: 0.8609 - val_loss: 0.4861 - val_accuracy: 0.8428\n",
      "Epoch 169/200\n",
      "781/781 [==============================] - 36s 46ms/step - loss: 0.3865 - accuracy: 0.8622 - val_loss: 0.4520 - val_accuracy: 0.8521\n",
      "Epoch 170/200\n",
      "781/781 [==============================] - 36s 46ms/step - loss: 0.3876 - accuracy: 0.8618 - val_loss: 0.4421 - val_accuracy: 0.8565\n",
      "Epoch 171/200\n",
      "781/781 [==============================] - 36s 46ms/step - loss: 0.3860 - accuracy: 0.8641 - val_loss: 0.4324 - val_accuracy: 0.8627\n",
      "Epoch 172/200\n",
      "781/781 [==============================] - 36s 46ms/step - loss: 0.3851 - accuracy: 0.8652 - val_loss: 0.4535 - val_accuracy: 0.8528\n",
      "Epoch 173/200\n",
      "781/781 [==============================] - 36s 46ms/step - loss: 0.3844 - accuracy: 0.8646 - val_loss: 0.4572 - val_accuracy: 0.8532\n",
      "Epoch 174/200\n",
      "781/781 [==============================] - 36s 46ms/step - loss: 0.3850 - accuracy: 0.8644 - val_loss: 0.4716 - val_accuracy: 0.8484\n",
      "Epoch 175/200\n",
      "781/781 [==============================] - 36s 46ms/step - loss: 0.3866 - accuracy: 0.8626 - val_loss: 0.4760 - val_accuracy: 0.8487\n",
      "Epoch 176/200\n",
      "781/781 [==============================] - 36s 46ms/step - loss: 0.3789 - accuracy: 0.8660 - val_loss: 0.4399 - val_accuracy: 0.8593\n",
      "Epoch 177/200\n",
      "781/781 [==============================] - 36s 46ms/step - loss: 0.3789 - accuracy: 0.8660 - val_loss: 0.4928 - val_accuracy: 0.8441\n",
      "Epoch 178/200\n",
      "781/781 [==============================] - 36s 46ms/step - loss: 0.3793 - accuracy: 0.8668 - val_loss: 0.4471 - val_accuracy: 0.8565\n",
      "Epoch 179/200\n",
      "781/781 [==============================] - 36s 46ms/step - loss: 0.3774 - accuracy: 0.8653 - val_loss: 0.4406 - val_accuracy: 0.8580\n",
      "Epoch 180/200\n",
      "781/781 [==============================] - 35s 45ms/step - loss: 0.3771 - accuracy: 0.8675 - val_loss: 0.4492 - val_accuracy: 0.8579\n",
      "Epoch 181/200\n",
      "781/781 [==============================] - 36s 46ms/step - loss: 0.3749 - accuracy: 0.8691 - val_loss: 0.4398 - val_accuracy: 0.8570\n",
      "Epoch 182/200\n",
      "781/781 [==============================] - 36s 46ms/step - loss: 0.3744 - accuracy: 0.8691 - val_loss: 0.4679 - val_accuracy: 0.8523\n",
      "Epoch 183/200\n",
      "781/781 [==============================] - 36s 46ms/step - loss: 0.3744 - accuracy: 0.8677 - val_loss: 0.4390 - val_accuracy: 0.8584\n",
      "Epoch 184/200\n",
      "781/781 [==============================] - 36s 46ms/step - loss: 0.3728 - accuracy: 0.8674 - val_loss: 0.4509 - val_accuracy: 0.8543\n",
      "Epoch 185/200\n",
      "781/781 [==============================] - 36s 46ms/step - loss: 0.3672 - accuracy: 0.8699 - val_loss: 0.4657 - val_accuracy: 0.8522\n",
      "Epoch 186/200\n",
      "781/781 [==============================] - 35s 45ms/step - loss: 0.3731 - accuracy: 0.8697 - val_loss: 0.4410 - val_accuracy: 0.8588\n",
      "Epoch 187/200\n",
      "781/781 [==============================] - 36s 46ms/step - loss: 0.3734 - accuracy: 0.8691 - val_loss: 0.4802 - val_accuracy: 0.8529\n",
      "Epoch 188/200\n",
      "781/781 [==============================] - 36s 46ms/step - loss: 0.3675 - accuracy: 0.8710 - val_loss: 0.4783 - val_accuracy: 0.8488\n",
      "Epoch 189/200\n",
      "781/781 [==============================] - 35s 45ms/step - loss: 0.3642 - accuracy: 0.8724 - val_loss: 0.4720 - val_accuracy: 0.8518\n",
      "Epoch 190/200\n",
      "781/781 [==============================] - 36s 46ms/step - loss: 0.3683 - accuracy: 0.8703 - val_loss: 0.4394 - val_accuracy: 0.8610\n",
      "Epoch 191/200\n",
      "781/781 [==============================] - 36s 46ms/step - loss: 0.3642 - accuracy: 0.8723 - val_loss: 0.4751 - val_accuracy: 0.8503\n",
      "Epoch 192/200\n",
      "781/781 [==============================] - 35s 45ms/step - loss: 0.3604 - accuracy: 0.8733 - val_loss: 0.4381 - val_accuracy: 0.8590\n",
      "Epoch 193/200\n",
      "781/781 [==============================] - 36s 46ms/step - loss: 0.3610 - accuracy: 0.8725 - val_loss: 0.4679 - val_accuracy: 0.8555\n",
      "Epoch 194/200\n",
      "781/781 [==============================] - 36s 45ms/step - loss: 0.3601 - accuracy: 0.8728 - val_loss: 0.4435 - val_accuracy: 0.8594\n",
      "Epoch 195/200\n",
      "781/781 [==============================] - 36s 45ms/step - loss: 0.3598 - accuracy: 0.8724 - val_loss: 0.4305 - val_accuracy: 0.8605\n",
      "Epoch 196/200\n",
      "781/781 [==============================] - 36s 46ms/step - loss: 0.3583 - accuracy: 0.8747 - val_loss: 0.4450 - val_accuracy: 0.8590\n",
      "Epoch 197/200\n",
      "781/781 [==============================] - 36s 46ms/step - loss: 0.3551 - accuracy: 0.8754 - val_loss: 0.4597 - val_accuracy: 0.8547\n",
      "Epoch 198/200\n",
      "781/781 [==============================] - 35s 45ms/step - loss: 0.3529 - accuracy: 0.8740 - val_loss: 0.4754 - val_accuracy: 0.8510\n",
      "Epoch 199/200\n",
      "781/781 [==============================] - 36s 46ms/step - loss: 0.3554 - accuracy: 0.8748 - val_loss: 0.4557 - val_accuracy: 0.8579\n",
      "Epoch 200/200\n",
      "781/781 [==============================] - 36s 46ms/step - loss: 0.3566 - accuracy: 0.8721 - val_loss: 0.4501 - val_accuracy: 0.8579\n",
      "Total time for creating the baseline model: 1:59:49.801768\n"
     ]
    }
   ],
   "source": [
    "# Initialize the baseline model\n",
    "startTimeModule = datetime.now()\n",
    "reset_random(seedNum)\n",
    "baseline_model = create_default_model()\n",
    "# Create data generator for augmentation\n",
    "datagen = ImageDataGenerator(width_shift_range=0.1, height_shift_range=0.1, horizontal_flip=True)\n",
    "X_train_aug = datagen.flow(X_train, y_train, batch_size=64)\n",
    "steps = int(X_train.shape[0] / 64)\n",
    "baseline_hist = baseline_model.fit(X_train_aug, steps_per_epoch=steps, epochs=default_epoch, validation_data=(X_test, y_test), verbose=1)\n",
    "print('Total time for creating the baseline model:', (datetime.now() - startTimeModule))"
   ]
  },
  {
   "cell_type": "code",
   "execution_count": 20,
   "metadata": {},
   "outputs": [
    {
     "name": "stdout",
     "output_type": "stream",
     "text": [
      "Model: \"sequential\"\n",
      "_________________________________________________________________\n",
      "Layer (type)                 Output Shape              Param #   \n",
      "=================================================================\n",
      "conv2d (Conv2D)              (None, 32, 32, 32)        896       \n",
      "_________________________________________________________________\n",
      "conv2d_1 (Conv2D)            (None, 32, 32, 32)        9248      \n",
      "_________________________________________________________________\n",
      "max_pooling2d (MaxPooling2D) (None, 16, 16, 32)        0         \n",
      "_________________________________________________________________\n",
      "dropout (Dropout)            (None, 16, 16, 32)        0         \n",
      "_________________________________________________________________\n",
      "conv2d_2 (Conv2D)            (None, 16, 16, 64)        18496     \n",
      "_________________________________________________________________\n",
      "conv2d_3 (Conv2D)            (None, 16, 16, 64)        36928     \n",
      "_________________________________________________________________\n",
      "max_pooling2d_1 (MaxPooling2 (None, 8, 8, 64)          0         \n",
      "_________________________________________________________________\n",
      "dropout_1 (Dropout)          (None, 8, 8, 64)          0         \n",
      "_________________________________________________________________\n",
      "conv2d_4 (Conv2D)            (None, 8, 8, 128)         73856     \n",
      "_________________________________________________________________\n",
      "conv2d_5 (Conv2D)            (None, 8, 8, 128)         147584    \n",
      "_________________________________________________________________\n",
      "max_pooling2d_2 (MaxPooling2 (None, 4, 4, 128)         0         \n",
      "_________________________________________________________________\n",
      "dropout_2 (Dropout)          (None, 4, 4, 128)         0         \n",
      "_________________________________________________________________\n",
      "flatten (Flatten)            (None, 2048)              0         \n",
      "_________________________________________________________________\n",
      "dense (Dense)                (None, 128)               262272    \n",
      "_________________________________________________________________\n",
      "dropout_3 (Dropout)          (None, 128)               0         \n",
      "_________________________________________________________________\n",
      "dense_1 (Dense)              (None, 10)                1290      \n",
      "=================================================================\n",
      "Total params: 550,570\n",
      "Trainable params: 550,570\n",
      "Non-trainable params: 0\n",
      "_________________________________________________________________\n",
      "None\n"
     ]
    }
   ],
   "source": [
    "# Display a summary of the baseline model\n",
    "print(baseline_model.summary())"
   ]
  },
  {
   "cell_type": "code",
   "execution_count": 21,
   "metadata": {},
   "outputs": [
    {
     "name": "stdout",
     "output_type": "stream",
     "text": [
      "{'name': 'sequential', 'layers': [{'class_name': 'Conv2D', 'config': {'name': 'conv2d', 'trainable': True, 'batch_input_shape': (None, 32, 32, 3), 'dtype': 'float32', 'filters': 32, 'kernel_size': (3, 3), 'strides': (1, 1), 'padding': 'same', 'data_format': 'channels_last', 'dilation_rate': (1, 1), 'activation': 'relu', 'use_bias': True, 'kernel_initializer': {'class_name': 'VarianceScaling', 'config': {'scale': 2.0, 'mode': 'fan_in', 'distribution': 'uniform', 'seed': 888}}, 'bias_initializer': {'class_name': 'Zeros', 'config': {}}, 'kernel_regularizer': None, 'bias_regularizer': None, 'activity_regularizer': None, 'kernel_constraint': None, 'bias_constraint': None}}, {'class_name': 'Conv2D', 'config': {'name': 'conv2d_1', 'trainable': True, 'dtype': 'float32', 'filters': 32, 'kernel_size': (3, 3), 'strides': (1, 1), 'padding': 'same', 'data_format': 'channels_last', 'dilation_rate': (1, 1), 'activation': 'relu', 'use_bias': True, 'kernel_initializer': {'class_name': 'VarianceScaling', 'config': {'scale': 2.0, 'mode': 'fan_in', 'distribution': 'uniform', 'seed': 888}}, 'bias_initializer': {'class_name': 'Zeros', 'config': {}}, 'kernel_regularizer': None, 'bias_regularizer': None, 'activity_regularizer': None, 'kernel_constraint': None, 'bias_constraint': None}}, {'class_name': 'MaxPooling2D', 'config': {'name': 'max_pooling2d', 'trainable': True, 'dtype': 'float32', 'pool_size': (2, 2), 'padding': 'valid', 'strides': (2, 2), 'data_format': 'channels_last'}}, {'class_name': 'Dropout', 'config': {'name': 'dropout', 'trainable': True, 'dtype': 'float32', 'rate': 0.2, 'noise_shape': None, 'seed': None}}, {'class_name': 'Conv2D', 'config': {'name': 'conv2d_2', 'trainable': True, 'dtype': 'float32', 'filters': 64, 'kernel_size': (3, 3), 'strides': (1, 1), 'padding': 'same', 'data_format': 'channels_last', 'dilation_rate': (1, 1), 'activation': 'relu', 'use_bias': True, 'kernel_initializer': {'class_name': 'VarianceScaling', 'config': {'scale': 2.0, 'mode': 'fan_in', 'distribution': 'uniform', 'seed': 888}}, 'bias_initializer': {'class_name': 'Zeros', 'config': {}}, 'kernel_regularizer': None, 'bias_regularizer': None, 'activity_regularizer': None, 'kernel_constraint': None, 'bias_constraint': None}}, {'class_name': 'Conv2D', 'config': {'name': 'conv2d_3', 'trainable': True, 'dtype': 'float32', 'filters': 64, 'kernel_size': (3, 3), 'strides': (1, 1), 'padding': 'same', 'data_format': 'channels_last', 'dilation_rate': (1, 1), 'activation': 'relu', 'use_bias': True, 'kernel_initializer': {'class_name': 'VarianceScaling', 'config': {'scale': 2.0, 'mode': 'fan_in', 'distribution': 'uniform', 'seed': 888}}, 'bias_initializer': {'class_name': 'Zeros', 'config': {}}, 'kernel_regularizer': None, 'bias_regularizer': None, 'activity_regularizer': None, 'kernel_constraint': None, 'bias_constraint': None}}, {'class_name': 'MaxPooling2D', 'config': {'name': 'max_pooling2d_1', 'trainable': True, 'dtype': 'float32', 'pool_size': (2, 2), 'padding': 'valid', 'strides': (2, 2), 'data_format': 'channels_last'}}, {'class_name': 'Dropout', 'config': {'name': 'dropout_1', 'trainable': True, 'dtype': 'float32', 'rate': 0.2, 'noise_shape': None, 'seed': None}}, {'class_name': 'Conv2D', 'config': {'name': 'conv2d_4', 'trainable': True, 'dtype': 'float32', 'filters': 128, 'kernel_size': (3, 3), 'strides': (1, 1), 'padding': 'same', 'data_format': 'channels_last', 'dilation_rate': (1, 1), 'activation': 'relu', 'use_bias': True, 'kernel_initializer': {'class_name': 'VarianceScaling', 'config': {'scale': 2.0, 'mode': 'fan_in', 'distribution': 'uniform', 'seed': 888}}, 'bias_initializer': {'class_name': 'Zeros', 'config': {}}, 'kernel_regularizer': None, 'bias_regularizer': None, 'activity_regularizer': None, 'kernel_constraint': None, 'bias_constraint': None}}, {'class_name': 'Conv2D', 'config': {'name': 'conv2d_5', 'trainable': True, 'dtype': 'float32', 'filters': 128, 'kernel_size': (3, 3), 'strides': (1, 1), 'padding': 'same', 'data_format': 'channels_last', 'dilation_rate': (1, 1), 'activation': 'relu', 'use_bias': True, 'kernel_initializer': {'class_name': 'VarianceScaling', 'config': {'scale': 2.0, 'mode': 'fan_in', 'distribution': 'uniform', 'seed': 888}}, 'bias_initializer': {'class_name': 'Zeros', 'config': {}}, 'kernel_regularizer': None, 'bias_regularizer': None, 'activity_regularizer': None, 'kernel_constraint': None, 'bias_constraint': None}}, {'class_name': 'MaxPooling2D', 'config': {'name': 'max_pooling2d_2', 'trainable': True, 'dtype': 'float32', 'pool_size': (2, 2), 'padding': 'valid', 'strides': (2, 2), 'data_format': 'channels_last'}}, {'class_name': 'Dropout', 'config': {'name': 'dropout_2', 'trainable': True, 'dtype': 'float32', 'rate': 0.2, 'noise_shape': None, 'seed': None}}, {'class_name': 'Flatten', 'config': {'name': 'flatten', 'trainable': True, 'dtype': 'float32', 'data_format': 'channels_last'}}, {'class_name': 'Dense', 'config': {'name': 'dense', 'trainable': True, 'dtype': 'float32', 'units': 128, 'activation': 'relu', 'use_bias': True, 'kernel_initializer': {'class_name': 'VarianceScaling', 'config': {'scale': 2.0, 'mode': 'fan_in', 'distribution': 'uniform', 'seed': 888}}, 'bias_initializer': {'class_name': 'Zeros', 'config': {}}, 'kernel_regularizer': None, 'bias_regularizer': None, 'activity_regularizer': None, 'kernel_constraint': None, 'bias_constraint': None}}, {'class_name': 'Dropout', 'config': {'name': 'dropout_3', 'trainable': True, 'dtype': 'float32', 'rate': 0.2, 'noise_shape': None, 'seed': None}}, {'class_name': 'Dense', 'config': {'name': 'dense_1', 'trainable': True, 'dtype': 'float32', 'units': 10, 'activation': 'softmax', 'use_bias': True, 'kernel_initializer': {'class_name': 'VarianceScaling', 'config': {'scale': 2.0, 'mode': 'fan_in', 'distribution': 'uniform', 'seed': 888}}, 'bias_initializer': {'class_name': 'Zeros', 'config': {}}, 'kernel_regularizer': None, 'bias_regularizer': None, 'activity_regularizer': None, 'kernel_constraint': None, 'bias_constraint': None}}]}\n"
     ]
    }
   ],
   "source": [
    "# Display the configuration of the baseline model\n",
    "print(baseline_model.get_config())"
   ]
  },
  {
   "cell_type": "code",
   "execution_count": 22,
   "metadata": {},
   "outputs": [
    {
     "name": "stdout",
     "output_type": "stream",
     "text": [
      "dict_keys(['loss', 'accuracy', 'val_loss', 'val_accuracy'])\n"
     ]
    }
   ],
   "source": [
    "# List all data points in the baseline model training history\n",
    "print(baseline_hist.history.keys())"
   ]
  },
  {
   "cell_type": "code",
   "execution_count": 23,
   "metadata": {},
   "outputs": [
    {
     "data": {
      "image/png": "[encoded data removed]",
      "text/plain": [
       "<Figure size 864x864 with 2 Axes>"
      ]
     },
     "metadata": {
      "needs_background": "light"
     },
     "output_type": "display_data"
    }
   ],
   "source": [
    "# Summarize model training hisotry for accuracy and loss\n",
    "fig, axs = plt.subplots(2, 1, figsize=(12,12))\n",
    "plt.subplot(211)\n",
    "plt.plot(baseline_hist.history['accuracy'], color='blue', label='train')\n",
    "plt.plot(baseline_hist.history['val_accuracy'], color='red', label='test')\n",
    "plt.title('Baseline Model Training Performance (Accuracy)')\n",
    "plt.ylabel('Accuracy')\n",
    "plt.xlabel('Epoch')\n",
    "plt.legend(['Train', 'Test'], loc='upper right')\n",
    "plt.subplot(212)\n",
    "plt.plot(baseline_hist.history['loss'], color='blue', label='train')\n",
    "plt.plot(baseline_hist.history['val_loss'], color='red', label='test')\n",
    "plt.title('Baseline Model Training Performance (Loss)')\n",
    "plt.ylabel('Loss')\n",
    "plt.xlabel('Epoch')\n",
    "plt.legend(['Train', 'Test'], loc='upper right')\n",
    "plt.show()"
   ]
  },
  {
   "cell_type": "code",
   "execution_count": 24,
   "metadata": {},
   "outputs": [],
   "source": [
    "if (notifyStatus): email_notify(\"Phase 3 Fit and Evaluate Model completed! \"+datetime.now().strftime('%a %B %d, %Y %I:%M:%S %p'))"
   ]
  },
  {
   "cell_type": "code",
   "execution_count": 25,
   "metadata": {},
   "outputs": [
    {
     "name": "stdout",
     "output_type": "stream",
     "text": [
      "Total time for the script: 1:59:55.906421\n"
     ]
    }
   ],
   "source": [
    "print ('Total time for the script:',(datetime.now() - startTimeScript))"
   ]
  }
 ],
 "metadata": {
  "kernelspec": {
   "display_name": "Python 3",
   "language": "python",
   "name": "python3"
  },
  "language_info": {
   "codemirror_mode": {
    "name": "ipython",
    "version": 3
   },
   "file_extension": ".py",
   "mimetype": "text/x-python",
   "name": "python",
   "nbconvert_exporter": "python",
   "pygments_lexer": "ipython3",
   "version": "3.6.9"
  }
 },
 "nbformat": 4,
 "nbformat_minor": 4
}
